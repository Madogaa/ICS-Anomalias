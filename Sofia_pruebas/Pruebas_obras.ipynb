{
 "cells": [
  {
   "cell_type": "code",
   "execution_count": 9,
   "metadata": {},
   "outputs": [],
   "source": [
    "#===============================================================================\n",
    "import pandas as pd\n",
    "import feather as fd\n",
    "import numpy as np\n",
    "from datetime import datetime\n",
    "\n",
    "\n",
    "# Tratamiento de archivos\n",
    "# ===============================================================================\n",
    "import feather\n",
    "import datetime as dt\n",
    "\n",
    "# Base de datos \n",
    "# ===============================================================================\n",
    "import pandas as pd \n",
    "import  pyodbc\n",
    "# Graficos\n",
    "# ===============================================================================\n",
    "import plotly.graph_objects as go\n",
    "import plotly.express as px\n",
    "from scipy.spatial import distance\n",
    "#------------------------------------------------------------------------------------------------------------------------\n",
    "import warnings\n",
    "warnings.filterwarnings('ignore')\n"
   ]
  },
  {
   "cell_type": "code",
   "execution_count": 11,
   "metadata": {},
   "outputs": [
    {
     "data": {
      "text/html": [
       "<div>\n",
       "<style scoped>\n",
       "    .dataframe tbody tr th:only-of-type {\n",
       "        vertical-align: middle;\n",
       "    }\n",
       "\n",
       "    .dataframe tbody tr th {\n",
       "        vertical-align: top;\n",
       "    }\n",
       "\n",
       "    .dataframe thead th {\n",
       "        text-align: right;\n",
       "    }\n",
       "</style>\n",
       "<table border=\"1\" class=\"dataframe\">\n",
       "  <thead>\n",
       "    <tr style=\"text-align: right;\">\n",
       "      <th></th>\n",
       "      <th>NroAsto</th>\n",
       "      <th>Fecha</th>\n",
       "      <th>EmpresaCod</th>\n",
       "      <th>EmpresaNombre</th>\n",
       "      <th>Monto</th>\n",
       "      <th>NroComp</th>\n",
       "      <th>ComprobanteTipo</th>\n",
       "      <th>CuentaNro</th>\n",
       "      <th>CuentaNombre</th>\n",
       "      <th>Leyenda</th>\n",
       "      <th>...</th>\n",
       "      <th>CodNegocio</th>\n",
       "      <th>IdProy</th>\n",
       "      <th>IdCli</th>\n",
       "      <th>Cliente</th>\n",
       "      <th>Uneg</th>\n",
       "      <th>Fimp</th>\n",
       "      <th>Clase</th>\n",
       "      <th>IdLider</th>\n",
       "      <th>IdCoord</th>\n",
       "      <th>IdResp</th>\n",
       "    </tr>\n",
       "  </thead>\n",
       "  <tbody>\n",
       "    <tr>\n",
       "      <th>0</th>\n",
       "      <td>5678</td>\n",
       "      <td>2021-03-29</td>\n",
       "      <td>1</td>\n",
       "      <td>INTEROPTICS S.A.</td>\n",
       "      <td>-3600.0</td>\n",
       "      <td>105</td>\n",
       "      <td>FA</td>\n",
       "      <td>4210201</td>\n",
       "      <td>FLETES Y ACARREOS</td>\n",
       "      <td>ARIAS ERNESTO LUIS</td>\n",
       "      <td>...</td>\n",
       "      <td>IPL20-001</td>\n",
       "      <td>36.0</td>\n",
       "      <td>26</td>\n",
       "      <td>NSS SA</td>\n",
       "      <td>DESP</td>\n",
       "      <td>2021-06-27</td>\n",
       "      <td>NOF</td>\n",
       "      <td>87</td>\n",
       "      <td>87</td>\n",
       "      <td>87</td>\n",
       "    </tr>\n",
       "    <tr>\n",
       "      <th>1</th>\n",
       "      <td>1158</td>\n",
       "      <td>2021-04-06</td>\n",
       "      <td>5</td>\n",
       "      <td>INTRANET S.A.</td>\n",
       "      <td>-2780.0</td>\n",
       "      <td>3549</td>\n",
       "      <td>RND</td>\n",
       "      <td>4210214</td>\n",
       "      <td>RENDICIONES</td>\n",
       "      <td>RENDICIONES</td>\n",
       "      <td>...</td>\n",
       "      <td>ICS21-001</td>\n",
       "      <td>74.0</td>\n",
       "      <td>51</td>\n",
       "      <td>INTEROPTICS S.A.</td>\n",
       "      <td>INET</td>\n",
       "      <td>2021-04-15</td>\n",
       "      <td>FAC</td>\n",
       "      <td>113</td>\n",
       "      <td>127</td>\n",
       "      <td>127</td>\n",
       "    </tr>\n",
       "  </tbody>\n",
       "</table>\n",
       "<p>2 rows × 23 columns</p>\n",
       "</div>"
      ],
      "text/plain": [
       "   NroAsto      Fecha  EmpresaCod     EmpresaNombre   Monto  NroComp   \n",
       "0     5678 2021-03-29           1  INTEROPTICS S.A. -3600.0      105  \\\n",
       "1     1158 2021-04-06           5     INTRANET S.A. -2780.0     3549   \n",
       "\n",
       "  ComprobanteTipo CuentaNro       CuentaNombre             Leyenda  ...   \n",
       "0             FA    4210201  FLETES Y ACARREOS  ARIAS ERNESTO LUIS  ...  \\\n",
       "1             RND   4210214        RENDICIONES         RENDICIONES  ...   \n",
       "\n",
       "  CodNegocio IdProy IdCli           Cliente  Uneg       Fimp Clase IdLider   \n",
       "0  IPL20-001   36.0    26            NSS SA  DESP 2021-06-27   NOF      87  \\\n",
       "1  ICS21-001   74.0    51  INTEROPTICS S.A.  INET 2021-04-15   FAC     113   \n",
       "\n",
       "  IdCoord IdResp  \n",
       "0      87     87  \n",
       "1     127    127  \n",
       "\n",
       "[2 rows x 23 columns]"
      ]
     },
     "execution_count": 11,
     "metadata": {},
     "output_type": "execute_result"
    }
   ],
   "source": [
    "# Nos conectamos a la base de datos y generamos un archivo feather:\n",
    "conn = pyodbc.connect('DRIVER={ODBC Driver 17 for SQL Server};SERVER=dbtstanalytics.database.windows.net;DATABASE=tstanalytics;UID=analyticsreader;PWD=@q$eQX89Xp7yUEm')\n",
    "# Creamos la consulta:\n",
    "df = pd.read_sql_query('SELECT * FROM Output_EstadoDeResultados', conn ) \n",
    "# De dataframe pasamos a formato feather:\n",
    "df.to_feather('df.feather')\n",
    "df1=pd.read_feather('df.feather')\n",
    "df2=pd.read_feather('df.feather')\n",
    "df1.head(2)"
   ]
  },
  {
   "attachments": {},
   "cell_type": "markdown",
   "metadata": {},
   "source": [
    "## Exploración datos-Obras:"
   ]
  },
  {
   "attachments": {},
   "cell_type": "markdown",
   "metadata": {},
   "source": [
    "#### Alerta: Fecha imp\n",
    "- Fecha de imputación por obra, ver si pasan los 90 días."
   ]
  },
  {
   "cell_type": "code",
   "execution_count": 3,
   "metadata": {},
   "outputs": [],
   "source": [
    "Dto_Obra = df2[['IdProy','ObraNro', 'Fecha', 'Fimp', 'TipoMov', 'Monto', 'ObraNombre']]\n",
    "Dto_Obra['Fecha'] = pd.to_datetime(Dto_Obra['Fecha'])\n",
    "Dto_Obra['Fimp'] = pd.to_datetime(Dto_Obra['Fimp']) "
   ]
  },
  {
   "cell_type": "code",
   "execution_count": 4,
   "metadata": {},
   "outputs": [
    {
     "data": {
      "text/html": [
       "<div>\n",
       "<style scoped>\n",
       "    .dataframe tbody tr th:only-of-type {\n",
       "        vertical-align: middle;\n",
       "    }\n",
       "\n",
       "    .dataframe tbody tr th {\n",
       "        vertical-align: top;\n",
       "    }\n",
       "\n",
       "    .dataframe thead th {\n",
       "        text-align: right;\n",
       "    }\n",
       "</style>\n",
       "<table border=\"1\" class=\"dataframe\">\n",
       "  <thead>\n",
       "    <tr style=\"text-align: right;\">\n",
       "      <th></th>\n",
       "      <th>IdProy</th>\n",
       "      <th>ObraNro</th>\n",
       "      <th>Fecha</th>\n",
       "      <th>Fimp</th>\n",
       "      <th>TipoMov</th>\n",
       "      <th>Monto</th>\n",
       "      <th>ObraNombre</th>\n",
       "      <th>Diferencia</th>\n",
       "      <th>Alerta</th>\n",
       "    </tr>\n",
       "  </thead>\n",
       "  <tbody>\n",
       "    <tr>\n",
       "      <th>32535</th>\n",
       "      <td>4.0</td>\n",
       "      <td>244394</td>\n",
       "      <td>2021-08-31</td>\n",
       "      <td>2022-01-01</td>\n",
       "      <td>GTO</td>\n",
       "      <td>-25000.00</td>\n",
       "      <td>IMPUTACIÓN TRANSITORIA DE GASTOS UN MTTO: SEPT...</td>\n",
       "      <td>123</td>\n",
       "      <td>Alerta</td>\n",
       "    </tr>\n",
       "    <tr>\n",
       "      <th>32536</th>\n",
       "      <td>4.0</td>\n",
       "      <td>244394</td>\n",
       "      <td>2021-08-31</td>\n",
       "      <td>2022-01-01</td>\n",
       "      <td>GTO</td>\n",
       "      <td>-381469.37</td>\n",
       "      <td>IMPUTACIÓN TRANSITORIA DE GASTOS UN MTTO: SEPT...</td>\n",
       "      <td>123</td>\n",
       "      <td>Alerta</td>\n",
       "    </tr>\n",
       "    <tr>\n",
       "      <th>32537</th>\n",
       "      <td>4.0</td>\n",
       "      <td>244394</td>\n",
       "      <td>2021-09-01</td>\n",
       "      <td>2022-01-01</td>\n",
       "      <td>GTO</td>\n",
       "      <td>3305.79</td>\n",
       "      <td>IMPUTACIÓN TRANSITORIA DE GASTOS UN MTTO: SEPT...</td>\n",
       "      <td>122</td>\n",
       "      <td>Alerta</td>\n",
       "    </tr>\n",
       "  </tbody>\n",
       "</table>\n",
       "</div>"
      ],
      "text/plain": [
       "       IdProy ObraNro      Fecha       Fimp TipoMov      Monto   \n",
       "32535     4.0  244394 2021-08-31 2022-01-01     GTO  -25000.00  \\\n",
       "32536     4.0  244394 2021-08-31 2022-01-01     GTO -381469.37   \n",
       "32537     4.0  244394 2021-09-01 2022-01-01     GTO    3305.79   \n",
       "\n",
       "                                              ObraNombre  Diferencia  Alerta  \n",
       "32535  IMPUTACIÓN TRANSITORIA DE GASTOS UN MTTO: SEPT...         123  Alerta  \n",
       "32536  IMPUTACIÓN TRANSITORIA DE GASTOS UN MTTO: SEPT...         123  Alerta  \n",
       "32537  IMPUTACIÓN TRANSITORIA DE GASTOS UN MTTO: SEPT...         122  Alerta  "
      ]
     },
     "execution_count": 4,
     "metadata": {},
     "output_type": "execute_result"
    }
   ],
   "source": [
    "Dto_Obra['Diferencia'] = Dto_Obra['Fimp'] - Dto_Obra['Fecha']\n",
    "Dto_Obra['Diferencia'] = Dto_Obra['Diferencia'].dt.days\n",
    "Dto_Obra['Alerta'] = np.where(Dto_Obra['Diferencia'] > 90, 'Alerta', 'Bien')\n",
    "alertas = Dto_Obra[Dto_Obra['Alerta'] == 'Alerta']\n",
    "alertas.head(3)"
   ]
  },
  {
   "cell_type": "code",
   "execution_count": 5,
   "metadata": {},
   "outputs": [
    {
     "data": {
      "text/plain": [
       "array([ 4, 28], dtype=int64)"
      ]
     },
     "execution_count": 5,
     "metadata": {},
     "output_type": "execute_result"
    }
   ],
   "source": [
    "alertas.IdProy.unique()"
   ]
  },
  {
   "cell_type": "code",
   "execution_count": 6,
   "metadata": {},
   "outputs": [
    {
     "name": "stdout",
     "output_type": "stream",
     "text": [
      "Cantidad de veces que hay alerta en el DataFrame: 180\n"
     ]
    }
   ],
   "source": [
    "cantidad_alertas = alertas[alertas['Alerta'] == 'Alerta'].shape[0]\n",
    "print(\"Cantidad de veces que hay alerta en el DataFrame:\", cantidad_alertas)"
   ]
  },
  {
   "cell_type": "code",
   "execution_count": 7,
   "metadata": {},
   "outputs": [
    {
     "name": "stdout",
     "output_type": "stream",
     "text": [
      "El proyecto con la mayoría de obras con imputación a destiempo: 4.0\n",
      "Obras del proyecto con la mayoría de obras en alerta:\n",
      "['244394' '244395']\n",
      "Las veces imputadas mal: 150\n"
     ]
    }
   ],
   "source": [
    "               # Identificamos el proyecto con mas alertas\n",
    "\n",
    "Alerta_proy = alertas[alertas['Alerta'] == 'Alerta']['IdProy'].value_counts()\n",
    "Alerta_proy = Alerta_proy.idxmax()\n",
    "# Obras de el proyecto que se imputo a destiempo:\n",
    "obras_proyecto_alerta = alertas[(alertas['Alerta'] == 'Alerta') & (alertas['IdProy'] == Alerta_proy)]['ObraNro']\n",
    "# Imprimimos\n",
    "print(\"El proyecto con la mayoría de obras con imputación a destiempo:\", Alerta_proy)\n",
    "print(\"Obras del proyecto con la mayoría de obras en alerta:\" )\n",
    "print(obras_proyecto_alerta.unique())\n",
    "print(\"Las veces imputadas mal: \" + str(obras_proyecto_alerta.count()))\n"
   ]
  },
  {
   "attachments": {},
   "cell_type": "markdown",
   "metadata": {},
   "source": [
    "#### Margen Bruto por Obra:"
   ]
  },
  {
   "attachments": {},
   "cell_type": "markdown",
   "metadata": {},
   "source": [
    "##### Análisis:"
   ]
  },
  {
   "cell_type": "code",
   "execution_count": 55,
   "metadata": {},
   "outputs": [
    {
     "data": {
      "text/html": [
       "<div>\n",
       "<style scoped>\n",
       "    .dataframe tbody tr th:only-of-type {\n",
       "        vertical-align: middle;\n",
       "    }\n",
       "\n",
       "    .dataframe tbody tr th {\n",
       "        vertical-align: top;\n",
       "    }\n",
       "\n",
       "    .dataframe thead th {\n",
       "        text-align: right;\n",
       "    }\n",
       "</style>\n",
       "<table border=\"1\" class=\"dataframe\">\n",
       "  <thead>\n",
       "    <tr style=\"text-align: right;\">\n",
       "      <th></th>\n",
       "      <th>Obra</th>\n",
       "      <th>Gastos_Activos</th>\n",
       "      <th>Ventas</th>\n",
       "      <th>MargenBruto</th>\n",
       "      <th>%MBruto</th>\n",
       "    </tr>\n",
       "  </thead>\n",
       "  <tbody>\n",
       "    <tr>\n",
       "      <th>0</th>\n",
       "      <td>230858</td>\n",
       "      <td>-244163.58</td>\n",
       "      <td>5762854.0</td>\n",
       "      <td>0.957631</td>\n",
       "      <td>95.76</td>\n",
       "    </tr>\n",
       "    <tr>\n",
       "      <th>1</th>\n",
       "      <td>231273</td>\n",
       "      <td>-233051.26</td>\n",
       "      <td>5485046.0</td>\n",
       "      <td>0.957512</td>\n",
       "      <td>95.75</td>\n",
       "    </tr>\n",
       "    <tr>\n",
       "      <th>2</th>\n",
       "      <td>240052</td>\n",
       "      <td>-41947.40</td>\n",
       "      <td>366214.0</td>\n",
       "      <td>0.885457</td>\n",
       "      <td>88.55</td>\n",
       "    </tr>\n",
       "  </tbody>\n",
       "</table>\n",
       "</div>"
      ],
      "text/plain": [
       "     Obra  Gastos_Activos     Ventas  MargenBruto  %MBruto\n",
       "0  230858      -244163.58  5762854.0     0.957631    95.76\n",
       "1  231273      -233051.26  5485046.0     0.957512    95.75\n",
       "2  240052       -41947.40   366214.0     0.885457    88.55"
      ]
     },
     "execution_count": 55,
     "metadata": {},
     "output_type": "execute_result"
    }
   ],
   "source": [
    "def calcular_margen_bruto(df):\n",
    "    \n",
    "    # Se filtran los datos por ventas:\n",
    "    df_ventas = df[df['TipoMov'] == 'VTA']\n",
    "    ventas_sum = df_ventas.groupby('ObraNro')['Monto'].sum().reset_index()\n",
    "    umbral_ventas = 0.001 #Valor minimo de ventas por  el monto de ventas es menor que el de gasto\n",
    "    \n",
    "    ## float\n",
    "    df_ventas['Monto'] = df_ventas['Monto'].astype(float) \n",
    "    df_ventas['Monto'] = df_ventas['Monto'].abs()\n",
    "    \n",
    "    # Sumamos gastos + actuvos\n",
    "    df_gto_act = df[(df['TipoMov'] == 'GTO') | (df['TipoMov'] == 'ACT')]\n",
    "    gto_act_sum = df_gto_act.groupby('ObraNro')['Monto'].sum().reset_index()  \n",
    "    \n",
    "    #Montos abs de gst y act ya que no son valores todos negativos\n",
    "    df_gto_act['Monto'] = df_gto_act['Monto'].astype(float) \n",
    "    df_gto_act['Monto'] = df_gto_act['Monto'].abs()\n",
    "\n",
    "    # Datos de Vta,Gto y Act en funcion de la obra:\n",
    "    df_merge = ventas_sum.merge(gto_act_sum, on='ObraNro', how='inner')\n",
    "\n",
    "    # Filtramos datos###### Vemos como podemos mejorar esto:\n",
    "    df_merge_filtered = df_merge[df_merge['Monto_x'] > umbral_ventas]\n",
    "\n",
    "    # Calculamos el margen bruto\n",
    "    margen_bruto = (df_merge_filtered['Monto_x'] + df_merge_filtered['Monto_y']) / df_merge_filtered['Monto_x']\n",
    "    \n",
    "    # Dataframe final:\n",
    "    df_resultado = pd.DataFrame({\n",
    "     'Obra': df_merge_filtered['ObraNro'],\n",
    "     'Gastos_Activos': df_merge_filtered['Monto_y'],\n",
    "     'Ventas': df_merge_filtered['Monto_x'],\n",
    "     'MargenBruto': margen_bruto\n",
    "    })\n",
    "\n",
    "    # Calculamos el porcentaje\n",
    "    df_resultado['%MBruto'] = (df_resultado['MargenBruto'] * 100).round(2)\n",
    "    \n",
    "    return df_resultado\n",
    "\n",
    "df_resultado = calcular_margen_bruto(Dto_Obra)\n",
    "df_resultado.head(3)\n",
    "\n",
    "# De 0 a 1 ganancia obtenida menor a las ventas\n",
    "# Mayor a 1, Ganancia mayor a las ventas."
   ]
  },
  {
   "attachments": {},
   "cell_type": "markdown",
   "metadata": {},
   "source": [
    "##### Graficos:\n",
    "- Regresión Lineal:"
   ]
  },
  {
   "cell_type": "code",
   "execution_count": 16,
   "metadata": {},
   "outputs": [
    {
     "data": {
      "application/vnd.plotly.v1+json": {
       "config": {
        "plotlyServerURL": "https://plot.ly"
       },
       "data": [
        {
         "customdata": [
          [
           "230858"
          ],
          [
           "231273"
          ],
          [
           "240052"
          ],
          [
           "241289"
          ],
          [
           "241537"
          ],
          [
           "241872"
          ],
          [
           "242584"
          ],
          [
           "242863"
          ],
          [
           "242864"
          ],
          [
           "242865"
          ],
          [
           "243127"
          ],
          [
           "243128"
          ],
          [
           "243215"
          ],
          [
           "243216"
          ],
          [
           "243249"
          ],
          [
           "243331"
          ],
          [
           "243332"
          ],
          [
           "243460"
          ],
          [
           "243472"
          ],
          [
           "243476"
          ],
          [
           "243510"
          ],
          [
           "243529"
          ],
          [
           "243530"
          ],
          [
           "243531"
          ],
          [
           "243532"
          ],
          [
           "243534"
          ],
          [
           "243535"
          ],
          [
           "243536"
          ],
          [
           "243537"
          ],
          [
           "243547"
          ],
          [
           "243552"
          ],
          [
           "243553"
          ],
          [
           "243555"
          ],
          [
           "243556"
          ],
          [
           "243560"
          ],
          [
           "243563"
          ],
          [
           "243566"
          ],
          [
           "243580"
          ],
          [
           "243595"
          ],
          [
           "243608"
          ],
          [
           "243625"
          ],
          [
           "243626"
          ],
          [
           "243627"
          ],
          [
           "243628"
          ],
          [
           "243629"
          ],
          [
           "243630"
          ],
          [
           "243633"
          ],
          [
           "243645"
          ],
          [
           "243648"
          ],
          [
           "243656"
          ],
          [
           "243657"
          ],
          [
           "243659"
          ],
          [
           "243667"
          ],
          [
           "243668"
          ],
          [
           "243669"
          ],
          [
           "243673"
          ],
          [
           "243676"
          ],
          [
           "243679"
          ],
          [
           "243684"
          ],
          [
           "243685"
          ],
          [
           "243688"
          ],
          [
           "243689"
          ],
          [
           "243693"
          ],
          [
           "243696"
          ],
          [
           "243697"
          ],
          [
           "243703"
          ],
          [
           "243708"
          ],
          [
           "243711"
          ],
          [
           "243712"
          ],
          [
           "243713"
          ],
          [
           "243723"
          ],
          [
           "243734"
          ],
          [
           "243735"
          ],
          [
           "243736"
          ],
          [
           "243737"
          ],
          [
           "243738"
          ],
          [
           "243739"
          ],
          [
           "243740"
          ],
          [
           "243751"
          ],
          [
           "243752"
          ],
          [
           "243753"
          ],
          [
           "243754"
          ],
          [
           "243755"
          ],
          [
           "243756"
          ],
          [
           "243757"
          ],
          [
           "243758"
          ],
          [
           "243759"
          ],
          [
           "243760"
          ],
          [
           "243762"
          ],
          [
           "243763"
          ],
          [
           "243764"
          ],
          [
           "243765"
          ],
          [
           "243766"
          ],
          [
           "243768"
          ],
          [
           "243774"
          ],
          [
           "243775"
          ],
          [
           "243777"
          ],
          [
           "243778"
          ],
          [
           "243779"
          ],
          [
           "243780"
          ],
          [
           "243781"
          ],
          [
           "243782"
          ],
          [
           "243785"
          ],
          [
           "243787"
          ],
          [
           "243788"
          ],
          [
           "243789"
          ],
          [
           "243790"
          ],
          [
           "243791"
          ],
          [
           "243792"
          ],
          [
           "243793"
          ],
          [
           "243795"
          ],
          [
           "243796"
          ],
          [
           "243800"
          ],
          [
           "243801"
          ],
          [
           "243802"
          ],
          [
           "243803"
          ],
          [
           "243804"
          ],
          [
           "243805"
          ],
          [
           "243806"
          ],
          [
           "243811"
          ],
          [
           "243813"
          ],
          [
           "243816"
          ],
          [
           "243817"
          ],
          [
           "243818"
          ],
          [
           "243819"
          ],
          [
           "243820"
          ],
          [
           "243821"
          ],
          [
           "243822"
          ],
          [
           "243823"
          ],
          [
           "243824"
          ],
          [
           "243825"
          ],
          [
           "243826"
          ],
          [
           "243827"
          ],
          [
           "243831"
          ],
          [
           "243832"
          ],
          [
           "243836"
          ],
          [
           "243837"
          ],
          [
           "243838"
          ],
          [
           "243839"
          ],
          [
           "243841"
          ],
          [
           "243842"
          ],
          [
           "243843"
          ],
          [
           "243844"
          ],
          [
           "243845"
          ],
          [
           "243846"
          ],
          [
           "243847"
          ],
          [
           "243848"
          ],
          [
           "243849"
          ],
          [
           "243850"
          ],
          [
           "243851"
          ],
          [
           "243852"
          ],
          [
           "243853"
          ],
          [
           "243854"
          ],
          [
           "243855"
          ],
          [
           "243858"
          ],
          [
           "243859"
          ],
          [
           "243861"
          ],
          [
           "243862"
          ],
          [
           "243863"
          ],
          [
           "243864"
          ],
          [
           "243865"
          ],
          [
           "243866"
          ],
          [
           "243867"
          ],
          [
           "243868"
          ],
          [
           "243869"
          ],
          [
           "243870"
          ],
          [
           "243871"
          ],
          [
           "243872"
          ],
          [
           "243873"
          ],
          [
           "243874"
          ],
          [
           "243875"
          ],
          [
           "243878"
          ],
          [
           "243879"
          ],
          [
           "243881"
          ],
          [
           "243882"
          ],
          [
           "243883"
          ],
          [
           "243884"
          ],
          [
           "243885"
          ],
          [
           "243886"
          ],
          [
           "243887"
          ],
          [
           "243889"
          ],
          [
           "243890"
          ],
          [
           "243891"
          ],
          [
           "243893"
          ],
          [
           "243894"
          ],
          [
           "243896"
          ],
          [
           "243897"
          ],
          [
           "243898"
          ],
          [
           "243899"
          ],
          [
           "243900"
          ],
          [
           "243901"
          ],
          [
           "243904"
          ],
          [
           "243905"
          ],
          [
           "243906"
          ],
          [
           "243907"
          ],
          [
           "243908"
          ],
          [
           "243909"
          ],
          [
           "243910"
          ],
          [
           "243911"
          ],
          [
           "243912"
          ],
          [
           "243913"
          ],
          [
           "243914"
          ],
          [
           "243915"
          ],
          [
           "243916"
          ],
          [
           "243917"
          ],
          [
           "243918"
          ],
          [
           "243919"
          ],
          [
           "243920"
          ],
          [
           "243921"
          ],
          [
           "243922"
          ],
          [
           "243923"
          ],
          [
           "243924"
          ],
          [
           "243926"
          ],
          [
           "243927"
          ],
          [
           "243928"
          ],
          [
           "243929"
          ],
          [
           "243930"
          ],
          [
           "243931"
          ],
          [
           "243933"
          ],
          [
           "243934"
          ],
          [
           "243935"
          ],
          [
           "243936"
          ],
          [
           "243937"
          ],
          [
           "243938"
          ],
          [
           "243939"
          ],
          [
           "243940"
          ],
          [
           "243941"
          ],
          [
           "243942"
          ],
          [
           "243943"
          ],
          [
           "243944"
          ],
          [
           "243945"
          ],
          [
           "243946"
          ],
          [
           "243947"
          ],
          [
           "243948"
          ],
          [
           "243949"
          ],
          [
           "243950"
          ],
          [
           "243951"
          ],
          [
           "243952"
          ],
          [
           "243954"
          ],
          [
           "243955"
          ],
          [
           "243956"
          ],
          [
           "243957"
          ],
          [
           "243958"
          ],
          [
           "243959"
          ],
          [
           "243962"
          ],
          [
           "243963"
          ],
          [
           "243964"
          ],
          [
           "243966"
          ],
          [
           "243974"
          ],
          [
           "243975"
          ],
          [
           "243976"
          ],
          [
           "243977"
          ],
          [
           "243978"
          ],
          [
           "243981"
          ],
          [
           "243982"
          ],
          [
           "243983"
          ],
          [
           "243984"
          ],
          [
           "243985"
          ],
          [
           "243986"
          ],
          [
           "243990"
          ],
          [
           "243991"
          ],
          [
           "243992"
          ],
          [
           "243993"
          ],
          [
           "243994"
          ],
          [
           "243995"
          ],
          [
           "243996"
          ],
          [
           "243997"
          ],
          [
           "243998"
          ],
          [
           "243999"
          ],
          [
           "244000"
          ],
          [
           "244002"
          ],
          [
           "244003"
          ],
          [
           "244005"
          ],
          [
           "244006"
          ],
          [
           "244007"
          ],
          [
           "244008"
          ],
          [
           "244009"
          ],
          [
           "244010"
          ],
          [
           "244012"
          ],
          [
           "244013"
          ],
          [
           "244014"
          ],
          [
           "244015"
          ],
          [
           "244016"
          ],
          [
           "244018"
          ],
          [
           "244019"
          ],
          [
           "244020"
          ],
          [
           "244021"
          ],
          [
           "244022"
          ],
          [
           "244023"
          ],
          [
           "244024"
          ],
          [
           "244025"
          ],
          [
           "244027"
          ],
          [
           "244028"
          ],
          [
           "244037"
          ],
          [
           "244038"
          ],
          [
           "244039"
          ],
          [
           "244042"
          ],
          [
           "244043"
          ],
          [
           "244044"
          ],
          [
           "244045"
          ],
          [
           "244046"
          ],
          [
           "244047"
          ],
          [
           "244048"
          ],
          [
           "244049"
          ],
          [
           "244050"
          ],
          [
           "244052"
          ],
          [
           "244054"
          ],
          [
           "244055"
          ],
          [
           "244056"
          ],
          [
           "244057"
          ],
          [
           "244058"
          ],
          [
           "244059"
          ],
          [
           "244060"
          ],
          [
           "244064"
          ],
          [
           "244065"
          ],
          [
           "244067"
          ],
          [
           "244068"
          ],
          [
           "244069"
          ],
          [
           "244070"
          ],
          [
           "244071"
          ],
          [
           "244076"
          ],
          [
           "244077"
          ],
          [
           "244078"
          ],
          [
           "244080"
          ],
          [
           "244081"
          ],
          [
           "244082"
          ],
          [
           "244083"
          ],
          [
           "244084"
          ],
          [
           "244088"
          ],
          [
           "244089"
          ],
          [
           "244090"
          ],
          [
           "244091"
          ],
          [
           "244092"
          ],
          [
           "244095"
          ],
          [
           "244096"
          ],
          [
           "244097"
          ],
          [
           "244098"
          ],
          [
           "244099"
          ],
          [
           "244100"
          ],
          [
           "244101"
          ],
          [
           "244102"
          ],
          [
           "244103"
          ],
          [
           "244104"
          ],
          [
           "244105"
          ],
          [
           "244106"
          ],
          [
           "244107"
          ],
          [
           "244108"
          ],
          [
           "244109"
          ],
          [
           "244110"
          ],
          [
           "244111"
          ],
          [
           "244112"
          ],
          [
           "244113"
          ],
          [
           "244114"
          ],
          [
           "244115"
          ],
          [
           "244116"
          ],
          [
           "244117"
          ],
          [
           "244118"
          ],
          [
           "244119"
          ],
          [
           "244120"
          ],
          [
           "244121"
          ],
          [
           "244122"
          ],
          [
           "244123"
          ],
          [
           "244124"
          ],
          [
           "244126"
          ],
          [
           "244127"
          ],
          [
           "244128"
          ],
          [
           "244129"
          ],
          [
           "244130"
          ],
          [
           "244131"
          ],
          [
           "244132"
          ],
          [
           "244133"
          ],
          [
           "244134"
          ],
          [
           "244135"
          ],
          [
           "244136"
          ],
          [
           "244137"
          ],
          [
           "244139"
          ],
          [
           "244143"
          ],
          [
           "244144"
          ],
          [
           "244145"
          ],
          [
           "244146"
          ],
          [
           "244147"
          ],
          [
           "244148"
          ],
          [
           "244149"
          ],
          [
           "244150"
          ],
          [
           "244151"
          ],
          [
           "244152"
          ],
          [
           "244153"
          ],
          [
           "244154"
          ],
          [
           "244159"
          ],
          [
           "244160"
          ],
          [
           "244162"
          ],
          [
           "244163"
          ],
          [
           "244164"
          ],
          [
           "244165"
          ],
          [
           "244166"
          ],
          [
           "244167"
          ],
          [
           "244168"
          ],
          [
           "244170"
          ],
          [
           "244171"
          ],
          [
           "244172"
          ],
          [
           "244173"
          ],
          [
           "244174"
          ],
          [
           "244175"
          ],
          [
           "244176"
          ],
          [
           "244178"
          ],
          [
           "244181"
          ],
          [
           "244182"
          ],
          [
           "244183"
          ],
          [
           "244184"
          ],
          [
           "244186"
          ],
          [
           "244187"
          ],
          [
           "244188"
          ],
          [
           "244189"
          ],
          [
           "244190"
          ],
          [
           "244191"
          ],
          [
           "244192"
          ],
          [
           "244193"
          ],
          [
           "244194"
          ],
          [
           "244195"
          ],
          [
           "244196"
          ],
          [
           "244197"
          ],
          [
           "244198"
          ],
          [
           "244200"
          ],
          [
           "244201"
          ],
          [
           "244202"
          ],
          [
           "244204"
          ],
          [
           "244205"
          ],
          [
           "244206"
          ],
          [
           "244207"
          ],
          [
           "244208"
          ],
          [
           "244209"
          ],
          [
           "244211"
          ],
          [
           "244213"
          ],
          [
           "244214"
          ],
          [
           "244215"
          ],
          [
           "244216"
          ],
          [
           "244217"
          ],
          [
           "244218"
          ],
          [
           "244219"
          ],
          [
           "244220"
          ],
          [
           "244221"
          ],
          [
           "244222"
          ],
          [
           "244224"
          ],
          [
           "244225"
          ],
          [
           "244226"
          ],
          [
           "244227"
          ],
          [
           "244229"
          ],
          [
           "244230"
          ],
          [
           "244231"
          ],
          [
           "244232"
          ],
          [
           "244233"
          ],
          [
           "244234"
          ],
          [
           "244235"
          ],
          [
           "244236"
          ],
          [
           "244237"
          ],
          [
           "244238"
          ],
          [
           "244239"
          ],
          [
           "244240"
          ],
          [
           "244241"
          ],
          [
           "244242"
          ],
          [
           "244243"
          ],
          [
           "244244"
          ],
          [
           "244245"
          ],
          [
           "244246"
          ],
          [
           "244247"
          ],
          [
           "244248"
          ],
          [
           "244249"
          ],
          [
           "244254"
          ],
          [
           "244255"
          ],
          [
           "244256"
          ],
          [
           "244257"
          ],
          [
           "244258"
          ],
          [
           "244259"
          ],
          [
           "244260"
          ],
          [
           "244261"
          ],
          [
           "244262"
          ],
          [
           "244263"
          ],
          [
           "244265"
          ],
          [
           "244266"
          ],
          [
           "244267"
          ],
          [
           "244268"
          ],
          [
           "244269"
          ],
          [
           "244270"
          ],
          [
           "244271"
          ],
          [
           "244274"
          ],
          [
           "244275"
          ],
          [
           "244276"
          ],
          [
           "244277"
          ],
          [
           "244278"
          ],
          [
           "244280"
          ],
          [
           "244281"
          ],
          [
           "244282"
          ],
          [
           "244283"
          ],
          [
           "244284"
          ],
          [
           "244285"
          ],
          [
           "244286"
          ],
          [
           "244287"
          ],
          [
           "244288"
          ],
          [
           "244291"
          ],
          [
           "244292"
          ],
          [
           "244293"
          ],
          [
           "244294"
          ],
          [
           "244295"
          ],
          [
           "244296"
          ],
          [
           "244297"
          ],
          [
           "244298"
          ],
          [
           "244299"
          ],
          [
           "244300"
          ],
          [
           "244301"
          ],
          [
           "244302"
          ],
          [
           "244303"
          ],
          [
           "244304"
          ],
          [
           "244305"
          ],
          [
           "244306"
          ],
          [
           "244307"
          ],
          [
           "244308"
          ],
          [
           "244309"
          ],
          [
           "244310"
          ],
          [
           "244311"
          ],
          [
           "244312"
          ],
          [
           "244313"
          ],
          [
           "244314"
          ],
          [
           "244315"
          ],
          [
           "244316"
          ],
          [
           "244317"
          ],
          [
           "244318"
          ],
          [
           "244319"
          ],
          [
           "244320"
          ],
          [
           "244321"
          ],
          [
           "244324"
          ],
          [
           "244325"
          ],
          [
           "244326"
          ],
          [
           "244327"
          ],
          [
           "244328"
          ],
          [
           "244329"
          ],
          [
           "244331"
          ],
          [
           "244333"
          ],
          [
           "244335"
          ],
          [
           "244336"
          ],
          [
           "244337"
          ],
          [
           "244339"
          ],
          [
           "244341"
          ],
          [
           "244342"
          ],
          [
           "244343"
          ],
          [
           "244344"
          ],
          [
           "244345"
          ],
          [
           "244346"
          ],
          [
           "244347"
          ],
          [
           "244348"
          ],
          [
           "244349"
          ],
          [
           "244350"
          ],
          [
           "244351"
          ],
          [
           "244352"
          ],
          [
           "244353"
          ],
          [
           "244354"
          ],
          [
           "244355"
          ],
          [
           "244356"
          ],
          [
           "244357"
          ],
          [
           "244358"
          ],
          [
           "244359"
          ],
          [
           "244361"
          ],
          [
           "244362"
          ],
          [
           "244363"
          ],
          [
           "244364"
          ],
          [
           "244365"
          ],
          [
           "244366"
          ],
          [
           "244367"
          ],
          [
           "244368"
          ],
          [
           "244370"
          ],
          [
           "244371"
          ],
          [
           "244372"
          ],
          [
           "244373"
          ],
          [
           "244374"
          ],
          [
           "244375"
          ],
          [
           "244376"
          ],
          [
           "244377"
          ],
          [
           "244378"
          ],
          [
           "244379"
          ],
          [
           "244380"
          ],
          [
           "244381"
          ],
          [
           "244382"
          ],
          [
           "244383"
          ],
          [
           "244385"
          ],
          [
           "244386"
          ],
          [
           "244387"
          ],
          [
           "244388"
          ],
          [
           "244389"
          ],
          [
           "244390"
          ],
          [
           "244391"
          ],
          [
           "244392"
          ],
          [
           "244394"
          ],
          [
           "244395"
          ],
          [
           "244396"
          ],
          [
           "244397"
          ],
          [
           "244400"
          ],
          [
           "244401"
          ],
          [
           "244402"
          ],
          [
           "244403"
          ],
          [
           "244404"
          ],
          [
           "244405"
          ],
          [
           "244409"
          ],
          [
           "244410"
          ],
          [
           "244411"
          ],
          [
           "244412"
          ],
          [
           "244413"
          ],
          [
           "244414"
          ],
          [
           "244415"
          ],
          [
           "244426"
          ],
          [
           "244427"
          ],
          [
           "244428"
          ],
          [
           "244429"
          ],
          [
           "244430"
          ],
          [
           "244431"
          ],
          [
           "244432"
          ],
          [
           "244433"
          ],
          [
           "244434"
          ],
          [
           "244435"
          ],
          [
           "244436"
          ],
          [
           "244437"
          ],
          [
           "244438"
          ],
          [
           "244439"
          ],
          [
           "244440"
          ],
          [
           "244441"
          ],
          [
           "244442"
          ],
          [
           "244443"
          ],
          [
           "244444"
          ],
          [
           "244445"
          ],
          [
           "244447"
          ],
          [
           "244449"
          ],
          [
           "244450"
          ],
          [
           "244451"
          ],
          [
           "244452"
          ],
          [
           "244455"
          ],
          [
           "244456"
          ],
          [
           "244457"
          ],
          [
           "244458"
          ],
          [
           "244459"
          ],
          [
           "244460"
          ],
          [
           "244461"
          ],
          [
           "244462"
          ],
          [
           "244463"
          ],
          [
           "244464"
          ],
          [
           "244465"
          ],
          [
           "244466"
          ],
          [
           "244467"
          ],
          [
           "244468"
          ],
          [
           "244469"
          ],
          [
           "244470"
          ],
          [
           "244471"
          ],
          [
           "244472"
          ],
          [
           "244473"
          ],
          [
           "244475"
          ],
          [
           "244477"
          ],
          [
           "244478"
          ],
          [
           "244479"
          ],
          [
           "244480"
          ],
          [
           "244481"
          ],
          [
           "244482"
          ],
          [
           "244483"
          ],
          [
           "244484"
          ],
          [
           "244485"
          ],
          [
           "244486"
          ],
          [
           "244487"
          ],
          [
           "244488"
          ],
          [
           "244489"
          ],
          [
           "244490"
          ],
          [
           "244491"
          ],
          [
           "244492"
          ],
          [
           "244493"
          ],
          [
           "244494"
          ],
          [
           "244495"
          ],
          [
           "244496"
          ],
          [
           "244499"
          ],
          [
           "244500"
          ],
          [
           "244501"
          ],
          [
           "244502"
          ],
          [
           "244503"
          ],
          [
           "244504"
          ],
          [
           "244505"
          ],
          [
           "244506"
          ],
          [
           "244507"
          ],
          [
           "244508"
          ],
          [
           "244509"
          ],
          [
           "244510"
          ],
          [
           "244511"
          ],
          [
           "244512"
          ],
          [
           "244513"
          ],
          [
           "244514"
          ],
          [
           "244515"
          ],
          [
           "244517"
          ],
          [
           "244518"
          ],
          [
           "244519"
          ],
          [
           "244520"
          ],
          [
           "244521"
          ],
          [
           "244522"
          ],
          [
           "244523"
          ],
          [
           "244524"
          ],
          [
           "244525"
          ],
          [
           "244526"
          ],
          [
           "244527"
          ],
          [
           "244528"
          ],
          [
           "244529"
          ],
          [
           "244530"
          ],
          [
           "244532"
          ],
          [
           "244533"
          ],
          [
           "244534"
          ],
          [
           "244535"
          ],
          [
           "244536"
          ],
          [
           "244537"
          ],
          [
           "244538"
          ],
          [
           "244539"
          ],
          [
           "244540"
          ],
          [
           "244541"
          ],
          [
           "244542"
          ],
          [
           "244543"
          ],
          [
           "244544"
          ],
          [
           "244545"
          ],
          [
           "244546"
          ],
          [
           "244547"
          ],
          [
           "244548"
          ],
          [
           "244549"
          ],
          [
           "244550"
          ],
          [
           "244551"
          ],
          [
           "244552"
          ],
          [
           "244553"
          ],
          [
           "244555"
          ],
          [
           "244556"
          ],
          [
           "244557"
          ],
          [
           "244558"
          ],
          [
           "244560"
          ],
          [
           "244561"
          ],
          [
           "244562"
          ],
          [
           "244563"
          ],
          [
           "244564"
          ],
          [
           "244565"
          ],
          [
           "244566"
          ],
          [
           "244567"
          ],
          [
           "244569"
          ],
          [
           "244570"
          ],
          [
           "244571"
          ],
          [
           "244572"
          ],
          [
           "244573"
          ],
          [
           "244574"
          ],
          [
           "244575"
          ],
          [
           "244576"
          ],
          [
           "244577"
          ],
          [
           "244578"
          ],
          [
           "244579"
          ],
          [
           "244581"
          ],
          [
           "244582"
          ],
          [
           "244583"
          ],
          [
           "244584"
          ],
          [
           "244585"
          ],
          [
           "244587"
          ],
          [
           "244588"
          ],
          [
           "244589"
          ],
          [
           "244590"
          ],
          [
           "244591"
          ],
          [
           "244592"
          ],
          [
           "244593"
          ],
          [
           "244594"
          ],
          [
           "244595"
          ],
          [
           "244596"
          ],
          [
           "244597"
          ],
          [
           "244598"
          ],
          [
           "244599"
          ],
          [
           "244600"
          ],
          [
           "244601"
          ],
          [
           "244602"
          ],
          [
           "244603"
          ],
          [
           "244604"
          ],
          [
           "244605"
          ],
          [
           "244606"
          ],
          [
           "244607"
          ],
          [
           "244608"
          ],
          [
           "244611"
          ],
          [
           "244613"
          ],
          [
           "244614"
          ],
          [
           "244615"
          ],
          [
           "244617"
          ],
          [
           "244619"
          ],
          [
           "244620"
          ],
          [
           "244621"
          ],
          [
           "244622"
          ],
          [
           "244624"
          ],
          [
           "244625"
          ],
          [
           "244626"
          ],
          [
           "244627"
          ],
          [
           "244628"
          ],
          [
           "244629"
          ],
          [
           "244630"
          ],
          [
           "244631"
          ],
          [
           "244632"
          ],
          [
           "244633"
          ],
          [
           "244636"
          ],
          [
           "244637"
          ],
          [
           "244638"
          ],
          [
           "244639"
          ],
          [
           "244640"
          ],
          [
           "244641"
          ],
          [
           "244642"
          ],
          [
           "244643"
          ],
          [
           "244644"
          ],
          [
           "244645"
          ],
          [
           "244646"
          ],
          [
           "244647"
          ],
          [
           "244648"
          ],
          [
           "244649"
          ],
          [
           "244651"
          ],
          [
           "244652"
          ],
          [
           "244653"
          ],
          [
           "244654"
          ],
          [
           "244656"
          ],
          [
           "244657"
          ],
          [
           "244658"
          ],
          [
           "244659"
          ],
          [
           "244660"
          ],
          [
           "244661"
          ],
          [
           "244662"
          ],
          [
           "244663"
          ],
          [
           "244664"
          ],
          [
           "244665"
          ],
          [
           "244666"
          ],
          [
           "244667"
          ],
          [
           "244668"
          ],
          [
           "244669"
          ],
          [
           "244674"
          ],
          [
           "244675"
          ],
          [
           "244676"
          ],
          [
           "244677"
          ],
          [
           "244678"
          ],
          [
           "244682"
          ],
          [
           "244683"
          ],
          [
           "244688"
          ],
          [
           "244690"
          ],
          [
           "244694"
          ],
          [
           "244695"
          ],
          [
           "244696"
          ],
          [
           "244697"
          ],
          [
           "244698"
          ],
          [
           "244699"
          ],
          [
           "244700"
          ],
          [
           "244701"
          ],
          [
           "244702"
          ],
          [
           "244703"
          ],
          [
           "244704"
          ],
          [
           "244705"
          ],
          [
           "244706"
          ],
          [
           "244707"
          ],
          [
           "244708"
          ],
          [
           "244709"
          ],
          [
           "244710"
          ],
          [
           "244713"
          ],
          [
           "244715"
          ],
          [
           "244716"
          ],
          [
           "244717"
          ],
          [
           "244724"
          ],
          [
           "244727"
          ],
          [
           "244731"
          ],
          [
           "244732"
          ],
          [
           "244734"
          ],
          [
           "244735"
          ],
          [
           "244736"
          ],
          [
           "244737"
          ],
          [
           "244738"
          ],
          [
           "244739"
          ],
          [
           "244740"
          ],
          [
           "244741"
          ],
          [
           "244742"
          ],
          [
           "244743"
          ],
          [
           "244744"
          ],
          [
           "244746"
          ],
          [
           "244747"
          ],
          [
           "244748"
          ],
          [
           "244749"
          ],
          [
           "244750"
          ],
          [
           "244751"
          ],
          [
           "244752"
          ],
          [
           "244753"
          ],
          [
           "244754"
          ],
          [
           "244758"
          ],
          [
           "244759"
          ],
          [
           "244760"
          ],
          [
           "244761"
          ],
          [
           "244762"
          ],
          [
           "244763"
          ],
          [
           "244764"
          ],
          [
           "244765"
          ],
          [
           "244766"
          ],
          [
           "244767"
          ],
          [
           "244768"
          ],
          [
           "244769"
          ],
          [
           "244770"
          ],
          [
           "244771"
          ],
          [
           "244774"
          ],
          [
           "244775"
          ],
          [
           "244776"
          ],
          [
           "244777"
          ],
          [
           "244778"
          ],
          [
           "244779"
          ],
          [
           "244780"
          ],
          [
           "244781"
          ],
          [
           "244782"
          ],
          [
           "244784"
          ],
          [
           "244785"
          ],
          [
           "244786"
          ],
          [
           "244787"
          ],
          [
           "244788"
          ],
          [
           "244789"
          ],
          [
           "244790"
          ],
          [
           "244791"
          ],
          [
           "244793"
          ],
          [
           "244794"
          ],
          [
           "244795"
          ],
          [
           "244796"
          ],
          [
           "244797"
          ],
          [
           "244798"
          ],
          [
           "244799"
          ],
          [
           "244800"
          ],
          [
           "244801"
          ],
          [
           "244802"
          ],
          [
           "244803"
          ],
          [
           "244804"
          ],
          [
           "244805"
          ],
          [
           "244806"
          ],
          [
           "244807"
          ],
          [
           "244808"
          ],
          [
           "244809"
          ],
          [
           "244810"
          ],
          [
           "244813"
          ],
          [
           "244814"
          ],
          [
           "244815"
          ],
          [
           "244816"
          ],
          [
           "244817"
          ],
          [
           "244820"
          ],
          [
           "244821"
          ],
          [
           "244822"
          ],
          [
           "244823"
          ],
          [
           "244824"
          ],
          [
           "244825"
          ],
          [
           "244826"
          ],
          [
           "244827"
          ],
          [
           "244828"
          ],
          [
           "244829"
          ],
          [
           "244830"
          ],
          [
           "244831"
          ],
          [
           "244832"
          ],
          [
           "244833"
          ],
          [
           "244834"
          ],
          [
           "244835"
          ],
          [
           "244836"
          ],
          [
           "244837"
          ],
          [
           "244838"
          ],
          [
           "244839"
          ],
          [
           "244840"
          ],
          [
           "244841"
          ],
          [
           "244842"
          ],
          [
           "244843"
          ],
          [
           "244844"
          ],
          [
           "244845"
          ],
          [
           "244846"
          ],
          [
           "244847"
          ],
          [
           "244848"
          ],
          [
           "244849"
          ],
          [
           "244850"
          ],
          [
           "244851"
          ],
          [
           "244852"
          ],
          [
           "244853"
          ],
          [
           "244855"
          ],
          [
           "244856"
          ],
          [
           "244857"
          ],
          [
           "244858"
          ],
          [
           "244859"
          ],
          [
           "244861"
          ],
          [
           "244862"
          ],
          [
           "244865"
          ],
          [
           "244866"
          ],
          [
           "244867"
          ],
          [
           "244868"
          ],
          [
           "244869"
          ],
          [
           "244871"
          ],
          [
           "244872"
          ],
          [
           "244873"
          ],
          [
           "244874"
          ],
          [
           "244876"
          ],
          [
           "244877"
          ],
          [
           "244878"
          ],
          [
           "244879"
          ],
          [
           "244883"
          ],
          [
           "244884"
          ],
          [
           "244885"
          ],
          [
           "244886"
          ],
          [
           "244887"
          ],
          [
           "244888"
          ],
          [
           "244889"
          ],
          [
           "244892"
          ],
          [
           "244895"
          ],
          [
           "244896"
          ],
          [
           "244897"
          ],
          [
           "244898"
          ],
          [
           "244901"
          ],
          [
           "244905"
          ],
          [
           "244906"
          ],
          [
           "244907"
          ],
          [
           "244910"
          ],
          [
           "244911"
          ],
          [
           "244912"
          ],
          [
           "244913"
          ],
          [
           "244914"
          ],
          [
           "244915"
          ],
          [
           "244916"
          ],
          [
           "244917"
          ],
          [
           "244918"
          ],
          [
           "244919"
          ],
          [
           "244920"
          ],
          [
           "244921"
          ],
          [
           "244922"
          ],
          [
           "244923"
          ],
          [
           "244924"
          ],
          [
           "244925"
          ],
          [
           "244926"
          ],
          [
           "244927"
          ],
          [
           "244928"
          ],
          [
           "244929"
          ],
          [
           "244930"
          ],
          [
           "244931"
          ],
          [
           "244932"
          ],
          [
           "244933"
          ],
          [
           "244934"
          ],
          [
           "244935"
          ],
          [
           "244936"
          ],
          [
           "244939"
          ],
          [
           "244941"
          ],
          [
           "244942"
          ],
          [
           "244943"
          ],
          [
           "244944"
          ],
          [
           "244945"
          ],
          [
           "244948"
          ],
          [
           "244949"
          ],
          [
           "244951"
          ],
          [
           "244955"
          ],
          [
           "244956"
          ],
          [
           "244960"
          ],
          [
           "244961"
          ],
          [
           "244963"
          ],
          [
           "244964"
          ],
          [
           "244966"
          ],
          [
           "244967"
          ],
          [
           "244971"
          ],
          [
           "244972"
          ],
          [
           "244973"
          ],
          [
           "244974"
          ],
          [
           "244975"
          ],
          [
           "244976"
          ],
          [
           "244977"
          ],
          [
           "244978"
          ],
          [
           "244979"
          ],
          [
           "244980"
          ],
          [
           "244983"
          ],
          [
           "244984"
          ],
          [
           "244985"
          ],
          [
           "244986"
          ],
          [
           "244987"
          ],
          [
           "244988"
          ],
          [
           "244989"
          ],
          [
           "244990"
          ],
          [
           "244991"
          ],
          [
           "244992"
          ],
          [
           "244993"
          ],
          [
           "244994"
          ],
          [
           "244995"
          ],
          [
           "244996"
          ],
          [
           "244997"
          ],
          [
           "244998"
          ],
          [
           "244999"
          ],
          [
           "245000"
          ],
          [
           "245001"
          ],
          [
           "245002"
          ],
          [
           "245004"
          ],
          [
           "245005"
          ],
          [
           "245006"
          ],
          [
           "245007"
          ],
          [
           "245008"
          ],
          [
           "245009"
          ],
          [
           "245010"
          ],
          [
           "245011"
          ],
          [
           "245012"
          ],
          [
           "245014"
          ],
          [
           "245015"
          ],
          [
           "245016"
          ],
          [
           "245017"
          ],
          [
           "245018"
          ],
          [
           "245019"
          ],
          [
           "245020"
          ],
          [
           "245021"
          ],
          [
           "245022"
          ],
          [
           "245023"
          ],
          [
           "245025"
          ],
          [
           "245026"
          ],
          [
           "245027"
          ],
          [
           "245028"
          ],
          [
           "245030"
          ],
          [
           "245031"
          ],
          [
           "245032"
          ],
          [
           "245034"
          ],
          [
           "245035"
          ],
          [
           "245036"
          ],
          [
           "245037"
          ],
          [
           "245038"
          ],
          [
           "245039"
          ],
          [
           "245040"
          ],
          [
           "245041"
          ],
          [
           "245042"
          ],
          [
           "245043"
          ],
          [
           "245044"
          ],
          [
           "245046"
          ],
          [
           "245047"
          ],
          [
           "245048"
          ],
          [
           "245051"
          ],
          [
           "245053"
          ],
          [
           "245056"
          ],
          [
           "245057"
          ],
          [
           "245058"
          ],
          [
           "245060"
          ],
          [
           "245062"
          ],
          [
           "245063"
          ],
          [
           "245064"
          ],
          [
           "245065"
          ],
          [
           "245066"
          ],
          [
           "245067"
          ],
          [
           "245070"
          ],
          [
           "245071"
          ],
          [
           "245072"
          ],
          [
           "245073"
          ],
          [
           "245074"
          ],
          [
           "245075"
          ],
          [
           "245076"
          ],
          [
           "245077"
          ],
          [
           "245078"
          ],
          [
           "245080"
          ],
          [
           "245081"
          ],
          [
           "245082"
          ],
          [
           "245083"
          ],
          [
           "245084"
          ],
          [
           "245085"
          ],
          [
           "245086"
          ],
          [
           "245087"
          ],
          [
           "245088"
          ],
          [
           "245089"
          ],
          [
           "245090"
          ],
          [
           "245091"
          ],
          [
           "245093"
          ],
          [
           "245095"
          ],
          [
           "245096"
          ],
          [
           "245097"
          ],
          [
           "245098"
          ],
          [
           "245099"
          ],
          [
           "245100"
          ],
          [
           "245101"
          ],
          [
           "245107"
          ],
          [
           "245108"
          ],
          [
           "245109"
          ],
          [
           "245110"
          ],
          [
           "245111"
          ],
          [
           "245112"
          ],
          [
           "245113"
          ],
          [
           "245114"
          ],
          [
           "245115"
          ],
          [
           "245116"
          ],
          [
           "245117"
          ],
          [
           "245118"
          ],
          [
           "245120"
          ],
          [
           "245122"
          ],
          [
           "245123"
          ],
          [
           "245124"
          ],
          [
           "245125"
          ],
          [
           "245126"
          ],
          [
           "245127"
          ],
          [
           "245128"
          ],
          [
           "245129"
          ],
          [
           "245130"
          ],
          [
           "245132"
          ],
          [
           "245133"
          ],
          [
           "245134"
          ],
          [
           "245135"
          ],
          [
           "245136"
          ],
          [
           "245137"
          ],
          [
           "245140"
          ],
          [
           "245141"
          ],
          [
           "245142"
          ],
          [
           "245143"
          ],
          [
           "245144"
          ],
          [
           "245145"
          ],
          [
           "245146"
          ],
          [
           "245147"
          ],
          [
           "245148"
          ],
          [
           "245150"
          ],
          [
           "245151"
          ],
          [
           "245152"
          ],
          [
           "245153"
          ],
          [
           "245155"
          ],
          [
           "245156"
          ],
          [
           "245157"
          ],
          [
           "245158"
          ],
          [
           "245159"
          ],
          [
           "245160"
          ],
          [
           "245162"
          ],
          [
           "245163"
          ],
          [
           "245166"
          ],
          [
           "245167"
          ],
          [
           "245168"
          ],
          [
           "245169"
          ],
          [
           "245170"
          ],
          [
           "245171"
          ],
          [
           "245172"
          ],
          [
           "245173"
          ],
          [
           "245174"
          ],
          [
           "245178"
          ],
          [
           "245179"
          ],
          [
           "245180"
          ],
          [
           "245181"
          ],
          [
           "245182"
          ],
          [
           "245183"
          ],
          [
           "245187"
          ],
          [
           "245188"
          ],
          [
           "245189"
          ],
          [
           "245190"
          ],
          [
           "245191"
          ],
          [
           "245192"
          ],
          [
           "245195"
          ],
          [
           "245197"
          ],
          [
           "245198"
          ],
          [
           "245199"
          ],
          [
           "245201"
          ],
          [
           "245202"
          ],
          [
           "245203"
          ],
          [
           "245204"
          ],
          [
           "245207"
          ],
          [
           "245208"
          ],
          [
           "245209"
          ],
          [
           "245210"
          ],
          [
           "245211"
          ],
          [
           "245212"
          ],
          [
           "245213"
          ],
          [
           "245214"
          ],
          [
           "245215"
          ],
          [
           "245216"
          ],
          [
           "245218"
          ],
          [
           "245220"
          ],
          [
           "245221"
          ],
          [
           "245223"
          ],
          [
           "245225"
          ],
          [
           "245226"
          ],
          [
           "245228"
          ],
          [
           "245229"
          ],
          [
           "245230"
          ],
          [
           "245231"
          ],
          [
           "245232"
          ],
          [
           "245233"
          ],
          [
           "245234"
          ],
          [
           "245235"
          ],
          [
           "245237"
          ],
          [
           "245238"
          ],
          [
           "245239"
          ],
          [
           "245240"
          ],
          [
           "245241"
          ],
          [
           "245242"
          ],
          [
           "245244"
          ],
          [
           "245245"
          ],
          [
           "245246"
          ],
          [
           "245247"
          ],
          [
           "245248"
          ],
          [
           "245249"
          ],
          [
           "245252"
          ],
          [
           "245253"
          ],
          [
           "245255"
          ],
          [
           "245256"
          ],
          [
           "245257"
          ],
          [
           "245258"
          ],
          [
           "245261"
          ],
          [
           "245262"
          ],
          [
           "245263"
          ],
          [
           "245264"
          ],
          [
           "245266"
          ],
          [
           "245267"
          ],
          [
           "245270"
          ],
          [
           "245273"
          ],
          [
           "245274"
          ],
          [
           "245275"
          ],
          [
           "245276"
          ],
          [
           "245277"
          ],
          [
           "245278"
          ],
          [
           "245279"
          ],
          [
           "245280"
          ],
          [
           "245281"
          ],
          [
           "245282"
          ],
          [
           "245283"
          ],
          [
           "245284"
          ],
          [
           "245285"
          ],
          [
           "245286"
          ],
          [
           "245287"
          ],
          [
           "245288"
          ],
          [
           "245289"
          ],
          [
           "245290"
          ],
          [
           "245291"
          ],
          [
           "245292"
          ],
          [
           "245293"
          ],
          [
           "245294"
          ],
          [
           "245295"
          ],
          [
           "245296"
          ],
          [
           "245297"
          ],
          [
           "245298"
          ],
          [
           "245299"
          ],
          [
           "245300"
          ],
          [
           "245303"
          ],
          [
           "245305"
          ],
          [
           "245308"
          ],
          [
           "245309"
          ],
          [
           "245310"
          ],
          [
           "245312"
          ],
          [
           "245313"
          ],
          [
           "245314"
          ],
          [
           "245315"
          ],
          [
           "245316"
          ],
          [
           "245317"
          ],
          [
           "245318"
          ],
          [
           "245319"
          ],
          [
           "245320"
          ],
          [
           "245322"
          ],
          [
           "245323"
          ],
          [
           "245324"
          ],
          [
           "245325"
          ],
          [
           "245326"
          ],
          [
           "245327"
          ],
          [
           "245328"
          ],
          [
           "245329"
          ],
          [
           "245330"
          ],
          [
           "245331"
          ],
          [
           "245332"
          ],
          [
           "245335"
          ],
          [
           "245336"
          ],
          [
           "245337"
          ],
          [
           "245338"
          ],
          [
           "245339"
          ],
          [
           "245340"
          ],
          [
           "245341"
          ],
          [
           "245342"
          ],
          [
           "245343"
          ],
          [
           "245344"
          ],
          [
           "245345"
          ],
          [
           "245346"
          ],
          [
           "245349"
          ],
          [
           "245351"
          ],
          [
           "245352"
          ],
          [
           "245354"
          ],
          [
           "245358"
          ],
          [
           "245359"
          ],
          [
           "245360"
          ],
          [
           "245361"
          ],
          [
           "245362"
          ],
          [
           "245363"
          ],
          [
           "245364"
          ],
          [
           "245365"
          ],
          [
           "245367"
          ],
          [
           "245368"
          ],
          [
           "245370"
          ],
          [
           "245372"
          ],
          [
           "245373"
          ],
          [
           "245374"
          ],
          [
           "245375"
          ],
          [
           "245376"
          ],
          [
           "245377"
          ],
          [
           "245379"
          ],
          [
           "245380"
          ],
          [
           "245381"
          ],
          [
           "245384"
          ],
          [
           "245385"
          ],
          [
           "245386"
          ],
          [
           "245392"
          ],
          [
           "245396"
          ],
          [
           "245398"
          ],
          [
           "245399"
          ],
          [
           "245400"
          ],
          [
           "245401"
          ],
          [
           "245402"
          ],
          [
           "245403"
          ],
          [
           "245404"
          ],
          [
           "245405"
          ],
          [
           "245406"
          ],
          [
           "245407"
          ],
          [
           "245409"
          ],
          [
           "245410"
          ],
          [
           "245412"
          ],
          [
           "245413"
          ],
          [
           "245414"
          ],
          [
           "245415"
          ],
          [
           "245416"
          ],
          [
           "245417"
          ],
          [
           "245420"
          ],
          [
           "245421"
          ],
          [
           "245422"
          ],
          [
           "245424"
          ],
          [
           "245425"
          ],
          [
           "245426"
          ],
          [
           "245427"
          ],
          [
           "245428"
          ],
          [
           "245429"
          ],
          [
           "245431"
          ],
          [
           "245432"
          ],
          [
           "245433"
          ],
          [
           "245434"
          ],
          [
           "245435"
          ],
          [
           "245436"
          ],
          [
           "245437"
          ],
          [
           "245438"
          ],
          [
           "245439"
          ],
          [
           "245442"
          ],
          [
           "245444"
          ],
          [
           "245446"
          ],
          [
           "245448"
          ],
          [
           "245454"
          ],
          [
           "245456"
          ],
          [
           "245457"
          ],
          [
           "245458"
          ],
          [
           "245459"
          ],
          [
           "245460"
          ],
          [
           "245461"
          ],
          [
           "245463"
          ],
          [
           "245464"
          ],
          [
           "245465"
          ],
          [
           "245466"
          ],
          [
           "245467"
          ],
          [
           "245468"
          ],
          [
           "245469"
          ],
          [
           "245470"
          ],
          [
           "245471"
          ],
          [
           "245472"
          ],
          [
           "245473"
          ],
          [
           "245475"
          ],
          [
           "245476"
          ],
          [
           "245477"
          ],
          [
           "245478"
          ],
          [
           "245479"
          ],
          [
           "245480"
          ],
          [
           "245481"
          ],
          [
           "245482"
          ],
          [
           "245483"
          ],
          [
           "245484"
          ],
          [
           "245485"
          ],
          [
           "245487"
          ],
          [
           "245489"
          ],
          [
           "245490"
          ],
          [
           "245491"
          ],
          [
           "245492"
          ],
          [
           "245493"
          ],
          [
           "245501"
          ],
          [
           "245502"
          ],
          [
           "245503"
          ],
          [
           "245508"
          ],
          [
           "245513"
          ],
          [
           "245514"
          ],
          [
           "245515"
          ],
          [
           "245518"
          ],
          [
           "245521"
          ],
          [
           "245525"
          ],
          [
           "245526"
          ],
          [
           "245527"
          ],
          [
           "245528"
          ],
          [
           "245530"
          ],
          [
           "245531"
          ],
          [
           "245532"
          ],
          [
           "245533"
          ],
          [
           "245535"
          ],
          [
           "245536"
          ],
          [
           "245537"
          ],
          [
           "245538"
          ],
          [
           "245539"
          ],
          [
           "245540"
          ],
          [
           "245541"
          ],
          [
           "245542"
          ],
          [
           "245543"
          ],
          [
           "245544"
          ],
          [
           "245545"
          ],
          [
           "245546"
          ],
          [
           "245547"
          ],
          [
           "245548"
          ],
          [
           "245549"
          ],
          [
           "245550"
          ],
          [
           "245551"
          ],
          [
           "245552"
          ],
          [
           "245553"
          ],
          [
           "245554"
          ],
          [
           "245555"
          ],
          [
           "245556"
          ],
          [
           "245557"
          ],
          [
           "245558"
          ],
          [
           "245561"
          ],
          [
           "245562"
          ],
          [
           "245563"
          ],
          [
           "245564"
          ],
          [
           "245568"
          ],
          [
           "245571"
          ],
          [
           "245572"
          ],
          [
           "245574"
          ],
          [
           "245575"
          ],
          [
           "245576"
          ],
          [
           "245577"
          ],
          [
           "245578"
          ],
          [
           "245581"
          ],
          [
           "245582"
          ],
          [
           "245583"
          ],
          [
           "245584"
          ],
          [
           "245585"
          ],
          [
           "245586"
          ],
          [
           "245587"
          ],
          [
           "245588"
          ],
          [
           "245589"
          ],
          [
           "245590"
          ],
          [
           "245591"
          ],
          [
           "245592"
          ],
          [
           "245593"
          ],
          [
           "245594"
          ],
          [
           "245595"
          ],
          [
           "245596"
          ],
          [
           "245597"
          ],
          [
           "245598"
          ],
          [
           "245599"
          ],
          [
           "245600"
          ],
          [
           "245601"
          ],
          [
           "245602"
          ],
          [
           "245604"
          ],
          [
           "245605"
          ],
          [
           "245606"
          ],
          [
           "245607"
          ],
          [
           "245608"
          ],
          [
           "245609"
          ],
          [
           "245611"
          ],
          [
           "245615"
          ],
          [
           "245617"
          ],
          [
           "245618"
          ],
          [
           "245619"
          ],
          [
           "245620"
          ],
          [
           "245622"
          ],
          [
           "245624"
          ],
          [
           "245625"
          ],
          [
           "245627"
          ],
          [
           "245629"
          ],
          [
           "245630"
          ],
          [
           "245631"
          ],
          [
           "245635"
          ],
          [
           "245637"
          ],
          [
           "245638"
          ],
          [
           "245641"
          ],
          [
           "245643"
          ],
          [
           "245649"
          ],
          [
           "245655"
          ],
          [
           "245656"
          ],
          [
           "245657"
          ],
          [
           "245658"
          ],
          [
           "245659"
          ],
          [
           "245660"
          ],
          [
           "245661"
          ],
          [
           "245662"
          ],
          [
           "245663"
          ],
          [
           "245664"
          ],
          [
           "245665"
          ],
          [
           "245666"
          ],
          [
           "245667"
          ],
          [
           "245668"
          ],
          [
           "245670"
          ],
          [
           "245671"
          ],
          [
           "245672"
          ],
          [
           "245673"
          ],
          [
           "245674"
          ],
          [
           "245675"
          ],
          [
           "245677"
          ],
          [
           "245678"
          ],
          [
           "245679"
          ],
          [
           "245680"
          ],
          [
           "245681"
          ],
          [
           "245682"
          ],
          [
           "245691"
          ],
          [
           "245692"
          ],
          [
           "245694"
          ],
          [
           "245695"
          ],
          [
           "245696"
          ],
          [
           "245697"
          ],
          [
           "245704"
          ],
          [
           "245705"
          ],
          [
           "245706"
          ],
          [
           "245707"
          ],
          [
           "245710"
          ],
          [
           "245712"
          ],
          [
           "245713"
          ],
          [
           "245714"
          ],
          [
           "245715"
          ],
          [
           "245720"
          ],
          [
           "245721"
          ],
          [
           "245722"
          ],
          [
           "245723"
          ],
          [
           "245724"
          ],
          [
           "245728"
          ],
          [
           "245730"
          ],
          [
           "245735"
          ],
          [
           "245738"
          ],
          [
           "245745"
          ],
          [
           "245746"
          ],
          [
           "245749"
          ],
          [
           "245751"
          ],
          [
           "245758"
          ],
          [
           "245759"
          ],
          [
           "245763"
          ],
          [
           "245764"
          ],
          [
           "245770"
          ],
          [
           "245771"
          ],
          [
           "245774"
          ],
          [
           "245775"
          ],
          [
           "245779"
          ],
          [
           "245780"
          ],
          [
           "245781"
          ],
          [
           "245784"
          ],
          [
           "245785"
          ],
          [
           "245786"
          ],
          [
           "245787"
          ],
          [
           "245789"
          ],
          [
           "245790"
          ],
          [
           "245796"
          ],
          [
           "245797"
          ],
          [
           "245798"
          ],
          [
           "245807"
          ],
          [
           "245813"
          ],
          [
           "245816"
          ],
          [
           "245817"
          ],
          [
           "245818"
          ],
          [
           "245819"
          ],
          [
           "245822"
          ],
          [
           "245827"
          ],
          [
           "245829"
          ],
          [
           "245831"
          ],
          [
           "245836"
          ],
          [
           "245839"
          ],
          [
           "245840"
          ],
          [
           "245844"
          ],
          [
           "245845"
          ],
          [
           "245855"
          ],
          [
           "245867"
          ],
          [
           "245875"
          ]
         ],
         "hovertemplate": "Ventas=%{x}<br>Gastos_Activos=%{y}<br>Obra=%{customdata[0]}<extra></extra>",
         "legendgroup": "",
         "marker": {
          "color": "#636efa",
          "size": 10,
          "symbol": "circle"
         },
         "mode": "markers",
         "name": "",
         "showlegend": false,
         "type": "scattergl",
         "x": [
          5762854,
          5485046,
          366214,
          441710,
          343204.82,
          57620337.7,
          26360.28,
          1417521.84,
          1280679.16,
          512658,
          353960.68,
          5271652,
          275249.12,
          127607.36,
          200665.74000000002,
          203050.76,
          237513.4,
          402128.08,
          1142400,
          33096,
          368164.14,
          3913740,
          286976.45999999996,
          276700.66000000003,
          199784.06,
          260001.46,
          232096.1,
          331898.26,
          237358.28,
          9883800,
          671479.66,
          686630.88,
          9367000,
          9044000,
          456606.16,
          1390770,
          944200.76,
          11133000,
          16453406,
          10126.16,
          6827967.779999999,
          52010.18,
          1500887.58,
          1745167.24,
          6559543.88,
          2122421.18,
          4511506.34,
          268882.64,
          700000,
          658236.34,
          354153.38,
          113741.36,
          17139.32,
          19995.9,
          19995.9,
          15812058,
          11133000,
          30288351.66,
          103034.26000000001,
          8882.259999999997,
          295782.95999999996,
          173788.16000000003,
          445906.22,
          229886.13999999998,
          197014.82,
          1667.94,
          168479.96,
          478860,
          17139.32,
          20700,
          93139.44,
          4006508.06,
          745.48,
          46131.48,
          30754.32,
          25628.6,
          28191.46,
          46131.48,
          31769.34,
          67740.24,
          141066.2,
          176166.02,
          195962.84,
          262776.46,
          267293,
          4344704.68,
          680960,
          540288.76,
          34173477.14,
          478860,
          1612309.32,
          129766.23999999999,
          1594184.5,
          1527620,
          7622514,
          4080790.3000000003,
          79965.88,
          84963.74,
          124946.68,
          284439.9,
          79842.78,
          122554.88,
          466909,
          473672.82,
          480383.96,
          696577.6799999999,
          711882.04,
          700000,
          700000,
          700000,
          534035.7,
          1083040.76,
          1921083.62,
          331556.01999999996,
          463355.66,
          377787.88,
          696032.7000000001,
          260471.7,
          528485.24,
          563137.3,
          400943.92,
          51274.62,
          790000.7999999999,
          380207.88,
          123038.64,
          98746.34,
          123316.2,
          137174,
          183943.52,
          187105.12,
          210000,
          1003890.28,
          177157.1,
          336065.31999999995,
          2224474.2600000002,
          275723.14,
          196824,
          246165.09999999998,
          86127.04,
          30701913.76,
          106024.28,
          11133000,
          350405.24,
          1590089.72,
          551812.76,
          978095.6,
          1309726.06,
          891940.9,
          151417.14,
          5820778.06,
          5008135.08,
          98537.54,
          337557.42,
          488060.78,
          86361.66,
          39228.4,
          35567.02,
          1952456,
          10863000,
          10295000,
          9869000,
          331833.48,
          307983.56,
          321788.82,
          330012.98,
          1686060,
          1309350,
          1087800,
          252477.12,
          1016862.72,
          359725.74,
          15921920,
          251808.02,
          471834.72,
          11133000,
          75465.72,
          277606.36,
          478860,
          28883.62,
          21038.7,
          497866.08,
          19900,
          19900,
          1122803.24,
          751093.46,
          1131000,
          1084200,
          1326000,
          179400.2,
          99951.54,
          420309.04,
          133268.72,
          161460.18,
          941656.3,
          895492,
          630735.04,
          964822.24,
          52826,
          111105.42,
          241562.04,
          364334.18,
          149037.88,
          3363252.52,
          1010696.84,
          1530121.84,
          105419.76,
          417331.2,
          375791.64,
          262396.36,
          1013736.42,
          709614,
          576000,
          329288,
          457132,
          13100,
          22624,
          19900,
          899598.3,
          158337,
          39167.44,
          183677.46,
          212719.62,
          238709.32,
          670320,
          286569.02,
          176463.02,
          257169.24,
          8444646.12,
          565005.26,
          3709100,
          3555620,
          3939320,
          26167.74,
          123524.12,
          7275972.54,
          3800538.46,
          12225476,
          38221790.2,
          272060.64,
          136000,
          62092.96,
          2993389.72,
          16490,
          196824,
          77506.6,
          210000,
          210000,
          101645.34,
          981593.9,
          539201.68,
          886725.92,
          1209039.06,
          1330088.88,
          242424.76,
          288136.08,
          219779.38,
          67531.9,
          114166.6,
          12225476,
          669155.48,
          16490,
          768000,
          336085.24,
          558266.44,
          336085.24,
          337139.32,
          336085.24,
          533681.1799999999,
          392069.58,
          522260.8,
          344465.14,
          459124.92,
          210713.08,
          80269.04,
          4209046.4799999995,
          18357816,
          416270.24,
          122877.88,
          531946.24,
          65367.04,
          49025.28,
          1299870,
          54199.92,
          1590089.72,
          2714717.6,
          145492.06,
          11133000,
          1496073.88,
          956800,
          2956447.02,
          339743,
          415817.64,
          50785.52,
          226400,
          615148,
          208864,
          1981200,
          220849.22,
          7515777.239999999,
          10555807.64,
          163592,
          223080,
          309089.02,
          133200,
          18666.92,
          34960662.92,
          609143.04,
          467552.62,
          11133000,
          5192473.16,
          18460254,
          615148,
          2714717.6,
          388360,
          585200,
          2232410.34,
          12225476,
          488422.14,
          161333.82,
          896689.44,
          50810.04,
          1263510,
          1399860,
          174720,
          89642.6,
          419151.68,
          883200,
          2,
          125200,
          973304.08,
          146313.68,
          2,
          2,
          722439.72,
          1448625.36,
          609947.52,
          1360000,
          139932.54,
          278057.16000000003,
          118379.31999999999,
          23474.600000000002,
          47630.62,
          14871.84,
          372689.94,
          621265.7999999999,
          180180,
          167158.5,
          54213.58,
          206043.16,
          112944.94,
          1726971.9000000001,
          1549313.64,
          615316.48,
          274425.14,
          531089.7999999999,
          10529800,
          74420.48,
          81261.18,
          87312.56,
          207741.74,
          947595.22,
          126480,
          172360.12,
          1549890,
          1582937.5,
          1386775,
          714646.5,
          721638.84,
          726802.68,
          700000,
          700000,
          1201200,
          1209000,
          2,
          2,
          2,
          115476.74,
          83760.68,
          138398.74,
          40657877.44,
          62092.96,
          102477.32,
          8016247.14,
          112315.65999999999,
          1100817.76,
          5262.08,
          100862.4,
          82839.79999999999,
          98160.12,
          148783.56,
          86917.92,
          156075.18,
          131177.92,
          9445137.74,
          496866.26,
          188940,
          202848.48,
          938105.2,
          615148,
          13582260,
          5991987.02,
          18590008,
          331151.14,
          482667.56000000006,
          296879.4,
          86644.24,
          49815.7,
          131157.18,
          12225476,
          467800,
          327460,
          3855098.02,
          1688526.94,
          1003078.6,
          688560,
          229520,
          375989.83999999997,
          730591.88,
          518588.42000000004,
          651035.5399999999,
          193762.56,
          1176906.54,
          457245.26,
          298378.14,
          1082186.6,
          241939.86,
          595200,
          7071219.44,
          1323356.3800000001,
          155089.97999999998,
          75034.28,
          455409.24,
          1404800,
          235560,
          249923.2,
          519711.64,
          195968.98,
          209170.8,
          1370988.92,
          59564.94,
          2238451.86,
          178950.76,
          1214180,
          1457000,
          779822,
          35567.02,
          83211.3,
          11660300,
          488530.26,
          176000,
          1598742.02,
          238378.62,
          6114209.8,
          10013155.28,
          73695.94,
          73695.94,
          235600,
          711360,
          97419.78,
          124877.58,
          175683.84,
          45697906.6,
          1567217.2,
          73695.94,
          73695.94,
          73695.94,
          225827.32,
          6005531.84,
          18600252,
          590865.9,
          12225476,
          490714.42,
          494225.82,
          501698.38,
          1598000,
          1696700,
          1710800,
          1670850.74,
          13582260,
          11076000,
          11076000,
          11999000,
          10529800,
          10917400,
          5920400,
          3990480,
          4323020,
          4617190,
          1128455.84,
          341640,
          92958.7,
          498538.28,
          130684.8,
          103285.74,
          170506.54,
          333314.94,
          18048.38,
          929200,
          346618.72000000003,
          1443277.68,
          258395.9,
          212625.37999999998,
          617088.9199999999,
          448694.52,
          633600,
          383437.16,
          300300,
          281257.78,
          7659786.46,
          161157.08,
          372204,
          919035.5,
          1453698.34,
          46863503.96,
          632720.56,
          303266.5,
          336085.24,
          1120316.86,
          7642762.26,
          280452.4,
          324321.24,
          353045.46,
          535575.48,
          101317.3,
          516752.74,
          143300.64,
          2557161.76,
          615148,
          5991925.62,
          1925364,
          444943.16000000003,
          18545618,
          12225476,
          1765504,
          13582260,
          266933.16,
          32683.52,
          568035.4,
          1008900,
          336300,
          136150.56,
          747230.6000000001,
          434205.62,
          419490,
          127062.3,
          859908.36,
          74017.04,
          14803.4,
          139109.64,
          394645.5,
          652800,
          462683.36,
          90241.9,
          411624.82,
          93600,
          764523.04,
          117666.94,
          79529.42,
          8352629.84,
          719863.56,
          9027758.84,
          615148,
          473149.2,
          489833.84,
          121149.48,
          9574733.08,
          325002.02,
          121349.08,
          126129.6,
          447110,
          41625085.18,
          548241.08,
          362565.62,
          3730462.02,
          340373.76,
          17731090,
          792715.22,
          5985533.24,
          13285380,
          72193.52,
          12815500,
          580000,
          1783545.78,
          737791.74,
          1407900,
          1111274.2,
          1842862,
          202920,
          612180,
          270560,
          0.02,
          0.02,
          0.02,
          0.02,
          588476.8600000001,
          608000,
          29942.64,
          135480.48,
          79529.42,
          451270.68,
          1516800,
          390146.96,
          42178.06,
          196560,
          124976.74,
          136500,
          251160,
          12225476,
          73695.94,
          18048.38,
          11757200,
          3293257.78,
          792063.96,
          551525.94,
          50658.64,
          615148,
          66134.72,
          241605.56,
          1104093.12,
          60263.58,
          1419600,
          1446900,
          1552200,
          744787.2,
          2434538,
          278920,
          852720,
          10440787.3,
          34157.840000000004,
          821373.22,
          434905.9,
          142600,
          212606.68,
          75712,
          191310.26,
          306096.44,
          186909.12,
          48084430.99999999,
          924128.28,
          13656480,
          1662389.26,
          4534328.2,
          24356696,
          582810.18,
          2160687.5,
          143350.98,
          184756,
          38262.06,
          76524.1,
          12225476,
          0.02,
          12922000,
          4655560,
          506455.28,
          281348.44,
          490623,
          141062,
          500000,
          768935.02,
          960000,
          806400,
          1106978.78,
          1429600,
          33299.26,
          827003.2,
          41873.58,
          260850,
          299700,
          316350,
          15687429.78,
          224103.14,
          92365.26,
          12582600,
          20667.7,
          637696.78,
          79529.42,
          79529.4,
          357615.16,
          108860,
          267733.9,
          926732.88,
          26541.74,
          336208,
          4732300,
          18975.46,
          459648.48,
          8902637.08,
          313600,
          656000,
          79529.42,
          1501791.32,
          2461370.08,
          11284698.54,
          60635.48,
          52920117.78,
          0.02,
          3202059.96,
          93139.44,
          187338.98,
          87096.86,
          753741.94,
          1102683.36,
          13135000,
          1669740.62,
          512544.52,
          1743700,
          876375,
          471010,
          27779780,
          444454.56,
          181822.32,
          216450,
          88800,
          1774213.02,
          502490.9,
          334084.58,
          768935.02,
          14472900,
          91537.38,
          12582600,
          841272.3200000001,
          1953600,
          975000,
          6727103.640000001,
          582810.1799999999,
          12631508,
          18048.38,
          22365.12,
          18048.38,
          844800,
          152188.28,
          192920,
          78085.82,
          217411.82,
          38584,
          39042.92,
          249111.5,
          79529.42,
          79529.42,
          79529.42,
          652594.16,
          100946.36,
          600023.16,
          100946.36,
          18048.38,
          79529.42,
          11128296.36,
          79529.42,
          56000,
          2423722.52,
          121640.28,
          26541.74,
          7522384,
          692760.54,
          50187858.18,
          1890500,
          453720,
          756200,
          1603723.36,
          6527200,
          5090420,
          767233.26,
          1870600,
          5083694.78,
          24407940,
          14918220,
          1553041.76,
          12191640,
          3739558.16,
          348280.92,
          190950,
          114570,
          0.02,
          1753600,
          628644.5800000001,
          976800,
          14271000,
          12457400,
          528300.5800000001,
          592146.6,
          6483527.74,
          159154.18,
          9402980.36,
          768935.02,
          55091551.480000004,
          488711.86,
          12157804,
          0.02,
          798913,
          3802747.5,
          23516538,
          5939736.06,
          14129000,
          14732500,
          7019200,
          5013680,
          5307850,
          5474120,
          782350.4199999999,
          803534.5,
          826391.52,
          531998.28,
          546403.46,
          561946.24,
          2156000,
          2282500,
          2354000,
          1548300,
          336208,
          336208,
          1878848.1400000001,
          1440186.44,
          14732670,
          352115.04,
          1298823.58,
          69707,
          8451800,
          496078.08,
          412716.96,
          385751.36,
          169242.66,
          19922.14,
          482860.24,
          17182.44,
          485833.76,
          2051200,
          574200,
          695020.96,
          12797200,
          768935.02,
          17182.44,
          8104409.68,
          1846400,
          1530000,
          5246865.68,
          54228377.08,
          29390020,
          5946763.96,
          6282887.22,
          2,
          2949016.58,
          14992440,
          23761880,
          2026277.18,
          2548373.96,
          15883080,
          583120.38,
          566141.16,
          6847.86,
          374471.26,
          12157804,
          743761.54,
          1000612.4,
          1342379.36,
          739739.52,
          633600,
          44302.24,
          6948551.3,
          6558582.1,
          415512.1,
          384467.5,
          59045447.86,
          4658213.78,
          24029822,
          5489258.86,
          570682.56,
          15660420,
          15050653.54,
          1127820.46,
          3822721.6,
          3822721.6,
          1391596.64,
          12797200,
          12019800,
          11799200,
          14723200,
          13828800,
          13484800,
          14104000,
          384467.5,
          4785300,
          4586400,
          4703400,
          4750200,
          854400.62,
          893346.08,
          923131,
          974734.72,
          946500,
          580992.42,
          607475.34,
          2249500,
          2156000,
          2211000,
          1507500,
          1470000,
          1522500,
          8685689.12,
          336208,
          336208,
          336208,
          631140,
          643700,
          1800424.76,
          726416,
          468610.80000000005,
          664959.46,
          645874.36,
          54600.8,
          616824.72,
          2902400,
          664158,
          749130,
          567656,
          945592,
          388834,
          702372,
          604196,
          261918,
          667642,
          533562,
          885610,
          836926,
          861114,
          935148,
          12310900,
          12024600,
          55210,
          86498.22,
          690096.58,
          58457.68,
          78604.44,
          3184054.06,
          1451978,
          914284.8,
          580800,
          621158.78,
          1313000,
          11080000,
          1614576,
          6434860.96,
          7015903.76,
          64172640.36,
          5182476.72,
          28885210,
          2857527.18,
          13603193.32,
          14844000,
          1274000,
          484395.96,
          792808,
          1847709.16,
          333278,
          708067.96,
          183549.6,
          11652410,
          510000,
          11595360,
          415512.1,
          4075000,
          3073600,
          9610315.46,
          13646365.66,
          339084.6,
          117328.08,
          3853899,
          2323512.42,
          244902,
          581726.12,
          581726.12,
          581726.12,
          66294275.080000006,
          98621.54,
          156370,
          602392,
          1319500,
          510000,
          510000,
          2167373.1,
          1795143.88,
          560251.24,
          20221.08,
          1357132.54,
          17057957.08,
          414842.30000000005,
          34850.02,
          745083.36,
          344946,
          747477.28,
          581726.12,
          400026,
          223474,
          45604,
          196640,
          562968,
          912935.82,
          10942500,
          10371052.64,
          367003.14,
          37827476.64,
          11722600,
          346281.19999999995,
          12019800,
          272938.16,
          92246.34,
          71520461.54,
          190944.4,
          715931.8,
          5974556.04,
          29401114,
          78191.34,
          561599.76,
          7408736,
          5368170.74,
          15289320,
          4075000,
          4075000,
          12963815.82,
          1342250,
          219086.36,
          251737.08,
          1556671.9,
          1765759.86,
          21171.98,
          32970.88,
          1150818.7,
          2261556,
          85205.16,
          12132120,
          21171.98,
          543270.84,
          2409608.88,
          484738,
          886936,
          1264582,
          1380268,
          1609878.8,
          979254,
          712812,
          510000,
          15305000,
          4143788.74,
          1914590,
          1809100,
          300686,
          246296,
          405328,
          181658,
          322033.82,
          718291.82,
          8398287.46,
          53926.44,
          27605,
          12318800,
          15548000,
          17521400,
          14104000,
          17888000,
          636837.02,
          636837.02,
          2367750,
          2968350,
          1660490.24,
          2156800,
          405577.06,
          78937381.3,
          1553411.48,
          5916425.8,
          28711730,
          1522589.56,
          2474266.36,
          17738580,
          1553500,
          14469106,
          4407011.44,
          1248288.04,
          1572303.42,
          555052.8,
          83498.16,
          3723400,
          2374677.52,
          637750.38,
          9684317.34,
          59147.4,
          14247380,
          1141672.7,
          719980,
          792913.2,
          1745675.16,
          7883302.68,
          854080,
          1123748.92,
          587624.78,
          6084000,
          6483717.06,
          482339.19999999995,
          37720.86,
          652834.94,
          76089.3,
          100884009.4,
          1080000,
          3704357.08,
          6003485.6,
          4254705.14,
          54382104,
          1244480.6,
          285907.84,
          3095991.76,
          3326242.42,
          1445163.76,
          645044.46,
          2131763.36,
          603897.6,
          1472981.48,
          2504233.42,
          429322.14,
          2513244.72,
          142028.78,
          238254.5,
          407899.16,
          745811.5,
          694839.1,
          11096616.92,
          601404.2,
          13952245.440000001,
          510970.88,
          314974.32,
          40595.6,
          278461.94,
          9040,
          84420338.12,
          388941.6,
          580335.56,
          153363.04,
          153363.04,
          153363.04,
          27054876,
          5753596.5,
          24195720,
          14997596,
          2857527.1799999997,
          2119000,
          290654.92,
          398304.64,
          48493.22,
          4500540,
          659244,
          643620,
          90889.98,
          3600430.04,
          4612393.5,
          13177080,
          630000,
          1675480.3,
          262996.36,
          6042780.8,
          6085943.52,
          20296000,
          10470557.44,
          788179.22,
          0.12,
          741771.88,
          579509.28,
          2110566.46,
          105336.16,
          4496000,
          3962400,
          4280000,
          4396000,
          4833600,
          4905600,
          1023612.22,
          580335.56,
          580335.56,
          580335.56,
          580335.56,
          9348225.42,
          244974.62,
          222695.2,
          34381.96,
          34381.96,
          803997.12,
          106000,
          50663.58,
          34457.74,
          14622003.2,
          191329.22,
          6883970.54,
          1123802.42,
          809928.84,
          1288956,
          1949594,
          70645.6,
          8536162.52,
          2502745.12,
          806758.72,
          133791.08,
          14003010,
          10670203.84,
          83490911.56,
          1607523.84,
          5492925.96,
          29034008,
          14997596,
          8165491.92,
          21672240,
          6185070,
          4948056.7,
          630000,
          108763.2,
          102810.94,
          6856200,
          3357099.2,
          3381078.48,
          996675,
          1054200,
          710175,
          3384150,
          3280200,
          916880,
          1875200,
          15363600,
          14790720,
          161185.08,
          1598820.2,
          725372.16,
          3015480.3,
          1634046.96,
          70183.9,
          70183.9,
          8302308.3,
          4763184.82,
          706958.38,
          5455434.62,
          1609062.98,
          467013.12,
          530974.56,
          234894.32,
          360427.06,
          63013.1,
          1734511.66,
          681466.72,
          65931.24,
          11202408,
          1712285.18,
          251466,
          1537701.02,
          428776,
          12497.44,
          154145.44,
          3085846,
          4375972.18,
          15199828,
          21301140,
          46020.86,
          116228.96,
          1417712.94,
          383612.08,
          895023.78,
          4406440,
          2356512.36,
          2923389.2199999997,
          1348516,
          9486320.52,
          84909806.54,
          716856,
          630000,
          879200,
          885480,
          1772800,
          1804800,
          262395.5,
          1246378.6,
          1089317.28,
          285106.5,
          4795840,
          655421.46,
          701431.82,
          165111.16,
          1196347.44,
          3058652,
          1431012,
          391538.62,
          3288196,
          2441354,
          16094239.8,
          584173.84,
          12875391.82,
          639262.56,
          450235.1,
          1692581.68,
          1990554.34,
          145689.52,
          1851945.02,
          1301082.26,
          1128913.52,
          4602351.38,
          3757570,
          15073596,
          8626343.56,
          21672240,
          5147844.66,
          90542247.98,
          14401491.2,
          724299.44,
          5791217.6,
          150851.7,
          7239022,
          5724000,
          1632306.54,
          856671.2,
          1226509.1,
          834026.1799999999,
          3257100,
          885999.02,
          1332140.94,
          873716,
          1601307.5599999998,
          263657.02,
          241566,
          1186779.36,
          1187943.76,
          282205.96,
          282300.04,
          282017.8,
          333198.64,
          1659835.68,
          387558.7,
          1164094,
          732884,
          280884,
          349266.66,
          344153.48,
          193464.38,
          282394.12,
          395490.34,
          373340.88,
          3443697.58,
          3737118,
          1989082.6,
          811880.24,
          1181922.36,
          10788307.24,
          973683.86,
          1025544.4,
          318033.94,
          945167.56,
          2775910,
          2666586,
          1330452,
          1007176,
          2223018.76,
          2510136.2,
          472972,
          300336.68,
          1021569.56,
          411163.14,
          1785405.1,
          1714327.3,
          1898533.98,
          1431180.76,
          138189,
          251303.44,
          3239884.66,
          766080,
          10587559.28,
          5834660.66,
          70308090,
          18088315.2,
          7877755.54,
          23601960,
          10205183.48,
          13493574.04,
          800100,
          101272469.12,
          5255057.92,
          707463.52,
          159134.74,
          6568822,
          22680000,
          536012.3,
          1489112.44,
          2016000,
          916880,
          1307182.46,
          766080,
          1972880,
          1800320,
          584713.04,
          643373.56,
          1469000,
          1720386.44,
          914637.38,
          3372600,
          5476974.96,
          397392.56,
          160746,
          1468219.24,
          19311000,
          18840000,
          1191378.48,
          3246970,
          3729599.16,
          7073837.88,
          2234299.06,
          1827143.72,
          1008941.06,
          26674,
          216840,
          11386,
          70686,
          3441113.84,
          1534151.52,
          779282.46,
          1731578.5,
          2820751.0199999996,
          1690683.04,
          1095580.36,
          17726073.78,
          1729910.48,
          1478350.32,
          104428045.26,
          14859308.56,
          18230269.38,
          1848880.78,
          1097919.3399999999,
          1312044,
          1807533.36,
          264600,
          1549513.52,
          1304744.08,
          1785687.28,
          6296740.32,
          48895820,
          17951515.2,
          4080002.92,
          23156640,
          10259884.8,
          568483.24,
          4499196.8,
          2025450,
          19372500,
          1595748,
          968847,
          4095000,
          600056.1,
          2016000,
          415612,
          453032,
          836015.2,
          1196340,
          2808000,
          1552091.44,
          6973650,
          469822,
          862173.76,
          2139893.32,
          3135027.7200000007,
          379032.92,
          286427.84,
          529837.06,
          681219.08,
          320756.2,
          238000,
          3749580,
          13940111.22,
          2206739.38,
          2272000,
          1640674.8,
          1196340,
          3374700.56,
          303498,
          14592965.84,
          110634444.68,
          1146416,
          5972095.68,
          51860572,
          17951515.2,
          4288207.1,
          28277820,
          14776332.62,
          10605538,
          493629.26,
          6308010,
          718388.68,
          493629.26,
          17630731.2,
          906748.9,
          332755.08,
          19539000,
          493629.26,
          332755.08,
          3703780,
          22582800,
          4215388.16,
          22693500,
          3690000,
          8364430.4,
          1338391.12,
          799299,
          1410348.84,
          333574.94,
          1089214.64,
          655154,
          586500.18,
          959016.24,
          2286884.88,
          1504440,
          616006.52,
          248327.72,
          248327.72,
          572510,
          14104584.14,
          5115736.18,
          813626.42,
          99419616.6,
          14817355.520000001,
          1721642.48,
          3614140,
          927440.32,
          16154400,
          8229600,
          18020600,
          6248400,
          9572800,
          253880.26,
          1015521.02,
          755697.6,
          2569371.84,
          848653.3,
          5971834.96,
          52233100,
          17997115.2,
          6226280.720000001,
          27980940,
          19307351.02,
          726040,
          1343742,
          1463040,
          640781.8,
          2527339.6,
          6419743.5200000005,
          2992111.9,
          482800,
          4134554.1599999997,
          423133.76,
          2604735.86,
          604672.34,
          450948.6,
          4852855.34,
          1680000,
          1599395.52,
          23409230,
          8024682,
          10630500,
          8603411.44,
          2491764.58,
          39752055.44,
          2117851.34,
          2320049.34,
          1247103.02,
          457749.64,
          1361716.94,
          40950.36,
          2800627.64,
          3899710,
          15900000,
          8100000,
          16350000,
          927440.32,
          110489328.83999999,
          20173521.3,
          1645525.62,
          1645525.62,
          1824990.94,
          26280241.36,
          5975477.98,
          51312126,
          18042715.2,
          28871580,
          22159102.28,
          4861777.32,
          2168550,
          983439.76,
          8532000,
          17222000,
          16432000,
          808848.62,
          7460000,
          7900000,
          2554034,
          3830000,
          1820933.3,
          442399.8,
          829143.74,
          1203791.76,
          539110,
          1466213.28,
          1466213.28,
          8630476,
          125612,
          2970201.84,
          27276075,
          1935188.74,
          2766314.84,
          22887200,
          9380000,
          10130400,
          20448400,
          22702740.08,
          108786744.91000001,
          1125600,
          26131446.3,
          11128258.18,
          58693660,
          23491164.599999998,
          2574810,
          428806.86,
          514568.22,
          1077693.86,
          2305950.3,
          1253898.24,
          2653338.24,
          2306800,
          2759378.34,
          2274289.92,
          1188716.32,
          488460.38,
          14935846,
          684572.4,
          1653630,
          1472660,
          2574810,
          670670,
          1082208.22,
          7011550,
          1137144.96,
          522720,
          3093524.82,
          323317.86,
          497702.64,
          1593283.06,
          34809180,
          16940998.259999998,
          330120.22,
          1268585,
          1
         ],
         "xaxis": "x",
         "y": [
          -244163.58000000002,
          -233051.26,
          -41947.4,
          -31317.82,
          -15101.02,
          -37124144.02,
          -324000,
          -1311461,
          -1010652.94,
          -453412.56,
          -772190.06,
          -5355897.96,
          -529215.06,
          -132388.66,
          -181281.4,
          -215261.44,
          -88529.82,
          -5584.780000000001,
          -792524.8,
          -127815.5,
          -416814.96,
          -1792766.1199999999,
          -23919.3,
          -39039.26,
          -9101.54,
          -29911.7,
          -43383.26,
          -11248.76,
          -4721.58,
          -3912241.96,
          -9170.4,
          -318387.46,
          -4888603.279999999,
          -5060414.600000001,
          -129498.1,
          -601506.34,
          3587.4,
          -1100,
          -7515948.32,
          -64505.380000000005,
          -5661002.72,
          -1100,
          -993044.02,
          -961975.46,
          -3486731.66,
          -293050.10000000003,
          -276724.76,
          -161620.86,
          -13900,
          -136008.53999999998,
          -176803.09999999998,
          -2375821.82,
          -1510.6,
          -7562.46,
          -1739.44,
          -5364995.68,
          -1127143.76,
          -5675180.24,
          -375803.12,
          -32678.8,
          -98759.32,
          -771120,
          -117643.38,
          -249764.63999999998,
          -162195.86000000002,
          -152784.8,
          -5584.76,
          7619.6,
          -27324.58,
          -1160,
          -3149.54,
          -1909414.3199999998,
          -469471.14,
          -1734.42,
          -5041.8,
          -6750.900000000001,
          -5157.76,
          -196,
          -3149.54,
          -3149.54,
          -107927.04,
          -132496.92,
          -146354.72,
          -193124.24,
          -196285.84,
          -3097030.42,
          -450617.22,
          -326307.98,
          -20545305.58,
          -369231.72,
          -980101.2,
          -59064.98,
          -53983.68000000001,
          -1037483.16,
          -4594549.58,
          -3999046.98,
          -15143.9,
          -16265.34,
          -24680.56,
          -114889.32,
          -32404.32,
          -50271.98,
          -174654.7,
          -175000.2,
          -212847.36000000002,
          -318387.64,
          -321950.48000000004,
          -391381.2,
          -391380.8,
          -391470.64,
          -162274.54,
          -729361.98,
          -1416468.94,
          -192383.5,
          -14056.06,
          -193017.6,
          -34303.3,
          -175768.78,
          -26777.239999999998,
          -486313.39999999997,
          -496252.68000000005,
          -2799.58,
          -553000.54,
          -266145.5,
          -86127.04,
          -133574.6,
          -96879.76,
          -73866.12,
          -95092.88,
          -75607.98,
          -74613.95999999999,
          -449079.12,
          -79250.64,
          -312296.57999999996,
          -1699571.96,
          -239761.52,
          -160130.75999999998,
          -146397.16,
          -39902.04,
          -27810506.54,
          -3149.56,
          -3214453,
          -374191.7,
          -729886.16,
          -101605.02,
          -373981.06,
          -986160.2799999999,
          -666808.5199999999,
          -120415.57999999999,
          -2938664.68,
          -4098508.06,
          -7120.04,
          -7120.04,
          -235666.42,
          -60453.16,
          -49452.58,
          -107000.56,
          -1217000.22,
          -4033019.7,
          -3848745.08,
          -4559758.46,
          -316304.2,
          -320496.36,
          -304446.78,
          -348505.04,
          -953259.98,
          -745228.4,
          -707991.2,
          -165461.68,
          -709266.9,
          -251808.02,
          -6444840.4399999995,
          -17120.32,
          -491115.94,
          -3681088.68,
          -52826,
          -202906.12,
          -406548.14,
          -5584.76,
          -10784.76,
          -378969.76,
          -10609.82,
          -10609.82,
          -71882.52,
          -657931.04,
          -469874.34,
          -473343.6,
          -707678.68,
          -14660,
          -10320,
          -29260,
          -7740,
          -13477.439999999999,
          -739531.4,
          -698915.1599999999,
          -218633.74,
          -354105.38,
          -68692.94,
          -35664.86,
          -114408,
          -308218.4,
          -161104.52000000002,
          -4595388.18,
          -774446.46,
          -1017638.5800000001,
          -7120.04,
          -159699.22,
          -7120.04,
          -183677.46,
          -709614,
          -82410.08,
          -537880,
          -277323.52,
          -385825.72000000003,
          -10609.82,
          -495.86,
          -8952.04,
          -601205.5,
          -93167.74,
          -7120.04,
          -106043.14,
          -46300.04,
          -210293.06,
          -495795.77999999997,
          -311328.02,
          -123524.12,
          -77506.6,
          -3125800.76,
          -562577.42,
          -2247104.7600000002,
          -2231192.7399999998,
          -2429900.68,
          -17017.34,
          -33102.24,
          -6109602.06,
          -1385428.8,
          -11312740.62,
          -26304744.04,
          -139288.24,
          -60481.66,
          -7120.02,
          -1043596.34,
          -38842.700000000004,
          -186408.84,
          -60449.979999999996,
          -116134.84,
          -136430.7,
          -4204.58,
          -704360.78,
          -51004.46,
          -608,
          -4628.16,
          -10996.48,
          -113816.74,
          -292271.26,
          -198661.36000000002,
          -33770.32,
          -8398.94,
          -11434727.24,
          -345439.39999999997,
          -38842.700000000004,
          -864674.96,
          -1390,
          -11454.48,
          -7754.48,
          -1174,
          -9060.48,
          -8018.48,
          -1528,
          -991.74,
          -145949,
          -11832.52,
          -288637.16000000003,
          -69910.22,
          -4810923.14,
          -6715821.96,
          -388934.27999999997,
          -47968.1,
          -403801.52,
          -5723.38,
          -5723.38,
          -561594.26,
          -5723.38,
          -854331.58,
          -1753996.32,
          -56641.36,
          -3936103.88,
          -896783.96,
          -616457.3200000001,
          -2120912.9,
          -47125.200000000004,
          -16622.32,
          -5723.36,
          -134105.6,
          -397139.08,
          -194916.22,
          -996710.1,
          -192043.12,
          -3473280.42,
          -8444646.12,
          -133801.56,
          -185836.86,
          -175928.58,
          -210127.04,
          -19480.24,
          -33034317.279999997,
          -177000,
          -165137.2,
          -3662401.8400000003,
          -5544976.32,
          -7229324.220000001,
          -453431.27999999997,
          -2415331.14,
          -293307.12,
          -458764.38,
          -1023677.66,
          -12135401.299999999,
          -406749.24,
          -309610.7,
          -759946.4,
          -40367.02,
          -561683.96,
          -587043.32,
          -96788.4,
          -144010.1,
          -411890.14,
          -985937.6799999999,
          -1823368.12,
          -151663.56,
          -632647.72,
          -94532.04,
          -15701305.64,
          -4489115.32,
          -2600075.2800000003,
          -1064380.6400000001,
          -527673,
          -1124180,
          -92045.1,
          -224835.04,
          -52476.92,
          -14882.74,
          -33440.18,
          -6265.94,
          -247288.22,
          -1344022.2,
          -136584.08000000002,
          -249106.26,
          -74190.88,
          -212676.34,
          -29135.5,
          -1522707.94,
          -1163237.48,
          -61507.52,
          -85534.52,
          -40893.78,
          -5402774.66,
          -192124.5,
          -191916.36,
          -192043.5,
          -109915.26000000001,
          -3713.0199999999995,
          -66602.08,
          -102836.48,
          -839354.64,
          -936903.78,
          -957530.88,
          -343918.78,
          -373492.68,
          -557889.1599999999,
          -396117.54,
          -390907.54,
          -538347.5,
          -472667.2,
          -211118.16,
          -1038921.22,
          -3536029.72,
          -12795.060000000001,
          -192043.47999999998,
          -22861.78,
          -30473165.94,
          -2732.1,
          -149616.8,
          -4274245.600000001,
          -16615.16,
          -345272.76,
          -19576.760000000002,
          -19300.760000000002,
          -19300.8,
          -16150,
          -9420,
          -17160.260000000002,
          -36015.56,
          -17472.8,
          -7556110.18,
          -534627.86,
          -78620.04000000001,
          -268982.12,
          -816984.6,
          -421517.19999999995,
          -4179256.84,
          -4333489.26,
          -8934168.02,
          -225619.94,
          -422628.06,
          -258156.24,
          -40948.520000000004,
          -21648.379999999997,
          -46508.740000000005,
          -11139237.36,
          -327460,
          -561147.92,
          -1366386.18,
          -1360833.76,
          -831036.9,
          -500060.7,
          -166686.9,
          -30461.24,
          -112546.12,
          -12888.22,
          -51956.7,
          -400990.78,
          -1027581.52,
          -432127.66,
          -259460.78,
          -784681.58,
          -1284738.48,
          -695274.4,
          -5446071.78,
          -1250622.3,
          -129042.4,
          -109291.76,
          -196932.03999999998,
          -963940.06,
          -167101.91999999998,
          -178583.63999999998,
          -187584.5,
          -181374.19999999998,
          -207761.1,
          -1228991.98,
          -2620.86,
          -1742952.76,
          -108013.16,
          -681916.94,
          -902159.4400000001,
          -734428.4,
          -109294.44,
          -73545.36,
          -4883276.399999999,
          -160566.3,
          -141823.16,
          -1055628.98,
          -7754.48,
          -3009057.0999999996,
          -8016247.14,
          -3901.7799999999997,
          -3901.7799999999997,
          -185141.14,
          -555423.42,
          -3901.7799999999997,
          -3901.7799999999997,
          -8474.84,
          -35985372.22,
          -1756471.14,
          -10717.86,
          -18254.86,
          -8292.1,
          -8276.48,
          -5352983.38,
          -8511563.7,
          -518680.64,
          -11882853.3,
          -267081.7,
          -155332.62,
          -230551.96,
          -1308534.52,
          -872399.24,
          -872410.62,
          -1093102.96,
          -5237607.56,
          -4331761.7,
          -5782930.56,
          -4015246.98,
          -5799794.66,
          -7176861.2,
          -12875.78,
          -2294126.3200000003,
          -3329056.9,
          -2339580.86,
          -1169989.08,
          -287413.48,
          -146595.82,
          -504351.76,
          -204265.96000000002,
          -182077.98,
          -288945.28,
          -44740.8,
          -8292.1,
          -1627077.22,
          -324127.18,
          -350000,
          -8292.1,
          -141779.1,
          -52815.28,
          -298763.89999999997,
          -732004.2999999999,
          -266748.72,
          -238736.7,
          -249265.44,
          -3559398.28,
          -17934.7,
          -228474.84,
          -637103.72,
          -361400,
          -39031088.4,
          -519782.82,
          -367910.84,
          -43575.26,
          -972197.7999999999,
          -6114209.8,
          -202292.1,
          -228292.1,
          -252292.1,
          -388292.1,
          -64254.86,
          -387934.7,
          -8292.1,
          -1790292.74,
          -631698.92,
          -3502265.86,
          -931147.14,
          -424971.64,
          -7996226.14,
          -11226088.9,
          -954828.32,
          -4052990.9,
          -214678.74,
          -8292.1,
          -49493.28,
          -815979.6,
          -271994.4,
          -52635.840000000004,
          -458421.8,
          -42694.84,
          -309620.5,
          -155482.18,
          -721641.32,
          -144675.78,
          -101064.66,
          -2426,
          -361698.42,
          -719651.18,
          -253224.7,
          -8292.1,
          -143134.44,
          -38048.16,
          -778688.44,
          -129227.8,
          -8292.1,
          -3910726.7,
          -6322.96,
          -3450947.5,
          -452077.8,
          -4114.78,
          -17934.7,
          -92899.68000000001,
          -7659786.46,
          -287108.04,
          -83621.02,
          -1818.18,
          -285876.62,
          -36142479.86,
          -389614,
          -301045.3,
          -1266154.8800000001,
          -412663.94,
          -7615961.12,
          -424093.38,
          -3904548.1,
          -4218478.54,
          -8292.1,
          -4613470.98,
          -380896.04,
          -1064026.12,
          -371167.96,
          -543458.58,
          -828706.66,
          -1622900.58,
          -207419.82,
          -496090.01999999996,
          -268201.18,
          2.4010660126805305e-10,
          -2.0372681319713593e-10,
          -0.020000000000436557,
          0.020000000340587576,
          -71516.94,
          -211177.28,
          -8474.86,
          -12794.34,
          -12794.380000000001,
          -394158.48,
          -822238.88,
          -335983.54,
          -68747.34,
          -145577.84,
          -104752.04,
          -112913.68000000001,
          -186403.08000000002,
          -11257112.78,
          -12794.36,
          -12794.34,
          -7071730.760000001,
          -2698657.08,
          -526158.86,
          -354618.86,
          -12794.36,
          -455688.83999999997,
          -12794.36,
          -18254.88,
          -766119.56,
          -94300.84,
          -527922.12,
          -539099.3,
          -1062290.56,
          -372472.82,
          -3089600,
          -205176.1,
          -615539.4,
          -8352629.84,
          -22268.3,
          -1305121.2999999998,
          -4447.38,
          -93986.4,
          -62272.78,
          -26948.86,
          -100281.22,
          -159474.82,
          -12618.86,
          -41329638.86,
          -742708.9600000001,
          -4325431.66,
          -1092334.66,
          -3551495.84,
          -8079419.74,
          -405887.02,
          -1438699.46,
          -83840.7,
          -119748.7,
          -37681,
          -37676.7,
          -11162847.62,
          0,
          -4786540.659999999,
          -2744700.26,
          -195417.88,
          -61787.66,
          -12618.86,
          -12618.86,
          -297231.83999999997,
          -521493.86000000004,
          -1968367.78,
          -150698.25999999998,
          -841157.64,
          -827743.14,
          -19500.06,
          -650039.56,
          -32228.46,
          -185327.77999999997,
          -210785.08000000002,
          -226066.58,
          -9165426.200000001,
          -354662.33999999997,
          -12618.86,
          -8634330.2,
          -8619.22,
          -20257.3,
          -18254.88,
          -18254.88,
          -3432339.56,
          -58453.04,
          -190000,
          -646870.08,
          -12618.86,
          -139316.02000000002,
          -3011091.8800000004,
          -11356.98,
          -328618.86,
          -2944781.5,
          -409576.58,
          -519665.52,
          -12618.86,
          -320000,
          -513120,
          -9027758.84,
          -9000,
          -47705588.92,
          1.0186340659856796e-10,
          -4898547.24,
          -3124.2599999999998,
          -3124.2599999999998,
          -3124.2599999999998,
          -372144.38,
          -1420667.24,
          -5737106.12,
          -1034763.52,
          -189505.92,
          -872409.32,
          -763901.48,
          -444542.16000000003,
          -9702389.56,
          -406370.36,
          -200731.38,
          -116228.01999999999,
          -76388.22,
          -1437372.52,
          -110000,
          -146606.52,
          -506102.54,
          -5217475.78,
          -67223,
          -7390507.34,
          -423855.16,
          -882019.92,
          -220000,
          -1416767.68,
          -509007.2,
          -11810046.18,
          -3124.2599999999998,
          -3124.2599999999998,
          -2101925.38,
          -1003473.42,
          -115746.4,
          -145502.4,
          -208894.04,
          -105298.12,
          -32726.480000000003,
          -46220.7,
          -167241.34,
          -13122.599999999999,
          -13122.599999999999,
          -13122.599999999999,
          -343122.6,
          -54518.68,
          -387122.6,
          -54518.82,
          -4518.679999999999,
          -4518.679999999999,
          -8902637.08,
          -4518.76,
          -4872.68,
          -89642,
          -301.24,
          -301.24,
          -3540707.42,
          -3488732.4,
          -42280151.1,
          -1109178.24,
          -325387.74,
          -542386.98,
          -1295618.82,
          -2700,
          -3140965.48,
          -372154.22000000003,
          -872419.16,
          -5351316.68,
          -9543784.3,
          -4684654.5,
          -940014.1599999999,
          -12762381.7,
          -1559697.8800000001,
          -8841.34,
          -182143.97999999998,
          -221921.88,
          -7.639755494892597e-11,
          -888867.64,
          -539821.22,
          -997038.06,
          -9570200.72,
          -8240202.92,
          -230063.06,
          -20060.68,
          -3851876.86,
          -292485.66,
          -7718229.32,
          -637673.88,
          -56364816.94,
          -317886.48,
          -13901168.14,
          1.7826096154749393e-10,
          -410060.68,
          -2577444.1399999997,
          -11118723.1,
          -6131429.66,
          -7173247.94,
          -4813139.52,
          -4500,
          -3478783.54,
          -4581842.5,
          -3019640.32,
          -468625.10000000003,
          -702463.92,
          -467759.94,
          -300077.08,
          -322280.12,
          -225041.9,
          -1121640.5,
          -1682385.32,
          -1121738.7,
          -1269390,
          -152991.76,
          -172102.62,
          -1317011.78,
          -1045412.22,
          -6071155.14,
          -8841.34,
          -56580.98,
          -8841.34,
          -6811207.84,
          -13000,
          -20060.68,
          -399580.98,
          -8841.34,
          -20060.68,
          -336063.12,
          -8841.34,
          -29878.579999999998,
          -933169.82,
          -623472.3,
          -560743.8,
          -9609920.88,
          -802003.48,
          -6063.12,
          -6483527.74,
          -1401547.5,
          -327327.72,
          -3196766.7,
          -50575570.72,
          -13016797.26,
          -5128123.92,
          -578542.9199999999,
          -3909483.96,
          -1622293.74,
          -6561482.18,
          -10634634.18,
          -6410204.32,
          -1129176.22,
          -5799791.9,
          -615652.76,
          -686647.84,
          -6063.139999999999,
          -46800,
          -13464877.12,
          -681486.22,
          -780326.34,
          -1631495.6800000002,
          -999229.7,
          -683467.8,
          -6063.139999999999,
          -2927965.56,
          -5246865.68,
          -639743.36,
          -263215.26,
          -45728559.86,
          -4935559.26,
          -9890434.040000001,
          -1448618.98,
          -521791.32,
          -5301668.22,
          -15188687.32,
          -1336700.72,
          -3677185.7,
          -3571219,
          -642519.8,
          -6741210.1,
          -8318519.9,
          -8624585.18,
          -5112420.819999999,
          -5687440.279999999,
          -6702328.680000001,
          -4856369.6,
          -736.82,
          -3495212.9,
          -3190886.16,
          -3378069.3600000003,
          -3099793.58,
          -469856.68,
          -468998.25999999995,
          -511442.82,
          -562523.58,
          -844742.24,
          -218132.7,
          -222462.92,
          -1226411.46,
          -1121766.38,
          -1174125.34,
          -502212.64,
          -689809.56,
          -654410.64,
          -6276202.7,
          -187163.7,
          -225761.09999999998,
          -222046.72,
          -220857.62,
          -223877.41999999998,
          -906865.72,
          -547021.26,
          -463350.5,
          -505284.76,
          -484571.88,
          -89912.3,
          -577590.32,
          -1332826.28,
          -584443.56,
          -528430.88,
          -489940.62,
          -477113.18,
          -570344.74,
          -365278.9,
          -789823.9400000001,
          -677785.22,
          -1037195.92,
          -1027794.76,
          -822466.1,
          -690795.52,
          -2283519,
          -1448367.32,
          -9561669,
          -13864661,
          -15497.7,
          -65000,
          -691667.36,
          -19580.980000000003,
          -19580.980000000003,
          -1707465.2999999998,
          -18742393.9,
          -663765.76,
          -150296.72,
          -410930.98,
          -81235.94,
          -9736447.2,
          -918497,
          -2629529.44,
          -3643184.82,
          -48935949.22,
          -5929049.58,
          -11528381.18,
          -2047787.5,
          -14225915.4,
          -5668461.24,
          -130909.78,
          -600651.48,
          -451310.38,
          -1453528.52,
          -388028.76,
          -621144.46,
          -162724.02,
          -9696000,
          -359617.2,
          -9730880,
          -303891.88,
          -2020000,
          -8044218.819999999,
          -8626546.3,
          -5285947.16,
          -19581,
          -102037.62,
          -2728112,
          -1133757.04,
          -205828.6,
          -25595.940000000002,
          -25595.940000000002,
          -25595.960000000003,
          -47316681.02,
          -1506.24,
          -158110.16,
          -392474.94,
          -324486.16000000003,
          -373984.45999999996,
          -854.72,
          -2514464.4,
          -9267.52,
          -324875.76,
          -12960,
          -928821.18,
          -13764365.66,
          -485249.44,
          -5400.8,
          -383459.39999999997,
          -383459.38,
          -14048.46,
          2318.4800000000014,
          -254309.8,
          -319208.5,
          -1976.12,
          -10012.9,
          -823137.82,
          -658921,
          -4909942.2,
          -6143673.24,
          -56190.12,
          -21260622.32,
          -7654962.37,
          -106400,
          -8900835.6,
          -7150.9,
          -14048.48,
          -50730579.940000005,
          -302075.9,
          -734342.88,
          -4722148.58,
          -16970676.12,
          -14048.48,
          -4251258.58,
          -6583400.42,
          -2305022.46,
          -7192065.54,
          -1950000,
          0,
          -10408052.64,
          -110915.95999999999,
          -7150.9,
          -7150.9,
          -276312.3,
          -8843988.18,
          -14048.48,
          -936.56,
          -728068.84,
          -1843821.6400000001,
          -936.56,
          -12971762.1,
          -4567.02,
          -2968084.36,
          -1511501.82,
          -767175.0599999999,
          -423274.8,
          -918946.1799999999,
          -1020523.1,
          -1202440.38,
          -1025536.42,
          -1285007.3800000001,
          -382378.18,
          -3858800,
          -2374416.46,
          -1127212.94,
          -955817.52,
          -459663.72,
          -510352.06,
          -435743.86,
          -522016.60000000003,
          -489470.86,
          -21808.76,
          -5316695.5200000005,
          -21808.76,
          -21808.76,
          -8270463.9799999995,
          -12920561.860000001,
          -11502770.9,
          -7173200,
          -5827067.2,
          -257778.46,
          -349865.1,
          -1402161.34,
          -2103091.82,
          -1542812.86,
          -987089.78,
          -240000,
          -65138481.96,
          -1038630.24,
          -5367599.140000001,
          -17052185.56,
          -817269.1799999999,
          -1723090.76,
          -8969172.620000001,
          -72000,
          -14144386.8,
          -1193658.2,
          -581971.94,
          -1008439.6599999999,
          -327247.38,
          -2695433.14,
          -2979081.82,
          -1088260.88,
          -21808.76,
          -7728925.100000001,
          -418118.04000000004,
          -10156145,
          -755407.38,
          -81464.26,
          -21808.739999999998,
          -6868639.56,
          -7340192.199999999,
          -336073.28,
          -831517.34,
          -285760.52,
          -4983463.48,
          -33646,
          -282095.52,
          -4567.04,
          -1212110.64,
          -41284.46,
          -47004142.86,
          -254400,
          -7193775.16,
          -6244411.2,
          -1971494.2,
          -17576316.6,
          -388718.9,
          -1677.6,
          -2077528.18,
          -1706231.74,
          -485829.94,
          -8850.72,
          -1327774.82,
          -357202.82,
          -8850.74,
          -89836,
          -8850.72,
          -8850.72,
          -60704,
          -8850.74,
          -6384.3,
          -3636.3600000001024,
          -1278750,
          -6031504.3,
          -15497.7,
          -11274796.36,
          -431761.44,
          -300859.54,
          -15497.7,
          -172182.4,
          -126.56,
          -47697192.080000006,
          -15497.7,
          -15497.7,
          -4567.04,
          -4567.04,
          -4567.04,
          -17128124.2,
          -3079243.06,
          -6942402.76,
          -14991766.92,
          -2046235.18,
          -67208.26,
          -13672.72,
          -1127178.76,
          -22198.34,
          -3623058.16,
          -1246962.9,
          -323653.24,
          -91553.06,
          -4423636.3,
          -2356127.72,
          -12643704,
          -300000,
          -1893386.82,
          -108573.66,
          -11049812.499999998,
          -13581721.700000001,
          -5726146.4,
          -6144350.899999999,
          -693382.74,
          -7524461.72,
          -1140166.32,
          -1140166.04,
          -725771.78,
          -170057.86,
          -3020362.82,
          -1931200.12,
          -2710008.54,
          -1939232.26,
          -2440652.68,
          -12123723.58,
          -233999.28,
          -15497.7,
          -15497.7,
          -15497.7,
          -15497.720000000001,
          -5285426.26,
          -5874.38,
          -8361.72,
          -15497.720000000001,
          -7150.88,
          -775940.0599999999,
          -2132.22,
          -5874.4,
          -7150.88,
          -8920531.24,
          -61105.5,
          -2014347.26,
          -906616.74,
          -286032.02,
          -1027079.96,
          -606990.0800000001,
          -15497.720000000001,
          -4892039.12,
          -1786965.1,
          -188063.68,
          -15497.720000000001,
          -11625408,
          -12012657.16,
          -52202528.6,
          -596194.88,
          -3161526.2600000002,
          -16952316.2,
          -15139557.44,
          -1917149.22,
          -7509149.080000001,
          -5089291.58,
          -4608143.74,
          -430000,
          -101395.52,
          -61680.020000000004,
          -4205943.44,
          -3450319.18,
          -3611239.64,
          -562913.02,
          -562990.48,
          -365796.82,
          -1402204.02,
          -1402220.18,
          -315619.04,
          -633302.2,
          -14439040,
          -13995520,
          -5874.4,
          -979265.4199999999,
          -1010721.4400000001,
          -1577256.74,
          -1492586.18,
          -201317.6,
          -183544.74,
          -5407966.98,
          -2061678.8,
          -335201.86,
          -3604506.5,
          -524382.66,
          -524382.98,
          -448799.16,
          -5874.4,
          -14323.8,
          -5874.4,
          -605800.04,
          -486567.87999999995,
          -34779.06,
          -6475738.94,
          -832978.94,
          -5874.4,
          -694609.78,
          -6002.860000000001,
          -5874.4,
          -5874.4,
          -1791406.52,
          -2450927.98,
          -15551391.66,
          -8290931.86,
          -5874.4,
          -5874.4,
          -174881.02,
          -289212.26,
          -233375.68000000002,
          -4232782.74,
          -1325689.28,
          -6772572.739999999,
          -446946.6,
          -10273000.32,
          -54893258.54,
          -731036.26,
          -430000,
          -318445.92,
          -528952.7,
          -633770.8,
          -1118004.86,
          -931788.7,
          -931788.7,
          -801341.46,
          -134882.32,
          -3961314,
          -28838.54,
          -776746.88,
          -134000,
          -434193.36000000004,
          -1073007.4,
          -775379.02,
          -45182.2,
          -1069583.36,
          -1184672.48,
          -13187391.82,
          -143976.96,
          -6047800.74,
          -308815.2,
          -214000.88,
          -798449.84,
          -1381536.4,
          -112945.04,
          -885110.3,
          -619058.5,
          -466073.16,
          -2841884.18,
          -14533302.540000001,
          -15623958.18,
          -2240396.28,
          -8702504.8,
          -11497135.98,
          -50084426.52,
          -16420019.56,
          -779929.8,
          -6303050.640000001,
          -8074.339999999999,
          -5892563.92,
          -15400,
          -637927.4199999999,
          -627717.56,
          -781182.1799999999,
          -352276.48,
          -1622033.1600000001,
          -320220.68,
          -544132.2,
          -936965.24,
          -1146570.68,
          -219796.2,
          -178028.34,
          -668876.3200000001,
          -826411.5599999999,
          -148922.16,
          -148928.30000000002,
          -148909.88,
          -167236.86000000002,
          -41154.67999999999,
          -220766.9,
          -1588501.1600000001,
          -1598555.87,
          -1424486.1400000001,
          -195407.2,
          -175015.7,
          -111847.92000000001,
          -147927.16,
          -246131.2,
          -161419.02,
          -998357.84,
          -2440548.26,
          -1678579.3199999998,
          -404398.54,
          -824212.66,
          -7062287.5200000005,
          -1902301.66,
          -560977.82,
          -102917.6,
          -60493.4,
          -1450959.66,
          -1427556.28,
          -1274464.9,
          -943131.3600000001,
          -75892,
          -1331197.56,
          -1920226.1300000001,
          -214439.64,
          -473629.36,
          -205797.24,
          -846524.34,
          -819745.78,
          -881273.7,
          -658339.4,
          -72468,
          -175912,
          -2378836.3,
          -360000,
          -7559566.16,
          -6742684.4,
          -19433750.98,
          -17227846.5,
          -2232083.42,
          -8915047.28,
          -14080677.12,
          -10795107.24,
          -178670,
          -56674208.68,
          -8395044.74,
          -76470,
          -186714,
          -5357221.4399999995,
          -24172105.56,
          -436117.98,
          -2963629.16,
          -1059271.84,
          -1098263.76,
          -2239376.48,
          -480400,
          -2187790.84,
          -1818125.66,
          -429255.6,
          -429255.6,
          -816000,
          -1581555.2999999998,
          -926071.1,
          -3955435.2,
          -3759862.08,
          -35495.36,
          -16400,
          -482270.24,
          -12623725.26,
          -9701221.98,
          -791095.74,
          -4191205.02,
          -2801493.1,
          -8268426.899999999,
          -947507.06,
          -795992,
          -423701.64,
          -459889.86,
          -267831.68,
          -236833.14,
          -405799.52,
          -1205998.6400000001,
          -712897.68,
          -371854.32,
          -796624.16,
          -3392940.52,
          -1372487.06,
          -1411522.62,
          -14074260.06,
          -1722796.24,
          -94615.42,
          -76475555.42,
          -22627305.040000003,
          -16861508.56,
          -125050.14,
          -772936.0199999999,
          -837000,
          -1440728.01,
          -156800,
          -1511559.3399999999,
          -1062515.9200000002,
          -1602792.3,
          -5515760.14,
          -21471437.200000003,
          -20450930.380000003,
          -2613557.72,
          -12439875.48,
          -18414060.62,
          -926911.9400000001,
          -10241396.94,
          -17446.9,
          -77637.88,
          -33642.38,
          -547370.64,
          -4165.28,
          -447320,
          -7782.54,
          -193961.2,
          -201136.02,
          -550000,
          -6237.14,
          -1855327.28,
          -196526.06,
          -4736046.42,
          -716403.04,
          -1806873.22,
          -2007801.7200000002,
          -775988.62,
          -775988.62,
          -206701.54,
          -466392.46,
          -466392.46,
          -892767.6800000002,
          -391100.24,
          -1935000,
          -8319435.88,
          -2270089.1,
          -208939.76,
          -1374968,
          -588412.16,
          -2801627.1199999996,
          -846239.91,
          -17584890.86,
          -68054666.12,
          -50442.3,
          -1858718.96,
          -21388229.27,
          -18274557.68,
          -2446402.38,
          -10506169.66,
          -21400568.02,
          -8571907.92,
          -109853.76,
          -2997025.66,
          -1088813.78,
          -110201.5,
          -14508986.86,
          -470000,
          -33975.87,
          -10041781.28,
          -69739.36,
          -37198.45,
          -419304,
          -6011943.4399999995,
          -1798662.1199999999,
          -21845122.88,
          -6529086.18,
          -9311720.82,
          -896000,
          -35169.16,
          -936284.81,
          -206330.14,
          -374970.96,
          -2255715.46,
          -374970.96,
          -1255682.44,
          -1459957.24,
          -617486.24,
          -789293.6599999999,
          -10926.439999999999,
          -10926.42,
          -423577.94,
          -20152427.5,
          -389910.04000000004,
          -400283.2,
          -65635869.48,
          -19067546.96,
          -976080.26,
          -1305036.84,
          -910000,
          -7947110.46,
          -3607926.7399999998,
          -7836160.7,
          -3058698.5,
          -607452.71,
          -412893.42,
          -412893.42,
          -1045221.5,
          -1045221.0800000001,
          -80688.64,
          -5007299.56,
          -19005588.88,
          -18690071.78,
          -1769568.28,
          -11617555.600000001,
          -18648427.18,
          -2215716.96,
          -1730739.02,
          -1032470,
          -98671.07999999999,
          -2043376.9,
          -12520053,
          -2071296.48,
          -2277576.11,
          -3230869.12,
          -412893.42,
          -2128975.58,
          -362308.36,
          -362308.36,
          -473701.8,
          -1100000,
          -995238.08,
          -18727383.16,
          -6532089.08,
          -7488007.88,
          -4383896.02,
          -1048331.26,
          -3050300.12,
          -6003370.1,
          -471693.45,
          -413754.35,
          -371129.26,
          -73532.71,
          -2211.3199999999997,
          -276241.2,
          -5101854.26,
          -10877604.84,
          -4769654,
          -8981488.92,
          -220000,
          -70005326.94,
          -20134790.42,
          -1372280.32,
          -1304177.06,
          -1001976.46,
          -21105072.220000003,
          -8315402.9399999995,
          -17693798.48,
          -18530576.18,
          -12284670.74,
          -24711512.8,
          -1799820.44,
          -1545898.58,
          -550000,
          -4311975.92,
          -8491217.3,
          -9056325.8,
          -807789.2,
          -63626.420000000006,
          -4741991.58,
          -1901360,
          -522360,
          -1280315.54,
          -307025.48,
          -575425.7599999999,
          -895621.08,
          -68740,
          -1166486.1,
          -1166484.86,
          -4922243.62,
          -511443.04,
          -2377421.58,
          -6530090.12,
          -85148.29999999999,
          -1809169.9,
          -12380074.93,
          -5848669.74,
          -4930063.38,
          -9612389.41,
          -32809535.119999997,
          -77436544.98,
          -172291.88,
          -2467009.66,
          -10768052.67,
          -17880655.380000003,
          -13884977.64,
          -1072150.03,
          -278724.46,
          -334469.34,
          -700501,
          -1494282.24,
          -605123.32,
          -1611539.66,
          -1840207,
          -1900000,
          -1330478.72,
          -635309.92,
          -624598.72,
          -395137.08999999997,
          -394652.2,
          -506769.62,
          -433871.47000000003,
          -1268257.47,
          -282312,
          -440000,
          -2695432.86,
          -1330477.66,
          -347758.2,
          -123681.54,
          -62724.649999999994,
          -323506.72,
          -353915.69,
          -11245820.54,
          -110433.45,
          -107289.07,
          -7646.04,
          -7687734.45
         ],
         "yaxis": "y"
        },
        {
         "hovertemplate": "<b>OLS trendline</b><br>Gastos_Activos = -0.620955 * Ventas + -135802<br>R<sup>2</sup>=0.867479<br><br>Ventas=%{x}<br>Gastos_Activos=%{y} <b>(trend)</b><extra></extra>",
         "legendgroup": "",
         "marker": {
          "color": "#636efa",
          "size": 10,
          "symbol": "circle"
         },
         "mode": "lines",
         "name": "",
         "showlegend": false,
         "type": "scattergl",
         "x": [
          0.02,
          0.02,
          0.02,
          0.02,
          0.02,
          0.02,
          0.02,
          0.02,
          0.12,
          1,
          2,
          2,
          2,
          2,
          2,
          2,
          2,
          745.48,
          1667.94,
          5262.08,
          6847.86,
          8882.259999999997,
          9040,
          10126.16,
          11386,
          12497.44,
          13100,
          14803.4,
          14871.84,
          16490,
          16490,
          17139.32,
          17139.32,
          17182.44,
          17182.44,
          18048.38,
          18048.38,
          18048.38,
          18048.38,
          18048.38,
          18666.92,
          18975.46,
          19900,
          19900,
          19900,
          19922.14,
          19995.9,
          19995.9,
          20221.08,
          20667.7,
          20700,
          21038.7,
          21171.98,
          21171.98,
          22365.12,
          22624,
          23474.600000000002,
          25628.6,
          26167.74,
          26360.28,
          26541.74,
          26541.74,
          26674,
          27605,
          28191.46,
          28883.62,
          29942.64,
          30754.32,
          31769.34,
          32683.52,
          32970.88,
          33096,
          33299.26,
          34157.840000000004,
          34381.96,
          34381.96,
          34457.74,
          34850.02,
          35567.02,
          35567.02,
          37720.86,
          38262.06,
          38584,
          39042.92,
          39167.44,
          39228.4,
          40595.6,
          40950.36,
          41873.58,
          42178.06,
          44302.24,
          45604,
          46020.86,
          46131.48,
          46131.48,
          47630.62,
          48493.22,
          49025.28,
          49815.7,
          50658.64,
          50663.58,
          50785.52,
          50810.04,
          51274.62,
          52010.18,
          52826,
          53926.44,
          54199.92,
          54213.58,
          54600.8,
          55210,
          56000,
          58457.68,
          59147.4,
          59564.94,
          60263.58,
          60635.48,
          62092.96,
          62092.96,
          63013.1,
          65367.04,
          65931.24,
          66134.72,
          67531.9,
          67740.24,
          69707,
          70183.9,
          70183.9,
          70645.6,
          70686,
          72193.52,
          73695.94,
          73695.94,
          73695.94,
          73695.94,
          73695.94,
          73695.94,
          74017.04,
          74420.48,
          75034.28,
          75465.72,
          75712,
          76089.3,
          76524.1,
          77506.6,
          78085.82,
          78191.34,
          78604.44,
          79529.4,
          79529.42,
          79529.42,
          79529.42,
          79529.42,
          79529.42,
          79529.42,
          79529.42,
          79529.42,
          79529.42,
          79842.78,
          79965.88,
          80269.04,
          81261.18,
          82839.79999999999,
          83211.3,
          83498.16,
          83760.68,
          84963.74,
          85205.16,
          86127.04,
          86361.66,
          86498.22,
          86644.24,
          86917.92,
          87096.86,
          87312.56,
          88800,
          89642.6,
          90241.9,
          90889.98,
          91537.38,
          92246.34,
          92365.26,
          92958.7,
          93139.44,
          93139.44,
          93600,
          97419.78,
          98160.12,
          98537.54,
          98621.54,
          98746.34,
          99951.54,
          100862.4,
          100946.36,
          100946.36,
          101317.3,
          101645.34,
          102477.32,
          102810.94,
          103034.26000000001,
          103285.74,
          105336.16,
          105419.76,
          106000,
          106024.28,
          108763.2,
          108860,
          111105.42,
          112315.65999999999,
          112944.94,
          113741.36,
          114166.6,
          114570,
          115476.74,
          116228.96,
          117328.08,
          117666.94,
          118379.31999999999,
          121149.48,
          121349.08,
          121640.28,
          122554.88,
          122877.88,
          123038.64,
          123316.2,
          123524.12,
          124877.58,
          124946.68,
          124976.74,
          125200,
          125612,
          126129.6,
          126480,
          127062.3,
          127607.36,
          129766.23999999999,
          130684.8,
          131157.18,
          131177.92,
          133200,
          133268.72,
          133791.08,
          135480.48,
          136000,
          136150.56,
          136500,
          137174,
          138189,
          138398.74,
          139109.64,
          139932.54,
          141062,
          141066.2,
          142028.78,
          142600,
          143300.64,
          143350.98,
          145492.06,
          145689.52,
          146313.68,
          148783.56,
          149037.88,
          150851.7,
          151417.14,
          152188.28,
          153363.04,
          153363.04,
          153363.04,
          154145.44,
          155089.97999999998,
          156075.18,
          156370,
          158337,
          159134.74,
          159154.18,
          160746,
          161157.08,
          161185.08,
          161333.82,
          161460.18,
          163592,
          165111.16,
          167158.5,
          168479.96,
          169242.66,
          170506.54,
          172360.12,
          173788.16000000003,
          174720,
          175683.84,
          176000,
          176166.02,
          176463.02,
          177157.1,
          178950.76,
          179400.2,
          180180,
          181658,
          181822.32,
          183549.6,
          183677.46,
          183943.52,
          184756,
          186909.12,
          187105.12,
          187338.98,
          188940,
          190944.4,
          190950,
          191310.26,
          191329.22,
          192920,
          193464.38,
          193762.56,
          195962.84,
          195968.98,
          196560,
          196640,
          196824,
          196824,
          197014.82,
          199784.06,
          200665.74000000002,
          202848.48,
          202920,
          203050.76,
          206043.16,
          207741.74,
          208864,
          209170.8,
          210000,
          210000,
          210000,
          210713.08,
          212606.68,
          212625.37999999998,
          212719.62,
          216450,
          216840,
          217411.82,
          219086.36,
          219779.38,
          220849.22,
          222695.2,
          223080,
          223474,
          224103.14,
          225827.32,
          226400,
          229520,
          229886.13999999998,
          232096.1,
          234894.32,
          235560,
          235600,
          237358.28,
          237513.4,
          238000,
          238254.5,
          238378.62,
          238709.32,
          241562.04,
          241566,
          241605.56,
          241939.86,
          242424.76,
          244902,
          244974.62,
          246165.09999999998,
          246296,
          248327.72,
          248327.72,
          249111.5,
          249923.2,
          251160,
          251303.44,
          251466,
          251737.08,
          251808.02,
          252477.12,
          253880.26,
          257169.24,
          258395.9,
          260001.46,
          260471.7,
          260850,
          261918,
          262395.5,
          262396.36,
          262776.46,
          262996.36,
          263657.02,
          264600,
          266933.16,
          267293,
          267733.9,
          268882.64,
          270560,
          272060.64,
          272938.16,
          274425.14,
          275249.12,
          275723.14,
          276700.66000000003,
          277606.36,
          278057.16000000003,
          278461.94,
          278920,
          280452.4,
          280884,
          281257.78,
          281348.44,
          282017.8,
          282205.96,
          282300.04,
          282394.12,
          284439.9,
          285106.5,
          285907.84,
          286427.84,
          286569.02,
          286976.45999999996,
          288136.08,
          290654.92,
          295782.95999999996,
          296879.4,
          298378.14,
          299700,
          300300,
          300336.68,
          300686,
          303266.5,
          303498,
          306096.44,
          307983.56,
          309089.02,
          313600,
          314974.32,
          316350,
          318033.94,
          320756.2,
          321788.82,
          322033.82,
          323317.86,
          324321.24,
          325002.02,
          327460,
          329288,
          330012.98,
          330120.22,
          331151.14,
          331556.01999999996,
          331833.48,
          331898.26,
          332755.08,
          332755.08,
          333198.64,
          333278,
          333314.94,
          333574.94,
          334084.58,
          336065.31999999995,
          336085.24,
          336085.24,
          336085.24,
          336085.24,
          336208,
          336208,
          336208,
          336208,
          336208,
          336208,
          336300,
          337139.32,
          337557.42,
          339084.6,
          339743,
          340373.76,
          341640,
          343204.82,
          344153.48,
          344465.14,
          344946,
          346281.19999999995,
          346618.72000000003,
          348280.92,
          349266.66,
          350405.24,
          352115.04,
          353045.46,
          353960.68,
          354153.38,
          357615.16,
          359725.74,
          360427.06,
          362565.62,
          364334.18,
          366214,
          367003.14,
          368164.14,
          372204,
          372689.94,
          373340.88,
          374471.26,
          375791.64,
          375989.83999999997,
          377787.88,
          379032.92,
          380207.88,
          383437.16,
          383612.08,
          384467.5,
          384467.5,
          385751.36,
          387558.7,
          388360,
          388834,
          388941.6,
          390146.96,
          391538.62,
          392069.58,
          394645.5,
          395490.34,
          397392.56,
          398304.64,
          400026,
          400943.92,
          402128.08,
          405328,
          405577.06,
          407899.16,
          411163.14,
          411624.82,
          412716.96,
          414842.30000000005,
          415512.1,
          415512.1,
          415612,
          415817.64,
          416270.24,
          417331.2,
          419151.68,
          419490,
          420309.04,
          423133.76,
          428776,
          428806.86,
          429322.14,
          434205.62,
          434905.9,
          441710,
          442399.8,
          444454.56,
          444943.16000000003,
          445906.22,
          447110,
          448694.52,
          450235.1,
          450948.6,
          451270.68,
          453032,
          453720,
          455409.24,
          456606.16,
          457132,
          457245.26,
          457749.64,
          459124.92,
          459648.48,
          462683.36,
          463355.66,
          466909,
          467013.12,
          467552.62,
          467800,
          468610.80000000005,
          469822,
          471010,
          471834.72,
          472972,
          473149.2,
          473672.82,
          478860,
          478860,
          478860,
          480383.96,
          482339.19999999995,
          482667.56000000006,
          482800,
          482860.24,
          484395.96,
          484738,
          485833.76,
          488060.78,
          488422.14,
          488460.38,
          488530.26,
          488711.86,
          489833.84,
          490623,
          490714.42,
          493629.26,
          493629.26,
          493629.26,
          494225.82,
          496078.08,
          496866.26,
          497702.64,
          497866.08,
          498538.28,
          500000,
          501698.38,
          502490.9,
          506455.28,
          510000,
          510000,
          510000,
          510000,
          510970.88,
          512544.52,
          512658,
          514568.22,
          516752.74,
          518588.42000000004,
          519711.64,
          522260.8,
          522720,
          528300.5800000001,
          528485.24,
          529837.06,
          530974.56,
          531089.7999999999,
          531946.24,
          531998.28,
          533562,
          533681.1799999999,
          534035.7,
          535575.48,
          536012.3,
          539110,
          539201.68,
          540288.76,
          543270.84,
          546403.46,
          548241.08,
          551525.94,
          551812.76,
          555052.8,
          558266.44,
          560251.24,
          561599.76,
          561946.24,
          562968,
          563137.3,
          565005.26,
          566141.16,
          567656,
          568035.4,
          568483.24,
          570682.56,
          572510,
          574200,
          576000,
          579509.28,
          580000,
          580335.56,
          580335.56,
          580335.56,
          580335.56,
          580335.56,
          580800,
          580992.42,
          581726.12,
          581726.12,
          581726.12,
          581726.12,
          582810.1799999999,
          582810.18,
          583120.38,
          584173.84,
          584713.04,
          585200,
          586500.18,
          587624.78,
          588476.8600000001,
          590865.9,
          592146.6,
          595200,
          600023.16,
          600056.1,
          601404.2,
          602392,
          603897.6,
          604196,
          604672.34,
          607475.34,
          608000,
          609143.04,
          609947.52,
          612180,
          615148,
          615148,
          615148,
          615148,
          615148,
          615148,
          615316.48,
          616006.52,
          616824.72,
          617088.9199999999,
          621158.78,
          621265.7999999999,
          628644.5800000001,
          630000,
          630000,
          630000,
          630735.04,
          631140,
          632720.56,
          633600,
          633600,
          636837.02,
          636837.02,
          637696.78,
          637750.38,
          639262.56,
          640781.8,
          643373.56,
          643620,
          643700,
          645044.46,
          645874.36,
          651035.5399999999,
          652594.16,
          652800,
          652834.94,
          655154,
          655421.46,
          656000,
          658236.34,
          659244,
          664158,
          664959.46,
          667642,
          669155.48,
          670320,
          670670,
          671479.66,
          680960,
          681219.08,
          681466.72,
          684572.4,
          686630.88,
          688560,
          690096.58,
          692760.54,
          694839.1,
          695020.96,
          696032.7000000001,
          696577.6799999999,
          700000,
          700000,
          700000,
          700000,
          700000,
          700000,
          701431.82,
          702372,
          706958.38,
          707463.52,
          708067.96,
          709614,
          710175,
          711360,
          711882.04,
          712812,
          714646.5,
          715931.8,
          716856,
          718291.82,
          718388.68,
          719863.56,
          719980,
          721638.84,
          722439.72,
          724299.44,
          725372.16,
          726040,
          726416,
          726802.68,
          730591.88,
          732884,
          737791.74,
          739739.52,
          741771.88,
          743761.54,
          744787.2,
          745083.36,
          745811.5,
          747230.6000000001,
          747477.28,
          749130,
          751093.46,
          753741.94,
          755697.6,
          756200,
          764523.04,
          766080,
          766080,
          767233.26,
          768000,
          768935.02,
          768935.02,
          768935.02,
          768935.02,
          779282.46,
          779822,
          782350.4199999999,
          788179.22,
          790000.7999999999,
          792063.96,
          792715.22,
          792808,
          792913.2,
          798913,
          799299,
          800100,
          803534.5,
          803997.12,
          806400,
          806758.72,
          808848.62,
          809928.84,
          811880.24,
          813626.42,
          821373.22,
          826391.52,
          827003.2,
          829143.74,
          834026.1799999999,
          836015.2,
          836926,
          841272.3200000001,
          844800,
          848653.3,
          852720,
          854080,
          854400.62,
          856671.2,
          859908.36,
          861114,
          862173.76,
          873716,
          876375,
          879200,
          883200,
          885480,
          885610,
          885999.02,
          886725.92,
          886936,
          891940.9,
          893346.08,
          895023.78,
          895492,
          896689.44,
          899598.3,
          906748.9,
          912935.82,
          914284.8,
          914637.38,
          916880,
          916880,
          919035.5,
          923131,
          924128.28,
          926732.88,
          927440.32,
          927440.32,
          929200,
          935148,
          938105.2,
          941656.3,
          944200.76,
          945167.56,
          945592,
          946500,
          947595.22,
          956800,
          959016.24,
          960000,
          964822.24,
          968847,
          973304.08,
          973683.86,
          974734.72,
          975000,
          976800,
          978095.6,
          979254,
          981593.9,
          983439.76,
          996675,
          1000612.4,
          1003078.6,
          1003890.28,
          1007176,
          1008900,
          1008941.06,
          1010696.84,
          1013736.42,
          1015521.02,
          1016862.72,
          1021569.56,
          1023612.22,
          1025544.4,
          1054200,
          1077693.86,
          1080000,
          1082186.6,
          1082208.22,
          1083040.76,
          1084200,
          1087800,
          1089214.64,
          1089317.28,
          1095580.36,
          1097919.3399999999,
          1100817.76,
          1102683.36,
          1104093.12,
          1106978.78,
          1111274.2,
          1120316.86,
          1122803.24,
          1123748.92,
          1123802.42,
          1125600,
          1127820.46,
          1128455.84,
          1128913.52,
          1131000,
          1137144.96,
          1141672.7,
          1142400,
          1146416,
          1150818.7,
          1164094,
          1176906.54,
          1181922.36,
          1186779.36,
          1187943.76,
          1188716.32,
          1191378.48,
          1196340,
          1196340,
          1196347.44,
          1201200,
          1203791.76,
          1209000,
          1209039.06,
          1214180,
          1226509.1,
          1244480.6,
          1246378.6,
          1247103.02,
          1248288.04,
          1253898.24,
          1263510,
          1264582,
          1268585,
          1274000,
          1280679.16,
          1288956,
          1298823.58,
          1299870,
          1301082.26,
          1304744.08,
          1307182.46,
          1309350,
          1309726.06,
          1312044,
          1313000,
          1319500,
          1323356.3800000001,
          1326000,
          1330088.88,
          1330452,
          1332140.94,
          1338391.12,
          1342250,
          1342379.36,
          1343742,
          1348516,
          1357132.54,
          1360000,
          1361716.94,
          1370988.92,
          1380268,
          1386775,
          1390770,
          1391596.64,
          1399860,
          1404800,
          1407900,
          1410348.84,
          1417521.84,
          1417712.94,
          1419600,
          1429600,
          1431012,
          1431180.76,
          1440186.44,
          1443277.68,
          1445163.76,
          1446900,
          1448625.36,
          1451978,
          1453698.34,
          1457000,
          1463040,
          1466213.28,
          1466213.28,
          1468219.24,
          1469000,
          1470000,
          1472660,
          1472981.48,
          1478350.32,
          1489112.44,
          1496073.88,
          1500887.58,
          1501791.32,
          1504440,
          1507500,
          1516800,
          1522500,
          1522589.56,
          1527620,
          1530000,
          1530121.84,
          1534151.52,
          1537701.02,
          1548300,
          1549313.64,
          1549513.52,
          1549890,
          1552091.44,
          1552200,
          1553041.76,
          1553411.48,
          1553500,
          1556671.9,
          1567217.2,
          1572303.42,
          1582937.5,
          1590089.72,
          1590089.72,
          1593283.06,
          1594184.5,
          1595748,
          1598000,
          1598742.02,
          1598820.2,
          1599395.52,
          1601307.5599999998,
          1603723.36,
          1607523.84,
          1609062.98,
          1609878.8,
          1612309.32,
          1614576,
          1632306.54,
          1634046.96,
          1640674.8,
          1645525.62,
          1645525.62,
          1653630,
          1659835.68,
          1660490.24,
          1662389.26,
          1669740.62,
          1670850.74,
          1675480.3,
          1680000,
          1686060,
          1688526.94,
          1690683.04,
          1692581.68,
          1696700,
          1710800,
          1712285.18,
          1714327.3,
          1720386.44,
          1721642.48,
          1726971.9000000001,
          1729910.48,
          1731578.5,
          1734511.66,
          1743700,
          1745167.24,
          1745675.16,
          1753600,
          1765504,
          1765759.86,
          1772800,
          1774213.02,
          1783545.78,
          1785405.1,
          1785687.28,
          1795143.88,
          1800320,
          1800424.76,
          1804800,
          1807533.36,
          1809100,
          1820933.3,
          1824990.94,
          1827143.72,
          1842862,
          1846400,
          1847709.16,
          1848880.78,
          1851945.02,
          1870600,
          1875200,
          1878848.1400000001,
          1890500,
          1898533.98,
          1914590,
          1921083.62,
          1925364,
          1935188.74,
          1949594,
          1952456,
          1953600,
          1972880,
          1981200,
          1989082.6,
          1990554.34,
          2016000,
          2016000,
          2025450,
          2026277.18,
          2051200,
          2110566.46,
          2117851.34,
          2119000,
          2122421.18,
          2131763.36,
          2139893.32,
          2156000,
          2156000,
          2156800,
          2160687.5,
          2167373.1,
          2168550,
          2206739.38,
          2211000,
          2223018.76,
          2224474.2600000002,
          2232410.34,
          2234299.06,
          2238451.86,
          2249500,
          2261556,
          2272000,
          2274289.92,
          2282500,
          2286884.88,
          2305950.3,
          2306800,
          2320049.34,
          2323512.42,
          2354000,
          2356512.36,
          2367750,
          2374677.52,
          2409608.88,
          2423722.52,
          2434538,
          2441354,
          2461370.08,
          2474266.36,
          2491764.58,
          2502745.12,
          2504233.42,
          2510136.2,
          2513244.72,
          2527339.6,
          2548373.96,
          2554034,
          2557161.76,
          2569371.84,
          2574810,
          2574810,
          2604735.86,
          2653338.24,
          2666586,
          2714717.6,
          2714717.6,
          2759378.34,
          2766314.84,
          2775910,
          2800627.64,
          2808000,
          2820751.0199999996,
          2857527.1799999997,
          2857527.18,
          2902400,
          2923389.2199999997,
          2949016.58,
          2956447.02,
          2968350,
          2970201.84,
          2992111.9,
          2993389.72,
          3015480.3,
          3058652,
          3073600,
          3085846,
          3093524.82,
          3095991.76,
          3135027.7200000007,
          3184054.06,
          3202059.96,
          3239884.66,
          3246970,
          3257100,
          3280200,
          3288196,
          3293257.78,
          3326242.42,
          3357099.2,
          3363252.52,
          3372600,
          3374700.56,
          3381078.48,
          3384150,
          3441113.84,
          3443697.58,
          3555620,
          3600430.04,
          3614140,
          3690000,
          3703780,
          3704357.08,
          3709100,
          3723400,
          3729599.16,
          3730462.02,
          3737118,
          3739558.16,
          3749580,
          3757570,
          3800538.46,
          3802747.5,
          3822721.6,
          3822721.6,
          3830000,
          3853899,
          3855098.02,
          3899710,
          3913740,
          3939320,
          3962400,
          3990480,
          4006508.06,
          4075000,
          4075000,
          4075000,
          4080002.92,
          4080790.3000000003,
          4095000,
          4134554.1599999997,
          4143788.74,
          4209046.4799999995,
          4215388.16,
          4254705.14,
          4280000,
          4288207.1,
          4323020,
          4344704.68,
          4375972.18,
          4396000,
          4406440,
          4407011.44,
          4496000,
          4499196.8,
          4500540,
          4511506.34,
          4534328.2,
          4586400,
          4602351.38,
          4612393.5,
          4617190,
          4655560,
          4658213.78,
          4703400,
          4732300,
          4750200,
          4763184.82,
          4785300,
          4795840,
          4833600,
          4852855.34,
          4861777.32,
          4905600,
          4948056.7,
          5008135.08,
          5013680,
          5083694.78,
          5090420,
          5115736.18,
          5147844.66,
          5182476.72,
          5192473.16,
          5246865.68,
          5255057.92,
          5271652,
          5307850,
          5368170.74,
          5455434.62,
          5474120,
          5476974.96,
          5485046,
          5489258.86,
          5492925.96,
          5724000,
          5753596.5,
          5762854,
          5791217.6,
          5820778.06,
          5834660.66,
          5916425.8,
          5920400,
          5939736.06,
          5946763.96,
          5971834.96,
          5972095.68,
          5974556.04,
          5975477.98,
          5985533.24,
          5991925.62,
          5991987.02,
          6003485.6,
          6005531.84,
          6042780.8,
          6084000,
          6085943.52,
          6114209.8,
          6185070,
          6226280.720000001,
          6248400,
          6282887.22,
          6296740.32,
          6308010,
          6419743.5200000005,
          6434860.96,
          6483527.74,
          6483717.06,
          6527200,
          6558582.1,
          6559543.88,
          6568822,
          6727103.640000001,
          6827967.779999999,
          6856200,
          6883970.54,
          6948551.3,
          6973650,
          7011550,
          7015903.76,
          7019200,
          7071219.44,
          7073837.88,
          7239022,
          7275972.54,
          7408736,
          7460000,
          7515777.239999999,
          7522384,
          7622514,
          7642762.26,
          7659786.46,
          7877755.54,
          7883302.68,
          7900000,
          8016247.14,
          8024682,
          8100000,
          8104409.68,
          8165491.92,
          8229600,
          8302308.3,
          8352629.84,
          8364430.4,
          8398287.46,
          8444646.12,
          8451800,
          8532000,
          8536162.52,
          8603411.44,
          8626343.56,
          8630476,
          8685689.12,
          8902637.08,
          9027758.84,
          9044000,
          9348225.42,
          9367000,
          9380000,
          9402980.36,
          9445137.74,
          9486320.52,
          9572800,
          9574733.08,
          9610315.46,
          9684317.34,
          9869000,
          9883800,
          10013155.28,
          10130400,
          10205183.48,
          10259884.8,
          10295000,
          10371052.64,
          10440787.3,
          10470557.44,
          10529800,
          10529800,
          10555807.64,
          10587559.28,
          10605538,
          10630500,
          10670203.84,
          10788307.24,
          10863000,
          10917400,
          10942500,
          11076000,
          11076000,
          11080000,
          11096616.92,
          11128258.18,
          11128296.36,
          11133000,
          11133000,
          11133000,
          11133000,
          11133000,
          11133000,
          11202408,
          11284698.54,
          11595360,
          11652410,
          11660300,
          11722600,
          11757200,
          11799200,
          11999000,
          12019800,
          12019800,
          12024600,
          12132120,
          12157804,
          12157804,
          12191640,
          12225476,
          12225476,
          12225476,
          12225476,
          12225476,
          12225476,
          12225476,
          12225476,
          12310900,
          12318800,
          12457400,
          12582600,
          12582600,
          12631508,
          12797200,
          12797200,
          12815500,
          12875391.82,
          12922000,
          12963815.82,
          13135000,
          13177080,
          13285380,
          13484800,
          13493574.04,
          13582260,
          13582260,
          13582260,
          13603193.32,
          13646365.66,
          13656480,
          13828800,
          13940111.22,
          13952245.440000001,
          14003010,
          14104000,
          14104000,
          14104584.14,
          14129000,
          14247380,
          14271000,
          14401491.2,
          14469106,
          14472900,
          14592965.84,
          14622003.2,
          14723200,
          14732500,
          14732670,
          14776332.62,
          14790720,
          14817355.520000001,
          14844000,
          14859308.56,
          14918220,
          14935846,
          14992440,
          14997596,
          14997596,
          15050653.54,
          15073596,
          15199828,
          15289320,
          15305000,
          15363600,
          15548000,
          15660420,
          15687429.78,
          15812058,
          15883080,
          15900000,
          15921920,
          16094239.8,
          16154400,
          16350000,
          16432000,
          16453406,
          16940998.259999998,
          17057957.08,
          17222000,
          17521400,
          17630731.2,
          17726073.78,
          17731090,
          17738580,
          17888000,
          17951515.2,
          17951515.2,
          17997115.2,
          18020600,
          18042715.2,
          18088315.2,
          18230269.38,
          18357816,
          18460254,
          18545618,
          18590008,
          18600252,
          18840000,
          19307351.02,
          19311000,
          19372500,
          19539000,
          20173521.3,
          20296000,
          20448400,
          21301140,
          21672240,
          21672240,
          22159102.28,
          22582800,
          22680000,
          22693500,
          22702740.08,
          22887200,
          23156640,
          23409230,
          23491164.599999998,
          23516538,
          23601960,
          23761880,
          24029822,
          24195720,
          24356696,
          24407940,
          26131446.3,
          26280241.36,
          27054876,
          27276075,
          27779780,
          27980940,
          28277820,
          28711730,
          28871580,
          28885210,
          29034008,
          29390020,
          29401114,
          30288351.66,
          30701913.76,
          34173477.14,
          34809180,
          34960662.92,
          37827476.64,
          38221790.2,
          39752055.44,
          40657877.44,
          41625085.18,
          45697906.6,
          46863503.96,
          48084430.99999999,
          48895820,
          50187858.18,
          51312126,
          51860572,
          52233100,
          52920117.78,
          54228377.08,
          54382104,
          55091551.480000004,
          57620337.7,
          58693660,
          59045447.86,
          64172640.36,
          66294275.080000006,
          70308090,
          71520461.54,
          78937381.3,
          83490911.56,
          84420338.12,
          84909806.54,
          90542247.98,
          99419616.6,
          100884009.4,
          101272469.12,
          104428045.26,
          108786744.91000001,
          110489328.83999999,
          110634444.68
         ],
         "xaxis": "x",
         "y": [
          -135801.6233910076,
          -135801.6233910076,
          -135801.6233910076,
          -135801.6233910076,
          -135801.6233910076,
          -135801.6233910076,
          -135801.6233910076,
          -135801.6233910076,
          -135801.68548654421,
          -135802.2319272664,
          -135802.85288263255,
          -135802.85288263255,
          -135802.85288263255,
          -135802.85288263255,
          -135802.85288263255,
          -135802.85288263255,
          -135802.85288263255,
          -136264.5207782423,
          -136837.32726528184,
          -139069.12778490147,
          -140053.82638540186,
          -141317.0979822551,
          -141415.04748170835,
          -142089.50436218324,
          -142871.80877064745,
          -143561.9634027781,
          -143936.12626819292,
          -144993.86163885743,
          -145036.3598241153,
          -146041.16495937094,
          -146041.16495937094,
          -146444.36369770597,
          -146444.36369770597,
          -146471.13929309347,
          -146471.13929309347,
          -147008.84938283937,
          -147008.84938283937,
          -147008.84938283937,
          -147008.84938283937,
          -147008.84938283937,
          -147392.93511500495,
          -147584.52468367043,
          -148158.62275787155,
          -148158.62275787155,
          -148158.62275787155,
          -148172.37070967763,
          -148218.17237748334,
          -148218.17237748334,
          -148357.99910682833,
          -148635.33019244895,
          -148655.3870507749,
          -148865.70463328288,
          -148948.46556448058,
          -148948.46556448058,
          -149689.35225002398,
          -149850.1051752075,
          -150378.289809637,
          -151715.82766827932,
          -152050.60954437422,
          -152170.16829056875,
          -152282.84685130656,
          -152282.84685130656,
          -152364.9744080308,
          -152943.08385389711,
          -153307.24933791725,
          -153737.04980413723,
          -154394.65395597537,
          -154898.67100755515,
          -155528.9531232836,
          -156096.6180998916,
          -156275.0558339025,
          -156352.7497693126,
          -156478.965157032,
          -157012.10501528322,
          -157151.2735319401,
          -157151.2735319401,
          -157198.32952958537,
          -157441.91790061054,
          -157887.1428981252,
          -157887.1428981252,
          -159224.58140390893,
          -159560.64244805806,
          -159760.5528186297,
          -160045.52165525372,
          -160122.84301744413,
          -160160.69645656337,
          -161009.6666331352,
          -161229.95675882322,
          -161803.23517194102,
          -161992.30366182004,
          -163311.32463144438,
          -164119.65948885673,
          -164378.51094278134,
          -164447.2010253826,
          -164447.2010253826,
          -165378.10005296153,
          -165913.73615178457,
          -166244.1216638873,
          -166734.93720438314,
          -167258.36532070808,
          -167261.43284021676,
          -167337.15213756255,
          -167352.37796314005,
          -167640.86140713637,
          -168097.61133624637,
          -168604.1991430419,
          -169287.52326614512,
          -169457.34213967412,
          -169465.82438997546,
          -169706.27072684802,
          -170084.55673589392,
          -170575.111475136,
          -172101.22105936444,
          -172529.50639449107,
          -172788.78009806466,
          -173222.60435505718,
          -173453.53765572063,
          -174358.56768274662,
          -174358.56768274662,
          -174929.93355333674,
          -176391.62522788293,
          -176741.96824545303,
          -176868.32024335302,
          -177735.90666180142,
          -177865.2765027808,
          -179086.54667866905,
          -179382.6802927761,
          -179382.6802927761,
          -179669.37538531795,
          -179694.46198210955,
          -180630.56461565668,
          -181563.5003768365,
          -181563.5003768365,
          -181563.5003768365,
          -181563.5003768365,
          -181563.5003768365,
          -181563.5003768365,
          -181762.8891449006,
          -182013.40737781176,
          -182394.54978154186,
          -182662.45476470466,
          -182815.38365227496,
          -183049.6701119155,
          -183319.6615051085,
          -183929.75015233044,
          -184289.4199194998,
          -184354.94312973376,
          -184611.45979148173,
          -185185.8186669366,
          -185185.83108604394,
          -185185.83108604394,
          -185185.83108604394,
          -185185.83108604394,
          -185185.83108604394,
          -185185.83108604394,
          -185185.83108604394,
          -185185.83108604394,
          -185185.83108604394,
          -185380.41365957417,
          -185456.8532651447,
          -185645.10209394043,
          -186261.17675089184,
          -187241.42931097074,
          -187472.11422948775,
          -187650.24148581555,
          -187813.2546885318,
          -188560.30125130722,
          -188710.21229579812,
          -189282.65862872533,
          -189428.34717672656,
          -189513.14484152518,
          -189603.81674408735,
          -189773.7598086896,
          -189884.87356190477,
          -190018.81363437884,
          -190942.44748417404,
          -191465.66447567454,
          -191837.80302659576,
          -192240.23178027678,
          -192642.2382843088,
          -193082.4708006798,
          -193156.31481281988,
          -193524.8145652956,
          -193637.0460381698,
          -193637.0460381698,
          -193923.03324159427,
          -196294.9461300273,
          -196754.6642257874,
          -196989.02520007186,
          -197041.1854508267,
          -197118.68068051964,
          -197867.05608777856,
          -198432.65949257102,
          -198484.79490511122,
          -198484.79490511122,
          -198715.1320886232,
          -198918.83028692822,
          -199435.4527324404,
          -199642.61586168845,
          -199781.28761405242,
          -199937.44546952657,
          -201210.66477134524,
          -201262.57663995365,
          -201622.87978159645,
          -201637.95657788607,
          -203338.70364928467,
          -203398.812128726,
          -204793.11772693985,
          -205544.62274924404,
          -205935.37754204182,
          -206429.91881473447,
          -206693.97387462726,
          -206944.46726932377,
          -207507.51233800777,
          -207974.6073835175,
          -208657.11184553744,
          -208867.52878090396,
          -209309.8849646271,
          -211030.03068166357,
          -211153.97337274297,
          -211334.79557535978,
          -211902.72135322157,
          -212103.2899364813,
          -212203.11472114024,
          -212375.46709256305,
          -212504.57613228864,
          -213345.01438212988,
          -213387.92239792942,
          -213406.58831623525,
          -213545.22281127726,
          -213801.0564221225,
          -214122.46291963098,
          -214340.04567992265,
          -214701.62798961968,
          -215040.08592148207,
          -216380.6540423111,
          -216951.03880342277,
          -217244.36569927487,
          -217257.2443135684,
          -218512.86574031092,
          -218555.53779307136,
          -218879.90003812258,
          -219928.9420336613,
          -220251.54076547272,
          -220345.03180539713,
          -220562.01844853733,
          -220980.5423653084,
          -221610.81206192955,
          -221741.05124042148,
          -222182.4884102028,
          -222693.4725809905,
          -223394.81682881876,
          -223397.42484135652,
          -223995.14405768516,
          -224349.8461819255,
          -224784.9123496503,
          -224816.17124278122,
          -226145.68635809314,
          -226268.300204689,
          -226655.87570601222,
          -228189.56094570743,
          -228347.48231442142,
          -229473.7835766139,
          -229824.896578838,
          -230303.74009987488,
          -231033.21362578883,
          -231033.21362578883,
          -231033.21362578883,
          -231519.04910424832,
          -232105.566285772,
          -232717.3315124825,
          -232900.4015735247,
          -234121.82077870087,
          -234617.18171247677,
          -234629.25308479433,
          -235617.70225570613,
          -235872.96458761452,
          -235890.35133786613,
          -235982.7122390242,
          -236061.17615908827,
          -237384.94122770987,
          -238328.2717817187,
          -239599.5785410097,
          -240420.1462191348,
          -240893.74887688155,
          -241678.56194502494,
          -242829.5523925747,
          -243716.3014936219,
          -244294.93254199572,
          -244893.43416208567,
          -245089.75541064108,
          -245192.84642052586,
          -245377.27016426623,
          -245808.2628647892,
          -246922.04566680052,
          -247201.12784655363,
          -247685.34884106118,
          -248603.12087220015,
          -248705.15625796252,
          -249777.72004277015,
          -249857.11539588345,
          -250022.32678059576,
          -250526.84059646842,
          -251863.83201438858,
          -251985.5392661499,
          -252130.7558880729,
          -253124.91784835304,
          -254369.56078422244,
          -254373.03813427276,
          -254596.74351447448,
          -254608.51682821626,
          -255596.32020554732,
          -255934.35588776073,
          -256119.51235883313,
          -257485.78803181992,
          -257489.60069776795,
          -257856.5977382576,
          -257906.27416754796,
          -258020.52995491575,
          -258020.52995491575,
          -258139.02065788052,
          -259858.59509598016,
          -260406.07902318897,
          -261761.46313905384,
          -261805.8738668394,
          -261887.06999051446,
          -263745.2168281195,
          -264799.95919391926,
          -265496.83256311144,
          -265687.34166943986,
          -266202.2378590342,
          -266202.2378590342,
          -266202.2378590342,
          -266645.0287115136,
          -267820.8697928159,
          -267832.4816581625,
          -267891.0004918665,
          -270207.39997056755,
          -270449.572563358,
          -270804.647260818,
          -271844.461859616,
          -272274.7963474509,
          -272939.1192363505,
          -274085.39042311773,
          -274324.33404800424,
          -274568.99046225916,
          -274959.6583213057,
          -276030.29714447836,
          -276385.9058635532,
          -278323.28660587635,
          -278550.6432036309,
          -279922.9297245618,
          -281660.4994491719,
          -282073.8570172968,
          -282098.69523194194,
          -283190.5086330996,
          -283286.8312294936,
          -283588.9881106521,
          -283747.0212513319,
          -283824.0942313759,
          -284029.4441709548,
          -285800.85596301896,
          -285803.3149462688,
          -285827.87994055287,
          -286035.4653194499,
          -286336.56657648593,
          -287874.82204767584,
          -287919.9158263642,
          -288659.1507706336,
          -288740.43382805993,
          -290002.041264532,
          -290002.041264532,
          -290488.7336613968,
          -290992.7631320838,
          -291760.7607289124,
          -291849.83056663,
          -291950.77307094797,
          -292119.1016515983,
          -292163.15222527145,
          -292578.63346074853,
          -293449.9207731791,
          -295492.2305532707,
          -296253.93166268675,
          -297250.9127603292,
          -297542.91081169783,
          -297777.8182267045,
          -298440.99855773046,
          -298737.5047450572,
          -298738.038766672,
          -298974.0639013378,
          -299110.61198634957,
          -299520.8523585365,
          -300106.40084968903,
          -301555.189071727,
          -301778.63365067495,
          -302052.41287160135,
          -302765.72913888865,
          -303807.29483181913,
          -304739.1252924473,
          -305284.0260453329,
          -306207.37425565976,
          -306719.0290582429,
          -307013.37432089547,
          -307620.3706103941,
          -308182.7698854973,
          -308462.6965645484,
          -308714.04687765014,
          -308998.4816926593,
          -309950.0336957157,
          -310218.0380317371,
          -310450.1387284888,
          -310506.43454198213,
          -310922.07722585433,
          -311038.9161875452,
          -311097.3356683906,
          -311155.75514923607,
          -312426.0932181559,
          -312840.0220652176,
          -313337.6184383116,
          -313660.51522869885,
          -313748.18170728895,
          -314001.18376166455,
          -314721.2560233354,
          -316285.3432377563,
          -319469.6271934814,
          -320150.46749512025,
          -321081.1181405527,
          -321901.93420082424,
          -322274.5074205018,
          -322297.28406333143,
          -322514.19619182765,
          -324116.57151412405,
          -324260.322681383,
          -325873.83794294775,
          -327045.65523347753,
          -327732.0965525187,
          -330533.21379002027,
          -331386.60516879894,
          -332240.8410468756,
          -333286.4926261152,
          -334976.8945811141,
          -335618.1055112864,
          -335770.23957598815,
          -336567.57110431266,
          -337190.62529957935,
          -337613.3592937328,
          -339139.65516457113,
          -340274.7615738553,
          -340724.9417951916,
          -340791.5330486553,
          -341431.6883547053,
          -341683.1007633436,
          -341855.3910392299,
          -341895.6165278477,
          -342427.66350465454,
          -342427.66350465454,
          -342703.0944668548,
          -342752.3734847108,
          -342775.3115759357,
          -342936.75997112924,
          -343253.22366392333,
          -344483.17479583004,
          -344495.5442267234,
          -344495.5442267234,
          -344495.5442267234,
          -344495.5442267234,
          -344571.7727074694,
          -344571.7727074694,
          -344571.7727074694,
          -344571.7727074694,
          -344571.7727074694,
          -344571.7727074694,
          -344628.90060115326,
          -345150.0808590529,
          -345409.7022976315,
          -346358.0129136767,
          -346766.8499267362,
          -347158.5237334758,
          -347944.8022562833,
          -348916.4856323096,
          -349505.56114994176,
          -349699.0880993495,
          -349997.6806967064,
          -350826.78030156216,
          -351036.3651567381,
          -352068.517166318,
          -352680.61770892626,
          -353387.62506969366,
          -354449.33455470135,
          -355027.0838464553,
          -355595.39461664413,
          -355715.0527156972,
          -357864.66358305595,
          -359175.23955970095,
          -359610.7279770747,
          -360938.67828486394,
          -362036.87510718545,
          -363204.15942354244,
          -363694.1801411697,
          -364415.1093212457,
          -366923.6820666564,
          -367225.42911727325,
          -367629.6338033014,
          -368331.54933006654,
          -369151.4463763962,
          -369274.51972996304,
          -370391.02231647796,
          -371164.1365855235,
          -371893.7343025107,
          -373898.97304724436,
          -374007.59055988776,
          -374538.768199182,
          -374538.768199182,
          -375335.98795554065,
          -376458.2654269606,
          -376955.83696183993,
          -377250.1698053852,
          -377316.98460278066,
          -378065.4593628982,
          -378929.6181077255,
          -379259.3205689255,
          -380858.85191564506,
          -381383.4598471657,
          -382564.653563724,
          -383131.0145340631,
          -384199.9022631033,
          -384769.8896127806,
          -385505.2001191362,
          -387492.20761432033,
          -387646.8627578085,
          -389088.78321349714,
          -391115.56910943554,
          -391402.2517828701,
          -392080.4219764344,
          -393400.1632542835,
          -393816.07915851683,
          -393816.07915851683,
          -393878.1125995931,
          -394005.80586108397,
          -394286.85025979404,
          -394945.6590650425,
          -396076.09588997334,
          -396286.1775094422,
          -396794.76479251665,
          -398548.78983432916,
          -402052.36903931806,
          -402071.5317219168,
          -402391.49760297587,
          -405423.92071436055,
          -405858.7633381535,
          -410083.80574483325,
          -410512.1407563892,
          -411788.0550044968,
          -412091.4537963876,
          -412689.47107129195,
          -413436.96472193097,
          -414420.88091867004,
          -415377.51233662135,
          -415820.56399035454,
          -416020.56129467743,
          -417114.26240014815,
          -417541.479692045,
          -418590.42233472515,
          -419333.6562315525,
          -419660.1794012779,
          -419730.5088060457,
          -420043.70627361396,
          -420897.69376954413,
          -421222.80116103473,
          -423107.32618259295,
          -423524.7944752416,
          -425731.2600159232,
          -425795.91388864454,
          -426130.91930867126,
          -426284.5312471443,
          -426788.00185800187,
          -427540.10299745755,
          -428277.79797241907,
          -428789.9122819731,
          -429496.11240076454,
          -429606.14569164265,
          -429931.29034045525,
          -433152.2975965334,
          -433152.2975965334,
          -433152.2975965334,
          -434098.6087362996,
          -435312.7255063701,
          -435516.62241039233,
          -435598.86173908244,
          -435636.26809033804,
          -436589.88166521,
          -436802.27323864086,
          -437482.6912906306,
          -438865.57131010765,
          -439089.95974121214,
          -439113.70507441286,
          -439157.097435398,
          -439269.8629298871,
          -439966.5624315767,
          -440456.5955683112,
          -440513.36330788274,
          -442323.34884729085,
          -442323.34884729085,
          -442323.34884729085,
          -442693.7859805089,
          -443843.9567669754,
          -444333.3813674511,
          -444852.73601657426,
          -444954.2249616144,
          -445371.63115872646,
          -446279.2940365048,
          -447333.91221123136,
          -447826.03175799607,
          -450287.7347923714,
          -452488.84769779694,
          -452488.84769779694,
          -452488.84769779694,
          -452488.84769779694,
          -453091.7208436644,
          -454068.88104602,
          -454139.34706096834,
          -455325.5084204557,
          -456681.9978368723,
          -457821.87318336836,
          -458519.34266971203,
          -460102.2572508339,
          -460387.39995496045,
          -463852.69105207385,
          -463967.35666998324,
          -464806.7765530241,
          -465513.11328199605,
          -465584.6721783887,
          -466116.4831921564,
          -466148.7977094098,
          -467119.79803453333,
          -467193.80349506857,
          -467413.9445914687,
          -468370.07924512716,
          -468641.3249681598,
          -470564.8584058182,
          -470621.787593785,
          -471296.81575319666,
          -473148.55433142325,
          -475093.7715304669,
          -476234.8515303733,
          -478274.60297435644,
          -478452.70539246965,
          -480464.625616943,
          -482460.1526197504,
          -483692.6248304437,
          -484529.99556077627,
          -484745.1441760327,
          -485379.6115309289,
          -485484.73927441455,
          -486644.65906012926,
          -487350.00226051547,
          -488290.6502873426,
          -488526.24075325206,
          -488804.32940441935,
          -490170.00896025466,
          -491304.7676345338,
          -492354.18220329215,
          -493471.90186232474,
          -495651.0081095747,
          -495955.72332684154,
          -496164.0911094999,
          -496164.0911094999,
          -496164.0911094999,
          -496164.0911094999,
          -496164.0911094999,
          -496452.4876197449,
          -496571.97185129556,
          -497027.5668034245,
          -497027.5668034245,
          -497027.5668034245,
          -497027.5668034245,
          -497700.7196776305,
          -497700.7196776306,
          -497893.3400322038,
          -498547.49167220626,
          -498882.3108056232,
          -499184.69123071345,
          -499992.0449786474,
          -500690.37138339627,
          -501219.4750317677,
          -502702.9622396649,
          -503498.2197770666,
          -505394.2448920055,
          -508389.21197570534,
          -508409.6662454656,
          -509246.77617454436,
          -509860.1558852068,
          -510795.06628445094,
          -510980.3593657039,
          -511276.1452448059,
          -513016.6831360661,
          -513342.4735784594,
          -514052.2504001598,
          -514551.7965731034,
          -515938.0670088795,
          -517781.062535551,
          -517781.062535551,
          -517781.062535551,
          -517781.062535551,
          -517781.062535551,
          -517781.062535551,
          -517885.68109563645,
          -518314.16513648024,
          -518822.2308170472,
          -518986.28722477844,
          -521513.48863117315,
          -521579.94327445625,
          -526161.8363109431,
          -527003.4916333021,
          -527003.4916333021,
          -527003.4916333021,
          -527459.9186656217,
          -527711.3807506893,
          -528692.8379641785,
          -529238.9309513671,
          -529238.9309513671,
          -531248.9758906348,
          -531248.9758906348,
          -531782.8484762181,
          -531816.1316838425,
          -532755.1279693958,
          -533698.508199834,
          -535307.875479553,
          -535460.9037199819,
          -535510.5801492722,
          -536345.4298008182,
          -536860.7606591689,
          -540065.6230757276,
          -541033.4565284839,
          -541161.273981048,
          -541182.9701615404,
          -542623.0029129161,
          -542789.083635141,
          -543148.3311526615,
          -544536.9984761509,
          -545162.7103603845,
          -548214.0850295436,
          -548711.7559172814,
          -550377.4935251377,
          -551317.297052667,
          -552040.4119956316,
          -552257.7463737769,
          -552760.5090955172,
          -558647.3770912465,
          -558808.2542075033,
          -558962.0275943715,
          -560890.5162558516,
          -562168.7404579213,
          -563366.6378738285,
          -564320.7854703153,
          -565974.985727469,
          -567265.6787132905,
          -567378.6056561747,
          -568006.8510383023,
          -568345.2592937353,
          -570470.3672623467,
          -570470.3672623467,
          -570470.3672623467,
          -570470.3672623467,
          -570470.3672623467,
          -570470.3672623467,
          -571359.4635746777,
          -571943.2733908051,
          -574791.2106629128,
          -575104.8800565593,
          -575480.2103180625,
          -576440.2321523129,
          -576788.5881127114,
          -577524.4202215745,
          -577848.5837609086,
          -578426.0474131941,
          -579565.190032358,
          -580363.303964444,
          -580937.1909138206,
          -581828.7710476161,
          -581888.9167843796,
          -582804.7514347762,
          -582877.0554776082,
          -583907.121077158,
          -584404.4318107836,
          -585559.2349242814,
          -586225.3461646356,
          -586640.0449963512,
          -586873.5242140158,
          -587113.6352349907,
          -589466.5593083275,
          -590889.8635221396,
          -593937.3510107065,
          -595146.8354537457,
          -596408.840301652,
          -597644.3303554247,
          -598281.2194362488,
          -598465.1215774815,
          -598917.264017775,
          -599798.4617778489,
          -599951.6390475656,
          -600977.9044002746,
          -602197.1254234547,
          -603841.7132915406,
          -605056.0908628649,
          -605368.0588388082,
          -610536.2951893163,
          -611503.0978561648,
          -611503.0978561648,
          -612219.220841707,
          -612695.3321591329,
          -613275.937845571,
          -613275.937845571,
          -613275.937845571,
          -613275.937845571,
          -619701.236239271,
          -620036.2664975123,
          -621606.3024643408,
          -625225.7271024347,
          -626356.8469782684,
          -627637.9772514515,
          -628042.3806431969,
          -628099.9928820663,
          -628165.3173865831,
          -631890.9253922851,
          -632130.614163611,
          -632627.9994118805,
          -634760.6706168512,
          -635047.93698833,
          -636540.0182184945,
          -636762.7673274323,
          -638060.5019471059,
          -638731.2703527058,
          -639943.0026541704,
          -641027.302495398,
          -645837.7195257277,
          -648953.859839574,
          -649333.6858179278,
          -650662.8656173421,
          -653694.6429351459,
          -654929.7355774842,
          -655495.3017249547,
          -658194.1724518695,
          -660384.7042778562,
          -662777.4315901619,
          -665302.6707775994,
          -666147.1700755352,
          -666346.2607850236,
          -667756.1896202492,
          -669766.321493268,
          -670514.9701208881,
          -671173.0337796971,
          -678340.2496448483,
          -679991.3699633859,
          -681745.5688727009,
          -684229.3903372177,
          -685645.1685719923,
          -685725.8927695892,
          -685967.4568261207,
          -686418.82928176,
          -686549.2795850765,
          -689657.0990970166,
          -690529.6531583939,
          -691571.429976149,
          -691862.173697678,
          -692605.7304912957,
          -694412.0027176144,
          -698852.2061586579,
          -702694.00733247,
          -703531.6637022711,
          -703750.6001452608,
          -705143.1670684495,
          -705143.1670684495,
          -706481.636360141,
          -709024.7590621233,
          -709644.0254296566,
          -711261.3657762767,
          -711700.6544404911,
          -711700.6544404911,
          -712793.3371791614,
          -716486.779696898,
          -718323.0689056151,
          -720528.1435062767,
          -722108.1395971777,
          -722708.4792451515,
          -722972.0375407514,
          -723535.8650131967,
          -724215.9477492888,
          -729931.7052843275,
          -731307.8914049577,
          -731918.7624559411,
          -734913.1582607039,
          -737412.3545800861,
          -740180.0023233533,
          -740415.8287523019,
          -741068.3659083524,
          -741233.0929478791,
          -742350.8126069118,
          -743155.3223792687,
          -743874.6370753928,
          -745327.6105365986,
          -746473.8072087218,
          -754692.3005087298,
          -757137.2501673269,
          -758668.6502912748,
          -759172.6673428545,
          -761212.9528084525,
          -762283.4798596593,
          -762308.9762869927,
          -763399.237299735,
          -765286.680811514,
          -766394.8377579082,
          -767227.9735726437,
          -770150.7111281554,
          -771419.1118163328,
          -772618.9093556603,
          -790412.7579453125,
          -805001.396383401,
          -806433.4063914461,
          -807791.1873950243,
          -807804.61245004,
          -808321.5826305571,
          -809041.4189291887,
          -811276.8582472539,
          -812155.2865463949,
          -812219.0214051745,
          -816108.1145396711,
          -817560.5167219398,
          -819360.3061742361,
          -820518.7605052869,
          -821394.1585422412,
          -823186.0246040655,
          -825853.2887028442,
          -831468.3769539263,
          -833012.3079571625,
          -833599.5330278035,
          -833632.7541398915,
          -834748.971086938,
          -836127.7776392133,
          -836522.3202597445,
          -836806.5191117146,
          -838102.1300640358,
          -841917.8759506851,
          -844729.400400123,
          -845181.0212379087,
          -847674.7779882837,
          -850408.6581787406,
          -858652.0269507158,
          -866608.0424174609,
          -869722.6427619993,
          -872738.6229752888,
          -873461.6634036095,
          -873941.3886812665,
          -875594.4712187609,
          -878675.3536869183,
          -878675.3536869183,
          -878679.9735948422,
          -881693.1967663063,
          -883302.5640460253,
          -886536.6486221141,
          -886560.9031387151,
          -889753.1974186634,
          -897409.0182232071,
          -908568.5175855982,
          -909747.0908705114,
          -910196.9233568427,
          -910932.7678848131,
          -914416.4516798712,
          -920384.9256298173,
          -921050.5897823077,
          -923536.274112923,
          -926898.7474205127,
          -931046.2076637482,
          -936185.7558763411,
          -942313.0826280505,
          -942962.8627422753,
          -943715.6220944191,
          -945989.4488732184,
          -947503.5740188805,
          -948849.5196131802,
          -949083.0360881668,
          -950522.3733695323,
          -951116.0066995518,
          -955152.2165793917,
          -957546.8564342251,
          -959188.4264592315,
          -961727.4384366899,
          -961952.9197492388,
          -963001.676105309,
          -966882.7589155826,
          -969278.9511588312,
          -969359.2779449937,
          -970205.416565096,
          -973169.8574829968,
          -978520.3442334639,
          -980300.9089076247,
          -981367.0520139465,
          -987124.5377495892,
          -992886.4322683314,
          -996926.9888357342,
          -999407.7055234205,
          -999921.0120672775,
          -1005052.189801535,
          -1008119.7093102132,
          -1010044.6709452138,
          -1011565.2912840056,
          -1016019.4041252505,
          -1016138.0686957177,
          -1017309.8487289256,
          -1023519.4023902176,
          -1024396.1913671921,
          -1024500.98379478,
          -1030093.1091164225,
          -1032012.6311824158,
          -1033183.8026793648,
          -1034261.930224253,
          -1035333.3017747577,
          -1037415.141573457,
          -1038483.3959280238,
          -1040533.579422158,
          -1044284.1498335784,
          -1046254.6150778088,
          -1046254.6150778088,
          -1047500.2267040494,
          -1047985.0438157085,
          -1048605.9991818378,
          -1050257.7404557413,
          -1050457.3651868445,
          -1053791.1751947338,
          -1060473.9713596602,
          -1064796.7148836467,
          -1067785.8077295828,
          -1068346.9899321685,
          -1069991.7019913276,
          -1071891.825411683,
          -1077666.7103166846,
          -1081206.155903621,
          -1081261.7686662117,
          -1084385.4473782028,
          -1085863.3211495902,
          -1085938.9783513993,
          -1088441.2297711829,
          -1090645.3108432586,
          -1097226.8043497547,
          -1097856.2295470778,
          -1097980.3461056598,
          -1098214.1233819001,
          -1099581.1193631117,
          -1099648.5302776587,
          -1100171.2256666515,
          -1100400.805284617,
          -1100455.7722536265,
          -1102425.3805794518,
          -1108973.5412018942,
          -1112131.856804208,
          -1118735.1458440553,
          -1123176.355232792,
          -1123176.355232792,
          -1125159.276841667,
          -1125719.0308469106,
          -1126689.8945618535,
          -1128088.2860463765,
          -1128549.0473471517,
          -1128597.5936376755,
          -1128954.841678917,
          -1130142.1331771705,
          -1131642.2371506658,
          -1134002.1656005324,
          -1134957.9028427564,
          -1135464.490649552,
          -1136973.7350860364,
          -1138381.2421953343,
          -1149391.1161527028,
          -1150471.8392910212,
          -1154587.4321048672,
          -1157599.574813994,
          -1157599.574813994,
          -1162632.0330641442,
          -1166485.4833606249,
          -1166891.9359050784,
          -1168071.1425644653,
          -1172636.009004813,
          -1173325.3439758602,
          -1176200.0941006774,
          -1179006.6260689716,
          -1182769.6155877146,
          -1184301.4752186332,
          -1185640.3170835446,
          -1186819.2877798919,
          -1189376.5806833291,
          -1198132.0513457512,
          -1199054.281836419,
          -1200322.3472086987,
          -1204084.8027058267,
          -1204864.7474838998,
          -1208174.0794312563,
          -1209998.8064510562,
          -1211034.5724208672,
          -1212855.9338625823,
          -1218561.4828914022,
          -1219472.5734428018,
          -1219787.9690923658,
          -1224708.9410160813,
          -1232100.7936944836,
          -1232259.6713344613,
          -1236631.2840457624,
          -1237508.7063972102,
          -1243303.9338000063,
          -1244458.4885313576,
          -1244633.709716572,
          -1250505.8362319092,
          -1253719.9757216382,
          -1253785.0270057935,
          -1256501.8557618968,
          -1258199.1503214599,
          -1259171.9638362527,
          -1266519.9149702694,
          -1269039.5283020898,
          -1270376.3085951852,
          -1280136.6589075066,
          -1282333.598992872,
          -1283146.5289199934,
          -1283874.0526460581,
          -1285776.8089171657,
          -1297360.718853199,
          -1300217.113537393,
          -1302482.4456467838,
          -1309717.73063917,
          -1314706.473631545,
          -1324676.5454092226,
          -1328708.7935938267,
          -1331366.7185238986,
          -1337467.4435477229,
          -1346412.4670452094,
          -1348189.6413030713,
          -1348900.014241923,
          -1360872.033700894,
          -1366038.3823470892,
          -1370933.1251161397,
          -1371847.0099666864,
          -1387647.629088386,
          -1387647.629088386,
          -1393515.657298307,
          -1394029.2991580614,
          -1409505.2579761338,
          -1446369.179881229,
          -1450892.7652088362,
          -1451606.0317996945,
          -1453730.4318791884,
          -1459531.5086815334,
          -1464579.8509699488,
          -1474581.3803464752,
          -1474581.3803464752,
          -1475078.1446393784,
          -1477492.1086252057,
          -1481643.5678209993,
          -1482374.3701913967,
          -1506088.2706315443,
          -1508733.9254835816,
          -1516197.0389998006,
          -1517100.839535202,
          -1522028.7909972323,
          -1523201.6018163483,
          -1525780.3052608091,
          -1532640.7070795563,
          -1540126.9449736099,
          -1546612.2028174633,
          -1548034.1409294698,
          -1553132.2341618203,
          -1555855.0489276526,
          -1567693.8237841595,
          -1568221.44955876,
          -1576448.69832943,
          -1578599.116438765,
          -1597530.5428400584,
          -1599090.606263707,
          -1606068.6791243353,
          -1610370.3598423027,
          -1632061.1752804937,
          -1640825.1157741095,
          -1647541.0461173728,
          -1651773.4778929092,
          -1664202.570177781,
          -1672210.5844468856,
          -1683076.1980535951,
          -1689894.6232895916,
          -1690818.7911610017,
          -1694484.154077082,
          -1696414.406251802,
          -1705166.697622749,
          -1718228.0963378428,
          -1721742.7285483489,
          -1723684.927904313,
          -1731266.84260118,
          -1734643.6972350492,
          -1734643.6972350492,
          -1753226.3205880807,
          -1783406.2292557317,
          -1791632.4969169237,
          -1821520.072217308,
          -1821520.072217308,
          -1849252.3983756094,
          -1853559.6552727646,
          -1859517.821363633,
          -1874866.3725596834,
          -1879444.2790627195,
          -1887362.09335534,
          -1910198.4472529665,
          -1910198.447252967,
          -1938062.4656253168,
          -1951095.834415183,
          -1967009.2811269085,
          -1971623.2527176095,
          -1979014.4720215383,
          -1980164.382006751,
          -1993769.551335964,
          -1994563.0205219113,
          -2008280.2847138173,
          -2035087.9834937379,
          -2044370.0243066372,
          -2051974.2437202558,
          -2056742.4482047958,
          -2058274.3078357144,
          -2082513.8966697203,
          -2112957.065574395,
          -2124137.925801381,
          -2147625.3762386087,
          -2152025.056132458,
          -2158315.3339913473,
          -2172659.402948932,
          -2177624.562056501,
          -2180767.7015096666,
          -2201249.6907175067,
          -2220410.3738399753,
          -2224231.3109134855,
          -2230035.678779271,
          -2231340.0327831474,
          -2235300.43643189,
          -2237207.713258063,
          -2272579.7153813886,
          -2274184.1025990713,
          -2343682.9298882387,
          -2371507.9646827034,
          -2380021.23791412,
          -2427126.9119886816,
          -2435683.6769339424,
          -2436042.017856628,
          -2438987.1594817494,
          -2447866.821217397,
          -2451716.222884891,
          -2452252.020432109,
          -2456385.086929958,
          -2457900.3173761717,
          -2464123.43270266,
          -2469084.866078032,
          -2495766.3618893404,
          -2497138.0771313347,
          -2509541.1017099363,
          -2509541.1017099363,
          -2514060.663246771,
          -2528900.875541893,
          -2529645.4134449894,
          -2557347.461819638,
          -2566059.465606431,
          -2581943.503872016,
          -2596275.1537222783,
          -2613711.5804031864,
          -2623664.290268827,
          -2666194.727948427,
          -2666194.727948427,
          -2666194.727948427,
          -2669301.3179687425,
          -2669790.2458049254,
          -2678613.8352710116,
          -2703175.2031757445,
          -2708909.465180694,
          -2749431.609015159,
          -2753369.5092414333,
          -2777783.598952428,
          -2793490.5780049153,
          -2798586.820790274,
          -2820204.0778557938,
          -2833669.2962645884,
          -2853085.0181750334,
          -2865521.4004759034,
          -2872004.174498292,
          -2872359.0132327136,
          -2927616.9370888243,
          -2929602.007203266,
          -2930436.0744510507,
          -2937245.682120848,
          -2951417.038552898,
          -2983751.302186905,
          -2993656.397195071,
          -2999892.105496384,
          -3002870.517910023,
          -3026696.5753084007,
          -3028344.454239927,
          -3056403.080024022,
          -3074348.6901051565,
          -3085463.7911588694,
          -3093526.7848160914,
          -3107259.3245100044,
          -3113804.1940690065,
          -3137251.468694045,
          -3149208.1753936876,
          -3154748.326751185,
          -3181960.2550553484,
          -3208323.9707484865,
          -3245629.963197836,
          -3249073.111026593,
          -3292549.1643759497,
          -3296725.225823349,
          -3312445.4436442414,
          -3332383.376598494,
          -3353888.3400956024,
          -3360095.6831557914,
          -3393871.0103270817,
          -3398958.0257157004,
          -3409262.2087376774,
          -3431739.5510808225,
          -3469196.0382727077,
          -3523383.012827963,
          -3534985.799807126,
          -3536758.6025392106,
          -3541770.358137454,
          -3544386.356161205,
          -3546663.4615843375,
          -3690150.1266954932,
          -3708528.232189136,
          -3714276.7264910773,
          -3731889.2561138193,
          -3750244.9823760674,
          -3758865.457341893,
          -3809637.959787199,
          -3812105.7606032696,
          -3824112.5908200657,
          -3828476.6030376856,
          -3844044.575021911,
          -3844206.470504968,
          -3845734.2442495776,
          -3846306.727839827,
          -3852550.5954946517,
          -3856519.9781579883,
          -3856558.104817468,
          -3863698.2097713347,
          -3864968.833479723,
          -3888098.775074455,
          -3913694.058502008,
          -3914900.8976751873,
          -3932452.9959216984,
          -3976454.0173566877,
          -4002044.035082736,
          -4015779.12069365,
          -4037194.145015529,
          -4045796.3017980536,
          -4052794.2700686124,
          -4122175.7988891182,
          -4131563.054379254,
          -4161782.952572484,
          -4161900.511842399,
          -4188901.4767704736,
          -4208388.360165877,
          -4208985.582617913,
          -4214746.881019504,
          -4313032.714737236,
          -4375664.843720243,
          -4393195.792226984,
          -4410440.05806029,
          -4450541.827530992,
          -4466126.99997886,
          -4489661.208355157,
          -4492364.698989995,
          -4494411.516906045,
          -4526713.267317082,
          -4528339.201685969,
          -4630911.1673993,
          -4653855.803493672,
          -4736295.986406553,
          -4768128.6422958,
          -4802763.818781677,
          -4806866.321856405,
          -4869042.582666922,
          -4881615.848368702,
          -4892187.116712759,
          -5027536.186589006,
          -5030980.712938676,
          -5041349.003392653,
          -5113533.288772826,
          -5118770.960352374,
          -5165540.0766184945,
          -5168278.291077407,
          -5206207.635780599,
          -5246015.89206884,
          -5291164.501115972,
          -5322411.9314108575,
          -5329739.552466188,
          -5350763.275554547,
          -5379549.934248105,
          -5383992.17442275,
          -5433792.794786313,
          -5436377.5339169325,
          -5478136.111657326,
          -5492375.934628046,
          -5494941.995421252,
          -5529226.8785659885,
          -5663941.878498774,
          -5741636.906790305,
          -5751721.942244467,
          -5940632.34930638,
          -5952290.525504203,
          -5960362.945263882,
          -5974632.723121462,
          -6000810.574454411,
          -6026383.24268753,
          -6080083.139853594,
          -6081283.496252751,
          -6103378.5660534,
          -6149330.430543049,
          -6264010.119301065,
          -6273200.258719778,
          -6353524.113972924,
          -6426327.85200724,
          -6472765.055211057,
          -6506732.133399408,
          -6528537.105272109,
          -6575762.400188401,
          -6619064.511520597,
          -6637550.439704015,
          -6674337.425239246,
          -6674337.425239246,
          -6690487.008857603,
          -6710203.3600990055,
          -6721367.342759141,
          -6736867.630608458,
          -6761521.943112394,
          -6834858.8831004985,
          -6881239.753233499,
          -6915019.725150928,
          -6930605.704840771,
          -7013503.24621902,
          -7013503.24621902,
          -7015987.0676835375,
          -7026305.433326077,
          -7045953.243514166,
          -7045976.951590045,
          -7048897.702088386,
          -7048897.702088386,
          -7048897.702088386,
          -7048897.702088386,
          -7048897.702088386,
          -7048897.702088386,
          -7091996.972140682,
          -7143095.724535352,
          -7336002.625171887,
          -7371428.128809558,
          -7376327.466648318,
          -7415012.985958167,
          -7436498.041626238,
          -7462578.167003664,
          -7586645.04915628,
          -7599560.920771768,
          -7599560.920771768,
          -7602541.506529189,
          -7669306.627495401,
          -7685255.245119063,
          -7685255.245119063,
          -7706265.890887411,
          -7727276.536655759,
          -7727276.536655759,
          -7727276.536655759,
          -7727276.536655759,
          -7727276.536655759,
          -7727276.536655759,
          -7727276.536655759,
          -7727276.536655759,
          -7780321.027851981,
          -7785226.575244402,
          -7871290.98898991,
          -7949034.600829287,
          -7949034.600829287,
          -7979404.285875934,
          -8082291.622400615,
          -8082291.622400615,
          -8093655.10560078,
          -8130845.252617025,
          -8159786.85209354,
          -8185752.609911634,
          -8292050.3450790625,
          -8318180.14688578,
          -8385429.613037572,
          -8509260.532151058,
          -8514708.819371691,
          -8569778.842134012,
          -8569778.842134012,
          -8569778.842134012,
          -8582777.49951891,
          -8609585.595710266,
          -8615866.14940812,
          -8722869.178099506,
          -8791988.477468897,
          -8799523.286491688,
          -8831045.812432876,
          -8893756.094858265,
          -8893756.094858265,
          -8894118.819725836,
          -8909279.979011495,
          -8982788.67525387,
          -8997455.641001843,
          -9078484.851874482,
          -9120470.624764236,
          -9122826.52942333,
          -9197382.057060141,
          -9215412.961570365,
          -9278251.65756547,
          -9284026.542470472,
          -9284132.104882715,
          -9311244.643070975,
          -9320178.563886516,
          -9336718.032960158,
          -9353263.06579388,
          -9362768.99827359,
          -9399350.37306799,
          -9410295.332351383,
          -9445437.680342099,
          -9448639.326209862,
          -9448639.326209862,
          -9481585.690386476,
          -9495831.934035681,
          -9574216.371812904,
          -9629786.90943854,
          -9639523.489579445,
          -9675911.474034617,
          -9790415.643548843,
          -9860223.445809089,
          -9876995.313638058,
          -9954383.87561819,
          -9998485.367631419,
          -10008991.932426324,
          -10022603.274051877,
          -10129606.17855219,
          -10166962.977569595,
          -10288421.847184468,
          -10339340.187207064,
          -10352632.357774425,
          -10655405.388104493,
          -10728031.594999634,
          -10829894.926449139,
          -11015808.963068224,
          -11083698.758393569,
          -11142902.245065173,
          -11146017.093791857,
          -11150668.049484165,
          -11243451.200291192,
          -11282891.304561961,
          -11282891.304561961,
          -11311206.869257454,
          -11325789.881839925,
          -11339522.433952946,
          -11367837.998648437,
          -11455985.20846391,
          -11535185.966584552,
          -11598795.392380096,
          -11651802.62625435,
          -11679366.834956827,
          -11685727.901727453,
          -11834600.708846198,
          -12124804.832581159,
          -12127070.686293056,
          -12165259.441310003,
          -12268648.509770516,
          -12662657.915928798,
          -12738711.721930327,
          -12833345.31972842,
          -13362858.798641441,
          -13593295.33501199,
          -13593295.33501199,
          -13895615.080343893,
          -14158712.453194603,
          -14219069.314782362,
          -14227452.212225106,
          -14233189.889484568,
          -14347731.266644334,
          -14515041.480494188,
          -14671888.596424766,
          -14722766.325966414,
          -14738522.074853359,
          -14791565.324138848,
          -14890868.50629023,
          -15057248.529001623,
          -15160263.782331727,
          -15260222.693349743,
          -15292042.930131668,
          -16362263.415674167,
          -16454658.506634682,
          -16935672.043132253,
          -17073026.749164667,
          -17385805.071860783,
          -17510716.453311335,
          -17695065.682407774,
          -17964504.4253249,
          -18063764.14060065,
          -18072227.762240995,
          -18164624.678810287,
          -18385692.24061668,
          -18392581.119448517,
          -18943516.10545744,
          -19200319.710680105,
          -21356005.62034876,
          -21750748.722529445,
          -21844812.85458037,
          -23624976.217707206,
          -23869827.338726718,
          -24820053.75110572,
          -25382528.78276361,
          -25983121.619078316,
          -28512161.935113303,
          -29235945.870551344,
          -29994087.06769159,
          -30497923.421259806,
          -31300221.462374624,
          -31998341.598170012,
          -32338902.08490211,
          -32570225.345535494,
          -32996832.72265267,
          -33809203.35527611,
          -33904660.91116863,
          -34345196.13086147,
          -35915459.50396407,
          -36581944.74573521,
          -36800389.30514132,
          -39984147.00119376,
          -41301587.46554381,
          -43793987.37876728,
          -44546815.99227262,
          -49152392.11739438,
          -51979931.16717312,
          -52557063.577028126,
          -52861001.61897791,
          -56358496.35555445,
          -61870946.03725049,
          -62780268.604531474,
          -63021484.75219052,
          -64980956.68955282,
          -67687514.62656583,
          -68744743.25418468,
          -68834853.71374303
         ],
         "yaxis": "y"
        }
       ],
       "layout": {
        "legend": {
         "tracegroupgap": 0
        },
        "margin": {
         "t": 60
        },
        "template": {
         "data": {
          "bar": [
           {
            "error_x": {
             "color": "#2a3f5f"
            },
            "error_y": {
             "color": "#2a3f5f"
            },
            "marker": {
             "line": {
              "color": "#E5ECF6",
              "width": 0.5
             },
             "pattern": {
              "fillmode": "overlay",
              "size": 10,
              "solidity": 0.2
             }
            },
            "type": "bar"
           }
          ],
          "barpolar": [
           {
            "marker": {
             "line": {
              "color": "#E5ECF6",
              "width": 0.5
             },
             "pattern": {
              "fillmode": "overlay",
              "size": 10,
              "solidity": 0.2
             }
            },
            "type": "barpolar"
           }
          ],
          "carpet": [
           {
            "aaxis": {
             "endlinecolor": "#2a3f5f",
             "gridcolor": "white",
             "linecolor": "white",
             "minorgridcolor": "white",
             "startlinecolor": "#2a3f5f"
            },
            "baxis": {
             "endlinecolor": "#2a3f5f",
             "gridcolor": "white",
             "linecolor": "white",
             "minorgridcolor": "white",
             "startlinecolor": "#2a3f5f"
            },
            "type": "carpet"
           }
          ],
          "choropleth": [
           {
            "colorbar": {
             "outlinewidth": 0,
             "ticks": ""
            },
            "type": "choropleth"
           }
          ],
          "contour": [
           {
            "colorbar": {
             "outlinewidth": 0,
             "ticks": ""
            },
            "colorscale": [
             [
              0,
              "#0d0887"
             ],
             [
              0.1111111111111111,
              "#46039f"
             ],
             [
              0.2222222222222222,
              "#7201a8"
             ],
             [
              0.3333333333333333,
              "#9c179e"
             ],
             [
              0.4444444444444444,
              "#bd3786"
             ],
             [
              0.5555555555555556,
              "#d8576b"
             ],
             [
              0.6666666666666666,
              "#ed7953"
             ],
             [
              0.7777777777777778,
              "#fb9f3a"
             ],
             [
              0.8888888888888888,
              "#fdca26"
             ],
             [
              1,
              "#f0f921"
             ]
            ],
            "type": "contour"
           }
          ],
          "contourcarpet": [
           {
            "colorbar": {
             "outlinewidth": 0,
             "ticks": ""
            },
            "type": "contourcarpet"
           }
          ],
          "heatmap": [
           {
            "colorbar": {
             "outlinewidth": 0,
             "ticks": ""
            },
            "colorscale": [
             [
              0,
              "#0d0887"
             ],
             [
              0.1111111111111111,
              "#46039f"
             ],
             [
              0.2222222222222222,
              "#7201a8"
             ],
             [
              0.3333333333333333,
              "#9c179e"
             ],
             [
              0.4444444444444444,
              "#bd3786"
             ],
             [
              0.5555555555555556,
              "#d8576b"
             ],
             [
              0.6666666666666666,
              "#ed7953"
             ],
             [
              0.7777777777777778,
              "#fb9f3a"
             ],
             [
              0.8888888888888888,
              "#fdca26"
             ],
             [
              1,
              "#f0f921"
             ]
            ],
            "type": "heatmap"
           }
          ],
          "heatmapgl": [
           {
            "colorbar": {
             "outlinewidth": 0,
             "ticks": ""
            },
            "colorscale": [
             [
              0,
              "#0d0887"
             ],
             [
              0.1111111111111111,
              "#46039f"
             ],
             [
              0.2222222222222222,
              "#7201a8"
             ],
             [
              0.3333333333333333,
              "#9c179e"
             ],
             [
              0.4444444444444444,
              "#bd3786"
             ],
             [
              0.5555555555555556,
              "#d8576b"
             ],
             [
              0.6666666666666666,
              "#ed7953"
             ],
             [
              0.7777777777777778,
              "#fb9f3a"
             ],
             [
              0.8888888888888888,
              "#fdca26"
             ],
             [
              1,
              "#f0f921"
             ]
            ],
            "type": "heatmapgl"
           }
          ],
          "histogram": [
           {
            "marker": {
             "pattern": {
              "fillmode": "overlay",
              "size": 10,
              "solidity": 0.2
             }
            },
            "type": "histogram"
           }
          ],
          "histogram2d": [
           {
            "colorbar": {
             "outlinewidth": 0,
             "ticks": ""
            },
            "colorscale": [
             [
              0,
              "#0d0887"
             ],
             [
              0.1111111111111111,
              "#46039f"
             ],
             [
              0.2222222222222222,
              "#7201a8"
             ],
             [
              0.3333333333333333,
              "#9c179e"
             ],
             [
              0.4444444444444444,
              "#bd3786"
             ],
             [
              0.5555555555555556,
              "#d8576b"
             ],
             [
              0.6666666666666666,
              "#ed7953"
             ],
             [
              0.7777777777777778,
              "#fb9f3a"
             ],
             [
              0.8888888888888888,
              "#fdca26"
             ],
             [
              1,
              "#f0f921"
             ]
            ],
            "type": "histogram2d"
           }
          ],
          "histogram2dcontour": [
           {
            "colorbar": {
             "outlinewidth": 0,
             "ticks": ""
            },
            "colorscale": [
             [
              0,
              "#0d0887"
             ],
             [
              0.1111111111111111,
              "#46039f"
             ],
             [
              0.2222222222222222,
              "#7201a8"
             ],
             [
              0.3333333333333333,
              "#9c179e"
             ],
             [
              0.4444444444444444,
              "#bd3786"
             ],
             [
              0.5555555555555556,
              "#d8576b"
             ],
             [
              0.6666666666666666,
              "#ed7953"
             ],
             [
              0.7777777777777778,
              "#fb9f3a"
             ],
             [
              0.8888888888888888,
              "#fdca26"
             ],
             [
              1,
              "#f0f921"
             ]
            ],
            "type": "histogram2dcontour"
           }
          ],
          "mesh3d": [
           {
            "colorbar": {
             "outlinewidth": 0,
             "ticks": ""
            },
            "type": "mesh3d"
           }
          ],
          "parcoords": [
           {
            "line": {
             "colorbar": {
              "outlinewidth": 0,
              "ticks": ""
             }
            },
            "type": "parcoords"
           }
          ],
          "pie": [
           {
            "automargin": true,
            "type": "pie"
           }
          ],
          "scatter": [
           {
            "fillpattern": {
             "fillmode": "overlay",
             "size": 10,
             "solidity": 0.2
            },
            "type": "scatter"
           }
          ],
          "scatter3d": [
           {
            "line": {
             "colorbar": {
              "outlinewidth": 0,
              "ticks": ""
             }
            },
            "marker": {
             "colorbar": {
              "outlinewidth": 0,
              "ticks": ""
             }
            },
            "type": "scatter3d"
           }
          ],
          "scattercarpet": [
           {
            "marker": {
             "colorbar": {
              "outlinewidth": 0,
              "ticks": ""
             }
            },
            "type": "scattercarpet"
           }
          ],
          "scattergeo": [
           {
            "marker": {
             "colorbar": {
              "outlinewidth": 0,
              "ticks": ""
             }
            },
            "type": "scattergeo"
           }
          ],
          "scattergl": [
           {
            "marker": {
             "colorbar": {
              "outlinewidth": 0,
              "ticks": ""
             }
            },
            "type": "scattergl"
           }
          ],
          "scattermapbox": [
           {
            "marker": {
             "colorbar": {
              "outlinewidth": 0,
              "ticks": ""
             }
            },
            "type": "scattermapbox"
           }
          ],
          "scatterpolar": [
           {
            "marker": {
             "colorbar": {
              "outlinewidth": 0,
              "ticks": ""
             }
            },
            "type": "scatterpolar"
           }
          ],
          "scatterpolargl": [
           {
            "marker": {
             "colorbar": {
              "outlinewidth": 0,
              "ticks": ""
             }
            },
            "type": "scatterpolargl"
           }
          ],
          "scatterternary": [
           {
            "marker": {
             "colorbar": {
              "outlinewidth": 0,
              "ticks": ""
             }
            },
            "type": "scatterternary"
           }
          ],
          "surface": [
           {
            "colorbar": {
             "outlinewidth": 0,
             "ticks": ""
            },
            "colorscale": [
             [
              0,
              "#0d0887"
             ],
             [
              0.1111111111111111,
              "#46039f"
             ],
             [
              0.2222222222222222,
              "#7201a8"
             ],
             [
              0.3333333333333333,
              "#9c179e"
             ],
             [
              0.4444444444444444,
              "#bd3786"
             ],
             [
              0.5555555555555556,
              "#d8576b"
             ],
             [
              0.6666666666666666,
              "#ed7953"
             ],
             [
              0.7777777777777778,
              "#fb9f3a"
             ],
             [
              0.8888888888888888,
              "#fdca26"
             ],
             [
              1,
              "#f0f921"
             ]
            ],
            "type": "surface"
           }
          ],
          "table": [
           {
            "cells": {
             "fill": {
              "color": "#EBF0F8"
             },
             "line": {
              "color": "white"
             }
            },
            "header": {
             "fill": {
              "color": "#C8D4E3"
             },
             "line": {
              "color": "white"
             }
            },
            "type": "table"
           }
          ]
         },
         "layout": {
          "annotationdefaults": {
           "arrowcolor": "#2a3f5f",
           "arrowhead": 0,
           "arrowwidth": 1
          },
          "autotypenumbers": "strict",
          "coloraxis": {
           "colorbar": {
            "outlinewidth": 0,
            "ticks": ""
           }
          },
          "colorscale": {
           "diverging": [
            [
             0,
             "#8e0152"
            ],
            [
             0.1,
             "#c51b7d"
            ],
            [
             0.2,
             "#de77ae"
            ],
            [
             0.3,
             "#f1b6da"
            ],
            [
             0.4,
             "#fde0ef"
            ],
            [
             0.5,
             "#f7f7f7"
            ],
            [
             0.6,
             "#e6f5d0"
            ],
            [
             0.7,
             "#b8e186"
            ],
            [
             0.8,
             "#7fbc41"
            ],
            [
             0.9,
             "#4d9221"
            ],
            [
             1,
             "#276419"
            ]
           ],
           "sequential": [
            [
             0,
             "#0d0887"
            ],
            [
             0.1111111111111111,
             "#46039f"
            ],
            [
             0.2222222222222222,
             "#7201a8"
            ],
            [
             0.3333333333333333,
             "#9c179e"
            ],
            [
             0.4444444444444444,
             "#bd3786"
            ],
            [
             0.5555555555555556,
             "#d8576b"
            ],
            [
             0.6666666666666666,
             "#ed7953"
            ],
            [
             0.7777777777777778,
             "#fb9f3a"
            ],
            [
             0.8888888888888888,
             "#fdca26"
            ],
            [
             1,
             "#f0f921"
            ]
           ],
           "sequentialminus": [
            [
             0,
             "#0d0887"
            ],
            [
             0.1111111111111111,
             "#46039f"
            ],
            [
             0.2222222222222222,
             "#7201a8"
            ],
            [
             0.3333333333333333,
             "#9c179e"
            ],
            [
             0.4444444444444444,
             "#bd3786"
            ],
            [
             0.5555555555555556,
             "#d8576b"
            ],
            [
             0.6666666666666666,
             "#ed7953"
            ],
            [
             0.7777777777777778,
             "#fb9f3a"
            ],
            [
             0.8888888888888888,
             "#fdca26"
            ],
            [
             1,
             "#f0f921"
            ]
           ]
          },
          "colorway": [
           "#636efa",
           "#EF553B",
           "#00cc96",
           "#ab63fa",
           "#FFA15A",
           "#19d3f3",
           "#FF6692",
           "#B6E880",
           "#FF97FF",
           "#FECB52"
          ],
          "font": {
           "color": "#2a3f5f"
          },
          "geo": {
           "bgcolor": "white",
           "lakecolor": "white",
           "landcolor": "#E5ECF6",
           "showlakes": true,
           "showland": true,
           "subunitcolor": "white"
          },
          "hoverlabel": {
           "align": "left"
          },
          "hovermode": "closest",
          "mapbox": {
           "style": "light"
          },
          "paper_bgcolor": "white",
          "plot_bgcolor": "#E5ECF6",
          "polar": {
           "angularaxis": {
            "gridcolor": "white",
            "linecolor": "white",
            "ticks": ""
           },
           "bgcolor": "#E5ECF6",
           "radialaxis": {
            "gridcolor": "white",
            "linecolor": "white",
            "ticks": ""
           }
          },
          "scene": {
           "xaxis": {
            "backgroundcolor": "#E5ECF6",
            "gridcolor": "white",
            "gridwidth": 2,
            "linecolor": "white",
            "showbackground": true,
            "ticks": "",
            "zerolinecolor": "white"
           },
           "yaxis": {
            "backgroundcolor": "#E5ECF6",
            "gridcolor": "white",
            "gridwidth": 2,
            "linecolor": "white",
            "showbackground": true,
            "ticks": "",
            "zerolinecolor": "white"
           },
           "zaxis": {
            "backgroundcolor": "#E5ECF6",
            "gridcolor": "white",
            "gridwidth": 2,
            "linecolor": "white",
            "showbackground": true,
            "ticks": "",
            "zerolinecolor": "white"
           }
          },
          "shapedefaults": {
           "line": {
            "color": "#2a3f5f"
           }
          },
          "ternary": {
           "aaxis": {
            "gridcolor": "white",
            "linecolor": "white",
            "ticks": ""
           },
           "baxis": {
            "gridcolor": "white",
            "linecolor": "white",
            "ticks": ""
           },
           "bgcolor": "#E5ECF6",
           "caxis": {
            "gridcolor": "white",
            "linecolor": "white",
            "ticks": ""
           }
          },
          "title": {
           "x": 0.05
          },
          "xaxis": {
           "automargin": true,
           "gridcolor": "white",
           "linecolor": "white",
           "ticks": "",
           "title": {
            "standoff": 15
           },
           "zerolinecolor": "white",
           "zerolinewidth": 2
          },
          "yaxis": {
           "automargin": true,
           "gridcolor": "white",
           "linecolor": "white",
           "ticks": "",
           "title": {
            "standoff": 15
           },
           "zerolinecolor": "white",
           "zerolinewidth": 2
          }
         }
        },
        "title": {
         "text": "Gráfico de dispersión: Ventas vs. Gastos_Activos"
        },
        "xaxis": {
         "anchor": "y",
         "domain": [
          0,
          1
         ],
         "title": {
          "text": "Ventas"
         }
        },
        "yaxis": {
         "anchor": "x",
         "domain": [
          0,
          1
         ],
         "title": {
          "text": "Gastos"
         }
        }
       }
      }
     },
     "metadata": {},
     "output_type": "display_data"
    }
   ],
   "source": [
    "# trendline='ols' traza una línea de regresión lineal para mostrar la tendencia en los datos.\n",
    "fig = px.scatter(df_resultado, x='Ventas', y='Gastos_Activos', hover_data=['Obra'], trendline='ols') \n",
    "fig.update_traces(marker=dict(size=10))  \n",
    "fig.update_layout(title='Gráfico de dispersión: Ventas vs. Gastos_Activos')  \n",
    "fig.update_xaxes(title='Ventas')  \n",
    "fig.update_yaxes(title='Gastos')  \n",
    "fig.show()"
   ]
  },
  {
   "cell_type": "code",
   "execution_count": 48,
   "metadata": {},
   "outputs": [
    {
     "data": {
      "application/vnd.plotly.v1+json": {
       "config": {
        "plotlyServerURL": "https://plot.ly"
       },
       "data": [
        {
         "hovertemplate": "Obra: %{text}<br>Cluster: %{marker.color}<extra></extra>",
         "marker": {
          "color": [
           0,
           0,
           0,
           0,
           0,
           1,
           0,
           0,
           0,
           0,
           0,
           0,
           0,
           0,
           0,
           0,
           0,
           0,
           0,
           0,
           0,
           0,
           0,
           0,
           0,
           0,
           0,
           0,
           0,
           0,
           0,
           0,
           0,
           0,
           0,
           0,
           0,
           0,
           0,
           0,
           0,
           0,
           0,
           0,
           0,
           0,
           0,
           0,
           0,
           0,
           0,
           0,
           0,
           0,
           0,
           0,
           0,
           2,
           0,
           0,
           0,
           0,
           0,
           0,
           0,
           0,
           0,
           0,
           0,
           0,
           0,
           0,
           0,
           0,
           0,
           0,
           0,
           0,
           0,
           0,
           0,
           0,
           0,
           0,
           0,
           0,
           0,
           0,
           2,
           0,
           0,
           0,
           0,
           0,
           0,
           0,
           0,
           0,
           0,
           0,
           0,
           0,
           0,
           0,
           0,
           0,
           0,
           0,
           0,
           0,
           0,
           0,
           0,
           0,
           0,
           0,
           0,
           0,
           0,
           0,
           0,
           0,
           0,
           0,
           0,
           0,
           0,
           0,
           0,
           0,
           0,
           0,
           0,
           0,
           0,
           0,
           0,
           0,
           0,
           3,
           0,
           0,
           0,
           0,
           0,
           0,
           0,
           0,
           0,
           0,
           0,
           0,
           0,
           0,
           0,
           0,
           0,
           0,
           0,
           0,
           0,
           0,
           0,
           0,
           0,
           0,
           0,
           0,
           0,
           0,
           0,
           0,
           0,
           0,
           0,
           0,
           0,
           0,
           0,
           0,
           0,
           0,
           0,
           0,
           0,
           0,
           0,
           0,
           0,
           0,
           0,
           0,
           0,
           0,
           0,
           0,
           0,
           0,
           0,
           0,
           0,
           0,
           0,
           0,
           0,
           0,
           0,
           0,
           0,
           0,
           0,
           0,
           0,
           0,
           0,
           0,
           0,
           0,
           0,
           0,
           0,
           0,
           0,
           0,
           0,
           0,
           0,
           0,
           0,
           0,
           0,
           0,
           0,
           0,
           0,
           0,
           0,
           3,
           0,
           0,
           0,
           0,
           0,
           0,
           0,
           0,
           0,
           0,
           0,
           0,
           0,
           0,
           0,
           0,
           0,
           0,
           0,
           0,
           0,
           0,
           0,
           0,
           0,
           0,
           0,
           0,
           0,
           0,
           0,
           0,
           0,
           0,
           0,
           0,
           0,
           0,
           0,
           0,
           0,
           0,
           0,
           0,
           0,
           0,
           0,
           0,
           0,
           0,
           0,
           0,
           0,
           0,
           0,
           0,
           0,
           0,
           0,
           0,
           0,
           0,
           0,
           0,
           0,
           0,
           0,
           3,
           0,
           0,
           0,
           0,
           0,
           0,
           0,
           0,
           0,
           0,
           0,
           0,
           0,
           0,
           0,
           0,
           0,
           0,
           0,
           0,
           0,
           0,
           0,
           0,
           0,
           0,
           0,
           0,
           0,
           0,
           0,
           0,
           0,
           0,
           0,
           0,
           0,
           0,
           0,
           0,
           0,
           0,
           0,
           0,
           0,
           0,
           0,
           0,
           0,
           0,
           0,
           0,
           0,
           0,
           0,
           0,
           0,
           0,
           0,
           0,
           0,
           0,
           0,
           0,
           0,
           0,
           0,
           0,
           0,
           0,
           0,
           0,
           0,
           1,
           0,
           0,
           0,
           0,
           0,
           0,
           0,
           0,
           0,
           0,
           0,
           0,
           0,
           0,
           0,
           0,
           0,
           0,
           0,
           0,
           0,
           0,
           0,
           0,
           0,
           0,
           0,
           0,
           0,
           0,
           0,
           0,
           0,
           0,
           0,
           0,
           0,
           0,
           0,
           0,
           0,
           0,
           0,
           0,
           0,
           0,
           0,
           0,
           0,
           0,
           0,
           0,
           0,
           0,
           0,
           0,
           0,
           0,
           0,
           0,
           0,
           0,
           0,
           0,
           0,
           0,
           0,
           0,
           0,
           0,
           0,
           0,
           0,
           0,
           0,
           0,
           0,
           0,
           0,
           0,
           0,
           1,
           0,
           0,
           0,
           0,
           0,
           0,
           0,
           0,
           0,
           0,
           0,
           0,
           0,
           0,
           0,
           0,
           0,
           0,
           0,
           0,
           0,
           0,
           0,
           0,
           0,
           0,
           0,
           0,
           0,
           0,
           0,
           0,
           0,
           0,
           0,
           0,
           0,
           0,
           0,
           0,
           0,
           0,
           0,
           0,
           0,
           0,
           0,
           0,
           0,
           0,
           0,
           1,
           0,
           0,
           0,
           0,
           0,
           0,
           0,
           0,
           0,
           0,
           0,
           0,
           0,
           0,
           0,
           0,
           0,
           0,
           0,
           0,
           0,
           0,
           0,
           0,
           0,
           0,
           0,
           0,
           0,
           0,
           0,
           0,
           0,
           0,
           0,
           0,
           0,
           0,
           0,
           0,
           0,
           0,
           0,
           0,
           0,
           0,
           0,
           0,
           0,
           0,
           0,
           0,
           0,
           0,
           0,
           0,
           1,
           0,
           0,
           0,
           0,
           0,
           0,
           0,
           0,
           0,
           0,
           0,
           0,
           0,
           0,
           0,
           0,
           0,
           0,
           0,
           0,
           0,
           0,
           0,
           0,
           0,
           0,
           0,
           0,
           0,
           0,
           0,
           0,
           0,
           0,
           0,
           0,
           0,
           0,
           0,
           0,
           0,
           0,
           0,
           0,
           0,
           0,
           0,
           0,
           0,
           0,
           0,
           0,
           0,
           0,
           0,
           0,
           0,
           0,
           0,
           0,
           0,
           0,
           0,
           0,
           0,
           0,
           1,
           0,
           0,
           0,
           0,
           0,
           0,
           0,
           0,
           0,
           0,
           0,
           0,
           0,
           0,
           0,
           0,
           0,
           0,
           0,
           0,
           0,
           0,
           0,
           0,
           0,
           0,
           0,
           0,
           0,
           0,
           0,
           0,
           0,
           0,
           0,
           0,
           0,
           0,
           0,
           0,
           0,
           0,
           0,
           0,
           0,
           0,
           0,
           0,
           0,
           0,
           0,
           0,
           0,
           0,
           0,
           0,
           1,
           0,
           0,
           0,
           0,
           0,
           0,
           0,
           0,
           0,
           0,
           0,
           0,
           0,
           2,
           0,
           0,
           0,
           0,
           0,
           0,
           0,
           0,
           0,
           0,
           0,
           0,
           0,
           0,
           0,
           0,
           0,
           0,
           0,
           0,
           0,
           0,
           0,
           0,
           0,
           0,
           0,
           0,
           0,
           0,
           0,
           0,
           0,
           0,
           0,
           0,
           0,
           0,
           0,
           0,
           0,
           0,
           0,
           0,
           0,
           1,
           0,
           0,
           0,
           0,
           0,
           0,
           0,
           0,
           0,
           0,
           0,
           0,
           0,
           0,
           0,
           0,
           0,
           0,
           0,
           0,
           0,
           0,
           0,
           0,
           0,
           0,
           0,
           0,
           0,
           1,
           0,
           0,
           0,
           0,
           0,
           0,
           0,
           0,
           0,
           0,
           0,
           0,
           0,
           0,
           0,
           0,
           0,
           0,
           0,
           0,
           0,
           0,
           0,
           0,
           0,
           0,
           0,
           0,
           0,
           0,
           0,
           0,
           0,
           0,
           0,
           0,
           0,
           0,
           0,
           0,
           0,
           0,
           0,
           0,
           0,
           0,
           0,
           0,
           0,
           0,
           1,
           2,
           0,
           0,
           0,
           0,
           0,
           0,
           0,
           0,
           0,
           0,
           0,
           0,
           0,
           0,
           0,
           0,
           0,
           0,
           0,
           0,
           0,
           0,
           0,
           0,
           1,
           0,
           0,
           0,
           0,
           0,
           0,
           0,
           0,
           0,
           0,
           0,
           0,
           0,
           0,
           0,
           0,
           0,
           0,
           0,
           0,
           0,
           0,
           0,
           0,
           0,
           0,
           0,
           0,
           0,
           0,
           0,
           0,
           0,
           0,
           0,
           0,
           0,
           0,
           0,
           0,
           0,
           0,
           0,
           0,
           0,
           0,
           0,
           0,
           0,
           0,
           0,
           0,
           0,
           0,
           0,
           0,
           0,
           0,
           0,
           0,
           0,
           0,
           0,
           0,
           0,
           0,
           0,
           0,
           0,
           0,
           0,
           0,
           0,
           0,
           0,
           0,
           0,
           0,
           0,
           0,
           1,
           0,
           2,
           0,
           0,
           0,
           0,
           0,
           0,
           0,
           0,
           0,
           0,
           0,
           0,
           0,
           0,
           0,
           0,
           0,
           0,
           0,
           0,
           0,
           0,
           0,
           0,
           0,
           0,
           1,
           0,
           0,
           0,
           0,
           0,
           0,
           0,
           0,
           0,
           0,
           0,
           0,
           0,
           0,
           0,
           0,
           0,
           0,
           0,
           0,
           0,
           0,
           0,
           0,
           0,
           0,
           0,
           2,
           0,
           0,
           0,
           0,
           0,
           1,
           0,
           0,
           0,
           2,
           0,
           0,
           0,
           0,
           0,
           0,
           0,
           0,
           0,
           0,
           0,
           0,
           0,
           0,
           0,
           0,
           0,
           0,
           0,
           0,
           0,
           0,
           0,
           0,
           0,
           0,
           0,
           0,
           0,
           0,
           0,
           0,
           0,
           0,
           0,
           0,
           0,
           0,
           0,
           0,
           0,
           0,
           0,
           0,
           0,
           0,
           0,
           0,
           0,
           0,
           0,
           0,
           0,
           0,
           0,
           4,
           0,
           0,
           2,
           0,
           0,
           0,
           0,
           0,
           0,
           0,
           0,
           0,
           0,
           0,
           0,
           0,
           0,
           0,
           0,
           0,
           0,
           0,
           0,
           0,
           0,
           0,
           0,
           0,
           0,
           0,
           0,
           0,
           0,
           5,
           0,
           0,
           0,
           0,
           1,
           0,
           0,
           0,
           0,
           0,
           0,
           0,
           0,
           0,
           0,
           0,
           0,
           0,
           0,
           0,
           0,
           0,
           0,
           0,
           0,
           0,
           0,
           0,
           0,
           0,
           4,
           0,
           0,
           0,
           0,
           0,
           2,
           0,
           0,
           0,
           0,
           0,
           0,
           0,
           0,
           0,
           0,
           0,
           0,
           0,
           0,
           0,
           0,
           0,
           0,
           0,
           0,
           0,
           0,
           0,
           0,
           0,
           0,
           0,
           0,
           0,
           0,
           0,
           0,
           0,
           0,
           0,
           0,
           0,
           0,
           0,
           0,
           0,
           0,
           0,
           0,
           0,
           0,
           0,
           0,
           0,
           0,
           0,
           0,
           0,
           0,
           0,
           0,
           0,
           0,
           0,
           0,
           0,
           0,
           4,
           0,
           0,
           2,
           0,
           0,
           0,
           0,
           0,
           0,
           0,
           0,
           0,
           0,
           0,
           0,
           0,
           0,
           0,
           0,
           0,
           0,
           0,
           0,
           0,
           0,
           0,
           0,
           0,
           0,
           0,
           0,
           0,
           0,
           0,
           0,
           0,
           0,
           0,
           0,
           0,
           0,
           0,
           0,
           0,
           0,
           0,
           0,
           0,
           0,
           0,
           0,
           0,
           0,
           0,
           0,
           0,
           0,
           0,
           0,
           0,
           0,
           0,
           0,
           0,
           4,
           0,
           0,
           0,
           0,
           0,
           0,
           0,
           0,
           0,
           0,
           0,
           0,
           0,
           0,
           0,
           0,
           0,
           0,
           0,
           0,
           0,
           0,
           0,
           0,
           0,
           0,
           0,
           0,
           0,
           0,
           0,
           0,
           0,
           0,
           0,
           0,
           0,
           4,
           0,
           0,
           0,
           0,
           0,
           0,
           0,
           0,
           0,
           0,
           0,
           0,
           0,
           0,
           0,
           0,
           0,
           0,
           0,
           0,
           0,
           0,
           0,
           0,
           0,
           0,
           0,
           0,
           0,
           0,
           0,
           0,
           0,
           0,
           0,
           0,
           0,
           0,
           0,
           0,
           0,
           0,
           0,
           0,
           0,
           0,
           0,
           0,
           0,
           0,
           0,
           0,
           0,
           0,
           0,
           0,
           0,
           0,
           0,
           0,
           0,
           0,
           0,
           0,
           6,
           0,
           0,
           0,
           0,
           0,
           0,
           5,
           0,
           0,
           0,
           0,
           2,
           0,
           0,
           0,
           0,
           0,
           0,
           0,
           0,
           0,
           0,
           0,
           0,
           0,
           0,
           0,
           0,
           0,
           0,
           0,
           0,
           0,
           0,
           0,
           0,
           0,
           0,
           0,
           0,
           0,
           0,
           0,
           0,
           0,
           0,
           0,
           0,
           0,
           0,
           0,
           0,
           0,
           7,
           3,
           0,
           0,
           0,
           0,
           0,
           0,
           0,
           0,
           0,
           0,
           1,
           2,
           0,
           0,
           0,
           0,
           0,
           0,
           0,
           0,
           0,
           0,
           0,
           0,
           0,
           0,
           0,
           0,
           0,
           0,
           0,
           0,
           0,
           0,
           0,
           0,
           0,
           0,
           0,
           0,
           0,
           0,
           0,
           0,
           0,
           0,
           0,
           0,
           0,
           0,
           7,
           0,
           0,
           1,
           2,
           0,
           2,
           3,
           0,
           0,
           0,
           0,
           0,
           0,
           0,
           0,
           0,
           0,
           0,
           0,
           0,
           0,
           2,
           0,
           0,
           0,
           0,
           0,
           0,
           0,
           0,
           0,
           0,
           0,
           0,
           0,
           0,
           0,
           0,
           3,
           0,
           0,
           4,
           0,
           0,
           0,
           0,
           0,
           0,
           0,
           0,
           0,
           0,
           0,
           0,
           0,
           0,
           0,
           1,
           2,
           0,
           2,
           2,
           0,
           0,
           0,
           0,
           0,
           0,
           0,
           0,
           0,
           0,
           0,
           0,
           0,
           0,
           0,
           0,
           2,
           0,
           0,
           0,
           0,
           2,
           0,
           0,
           0,
           0,
           0,
           0,
           0,
           0,
           0,
           0,
           0,
           0,
           7,
           2,
           0,
           0,
           0,
           2,
           0,
           1,
           2,
           2,
           2,
           0,
           0,
           0,
           0,
           0,
           0,
           0,
           0,
           0,
           0,
           0,
           0,
           0,
           0,
           0,
           0,
           0,
           0,
           0,
           0,
           0,
           2,
           0,
           0,
           0,
           0,
           0,
           0,
           3,
           7,
           0,
           0,
           0,
           1,
           2,
           0,
           0,
           0,
           0,
           0,
           0,
           0,
           0,
           0,
           0,
           0,
           0,
           0,
           0,
           0,
           0,
           0,
           0,
           0,
           0,
           0,
           0,
           0,
           0,
           0,
           0,
           2,
           0,
           0,
           0,
           0
          ],
          "colorscale": [
           [
            0,
            "#440154"
           ],
           [
            0.1111111111111111,
            "#482878"
           ],
           [
            0.2222222222222222,
            "#3e4989"
           ],
           [
            0.3333333333333333,
            "#31688e"
           ],
           [
            0.4444444444444444,
            "#26828e"
           ],
           [
            0.5555555555555556,
            "#1f9e89"
           ],
           [
            0.6666666666666666,
            "#35b779"
           ],
           [
            0.7777777777777778,
            "#6ece58"
           ],
           [
            0.8888888888888888,
            "#b5de2b"
           ],
           [
            1,
            "#fde725"
           ]
          ],
          "size": 10
         },
         "mode": "markers",
         "text": [
          "230858",
          "231273",
          "240052",
          "241289",
          "241537",
          "241872",
          "242584",
          "242863",
          "242864",
          "242865",
          "243127",
          "243128",
          "243215",
          "243216",
          "243249",
          "243331",
          "243332",
          "243460",
          "243472",
          "243476",
          "243510",
          "243529",
          "243530",
          "243531",
          "243532",
          "243534",
          "243535",
          "243536",
          "243537",
          "243547",
          "243552",
          "243553",
          "243555",
          "243556",
          "243560",
          "243563",
          "243566",
          "243580",
          "243595",
          "243608",
          "243625",
          "243626",
          "243627",
          "243628",
          "243629",
          "243630",
          "243633",
          "243645",
          "243648",
          "243656",
          "243657",
          "243659",
          "243667",
          "243668",
          "243669",
          "243673",
          "243676",
          "243679",
          "243684",
          "243685",
          "243688",
          "243689",
          "243693",
          "243696",
          "243697",
          "243703",
          "243708",
          "243711",
          "243712",
          "243713",
          "243723",
          "243734",
          "243735",
          "243736",
          "243737",
          "243738",
          "243739",
          "243740",
          "243751",
          "243752",
          "243753",
          "243754",
          "243755",
          "243756",
          "243757",
          "243758",
          "243759",
          "243760",
          "243762",
          "243763",
          "243764",
          "243765",
          "243766",
          "243768",
          "243774",
          "243775",
          "243777",
          "243778",
          "243779",
          "243780",
          "243781",
          "243782",
          "243785",
          "243787",
          "243788",
          "243789",
          "243790",
          "243791",
          "243792",
          "243793",
          "243795",
          "243796",
          "243800",
          "243801",
          "243802",
          "243803",
          "243804",
          "243805",
          "243806",
          "243811",
          "243813",
          "243816",
          "243817",
          "243818",
          "243819",
          "243820",
          "243821",
          "243822",
          "243823",
          "243824",
          "243825",
          "243826",
          "243827",
          "243831",
          "243832",
          "243836",
          "243837",
          "243838",
          "243839",
          "243841",
          "243842",
          "243843",
          "243844",
          "243845",
          "243846",
          "243847",
          "243848",
          "243849",
          "243850",
          "243851",
          "243852",
          "243853",
          "243854",
          "243855",
          "243858",
          "243859",
          "243861",
          "243862",
          "243863",
          "243864",
          "243865",
          "243866",
          "243867",
          "243868",
          "243869",
          "243870",
          "243871",
          "243872",
          "243873",
          "243874",
          "243875",
          "243878",
          "243879",
          "243881",
          "243882",
          "243883",
          "243884",
          "243885",
          "243886",
          "243887",
          "243889",
          "243890",
          "243891",
          "243893",
          "243894",
          "243896",
          "243897",
          "243898",
          "243899",
          "243900",
          "243901",
          "243904",
          "243905",
          "243906",
          "243907",
          "243908",
          "243909",
          "243910",
          "243911",
          "243912",
          "243913",
          "243914",
          "243915",
          "243916",
          "243917",
          "243918",
          "243919",
          "243920",
          "243921",
          "243922",
          "243923",
          "243924",
          "243926",
          "243927",
          "243928",
          "243929",
          "243930",
          "243931",
          "243933",
          "243934",
          "243935",
          "243936",
          "243937",
          "243938",
          "243939",
          "243940",
          "243941",
          "243942",
          "243943",
          "243944",
          "243945",
          "243946",
          "243947",
          "243948",
          "243949",
          "243950",
          "243951",
          "243952",
          "243954",
          "243955",
          "243956",
          "243957",
          "243958",
          "243959",
          "243962",
          "243963",
          "243964",
          "243966",
          "243974",
          "243975",
          "243976",
          "243977",
          "243978",
          "243981",
          "243982",
          "243983",
          "243984",
          "243985",
          "243986",
          "243990",
          "243991",
          "243992",
          "243993",
          "243994",
          "243995",
          "243996",
          "243997",
          "243998",
          "243999",
          "244000",
          "244002",
          "244003",
          "244005",
          "244006",
          "244007",
          "244008",
          "244009",
          "244010",
          "244012",
          "244013",
          "244014",
          "244015",
          "244016",
          "244018",
          "244019",
          "244020",
          "244021",
          "244022",
          "244023",
          "244024",
          "244025",
          "244027",
          "244028",
          "244037",
          "244038",
          "244039",
          "244042",
          "244043",
          "244044",
          "244045",
          "244046",
          "244047",
          "244048",
          "244049",
          "244050",
          "244052",
          "244054",
          "244055",
          "244056",
          "244057",
          "244058",
          "244059",
          "244060",
          "244064",
          "244065",
          "244067",
          "244068",
          "244069",
          "244070",
          "244071",
          "244076",
          "244077",
          "244078",
          "244080",
          "244081",
          "244082",
          "244083",
          "244084",
          "244088",
          "244089",
          "244090",
          "244091",
          "244092",
          "244095",
          "244096",
          "244097",
          "244098",
          "244099",
          "244100",
          "244101",
          "244102",
          "244103",
          "244104",
          "244105",
          "244106",
          "244107",
          "244108",
          "244109",
          "244110",
          "244111",
          "244112",
          "244113",
          "244114",
          "244115",
          "244116",
          "244117",
          "244118",
          "244119",
          "244120",
          "244121",
          "244122",
          "244123",
          "244124",
          "244126",
          "244127",
          "244128",
          "244129",
          "244130",
          "244131",
          "244132",
          "244133",
          "244134",
          "244135",
          "244136",
          "244137",
          "244139",
          "244143",
          "244144",
          "244145",
          "244146",
          "244147",
          "244148",
          "244149",
          "244150",
          "244151",
          "244152",
          "244153",
          "244154",
          "244159",
          "244160",
          "244162",
          "244163",
          "244164",
          "244165",
          "244166",
          "244167",
          "244168",
          "244170",
          "244171",
          "244172",
          "244173",
          "244174",
          "244175",
          "244176",
          "244178",
          "244181",
          "244182",
          "244183",
          "244184",
          "244186",
          "244187",
          "244188",
          "244189",
          "244190",
          "244191",
          "244192",
          "244193",
          "244194",
          "244195",
          "244196",
          "244197",
          "244198",
          "244200",
          "244201",
          "244202",
          "244204",
          "244205",
          "244206",
          "244207",
          "244208",
          "244209",
          "244211",
          "244213",
          "244214",
          "244215",
          "244216",
          "244217",
          "244218",
          "244219",
          "244220",
          "244221",
          "244222",
          "244224",
          "244225",
          "244226",
          "244227",
          "244229",
          "244230",
          "244231",
          "244232",
          "244233",
          "244234",
          "244235",
          "244236",
          "244237",
          "244238",
          "244239",
          "244240",
          "244241",
          "244242",
          "244243",
          "244244",
          "244245",
          "244246",
          "244247",
          "244248",
          "244249",
          "244254",
          "244255",
          "244256",
          "244257",
          "244258",
          "244259",
          "244260",
          "244261",
          "244262",
          "244263",
          "244265",
          "244266",
          "244267",
          "244268",
          "244269",
          "244270",
          "244271",
          "244274",
          "244275",
          "244276",
          "244277",
          "244278",
          "244280",
          "244281",
          "244282",
          "244283",
          "244284",
          "244285",
          "244286",
          "244287",
          "244288",
          "244291",
          "244292",
          "244293",
          "244294",
          "244295",
          "244296",
          "244297",
          "244298",
          "244299",
          "244300",
          "244301",
          "244302",
          "244303",
          "244304",
          "244305",
          "244306",
          "244307",
          "244308",
          "244309",
          "244310",
          "244311",
          "244312",
          "244313",
          "244314",
          "244315",
          "244316",
          "244317",
          "244318",
          "244319",
          "244320",
          "244321",
          "244324",
          "244325",
          "244326",
          "244327",
          "244328",
          "244329",
          "244331",
          "244333",
          "244335",
          "244336",
          "244337",
          "244339",
          "244341",
          "244342",
          "244343",
          "244344",
          "244345",
          "244346",
          "244347",
          "244348",
          "244349",
          "244350",
          "244351",
          "244352",
          "244353",
          "244354",
          "244355",
          "244356",
          "244357",
          "244358",
          "244359",
          "244361",
          "244362",
          "244363",
          "244364",
          "244365",
          "244366",
          "244367",
          "244368",
          "244370",
          "244371",
          "244372",
          "244373",
          "244374",
          "244375",
          "244376",
          "244377",
          "244378",
          "244379",
          "244380",
          "244381",
          "244382",
          "244383",
          "244385",
          "244386",
          "244387",
          "244388",
          "244389",
          "244390",
          "244391",
          "244392",
          "244394",
          "244395",
          "244396",
          "244397",
          "244400",
          "244401",
          "244402",
          "244403",
          "244404",
          "244405",
          "244409",
          "244410",
          "244411",
          "244412",
          "244413",
          "244414",
          "244415",
          "244426",
          "244427",
          "244428",
          "244429",
          "244430",
          "244431",
          "244432",
          "244433",
          "244434",
          "244435",
          "244436",
          "244437",
          "244438",
          "244439",
          "244440",
          "244441",
          "244442",
          "244443",
          "244444",
          "244445",
          "244447",
          "244449",
          "244450",
          "244451",
          "244452",
          "244455",
          "244456",
          "244457",
          "244458",
          "244459",
          "244460",
          "244461",
          "244462",
          "244463",
          "244464",
          "244465",
          "244466",
          "244467",
          "244468",
          "244469",
          "244470",
          "244471",
          "244472",
          "244473",
          "244475",
          "244477",
          "244478",
          "244479",
          "244480",
          "244481",
          "244482",
          "244483",
          "244484",
          "244485",
          "244486",
          "244487",
          "244488",
          "244489",
          "244490",
          "244491",
          "244492",
          "244493",
          "244494",
          "244495",
          "244496",
          "244499",
          "244500",
          "244501",
          "244502",
          "244503",
          "244504",
          "244505",
          "244506",
          "244507",
          "244508",
          "244509",
          "244510",
          "244511",
          "244512",
          "244513",
          "244514",
          "244515",
          "244517",
          "244518",
          "244519",
          "244520",
          "244521",
          "244522",
          "244523",
          "244524",
          "244525",
          "244526",
          "244527",
          "244528",
          "244529",
          "244530",
          "244532",
          "244533",
          "244534",
          "244535",
          "244536",
          "244537",
          "244538",
          "244539",
          "244540",
          "244541",
          "244542",
          "244543",
          "244544",
          "244545",
          "244546",
          "244547",
          "244548",
          "244549",
          "244550",
          "244551",
          "244552",
          "244553",
          "244555",
          "244556",
          "244557",
          "244558",
          "244560",
          "244561",
          "244562",
          "244563",
          "244564",
          "244565",
          "244566",
          "244567",
          "244569",
          "244570",
          "244571",
          "244572",
          "244573",
          "244574",
          "244575",
          "244576",
          "244577",
          "244578",
          "244579",
          "244581",
          "244582",
          "244583",
          "244584",
          "244585",
          "244587",
          "244588",
          "244589",
          "244590",
          "244591",
          "244592",
          "244593",
          "244594",
          "244595",
          "244596",
          "244597",
          "244598",
          "244599",
          "244600",
          "244601",
          "244602",
          "244603",
          "244604",
          "244605",
          "244606",
          "244607",
          "244608",
          "244611",
          "244613",
          "244614",
          "244615",
          "244617",
          "244619",
          "244620",
          "244621",
          "244622",
          "244624",
          "244625",
          "244626",
          "244627",
          "244628",
          "244629",
          "244630",
          "244631",
          "244632",
          "244633",
          "244636",
          "244637",
          "244638",
          "244639",
          "244640",
          "244641",
          "244642",
          "244643",
          "244644",
          "244645",
          "244646",
          "244647",
          "244648",
          "244649",
          "244651",
          "244652",
          "244653",
          "244654",
          "244656",
          "244657",
          "244658",
          "244659",
          "244660",
          "244661",
          "244662",
          "244663",
          "244664",
          "244665",
          "244666",
          "244667",
          "244668",
          "244669",
          "244674",
          "244675",
          "244676",
          "244677",
          "244678",
          "244682",
          "244683",
          "244688",
          "244690",
          "244694",
          "244695",
          "244696",
          "244697",
          "244698",
          "244699",
          "244700",
          "244701",
          "244702",
          "244703",
          "244704",
          "244705",
          "244706",
          "244707",
          "244708",
          "244709",
          "244710",
          "244713",
          "244715",
          "244716",
          "244717",
          "244724",
          "244727",
          "244731",
          "244732",
          "244734",
          "244735",
          "244736",
          "244737",
          "244738",
          "244739",
          "244740",
          "244741",
          "244742",
          "244743",
          "244744",
          "244746",
          "244747",
          "244748",
          "244749",
          "244750",
          "244751",
          "244752",
          "244753",
          "244754",
          "244758",
          "244759",
          "244760",
          "244761",
          "244762",
          "244763",
          "244764",
          "244765",
          "244766",
          "244767",
          "244768",
          "244769",
          "244770",
          "244771",
          "244774",
          "244775",
          "244776",
          "244777",
          "244778",
          "244779",
          "244780",
          "244781",
          "244782",
          "244784",
          "244785",
          "244786",
          "244787",
          "244788",
          "244789",
          "244790",
          "244791",
          "244793",
          "244794",
          "244795",
          "244796",
          "244797",
          "244798",
          "244799",
          "244800",
          "244801",
          "244802",
          "244803",
          "244804",
          "244805",
          "244806",
          "244807",
          "244808",
          "244809",
          "244810",
          "244813",
          "244814",
          "244815",
          "244816",
          "244817",
          "244820",
          "244821",
          "244822",
          "244823",
          "244824",
          "244825",
          "244826",
          "244827",
          "244828",
          "244829",
          "244830",
          "244831",
          "244832",
          "244833",
          "244834",
          "244835",
          "244836",
          "244837",
          "244838",
          "244839",
          "244840",
          "244841",
          "244842",
          "244843",
          "244844",
          "244845",
          "244846",
          "244847",
          "244848",
          "244849",
          "244850",
          "244851",
          "244852",
          "244853",
          "244855",
          "244856",
          "244857",
          "244858",
          "244859",
          "244861",
          "244862",
          "244865",
          "244866",
          "244867",
          "244868",
          "244869",
          "244871",
          "244872",
          "244873",
          "244874",
          "244876",
          "244877",
          "244878",
          "244879",
          "244883",
          "244884",
          "244885",
          "244886",
          "244887",
          "244888",
          "244889",
          "244892",
          "244895",
          "244896",
          "244897",
          "244898",
          "244901",
          "244905",
          "244906",
          "244907",
          "244910",
          "244911",
          "244912",
          "244913",
          "244914",
          "244915",
          "244916",
          "244917",
          "244918",
          "244919",
          "244920",
          "244921",
          "244922",
          "244923",
          "244924",
          "244925",
          "244926",
          "244927",
          "244928",
          "244929",
          "244930",
          "244931",
          "244932",
          "244933",
          "244934",
          "244935",
          "244936",
          "244939",
          "244941",
          "244942",
          "244943",
          "244944",
          "244945",
          "244948",
          "244949",
          "244951",
          "244955",
          "244956",
          "244960",
          "244961",
          "244963",
          "244964",
          "244966",
          "244967",
          "244971",
          "244972",
          "244973",
          "244974",
          "244975",
          "244976",
          "244977",
          "244978",
          "244979",
          "244980",
          "244983",
          "244984",
          "244985",
          "244986",
          "244987",
          "244988",
          "244989",
          "244990",
          "244991",
          "244992",
          "244993",
          "244994",
          "244995",
          "244996",
          "244997",
          "244998",
          "244999",
          "245000",
          "245001",
          "245002",
          "245004",
          "245005",
          "245006",
          "245007",
          "245008",
          "245009",
          "245010",
          "245011",
          "245012",
          "245014",
          "245015",
          "245016",
          "245017",
          "245018",
          "245019",
          "245020",
          "245021",
          "245022",
          "245023",
          "245025",
          "245026",
          "245027",
          "245028",
          "245030",
          "245031",
          "245032",
          "245034",
          "245035",
          "245036",
          "245037",
          "245038",
          "245039",
          "245040",
          "245041",
          "245042",
          "245043",
          "245044",
          "245046",
          "245047",
          "245048",
          "245051",
          "245053",
          "245056",
          "245057",
          "245058",
          "245060",
          "245062",
          "245063",
          "245064",
          "245065",
          "245066",
          "245067",
          "245070",
          "245071",
          "245072",
          "245073",
          "245074",
          "245075",
          "245076",
          "245077",
          "245078",
          "245080",
          "245081",
          "245082",
          "245083",
          "245084",
          "245085",
          "245086",
          "245087",
          "245088",
          "245089",
          "245090",
          "245091",
          "245093",
          "245095",
          "245096",
          "245097",
          "245098",
          "245099",
          "245100",
          "245101",
          "245107",
          "245108",
          "245109",
          "245110",
          "245111",
          "245112",
          "245113",
          "245114",
          "245115",
          "245116",
          "245117",
          "245118",
          "245120",
          "245122",
          "245123",
          "245124",
          "245125",
          "245126",
          "245127",
          "245128",
          "245129",
          "245130",
          "245132",
          "245133",
          "245134",
          "245135",
          "245136",
          "245137",
          "245140",
          "245141",
          "245142",
          "245143",
          "245144",
          "245145",
          "245146",
          "245147",
          "245148",
          "245150",
          "245151",
          "245152",
          "245153",
          "245155",
          "245156",
          "245157",
          "245158",
          "245159",
          "245160",
          "245162",
          "245163",
          "245166",
          "245167",
          "245168",
          "245169",
          "245170",
          "245171",
          "245172",
          "245173",
          "245174",
          "245178",
          "245179",
          "245180",
          "245181",
          "245182",
          "245183",
          "245187",
          "245188",
          "245189",
          "245190",
          "245191",
          "245192",
          "245195",
          "245197",
          "245198",
          "245199",
          "245201",
          "245202",
          "245203",
          "245204",
          "245207",
          "245208",
          "245209",
          "245210",
          "245211",
          "245212",
          "245213",
          "245214",
          "245215",
          "245216",
          "245218",
          "245220",
          "245221",
          "245223",
          "245225",
          "245226",
          "245228",
          "245229",
          "245230",
          "245231",
          "245232",
          "245233",
          "245234",
          "245235",
          "245237",
          "245238",
          "245239",
          "245240",
          "245241",
          "245242",
          "245244",
          "245245",
          "245246",
          "245247",
          "245248",
          "245249",
          "245252",
          "245253",
          "245255",
          "245256",
          "245257",
          "245258",
          "245261",
          "245262",
          "245263",
          "245264",
          "245266",
          "245267",
          "245270",
          "245273",
          "245274",
          "245275",
          "245276",
          "245277",
          "245278",
          "245279",
          "245280",
          "245281",
          "245282",
          "245283",
          "245284",
          "245285",
          "245286",
          "245287",
          "245288",
          "245289",
          "245290",
          "245291",
          "245292",
          "245293",
          "245294",
          "245295",
          "245296",
          "245297",
          "245298",
          "245299",
          "245300",
          "245303",
          "245305",
          "245308",
          "245309",
          "245310",
          "245312",
          "245313",
          "245314",
          "245315",
          "245316",
          "245317",
          "245318",
          "245319",
          "245320",
          "245322",
          "245323",
          "245324",
          "245325",
          "245326",
          "245327",
          "245328",
          "245329",
          "245330",
          "245331",
          "245332",
          "245335",
          "245336",
          "245337",
          "245338",
          "245339",
          "245340",
          "245341",
          "245342",
          "245343",
          "245344",
          "245345",
          "245346",
          "245349",
          "245351",
          "245352",
          "245354",
          "245358",
          "245359",
          "245360",
          "245361",
          "245362",
          "245363",
          "245364",
          "245365",
          "245367",
          "245368",
          "245370",
          "245372",
          "245373",
          "245374",
          "245375",
          "245376",
          "245377",
          "245379",
          "245380",
          "245381",
          "245384",
          "245385",
          "245386",
          "245392",
          "245396",
          "245398",
          "245399",
          "245400",
          "245401",
          "245402",
          "245403",
          "245404",
          "245405",
          "245406",
          "245407",
          "245409",
          "245410",
          "245412",
          "245413",
          "245414",
          "245415",
          "245416",
          "245417",
          "245420",
          "245421",
          "245422",
          "245424",
          "245425",
          "245426",
          "245427",
          "245428",
          "245429",
          "245431",
          "245432",
          "245433",
          "245434",
          "245435",
          "245436",
          "245437",
          "245438",
          "245439",
          "245442",
          "245444",
          "245446",
          "245448",
          "245454",
          "245456",
          "245457",
          "245458",
          "245459",
          "245460",
          "245461",
          "245463",
          "245464",
          "245465",
          "245466",
          "245467",
          "245468",
          "245469",
          "245470",
          "245471",
          "245472",
          "245473",
          "245475",
          "245476",
          "245477",
          "245478",
          "245479",
          "245480",
          "245481",
          "245482",
          "245483",
          "245484",
          "245485",
          "245487",
          "245489",
          "245490",
          "245491",
          "245492",
          "245493",
          "245501",
          "245502",
          "245503",
          "245508",
          "245513",
          "245514",
          "245515",
          "245518",
          "245521",
          "245525",
          "245526",
          "245527",
          "245528",
          "245530",
          "245531",
          "245532",
          "245533",
          "245535",
          "245536",
          "245537",
          "245538",
          "245539",
          "245540",
          "245541",
          "245542",
          "245543",
          "245544",
          "245545",
          "245546",
          "245547",
          "245548",
          "245549",
          "245550",
          "245551",
          "245552",
          "245553",
          "245554",
          "245555",
          "245556",
          "245557",
          "245558",
          "245561",
          "245562",
          "245563",
          "245564",
          "245568",
          "245571",
          "245572",
          "245574",
          "245575",
          "245576",
          "245577",
          "245578",
          "245581",
          "245582",
          "245583",
          "245584",
          "245585",
          "245586",
          "245587",
          "245588",
          "245589",
          "245590",
          "245591",
          "245592",
          "245593",
          "245594",
          "245595",
          "245596",
          "245597",
          "245598",
          "245599",
          "245600",
          "245601",
          "245602",
          "245604",
          "245605",
          "245606",
          "245607",
          "245608",
          "245609",
          "245611",
          "245615",
          "245617",
          "245618",
          "245619",
          "245620",
          "245622",
          "245624",
          "245625",
          "245627",
          "245629",
          "245630",
          "245631",
          "245635",
          "245637",
          "245638",
          "245641",
          "245643",
          "245649",
          "245655",
          "245656",
          "245657",
          "245658",
          "245659",
          "245660",
          "245661",
          "245662",
          "245663",
          "245664",
          "245665",
          "245666",
          "245667",
          "245668",
          "245670",
          "245671",
          "245672",
          "245673",
          "245674",
          "245675",
          "245677",
          "245678",
          "245679",
          "245680",
          "245681",
          "245682",
          "245691",
          "245692",
          "245694",
          "245695",
          "245696",
          "245697",
          "245704",
          "245705",
          "245706",
          "245707",
          "245710",
          "245712",
          "245713",
          "245714",
          "245715",
          "245720",
          "245721",
          "245722",
          "245723",
          "245724",
          "245728",
          "245730",
          "245735",
          "245738",
          "245745",
          "245746",
          "245749",
          "245751",
          "245758",
          "245759",
          "245763",
          "245764",
          "245770",
          "245771",
          "245774",
          "245775",
          "245779",
          "245780",
          "245781",
          "245784",
          "245785",
          "245786",
          "245787",
          "245789",
          "245790",
          "245796",
          "245797",
          "245798",
          "245807",
          "245813",
          "245816",
          "245817",
          "245818",
          "245819",
          "245822",
          "245827",
          "245829",
          "245831",
          "245836",
          "245839",
          "245840",
          "245844",
          "245845",
          "245855",
          "245867",
          "245875"
         ],
         "type": "scatter",
         "x": [
          5762854,
          5485046,
          366214,
          441710,
          343204.82,
          57620337.7,
          26360.28,
          1417521.84,
          1280679.16,
          512658,
          353960.68,
          5271652,
          275249.12,
          127607.36,
          200665.74000000002,
          203050.76,
          237513.4,
          402128.08,
          1142400,
          33096,
          368164.14,
          3913740,
          286976.45999999996,
          276700.66000000003,
          199784.06,
          260001.46,
          232096.1,
          331898.26,
          237358.28,
          9883800,
          671479.66,
          686630.88,
          9367000,
          9044000,
          456606.16,
          1390770,
          944200.76,
          11133000,
          16453406,
          10126.16,
          6827967.779999999,
          52010.18,
          1500887.58,
          1745167.24,
          6559543.88,
          2122421.18,
          4511506.34,
          268882.64,
          700000,
          658236.34,
          354153.38,
          113741.36,
          17139.32,
          19995.9,
          19995.9,
          15812058,
          11133000,
          30288351.66,
          103034.26000000001,
          8882.259999999997,
          295782.95999999996,
          173788.16000000003,
          445906.22,
          229886.13999999998,
          197014.82,
          1667.94,
          168479.96,
          478860,
          17139.32,
          20700,
          93139.44,
          4006508.06,
          745.48,
          46131.48,
          30754.32,
          25628.6,
          28191.46,
          46131.48,
          31769.34,
          67740.24,
          141066.2,
          176166.02,
          195962.84,
          262776.46,
          267293,
          4344704.68,
          680960,
          540288.76,
          34173477.14,
          478860,
          1612309.32,
          129766.23999999999,
          1594184.5,
          1527620,
          7622514,
          4080790.3000000003,
          79965.88,
          84963.74,
          124946.68,
          284439.9,
          79842.78,
          122554.88,
          466909,
          473672.82,
          480383.96,
          696577.6799999999,
          711882.04,
          700000,
          700000,
          700000,
          534035.7,
          1083040.76,
          1921083.62,
          331556.01999999996,
          463355.66,
          377787.88,
          696032.7000000001,
          260471.7,
          528485.24,
          563137.3,
          400943.92,
          51274.62,
          790000.7999999999,
          380207.88,
          123038.64,
          98746.34,
          123316.2,
          137174,
          183943.52,
          187105.12,
          210000,
          1003890.28,
          177157.1,
          336065.31999999995,
          2224474.2600000002,
          275723.14,
          196824,
          246165.09999999998,
          86127.04,
          30701913.76,
          106024.28,
          11133000,
          350405.24,
          1590089.72,
          551812.76,
          978095.6,
          1309726.06,
          891940.9,
          151417.14,
          5820778.06,
          5008135.08,
          98537.54,
          337557.42,
          488060.78,
          86361.66,
          39228.4,
          35567.02,
          1952456,
          10863000,
          10295000,
          9869000,
          331833.48,
          307983.56,
          321788.82,
          330012.98,
          1686060,
          1309350,
          1087800,
          252477.12,
          1016862.72,
          359725.74,
          15921920,
          251808.02,
          471834.72,
          11133000,
          75465.72,
          277606.36,
          478860,
          28883.62,
          21038.7,
          497866.08,
          19900,
          19900,
          1122803.24,
          751093.46,
          1131000,
          1084200,
          1326000,
          179400.2,
          99951.54,
          420309.04,
          133268.72,
          161460.18,
          941656.3,
          895492,
          630735.04,
          964822.24,
          52826,
          111105.42,
          241562.04,
          364334.18,
          149037.88,
          3363252.52,
          1010696.84,
          1530121.84,
          105419.76,
          417331.2,
          375791.64,
          262396.36,
          1013736.42,
          709614,
          576000,
          329288,
          457132,
          13100,
          22624,
          19900,
          899598.3,
          158337,
          39167.44,
          183677.46,
          212719.62,
          238709.32,
          670320,
          286569.02,
          176463.02,
          257169.24,
          8444646.12,
          565005.26,
          3709100,
          3555620,
          3939320,
          26167.74,
          123524.12,
          7275972.54,
          3800538.46,
          12225476,
          38221790.2,
          272060.64,
          136000,
          62092.96,
          2993389.72,
          16490,
          196824,
          77506.6,
          210000,
          210000,
          101645.34,
          981593.9,
          539201.68,
          886725.92,
          1209039.06,
          1330088.88,
          242424.76,
          288136.08,
          219779.38,
          67531.9,
          114166.6,
          12225476,
          669155.48,
          16490,
          768000,
          336085.24,
          558266.44,
          336085.24,
          337139.32,
          336085.24,
          533681.1799999999,
          392069.58,
          522260.8,
          344465.14,
          459124.92,
          210713.08,
          80269.04,
          4209046.4799999995,
          18357816,
          416270.24,
          122877.88,
          531946.24,
          65367.04,
          49025.28,
          1299870,
          54199.92,
          1590089.72,
          2714717.6,
          145492.06,
          11133000,
          1496073.88,
          956800,
          2956447.02,
          339743,
          415817.64,
          50785.52,
          226400,
          615148,
          208864,
          1981200,
          220849.22,
          7515777.239999999,
          10555807.64,
          163592,
          223080,
          309089.02,
          133200,
          18666.92,
          34960662.92,
          609143.04,
          467552.62,
          11133000,
          5192473.16,
          18460254,
          615148,
          2714717.6,
          388360,
          585200,
          2232410.34,
          12225476,
          488422.14,
          161333.82,
          896689.44,
          50810.04,
          1263510,
          1399860,
          174720,
          89642.6,
          419151.68,
          883200,
          2,
          125200,
          973304.08,
          146313.68,
          2,
          2,
          722439.72,
          1448625.36,
          609947.52,
          1360000,
          139932.54,
          278057.16000000003,
          118379.31999999999,
          23474.600000000002,
          47630.62,
          14871.84,
          372689.94,
          621265.7999999999,
          180180,
          167158.5,
          54213.58,
          206043.16,
          112944.94,
          1726971.9000000001,
          1549313.64,
          615316.48,
          274425.14,
          531089.7999999999,
          10529800,
          74420.48,
          81261.18,
          87312.56,
          207741.74,
          947595.22,
          126480,
          172360.12,
          1549890,
          1582937.5,
          1386775,
          714646.5,
          721638.84,
          726802.68,
          700000,
          700000,
          1201200,
          1209000,
          2,
          2,
          2,
          115476.74,
          83760.68,
          138398.74,
          40657877.44,
          62092.96,
          102477.32,
          8016247.14,
          112315.65999999999,
          1100817.76,
          5262.08,
          100862.4,
          82839.79999999999,
          98160.12,
          148783.56,
          86917.92,
          156075.18,
          131177.92,
          9445137.74,
          496866.26,
          188940,
          202848.48,
          938105.2,
          615148,
          13582260,
          5991987.02,
          18590008,
          331151.14,
          482667.56000000006,
          296879.4,
          86644.24,
          49815.7,
          131157.18,
          12225476,
          467800,
          327460,
          3855098.02,
          1688526.94,
          1003078.6,
          688560,
          229520,
          375989.83999999997,
          730591.88,
          518588.42000000004,
          651035.5399999999,
          193762.56,
          1176906.54,
          457245.26,
          298378.14,
          1082186.6,
          241939.86,
          595200,
          7071219.44,
          1323356.3800000001,
          155089.97999999998,
          75034.28,
          455409.24,
          1404800,
          235560,
          249923.2,
          519711.64,
          195968.98,
          209170.8,
          1370988.92,
          59564.94,
          2238451.86,
          178950.76,
          1214180,
          1457000,
          779822,
          35567.02,
          83211.3,
          11660300,
          488530.26,
          176000,
          1598742.02,
          238378.62,
          6114209.8,
          10013155.28,
          73695.94,
          73695.94,
          235600,
          711360,
          97419.78,
          124877.58,
          175683.84,
          45697906.6,
          1567217.2,
          73695.94,
          73695.94,
          73695.94,
          225827.32,
          6005531.84,
          18600252,
          590865.9,
          12225476,
          490714.42,
          494225.82,
          501698.38,
          1598000,
          1696700,
          1710800,
          1670850.74,
          13582260,
          11076000,
          11076000,
          11999000,
          10529800,
          10917400,
          5920400,
          3990480,
          4323020,
          4617190,
          1128455.84,
          341640,
          92958.7,
          498538.28,
          130684.8,
          103285.74,
          170506.54,
          333314.94,
          18048.38,
          929200,
          346618.72000000003,
          1443277.68,
          258395.9,
          212625.37999999998,
          617088.9199999999,
          448694.52,
          633600,
          383437.16,
          300300,
          281257.78,
          7659786.46,
          161157.08,
          372204,
          919035.5,
          1453698.34,
          46863503.96,
          632720.56,
          303266.5,
          336085.24,
          1120316.86,
          7642762.26,
          280452.4,
          324321.24,
          353045.46,
          535575.48,
          101317.3,
          516752.74,
          143300.64,
          2557161.76,
          615148,
          5991925.62,
          1925364,
          444943.16000000003,
          18545618,
          12225476,
          1765504,
          13582260,
          266933.16,
          32683.52,
          568035.4,
          1008900,
          336300,
          136150.56,
          747230.6000000001,
          434205.62,
          419490,
          127062.3,
          859908.36,
          74017.04,
          14803.4,
          139109.64,
          394645.5,
          652800,
          462683.36,
          90241.9,
          411624.82,
          93600,
          764523.04,
          117666.94,
          79529.42,
          8352629.84,
          719863.56,
          9027758.84,
          615148,
          473149.2,
          489833.84,
          121149.48,
          9574733.08,
          325002.02,
          121349.08,
          126129.6,
          447110,
          41625085.18,
          548241.08,
          362565.62,
          3730462.02,
          340373.76,
          17731090,
          792715.22,
          5985533.24,
          13285380,
          72193.52,
          12815500,
          580000,
          1783545.78,
          737791.74,
          1407900,
          1111274.2,
          1842862,
          202920,
          612180,
          270560,
          0.02,
          0.02,
          0.02,
          0.02,
          588476.8600000001,
          608000,
          29942.64,
          135480.48,
          79529.42,
          451270.68,
          1516800,
          390146.96,
          42178.06,
          196560,
          124976.74,
          136500,
          251160,
          12225476,
          73695.94,
          18048.38,
          11757200,
          3293257.78,
          792063.96,
          551525.94,
          50658.64,
          615148,
          66134.72,
          241605.56,
          1104093.12,
          60263.58,
          1419600,
          1446900,
          1552200,
          744787.2,
          2434538,
          278920,
          852720,
          10440787.3,
          34157.840000000004,
          821373.22,
          434905.9,
          142600,
          212606.68,
          75712,
          191310.26,
          306096.44,
          186909.12,
          48084430.99999999,
          924128.28,
          13656480,
          1662389.26,
          4534328.2,
          24356696,
          582810.18,
          2160687.5,
          143350.98,
          184756,
          38262.06,
          76524.1,
          12225476,
          0.02,
          12922000,
          4655560,
          506455.28,
          281348.44,
          490623,
          141062,
          500000,
          768935.02,
          960000,
          806400,
          1106978.78,
          1429600,
          33299.26,
          827003.2,
          41873.58,
          260850,
          299700,
          316350,
          15687429.78,
          224103.14,
          92365.26,
          12582600,
          20667.7,
          637696.78,
          79529.42,
          79529.4,
          357615.16,
          108860,
          267733.9,
          926732.88,
          26541.74,
          336208,
          4732300,
          18975.46,
          459648.48,
          8902637.08,
          313600,
          656000,
          79529.42,
          1501791.32,
          2461370.08,
          11284698.54,
          60635.48,
          52920117.78,
          0.02,
          3202059.96,
          93139.44,
          187338.98,
          87096.86,
          753741.94,
          1102683.36,
          13135000,
          1669740.62,
          512544.52,
          1743700,
          876375,
          471010,
          27779780,
          444454.56,
          181822.32,
          216450,
          88800,
          1774213.02,
          502490.9,
          334084.58,
          768935.02,
          14472900,
          91537.38,
          12582600,
          841272.3200000001,
          1953600,
          975000,
          6727103.640000001,
          582810.1799999999,
          12631508,
          18048.38,
          22365.12,
          18048.38,
          844800,
          152188.28,
          192920,
          78085.82,
          217411.82,
          38584,
          39042.92,
          249111.5,
          79529.42,
          79529.42,
          79529.42,
          652594.16,
          100946.36,
          600023.16,
          100946.36,
          18048.38,
          79529.42,
          11128296.36,
          79529.42,
          56000,
          2423722.52,
          121640.28,
          26541.74,
          7522384,
          692760.54,
          50187858.18,
          1890500,
          453720,
          756200,
          1603723.36,
          6527200,
          5090420,
          767233.26,
          1870600,
          5083694.78,
          24407940,
          14918220,
          1553041.76,
          12191640,
          3739558.16,
          348280.92,
          190950,
          114570,
          0.02,
          1753600,
          628644.5800000001,
          976800,
          14271000,
          12457400,
          528300.5800000001,
          592146.6,
          6483527.74,
          159154.18,
          9402980.36,
          768935.02,
          55091551.480000004,
          488711.86,
          12157804,
          0.02,
          798913,
          3802747.5,
          23516538,
          5939736.06,
          14129000,
          14732500,
          7019200,
          5013680,
          5307850,
          5474120,
          782350.4199999999,
          803534.5,
          826391.52,
          531998.28,
          546403.46,
          561946.24,
          2156000,
          2282500,
          2354000,
          1548300,
          336208,
          336208,
          1878848.1400000001,
          1440186.44,
          14732670,
          352115.04,
          1298823.58,
          69707,
          8451800,
          496078.08,
          412716.96,
          385751.36,
          169242.66,
          19922.14,
          482860.24,
          17182.44,
          485833.76,
          2051200,
          574200,
          695020.96,
          12797200,
          768935.02,
          17182.44,
          8104409.68,
          1846400,
          1530000,
          5246865.68,
          54228377.08,
          29390020,
          5946763.96,
          6282887.22,
          2,
          2949016.58,
          14992440,
          23761880,
          2026277.18,
          2548373.96,
          15883080,
          583120.38,
          566141.16,
          6847.86,
          374471.26,
          12157804,
          743761.54,
          1000612.4,
          1342379.36,
          739739.52,
          633600,
          44302.24,
          6948551.3,
          6558582.1,
          415512.1,
          384467.5,
          59045447.86,
          4658213.78,
          24029822,
          5489258.86,
          570682.56,
          15660420,
          15050653.54,
          1127820.46,
          3822721.6,
          3822721.6,
          1391596.64,
          12797200,
          12019800,
          11799200,
          14723200,
          13828800,
          13484800,
          14104000,
          384467.5,
          4785300,
          4586400,
          4703400,
          4750200,
          854400.62,
          893346.08,
          923131,
          974734.72,
          946500,
          580992.42,
          607475.34,
          2249500,
          2156000,
          2211000,
          1507500,
          1470000,
          1522500,
          8685689.12,
          336208,
          336208,
          336208,
          631140,
          643700,
          1800424.76,
          726416,
          468610.80000000005,
          664959.46,
          645874.36,
          54600.8,
          616824.72,
          2902400,
          664158,
          749130,
          567656,
          945592,
          388834,
          702372,
          604196,
          261918,
          667642,
          533562,
          885610,
          836926,
          861114,
          935148,
          12310900,
          12024600,
          55210,
          86498.22,
          690096.58,
          58457.68,
          78604.44,
          3184054.06,
          1451978,
          914284.8,
          580800,
          621158.78,
          1313000,
          11080000,
          1614576,
          6434860.96,
          7015903.76,
          64172640.36,
          5182476.72,
          28885210,
          2857527.18,
          13603193.32,
          14844000,
          1274000,
          484395.96,
          792808,
          1847709.16,
          333278,
          708067.96,
          183549.6,
          11652410,
          510000,
          11595360,
          415512.1,
          4075000,
          3073600,
          9610315.46,
          13646365.66,
          339084.6,
          117328.08,
          3853899,
          2323512.42,
          244902,
          581726.12,
          581726.12,
          581726.12,
          66294275.080000006,
          98621.54,
          156370,
          602392,
          1319500,
          510000,
          510000,
          2167373.1,
          1795143.88,
          560251.24,
          20221.08,
          1357132.54,
          17057957.08,
          414842.30000000005,
          34850.02,
          745083.36,
          344946,
          747477.28,
          581726.12,
          400026,
          223474,
          45604,
          196640,
          562968,
          912935.82,
          10942500,
          10371052.64,
          367003.14,
          37827476.64,
          11722600,
          346281.19999999995,
          12019800,
          272938.16,
          92246.34,
          71520461.54,
          190944.4,
          715931.8,
          5974556.04,
          29401114,
          78191.34,
          561599.76,
          7408736,
          5368170.74,
          15289320,
          4075000,
          4075000,
          12963815.82,
          1342250,
          219086.36,
          251737.08,
          1556671.9,
          1765759.86,
          21171.98,
          32970.88,
          1150818.7,
          2261556,
          85205.16,
          12132120,
          21171.98,
          543270.84,
          2409608.88,
          484738,
          886936,
          1264582,
          1380268,
          1609878.8,
          979254,
          712812,
          510000,
          15305000,
          4143788.74,
          1914590,
          1809100,
          300686,
          246296,
          405328,
          181658,
          322033.82,
          718291.82,
          8398287.46,
          53926.44,
          27605,
          12318800,
          15548000,
          17521400,
          14104000,
          17888000,
          636837.02,
          636837.02,
          2367750,
          2968350,
          1660490.24,
          2156800,
          405577.06,
          78937381.3,
          1553411.48,
          5916425.8,
          28711730,
          1522589.56,
          2474266.36,
          17738580,
          1553500,
          14469106,
          4407011.44,
          1248288.04,
          1572303.42,
          555052.8,
          83498.16,
          3723400,
          2374677.52,
          637750.38,
          9684317.34,
          59147.4,
          14247380,
          1141672.7,
          719980,
          792913.2,
          1745675.16,
          7883302.68,
          854080,
          1123748.92,
          587624.78,
          6084000,
          6483717.06,
          482339.19999999995,
          37720.86,
          652834.94,
          76089.3,
          100884009.4,
          1080000,
          3704357.08,
          6003485.6,
          4254705.14,
          54382104,
          1244480.6,
          285907.84,
          3095991.76,
          3326242.42,
          1445163.76,
          645044.46,
          2131763.36,
          603897.6,
          1472981.48,
          2504233.42,
          429322.14,
          2513244.72,
          142028.78,
          238254.5,
          407899.16,
          745811.5,
          694839.1,
          11096616.92,
          601404.2,
          13952245.440000001,
          510970.88,
          314974.32,
          40595.6,
          278461.94,
          9040,
          84420338.12,
          388941.6,
          580335.56,
          153363.04,
          153363.04,
          153363.04,
          27054876,
          5753596.5,
          24195720,
          14997596,
          2857527.1799999997,
          2119000,
          290654.92,
          398304.64,
          48493.22,
          4500540,
          659244,
          643620,
          90889.98,
          3600430.04,
          4612393.5,
          13177080,
          630000,
          1675480.3,
          262996.36,
          6042780.8,
          6085943.52,
          20296000,
          10470557.44,
          788179.22,
          0.12,
          741771.88,
          579509.28,
          2110566.46,
          105336.16,
          4496000,
          3962400,
          4280000,
          4396000,
          4833600,
          4905600,
          1023612.22,
          580335.56,
          580335.56,
          580335.56,
          580335.56,
          9348225.42,
          244974.62,
          222695.2,
          34381.96,
          34381.96,
          803997.12,
          106000,
          50663.58,
          34457.74,
          14622003.2,
          191329.22,
          6883970.54,
          1123802.42,
          809928.84,
          1288956,
          1949594,
          70645.6,
          8536162.52,
          2502745.12,
          806758.72,
          133791.08,
          14003010,
          10670203.84,
          83490911.56,
          1607523.84,
          5492925.96,
          29034008,
          14997596,
          8165491.92,
          21672240,
          6185070,
          4948056.7,
          630000,
          108763.2,
          102810.94,
          6856200,
          3357099.2,
          3381078.48,
          996675,
          1054200,
          710175,
          3384150,
          3280200,
          916880,
          1875200,
          15363600,
          14790720,
          161185.08,
          1598820.2,
          725372.16,
          3015480.3,
          1634046.96,
          70183.9,
          70183.9,
          8302308.3,
          4763184.82,
          706958.38,
          5455434.62,
          1609062.98,
          467013.12,
          530974.56,
          234894.32,
          360427.06,
          63013.1,
          1734511.66,
          681466.72,
          65931.24,
          11202408,
          1712285.18,
          251466,
          1537701.02,
          428776,
          12497.44,
          154145.44,
          3085846,
          4375972.18,
          15199828,
          21301140,
          46020.86,
          116228.96,
          1417712.94,
          383612.08,
          895023.78,
          4406440,
          2356512.36,
          2923389.2199999997,
          1348516,
          9486320.52,
          84909806.54,
          716856,
          630000,
          879200,
          885480,
          1772800,
          1804800,
          262395.5,
          1246378.6,
          1089317.28,
          285106.5,
          4795840,
          655421.46,
          701431.82,
          165111.16,
          1196347.44,
          3058652,
          1431012,
          391538.62,
          3288196,
          2441354,
          16094239.8,
          584173.84,
          12875391.82,
          639262.56,
          450235.1,
          1692581.68,
          1990554.34,
          145689.52,
          1851945.02,
          1301082.26,
          1128913.52,
          4602351.38,
          3757570,
          15073596,
          8626343.56,
          21672240,
          5147844.66,
          90542247.98,
          14401491.2,
          724299.44,
          5791217.6,
          150851.7,
          7239022,
          5724000,
          1632306.54,
          856671.2,
          1226509.1,
          834026.1799999999,
          3257100,
          885999.02,
          1332140.94,
          873716,
          1601307.5599999998,
          263657.02,
          241566,
          1186779.36,
          1187943.76,
          282205.96,
          282300.04,
          282017.8,
          333198.64,
          1659835.68,
          387558.7,
          1164094,
          732884,
          280884,
          349266.66,
          344153.48,
          193464.38,
          282394.12,
          395490.34,
          373340.88,
          3443697.58,
          3737118,
          1989082.6,
          811880.24,
          1181922.36,
          10788307.24,
          973683.86,
          1025544.4,
          318033.94,
          945167.56,
          2775910,
          2666586,
          1330452,
          1007176,
          2223018.76,
          2510136.2,
          472972,
          300336.68,
          1021569.56,
          411163.14,
          1785405.1,
          1714327.3,
          1898533.98,
          1431180.76,
          138189,
          251303.44,
          3239884.66,
          766080,
          10587559.28,
          5834660.66,
          70308090,
          18088315.2,
          7877755.54,
          23601960,
          10205183.48,
          13493574.04,
          800100,
          101272469.12,
          5255057.92,
          707463.52,
          159134.74,
          6568822,
          22680000,
          536012.3,
          1489112.44,
          2016000,
          916880,
          1307182.46,
          766080,
          1972880,
          1800320,
          584713.04,
          643373.56,
          1469000,
          1720386.44,
          914637.38,
          3372600,
          5476974.96,
          397392.56,
          160746,
          1468219.24,
          19311000,
          18840000,
          1191378.48,
          3246970,
          3729599.16,
          7073837.88,
          2234299.06,
          1827143.72,
          1008941.06,
          26674,
          216840,
          11386,
          70686,
          3441113.84,
          1534151.52,
          779282.46,
          1731578.5,
          2820751.0199999996,
          1690683.04,
          1095580.36,
          17726073.78,
          1729910.48,
          1478350.32,
          104428045.26,
          14859308.56,
          18230269.38,
          1848880.78,
          1097919.3399999999,
          1312044,
          1807533.36,
          264600,
          1549513.52,
          1304744.08,
          1785687.28,
          6296740.32,
          48895820,
          17951515.2,
          4080002.92,
          23156640,
          10259884.8,
          568483.24,
          4499196.8,
          2025450,
          19372500,
          1595748,
          968847,
          4095000,
          600056.1,
          2016000,
          415612,
          453032,
          836015.2,
          1196340,
          2808000,
          1552091.44,
          6973650,
          469822,
          862173.76,
          2139893.32,
          3135027.7200000007,
          379032.92,
          286427.84,
          529837.06,
          681219.08,
          320756.2,
          238000,
          3749580,
          13940111.22,
          2206739.38,
          2272000,
          1640674.8,
          1196340,
          3374700.56,
          303498,
          14592965.84,
          110634444.68,
          1146416,
          5972095.68,
          51860572,
          17951515.2,
          4288207.1,
          28277820,
          14776332.62,
          10605538,
          493629.26,
          6308010,
          718388.68,
          493629.26,
          17630731.2,
          906748.9,
          332755.08,
          19539000,
          493629.26,
          332755.08,
          3703780,
          22582800,
          4215388.16,
          22693500,
          3690000,
          8364430.4,
          1338391.12,
          799299,
          1410348.84,
          333574.94,
          1089214.64,
          655154,
          586500.18,
          959016.24,
          2286884.88,
          1504440,
          616006.52,
          248327.72,
          248327.72,
          572510,
          14104584.14,
          5115736.18,
          813626.42,
          99419616.6,
          14817355.520000001,
          1721642.48,
          3614140,
          927440.32,
          16154400,
          8229600,
          18020600,
          6248400,
          9572800,
          253880.26,
          1015521.02,
          755697.6,
          2569371.84,
          848653.3,
          5971834.96,
          52233100,
          17997115.2,
          6226280.720000001,
          27980940,
          19307351.02,
          726040,
          1343742,
          1463040,
          640781.8,
          2527339.6,
          6419743.5200000005,
          2992111.9,
          482800,
          4134554.1599999997,
          423133.76,
          2604735.86,
          604672.34,
          450948.6,
          4852855.34,
          1680000,
          1599395.52,
          23409230,
          8024682,
          10630500,
          8603411.44,
          2491764.58,
          39752055.44,
          2117851.34,
          2320049.34,
          1247103.02,
          457749.64,
          1361716.94,
          40950.36,
          2800627.64,
          3899710,
          15900000,
          8100000,
          16350000,
          927440.32,
          110489328.83999999,
          20173521.3,
          1645525.62,
          1645525.62,
          1824990.94,
          26280241.36,
          5975477.98,
          51312126,
          18042715.2,
          28871580,
          22159102.28,
          4861777.32,
          2168550,
          983439.76,
          8532000,
          17222000,
          16432000,
          808848.62,
          7460000,
          7900000,
          2554034,
          3830000,
          1820933.3,
          442399.8,
          829143.74,
          1203791.76,
          539110,
          1466213.28,
          1466213.28,
          8630476,
          125612,
          2970201.84,
          27276075,
          1935188.74,
          2766314.84,
          22887200,
          9380000,
          10130400,
          20448400,
          22702740.08,
          108786744.91000001,
          1125600,
          26131446.3,
          11128258.18,
          58693660,
          23491164.599999998,
          2574810,
          428806.86,
          514568.22,
          1077693.86,
          2305950.3,
          1253898.24,
          2653338.24,
          2306800,
          2759378.34,
          2274289.92,
          1188716.32,
          488460.38,
          14935846,
          684572.4,
          1653630,
          1472660,
          2574810,
          670670,
          1082208.22,
          7011550,
          1137144.96,
          522720,
          3093524.82,
          323317.86,
          497702.64,
          1593283.06,
          34809180,
          16940998.259999998,
          330120.22,
          1268585,
          1
         ],
         "y": [
          -244163.58000000002,
          -233051.26,
          -41947.4,
          -31317.82,
          -15101.02,
          -37124144.02,
          -324000,
          -1311461,
          -1010652.94,
          -453412.56,
          -772190.06,
          -5355897.96,
          -529215.06,
          -132388.66,
          -181281.4,
          -215261.44,
          -88529.82,
          -5584.780000000001,
          -792524.8,
          -127815.5,
          -416814.96,
          -1792766.1199999999,
          -23919.3,
          -39039.26,
          -9101.54,
          -29911.7,
          -43383.26,
          -11248.76,
          -4721.58,
          -3912241.96,
          -9170.4,
          -318387.46,
          -4888603.279999999,
          -5060414.600000001,
          -129498.1,
          -601506.34,
          3587.4,
          -1100,
          -7515948.32,
          -64505.380000000005,
          -5661002.72,
          -1100,
          -993044.02,
          -961975.46,
          -3486731.66,
          -293050.10000000003,
          -276724.76,
          -161620.86,
          -13900,
          -136008.53999999998,
          -176803.09999999998,
          -2375821.82,
          -1510.6,
          -7562.46,
          -1739.44,
          -5364995.68,
          -1127143.76,
          -5675180.24,
          -375803.12,
          -32678.8,
          -98759.32,
          -771120,
          -117643.38,
          -249764.63999999998,
          -162195.86000000002,
          -152784.8,
          -5584.76,
          7619.6,
          -27324.58,
          -1160,
          -3149.54,
          -1909414.3199999998,
          -469471.14,
          -1734.42,
          -5041.8,
          -6750.900000000001,
          -5157.76,
          -196,
          -3149.54,
          -3149.54,
          -107927.04,
          -132496.92,
          -146354.72,
          -193124.24,
          -196285.84,
          -3097030.42,
          -450617.22,
          -326307.98,
          -20545305.58,
          -369231.72,
          -980101.2,
          -59064.98,
          -53983.68000000001,
          -1037483.16,
          -4594549.58,
          -3999046.98,
          -15143.9,
          -16265.34,
          -24680.56,
          -114889.32,
          -32404.32,
          -50271.98,
          -174654.7,
          -175000.2,
          -212847.36000000002,
          -318387.64,
          -321950.48000000004,
          -391381.2,
          -391380.8,
          -391470.64,
          -162274.54,
          -729361.98,
          -1416468.94,
          -192383.5,
          -14056.06,
          -193017.6,
          -34303.3,
          -175768.78,
          -26777.239999999998,
          -486313.39999999997,
          -496252.68000000005,
          -2799.58,
          -553000.54,
          -266145.5,
          -86127.04,
          -133574.6,
          -96879.76,
          -73866.12,
          -95092.88,
          -75607.98,
          -74613.95999999999,
          -449079.12,
          -79250.64,
          -312296.57999999996,
          -1699571.96,
          -239761.52,
          -160130.75999999998,
          -146397.16,
          -39902.04,
          -27810506.54,
          -3149.56,
          -3214453,
          -374191.7,
          -729886.16,
          -101605.02,
          -373981.06,
          -986160.2799999999,
          -666808.5199999999,
          -120415.57999999999,
          -2938664.68,
          -4098508.06,
          -7120.04,
          -7120.04,
          -235666.42,
          -60453.16,
          -49452.58,
          -107000.56,
          -1217000.22,
          -4033019.7,
          -3848745.08,
          -4559758.46,
          -316304.2,
          -320496.36,
          -304446.78,
          -348505.04,
          -953259.98,
          -745228.4,
          -707991.2,
          -165461.68,
          -709266.9,
          -251808.02,
          -6444840.4399999995,
          -17120.32,
          -491115.94,
          -3681088.68,
          -52826,
          -202906.12,
          -406548.14,
          -5584.76,
          -10784.76,
          -378969.76,
          -10609.82,
          -10609.82,
          -71882.52,
          -657931.04,
          -469874.34,
          -473343.6,
          -707678.68,
          -14660,
          -10320,
          -29260,
          -7740,
          -13477.439999999999,
          -739531.4,
          -698915.1599999999,
          -218633.74,
          -354105.38,
          -68692.94,
          -35664.86,
          -114408,
          -308218.4,
          -161104.52000000002,
          -4595388.18,
          -774446.46,
          -1017638.5800000001,
          -7120.04,
          -159699.22,
          -7120.04,
          -183677.46,
          -709614,
          -82410.08,
          -537880,
          -277323.52,
          -385825.72000000003,
          -10609.82,
          -495.86,
          -8952.04,
          -601205.5,
          -93167.74,
          -7120.04,
          -106043.14,
          -46300.04,
          -210293.06,
          -495795.77999999997,
          -311328.02,
          -123524.12,
          -77506.6,
          -3125800.76,
          -562577.42,
          -2247104.7600000002,
          -2231192.7399999998,
          -2429900.68,
          -17017.34,
          -33102.24,
          -6109602.06,
          -1385428.8,
          -11312740.62,
          -26304744.04,
          -139288.24,
          -60481.66,
          -7120.02,
          -1043596.34,
          -38842.700000000004,
          -186408.84,
          -60449.979999999996,
          -116134.84,
          -136430.7,
          -4204.58,
          -704360.78,
          -51004.46,
          -608,
          -4628.16,
          -10996.48,
          -113816.74,
          -292271.26,
          -198661.36000000002,
          -33770.32,
          -8398.94,
          -11434727.24,
          -345439.39999999997,
          -38842.700000000004,
          -864674.96,
          -1390,
          -11454.48,
          -7754.48,
          -1174,
          -9060.48,
          -8018.48,
          -1528,
          -991.74,
          -145949,
          -11832.52,
          -288637.16000000003,
          -69910.22,
          -4810923.14,
          -6715821.96,
          -388934.27999999997,
          -47968.1,
          -403801.52,
          -5723.38,
          -5723.38,
          -561594.26,
          -5723.38,
          -854331.58,
          -1753996.32,
          -56641.36,
          -3936103.88,
          -896783.96,
          -616457.3200000001,
          -2120912.9,
          -47125.200000000004,
          -16622.32,
          -5723.36,
          -134105.6,
          -397139.08,
          -194916.22,
          -996710.1,
          -192043.12,
          -3473280.42,
          -8444646.12,
          -133801.56,
          -185836.86,
          -175928.58,
          -210127.04,
          -19480.24,
          -33034317.279999997,
          -177000,
          -165137.2,
          -3662401.8400000003,
          -5544976.32,
          -7229324.220000001,
          -453431.27999999997,
          -2415331.14,
          -293307.12,
          -458764.38,
          -1023677.66,
          -12135401.299999999,
          -406749.24,
          -309610.7,
          -759946.4,
          -40367.02,
          -561683.96,
          -587043.32,
          -96788.4,
          -144010.1,
          -411890.14,
          -985937.6799999999,
          -1823368.12,
          -151663.56,
          -632647.72,
          -94532.04,
          -15701305.64,
          -4489115.32,
          -2600075.2800000003,
          -1064380.6400000001,
          -527673,
          -1124180,
          -92045.1,
          -224835.04,
          -52476.92,
          -14882.74,
          -33440.18,
          -6265.94,
          -247288.22,
          -1344022.2,
          -136584.08000000002,
          -249106.26,
          -74190.88,
          -212676.34,
          -29135.5,
          -1522707.94,
          -1163237.48,
          -61507.52,
          -85534.52,
          -40893.78,
          -5402774.66,
          -192124.5,
          -191916.36,
          -192043.5,
          -109915.26000000001,
          -3713.0199999999995,
          -66602.08,
          -102836.48,
          -839354.64,
          -936903.78,
          -957530.88,
          -343918.78,
          -373492.68,
          -557889.1599999999,
          -396117.54,
          -390907.54,
          -538347.5,
          -472667.2,
          -211118.16,
          -1038921.22,
          -3536029.72,
          -12795.060000000001,
          -192043.47999999998,
          -22861.78,
          -30473165.94,
          -2732.1,
          -149616.8,
          -4274245.600000001,
          -16615.16,
          -345272.76,
          -19576.760000000002,
          -19300.760000000002,
          -19300.8,
          -16150,
          -9420,
          -17160.260000000002,
          -36015.56,
          -17472.8,
          -7556110.18,
          -534627.86,
          -78620.04000000001,
          -268982.12,
          -816984.6,
          -421517.19999999995,
          -4179256.84,
          -4333489.26,
          -8934168.02,
          -225619.94,
          -422628.06,
          -258156.24,
          -40948.520000000004,
          -21648.379999999997,
          -46508.740000000005,
          -11139237.36,
          -327460,
          -561147.92,
          -1366386.18,
          -1360833.76,
          -831036.9,
          -500060.7,
          -166686.9,
          -30461.24,
          -112546.12,
          -12888.22,
          -51956.7,
          -400990.78,
          -1027581.52,
          -432127.66,
          -259460.78,
          -784681.58,
          -1284738.48,
          -695274.4,
          -5446071.78,
          -1250622.3,
          -129042.4,
          -109291.76,
          -196932.03999999998,
          -963940.06,
          -167101.91999999998,
          -178583.63999999998,
          -187584.5,
          -181374.19999999998,
          -207761.1,
          -1228991.98,
          -2620.86,
          -1742952.76,
          -108013.16,
          -681916.94,
          -902159.4400000001,
          -734428.4,
          -109294.44,
          -73545.36,
          -4883276.399999999,
          -160566.3,
          -141823.16,
          -1055628.98,
          -7754.48,
          -3009057.0999999996,
          -8016247.14,
          -3901.7799999999997,
          -3901.7799999999997,
          -185141.14,
          -555423.42,
          -3901.7799999999997,
          -3901.7799999999997,
          -8474.84,
          -35985372.22,
          -1756471.14,
          -10717.86,
          -18254.86,
          -8292.1,
          -8276.48,
          -5352983.38,
          -8511563.7,
          -518680.64,
          -11882853.3,
          -267081.7,
          -155332.62,
          -230551.96,
          -1308534.52,
          -872399.24,
          -872410.62,
          -1093102.96,
          -5237607.56,
          -4331761.7,
          -5782930.56,
          -4015246.98,
          -5799794.66,
          -7176861.2,
          -12875.78,
          -2294126.3200000003,
          -3329056.9,
          -2339580.86,
          -1169989.08,
          -287413.48,
          -146595.82,
          -504351.76,
          -204265.96000000002,
          -182077.98,
          -288945.28,
          -44740.8,
          -8292.1,
          -1627077.22,
          -324127.18,
          -350000,
          -8292.1,
          -141779.1,
          -52815.28,
          -298763.89999999997,
          -732004.2999999999,
          -266748.72,
          -238736.7,
          -249265.44,
          -3559398.28,
          -17934.7,
          -228474.84,
          -637103.72,
          -361400,
          -39031088.4,
          -519782.82,
          -367910.84,
          -43575.26,
          -972197.7999999999,
          -6114209.8,
          -202292.1,
          -228292.1,
          -252292.1,
          -388292.1,
          -64254.86,
          -387934.7,
          -8292.1,
          -1790292.74,
          -631698.92,
          -3502265.86,
          -931147.14,
          -424971.64,
          -7996226.14,
          -11226088.9,
          -954828.32,
          -4052990.9,
          -214678.74,
          -8292.1,
          -49493.28,
          -815979.6,
          -271994.4,
          -52635.840000000004,
          -458421.8,
          -42694.84,
          -309620.5,
          -155482.18,
          -721641.32,
          -144675.78,
          -101064.66,
          -2426,
          -361698.42,
          -719651.18,
          -253224.7,
          -8292.1,
          -143134.44,
          -38048.16,
          -778688.44,
          -129227.8,
          -8292.1,
          -3910726.7,
          -6322.96,
          -3450947.5,
          -452077.8,
          -4114.78,
          -17934.7,
          -92899.68000000001,
          -7659786.46,
          -287108.04,
          -83621.02,
          -1818.18,
          -285876.62,
          -36142479.86,
          -389614,
          -301045.3,
          -1266154.8800000001,
          -412663.94,
          -7615961.12,
          -424093.38,
          -3904548.1,
          -4218478.54,
          -8292.1,
          -4613470.98,
          -380896.04,
          -1064026.12,
          -371167.96,
          -543458.58,
          -828706.66,
          -1622900.58,
          -207419.82,
          -496090.01999999996,
          -268201.18,
          2.4010660126805305e-10,
          -2.0372681319713593e-10,
          -0.020000000000436557,
          0.020000000340587576,
          -71516.94,
          -211177.28,
          -8474.86,
          -12794.34,
          -12794.380000000001,
          -394158.48,
          -822238.88,
          -335983.54,
          -68747.34,
          -145577.84,
          -104752.04,
          -112913.68000000001,
          -186403.08000000002,
          -11257112.78,
          -12794.36,
          -12794.34,
          -7071730.760000001,
          -2698657.08,
          -526158.86,
          -354618.86,
          -12794.36,
          -455688.83999999997,
          -12794.36,
          -18254.88,
          -766119.56,
          -94300.84,
          -527922.12,
          -539099.3,
          -1062290.56,
          -372472.82,
          -3089600,
          -205176.1,
          -615539.4,
          -8352629.84,
          -22268.3,
          -1305121.2999999998,
          -4447.38,
          -93986.4,
          -62272.78,
          -26948.86,
          -100281.22,
          -159474.82,
          -12618.86,
          -41329638.86,
          -742708.9600000001,
          -4325431.66,
          -1092334.66,
          -3551495.84,
          -8079419.74,
          -405887.02,
          -1438699.46,
          -83840.7,
          -119748.7,
          -37681,
          -37676.7,
          -11162847.62,
          0,
          -4786540.659999999,
          -2744700.26,
          -195417.88,
          -61787.66,
          -12618.86,
          -12618.86,
          -297231.83999999997,
          -521493.86000000004,
          -1968367.78,
          -150698.25999999998,
          -841157.64,
          -827743.14,
          -19500.06,
          -650039.56,
          -32228.46,
          -185327.77999999997,
          -210785.08000000002,
          -226066.58,
          -9165426.200000001,
          -354662.33999999997,
          -12618.86,
          -8634330.2,
          -8619.22,
          -20257.3,
          -18254.88,
          -18254.88,
          -3432339.56,
          -58453.04,
          -190000,
          -646870.08,
          -12618.86,
          -139316.02000000002,
          -3011091.8800000004,
          -11356.98,
          -328618.86,
          -2944781.5,
          -409576.58,
          -519665.52,
          -12618.86,
          -320000,
          -513120,
          -9027758.84,
          -9000,
          -47705588.92,
          1.0186340659856796e-10,
          -4898547.24,
          -3124.2599999999998,
          -3124.2599999999998,
          -3124.2599999999998,
          -372144.38,
          -1420667.24,
          -5737106.12,
          -1034763.52,
          -189505.92,
          -872409.32,
          -763901.48,
          -444542.16000000003,
          -9702389.56,
          -406370.36,
          -200731.38,
          -116228.01999999999,
          -76388.22,
          -1437372.52,
          -110000,
          -146606.52,
          -506102.54,
          -5217475.78,
          -67223,
          -7390507.34,
          -423855.16,
          -882019.92,
          -220000,
          -1416767.68,
          -509007.2,
          -11810046.18,
          -3124.2599999999998,
          -3124.2599999999998,
          -2101925.38,
          -1003473.42,
          -115746.4,
          -145502.4,
          -208894.04,
          -105298.12,
          -32726.480000000003,
          -46220.7,
          -167241.34,
          -13122.599999999999,
          -13122.599999999999,
          -13122.599999999999,
          -343122.6,
          -54518.68,
          -387122.6,
          -54518.82,
          -4518.679999999999,
          -4518.679999999999,
          -8902637.08,
          -4518.76,
          -4872.68,
          -89642,
          -301.24,
          -301.24,
          -3540707.42,
          -3488732.4,
          -42280151.1,
          -1109178.24,
          -325387.74,
          -542386.98,
          -1295618.82,
          -2700,
          -3140965.48,
          -372154.22000000003,
          -872419.16,
          -5351316.68,
          -9543784.3,
          -4684654.5,
          -940014.1599999999,
          -12762381.7,
          -1559697.8800000001,
          -8841.34,
          -182143.97999999998,
          -221921.88,
          -7.639755494892597e-11,
          -888867.64,
          -539821.22,
          -997038.06,
          -9570200.72,
          -8240202.92,
          -230063.06,
          -20060.68,
          -3851876.86,
          -292485.66,
          -7718229.32,
          -637673.88,
          -56364816.94,
          -317886.48,
          -13901168.14,
          1.7826096154749393e-10,
          -410060.68,
          -2577444.1399999997,
          -11118723.1,
          -6131429.66,
          -7173247.94,
          -4813139.52,
          -4500,
          -3478783.54,
          -4581842.5,
          -3019640.32,
          -468625.10000000003,
          -702463.92,
          -467759.94,
          -300077.08,
          -322280.12,
          -225041.9,
          -1121640.5,
          -1682385.32,
          -1121738.7,
          -1269390,
          -152991.76,
          -172102.62,
          -1317011.78,
          -1045412.22,
          -6071155.14,
          -8841.34,
          -56580.98,
          -8841.34,
          -6811207.84,
          -13000,
          -20060.68,
          -399580.98,
          -8841.34,
          -20060.68,
          -336063.12,
          -8841.34,
          -29878.579999999998,
          -933169.82,
          -623472.3,
          -560743.8,
          -9609920.88,
          -802003.48,
          -6063.12,
          -6483527.74,
          -1401547.5,
          -327327.72,
          -3196766.7,
          -50575570.72,
          -13016797.26,
          -5128123.92,
          -578542.9199999999,
          -3909483.96,
          -1622293.74,
          -6561482.18,
          -10634634.18,
          -6410204.32,
          -1129176.22,
          -5799791.9,
          -615652.76,
          -686647.84,
          -6063.139999999999,
          -46800,
          -13464877.12,
          -681486.22,
          -780326.34,
          -1631495.6800000002,
          -999229.7,
          -683467.8,
          -6063.139999999999,
          -2927965.56,
          -5246865.68,
          -639743.36,
          -263215.26,
          -45728559.86,
          -4935559.26,
          -9890434.040000001,
          -1448618.98,
          -521791.32,
          -5301668.22,
          -15188687.32,
          -1336700.72,
          -3677185.7,
          -3571219,
          -642519.8,
          -6741210.1,
          -8318519.9,
          -8624585.18,
          -5112420.819999999,
          -5687440.279999999,
          -6702328.680000001,
          -4856369.6,
          -736.82,
          -3495212.9,
          -3190886.16,
          -3378069.3600000003,
          -3099793.58,
          -469856.68,
          -468998.25999999995,
          -511442.82,
          -562523.58,
          -844742.24,
          -218132.7,
          -222462.92,
          -1226411.46,
          -1121766.38,
          -1174125.34,
          -502212.64,
          -689809.56,
          -654410.64,
          -6276202.7,
          -187163.7,
          -225761.09999999998,
          -222046.72,
          -220857.62,
          -223877.41999999998,
          -906865.72,
          -547021.26,
          -463350.5,
          -505284.76,
          -484571.88,
          -89912.3,
          -577590.32,
          -1332826.28,
          -584443.56,
          -528430.88,
          -489940.62,
          -477113.18,
          -570344.74,
          -365278.9,
          -789823.9400000001,
          -677785.22,
          -1037195.92,
          -1027794.76,
          -822466.1,
          -690795.52,
          -2283519,
          -1448367.32,
          -9561669,
          -13864661,
          -15497.7,
          -65000,
          -691667.36,
          -19580.980000000003,
          -19580.980000000003,
          -1707465.2999999998,
          -18742393.9,
          -663765.76,
          -150296.72,
          -410930.98,
          -81235.94,
          -9736447.2,
          -918497,
          -2629529.44,
          -3643184.82,
          -48935949.22,
          -5929049.58,
          -11528381.18,
          -2047787.5,
          -14225915.4,
          -5668461.24,
          -130909.78,
          -600651.48,
          -451310.38,
          -1453528.52,
          -388028.76,
          -621144.46,
          -162724.02,
          -9696000,
          -359617.2,
          -9730880,
          -303891.88,
          -2020000,
          -8044218.819999999,
          -8626546.3,
          -5285947.16,
          -19581,
          -102037.62,
          -2728112,
          -1133757.04,
          -205828.6,
          -25595.940000000002,
          -25595.940000000002,
          -25595.960000000003,
          -47316681.02,
          -1506.24,
          -158110.16,
          -392474.94,
          -324486.16000000003,
          -373984.45999999996,
          -854.72,
          -2514464.4,
          -9267.52,
          -324875.76,
          -12960,
          -928821.18,
          -13764365.66,
          -485249.44,
          -5400.8,
          -383459.39999999997,
          -383459.38,
          -14048.46,
          2318.4800000000014,
          -254309.8,
          -319208.5,
          -1976.12,
          -10012.9,
          -823137.82,
          -658921,
          -4909942.2,
          -6143673.24,
          -56190.12,
          -21260622.32,
          -7654962.37,
          -106400,
          -8900835.6,
          -7150.9,
          -14048.48,
          -50730579.940000005,
          -302075.9,
          -734342.88,
          -4722148.58,
          -16970676.12,
          -14048.48,
          -4251258.58,
          -6583400.42,
          -2305022.46,
          -7192065.54,
          -1950000,
          0,
          -10408052.64,
          -110915.95999999999,
          -7150.9,
          -7150.9,
          -276312.3,
          -8843988.18,
          -14048.48,
          -936.56,
          -728068.84,
          -1843821.6400000001,
          -936.56,
          -12971762.1,
          -4567.02,
          -2968084.36,
          -1511501.82,
          -767175.0599999999,
          -423274.8,
          -918946.1799999999,
          -1020523.1,
          -1202440.38,
          -1025536.42,
          -1285007.3800000001,
          -382378.18,
          -3858800,
          -2374416.46,
          -1127212.94,
          -955817.52,
          -459663.72,
          -510352.06,
          -435743.86,
          -522016.60000000003,
          -489470.86,
          -21808.76,
          -5316695.5200000005,
          -21808.76,
          -21808.76,
          -8270463.9799999995,
          -12920561.860000001,
          -11502770.9,
          -7173200,
          -5827067.2,
          -257778.46,
          -349865.1,
          -1402161.34,
          -2103091.82,
          -1542812.86,
          -987089.78,
          -240000,
          -65138481.96,
          -1038630.24,
          -5367599.140000001,
          -17052185.56,
          -817269.1799999999,
          -1723090.76,
          -8969172.620000001,
          -72000,
          -14144386.8,
          -1193658.2,
          -581971.94,
          -1008439.6599999999,
          -327247.38,
          -2695433.14,
          -2979081.82,
          -1088260.88,
          -21808.76,
          -7728925.100000001,
          -418118.04000000004,
          -10156145,
          -755407.38,
          -81464.26,
          -21808.739999999998,
          -6868639.56,
          -7340192.199999999,
          -336073.28,
          -831517.34,
          -285760.52,
          -4983463.48,
          -33646,
          -282095.52,
          -4567.04,
          -1212110.64,
          -41284.46,
          -47004142.86,
          -254400,
          -7193775.16,
          -6244411.2,
          -1971494.2,
          -17576316.6,
          -388718.9,
          -1677.6,
          -2077528.18,
          -1706231.74,
          -485829.94,
          -8850.72,
          -1327774.82,
          -357202.82,
          -8850.74,
          -89836,
          -8850.72,
          -8850.72,
          -60704,
          -8850.74,
          -6384.3,
          -3636.3600000001024,
          -1278750,
          -6031504.3,
          -15497.7,
          -11274796.36,
          -431761.44,
          -300859.54,
          -15497.7,
          -172182.4,
          -126.56,
          -47697192.080000006,
          -15497.7,
          -15497.7,
          -4567.04,
          -4567.04,
          -4567.04,
          -17128124.2,
          -3079243.06,
          -6942402.76,
          -14991766.92,
          -2046235.18,
          -67208.26,
          -13672.72,
          -1127178.76,
          -22198.34,
          -3623058.16,
          -1246962.9,
          -323653.24,
          -91553.06,
          -4423636.3,
          -2356127.72,
          -12643704,
          -300000,
          -1893386.82,
          -108573.66,
          -11049812.499999998,
          -13581721.700000001,
          -5726146.4,
          -6144350.899999999,
          -693382.74,
          -7524461.72,
          -1140166.32,
          -1140166.04,
          -725771.78,
          -170057.86,
          -3020362.82,
          -1931200.12,
          -2710008.54,
          -1939232.26,
          -2440652.68,
          -12123723.58,
          -233999.28,
          -15497.7,
          -15497.7,
          -15497.7,
          -15497.720000000001,
          -5285426.26,
          -5874.38,
          -8361.72,
          -15497.720000000001,
          -7150.88,
          -775940.0599999999,
          -2132.22,
          -5874.4,
          -7150.88,
          -8920531.24,
          -61105.5,
          -2014347.26,
          -906616.74,
          -286032.02,
          -1027079.96,
          -606990.0800000001,
          -15497.720000000001,
          -4892039.12,
          -1786965.1,
          -188063.68,
          -15497.720000000001,
          -11625408,
          -12012657.16,
          -52202528.6,
          -596194.88,
          -3161526.2600000002,
          -16952316.2,
          -15139557.44,
          -1917149.22,
          -7509149.080000001,
          -5089291.58,
          -4608143.74,
          -430000,
          -101395.52,
          -61680.020000000004,
          -4205943.44,
          -3450319.18,
          -3611239.64,
          -562913.02,
          -562990.48,
          -365796.82,
          -1402204.02,
          -1402220.18,
          -315619.04,
          -633302.2,
          -14439040,
          -13995520,
          -5874.4,
          -979265.4199999999,
          -1010721.4400000001,
          -1577256.74,
          -1492586.18,
          -201317.6,
          -183544.74,
          -5407966.98,
          -2061678.8,
          -335201.86,
          -3604506.5,
          -524382.66,
          -524382.98,
          -448799.16,
          -5874.4,
          -14323.8,
          -5874.4,
          -605800.04,
          -486567.87999999995,
          -34779.06,
          -6475738.94,
          -832978.94,
          -5874.4,
          -694609.78,
          -6002.860000000001,
          -5874.4,
          -5874.4,
          -1791406.52,
          -2450927.98,
          -15551391.66,
          -8290931.86,
          -5874.4,
          -5874.4,
          -174881.02,
          -289212.26,
          -233375.68000000002,
          -4232782.74,
          -1325689.28,
          -6772572.739999999,
          -446946.6,
          -10273000.32,
          -54893258.54,
          -731036.26,
          -430000,
          -318445.92,
          -528952.7,
          -633770.8,
          -1118004.86,
          -931788.7,
          -931788.7,
          -801341.46,
          -134882.32,
          -3961314,
          -28838.54,
          -776746.88,
          -134000,
          -434193.36000000004,
          -1073007.4,
          -775379.02,
          -45182.2,
          -1069583.36,
          -1184672.48,
          -13187391.82,
          -143976.96,
          -6047800.74,
          -308815.2,
          -214000.88,
          -798449.84,
          -1381536.4,
          -112945.04,
          -885110.3,
          -619058.5,
          -466073.16,
          -2841884.18,
          -14533302.540000001,
          -15623958.18,
          -2240396.28,
          -8702504.8,
          -11497135.98,
          -50084426.52,
          -16420019.56,
          -779929.8,
          -6303050.640000001,
          -8074.339999999999,
          -5892563.92,
          -15400,
          -637927.4199999999,
          -627717.56,
          -781182.1799999999,
          -352276.48,
          -1622033.1600000001,
          -320220.68,
          -544132.2,
          -936965.24,
          -1146570.68,
          -219796.2,
          -178028.34,
          -668876.3200000001,
          -826411.5599999999,
          -148922.16,
          -148928.30000000002,
          -148909.88,
          -167236.86000000002,
          -41154.67999999999,
          -220766.9,
          -1588501.1600000001,
          -1598555.87,
          -1424486.1400000001,
          -195407.2,
          -175015.7,
          -111847.92000000001,
          -147927.16,
          -246131.2,
          -161419.02,
          -998357.84,
          -2440548.26,
          -1678579.3199999998,
          -404398.54,
          -824212.66,
          -7062287.5200000005,
          -1902301.66,
          -560977.82,
          -102917.6,
          -60493.4,
          -1450959.66,
          -1427556.28,
          -1274464.9,
          -943131.3600000001,
          -75892,
          -1331197.56,
          -1920226.1300000001,
          -214439.64,
          -473629.36,
          -205797.24,
          -846524.34,
          -819745.78,
          -881273.7,
          -658339.4,
          -72468,
          -175912,
          -2378836.3,
          -360000,
          -7559566.16,
          -6742684.4,
          -19433750.98,
          -17227846.5,
          -2232083.42,
          -8915047.28,
          -14080677.12,
          -10795107.24,
          -178670,
          -56674208.68,
          -8395044.74,
          -76470,
          -186714,
          -5357221.4399999995,
          -24172105.56,
          -436117.98,
          -2963629.16,
          -1059271.84,
          -1098263.76,
          -2239376.48,
          -480400,
          -2187790.84,
          -1818125.66,
          -429255.6,
          -429255.6,
          -816000,
          -1581555.2999999998,
          -926071.1,
          -3955435.2,
          -3759862.08,
          -35495.36,
          -16400,
          -482270.24,
          -12623725.26,
          -9701221.98,
          -791095.74,
          -4191205.02,
          -2801493.1,
          -8268426.899999999,
          -947507.06,
          -795992,
          -423701.64,
          -459889.86,
          -267831.68,
          -236833.14,
          -405799.52,
          -1205998.6400000001,
          -712897.68,
          -371854.32,
          -796624.16,
          -3392940.52,
          -1372487.06,
          -1411522.62,
          -14074260.06,
          -1722796.24,
          -94615.42,
          -76475555.42,
          -22627305.040000003,
          -16861508.56,
          -125050.14,
          -772936.0199999999,
          -837000,
          -1440728.01,
          -156800,
          -1511559.3399999999,
          -1062515.9200000002,
          -1602792.3,
          -5515760.14,
          -21471437.200000003,
          -20450930.380000003,
          -2613557.72,
          -12439875.48,
          -18414060.62,
          -926911.9400000001,
          -10241396.94,
          -17446.9,
          -77637.88,
          -33642.38,
          -547370.64,
          -4165.28,
          -447320,
          -7782.54,
          -193961.2,
          -201136.02,
          -550000,
          -6237.14,
          -1855327.28,
          -196526.06,
          -4736046.42,
          -716403.04,
          -1806873.22,
          -2007801.7200000002,
          -775988.62,
          -775988.62,
          -206701.54,
          -466392.46,
          -466392.46,
          -892767.6800000002,
          -391100.24,
          -1935000,
          -8319435.88,
          -2270089.1,
          -208939.76,
          -1374968,
          -588412.16,
          -2801627.1199999996,
          -846239.91,
          -17584890.86,
          -68054666.12,
          -50442.3,
          -1858718.96,
          -21388229.27,
          -18274557.68,
          -2446402.38,
          -10506169.66,
          -21400568.02,
          -8571907.92,
          -109853.76,
          -2997025.66,
          -1088813.78,
          -110201.5,
          -14508986.86,
          -470000,
          -33975.87,
          -10041781.28,
          -69739.36,
          -37198.45,
          -419304,
          -6011943.4399999995,
          -1798662.1199999999,
          -21845122.88,
          -6529086.18,
          -9311720.82,
          -896000,
          -35169.16,
          -936284.81,
          -206330.14,
          -374970.96,
          -2255715.46,
          -374970.96,
          -1255682.44,
          -1459957.24,
          -617486.24,
          -789293.6599999999,
          -10926.439999999999,
          -10926.42,
          -423577.94,
          -20152427.5,
          -389910.04000000004,
          -400283.2,
          -65635869.48,
          -19067546.96,
          -976080.26,
          -1305036.84,
          -910000,
          -7947110.46,
          -3607926.7399999998,
          -7836160.7,
          -3058698.5,
          -607452.71,
          -412893.42,
          -412893.42,
          -1045221.5,
          -1045221.0800000001,
          -80688.64,
          -5007299.56,
          -19005588.88,
          -18690071.78,
          -1769568.28,
          -11617555.600000001,
          -18648427.18,
          -2215716.96,
          -1730739.02,
          -1032470,
          -98671.07999999999,
          -2043376.9,
          -12520053,
          -2071296.48,
          -2277576.11,
          -3230869.12,
          -412893.42,
          -2128975.58,
          -362308.36,
          -362308.36,
          -473701.8,
          -1100000,
          -995238.08,
          -18727383.16,
          -6532089.08,
          -7488007.88,
          -4383896.02,
          -1048331.26,
          -3050300.12,
          -6003370.1,
          -471693.45,
          -413754.35,
          -371129.26,
          -73532.71,
          -2211.3199999999997,
          -276241.2,
          -5101854.26,
          -10877604.84,
          -4769654,
          -8981488.92,
          -220000,
          -70005326.94,
          -20134790.42,
          -1372280.32,
          -1304177.06,
          -1001976.46,
          -21105072.220000003,
          -8315402.9399999995,
          -17693798.48,
          -18530576.18,
          -12284670.74,
          -24711512.8,
          -1799820.44,
          -1545898.58,
          -550000,
          -4311975.92,
          -8491217.3,
          -9056325.8,
          -807789.2,
          -63626.420000000006,
          -4741991.58,
          -1901360,
          -522360,
          -1280315.54,
          -307025.48,
          -575425.7599999999,
          -895621.08,
          -68740,
          -1166486.1,
          -1166484.86,
          -4922243.62,
          -511443.04,
          -2377421.58,
          -6530090.12,
          -85148.29999999999,
          -1809169.9,
          -12380074.93,
          -5848669.74,
          -4930063.38,
          -9612389.41,
          -32809535.119999997,
          -77436544.98,
          -172291.88,
          -2467009.66,
          -10768052.67,
          -17880655.380000003,
          -13884977.64,
          -1072150.03,
          -278724.46,
          -334469.34,
          -700501,
          -1494282.24,
          -605123.32,
          -1611539.66,
          -1840207,
          -1900000,
          -1330478.72,
          -635309.92,
          -624598.72,
          -395137.08999999997,
          -394652.2,
          -506769.62,
          -433871.47000000003,
          -1268257.47,
          -282312,
          -440000,
          -2695432.86,
          -1330477.66,
          -347758.2,
          -123681.54,
          -62724.649999999994,
          -323506.72,
          -353915.69,
          -11245820.54,
          -110433.45,
          -107289.07,
          -7646.04,
          -7687734.45
         ]
        }
       ],
       "layout": {
        "template": {
         "data": {
          "bar": [
           {
            "error_x": {
             "color": "#2a3f5f"
            },
            "error_y": {
             "color": "#2a3f5f"
            },
            "marker": {
             "line": {
              "color": "#E5ECF6",
              "width": 0.5
             },
             "pattern": {
              "fillmode": "overlay",
              "size": 10,
              "solidity": 0.2
             }
            },
            "type": "bar"
           }
          ],
          "barpolar": [
           {
            "marker": {
             "line": {
              "color": "#E5ECF6",
              "width": 0.5
             },
             "pattern": {
              "fillmode": "overlay",
              "size": 10,
              "solidity": 0.2
             }
            },
            "type": "barpolar"
           }
          ],
          "carpet": [
           {
            "aaxis": {
             "endlinecolor": "#2a3f5f",
             "gridcolor": "white",
             "linecolor": "white",
             "minorgridcolor": "white",
             "startlinecolor": "#2a3f5f"
            },
            "baxis": {
             "endlinecolor": "#2a3f5f",
             "gridcolor": "white",
             "linecolor": "white",
             "minorgridcolor": "white",
             "startlinecolor": "#2a3f5f"
            },
            "type": "carpet"
           }
          ],
          "choropleth": [
           {
            "colorbar": {
             "outlinewidth": 0,
             "ticks": ""
            },
            "type": "choropleth"
           }
          ],
          "contour": [
           {
            "colorbar": {
             "outlinewidth": 0,
             "ticks": ""
            },
            "colorscale": [
             [
              0,
              "#0d0887"
             ],
             [
              0.1111111111111111,
              "#46039f"
             ],
             [
              0.2222222222222222,
              "#7201a8"
             ],
             [
              0.3333333333333333,
              "#9c179e"
             ],
             [
              0.4444444444444444,
              "#bd3786"
             ],
             [
              0.5555555555555556,
              "#d8576b"
             ],
             [
              0.6666666666666666,
              "#ed7953"
             ],
             [
              0.7777777777777778,
              "#fb9f3a"
             ],
             [
              0.8888888888888888,
              "#fdca26"
             ],
             [
              1,
              "#f0f921"
             ]
            ],
            "type": "contour"
           }
          ],
          "contourcarpet": [
           {
            "colorbar": {
             "outlinewidth": 0,
             "ticks": ""
            },
            "type": "contourcarpet"
           }
          ],
          "heatmap": [
           {
            "colorbar": {
             "outlinewidth": 0,
             "ticks": ""
            },
            "colorscale": [
             [
              0,
              "#0d0887"
             ],
             [
              0.1111111111111111,
              "#46039f"
             ],
             [
              0.2222222222222222,
              "#7201a8"
             ],
             [
              0.3333333333333333,
              "#9c179e"
             ],
             [
              0.4444444444444444,
              "#bd3786"
             ],
             [
              0.5555555555555556,
              "#d8576b"
             ],
             [
              0.6666666666666666,
              "#ed7953"
             ],
             [
              0.7777777777777778,
              "#fb9f3a"
             ],
             [
              0.8888888888888888,
              "#fdca26"
             ],
             [
              1,
              "#f0f921"
             ]
            ],
            "type": "heatmap"
           }
          ],
          "heatmapgl": [
           {
            "colorbar": {
             "outlinewidth": 0,
             "ticks": ""
            },
            "colorscale": [
             [
              0,
              "#0d0887"
             ],
             [
              0.1111111111111111,
              "#46039f"
             ],
             [
              0.2222222222222222,
              "#7201a8"
             ],
             [
              0.3333333333333333,
              "#9c179e"
             ],
             [
              0.4444444444444444,
              "#bd3786"
             ],
             [
              0.5555555555555556,
              "#d8576b"
             ],
             [
              0.6666666666666666,
              "#ed7953"
             ],
             [
              0.7777777777777778,
              "#fb9f3a"
             ],
             [
              0.8888888888888888,
              "#fdca26"
             ],
             [
              1,
              "#f0f921"
             ]
            ],
            "type": "heatmapgl"
           }
          ],
          "histogram": [
           {
            "marker": {
             "pattern": {
              "fillmode": "overlay",
              "size": 10,
              "solidity": 0.2
             }
            },
            "type": "histogram"
           }
          ],
          "histogram2d": [
           {
            "colorbar": {
             "outlinewidth": 0,
             "ticks": ""
            },
            "colorscale": [
             [
              0,
              "#0d0887"
             ],
             [
              0.1111111111111111,
              "#46039f"
             ],
             [
              0.2222222222222222,
              "#7201a8"
             ],
             [
              0.3333333333333333,
              "#9c179e"
             ],
             [
              0.4444444444444444,
              "#bd3786"
             ],
             [
              0.5555555555555556,
              "#d8576b"
             ],
             [
              0.6666666666666666,
              "#ed7953"
             ],
             [
              0.7777777777777778,
              "#fb9f3a"
             ],
             [
              0.8888888888888888,
              "#fdca26"
             ],
             [
              1,
              "#f0f921"
             ]
            ],
            "type": "histogram2d"
           }
          ],
          "histogram2dcontour": [
           {
            "colorbar": {
             "outlinewidth": 0,
             "ticks": ""
            },
            "colorscale": [
             [
              0,
              "#0d0887"
             ],
             [
              0.1111111111111111,
              "#46039f"
             ],
             [
              0.2222222222222222,
              "#7201a8"
             ],
             [
              0.3333333333333333,
              "#9c179e"
             ],
             [
              0.4444444444444444,
              "#bd3786"
             ],
             [
              0.5555555555555556,
              "#d8576b"
             ],
             [
              0.6666666666666666,
              "#ed7953"
             ],
             [
              0.7777777777777778,
              "#fb9f3a"
             ],
             [
              0.8888888888888888,
              "#fdca26"
             ],
             [
              1,
              "#f0f921"
             ]
            ],
            "type": "histogram2dcontour"
           }
          ],
          "mesh3d": [
           {
            "colorbar": {
             "outlinewidth": 0,
             "ticks": ""
            },
            "type": "mesh3d"
           }
          ],
          "parcoords": [
           {
            "line": {
             "colorbar": {
              "outlinewidth": 0,
              "ticks": ""
             }
            },
            "type": "parcoords"
           }
          ],
          "pie": [
           {
            "automargin": true,
            "type": "pie"
           }
          ],
          "scatter": [
           {
            "fillpattern": {
             "fillmode": "overlay",
             "size": 10,
             "solidity": 0.2
            },
            "type": "scatter"
           }
          ],
          "scatter3d": [
           {
            "line": {
             "colorbar": {
              "outlinewidth": 0,
              "ticks": ""
             }
            },
            "marker": {
             "colorbar": {
              "outlinewidth": 0,
              "ticks": ""
             }
            },
            "type": "scatter3d"
           }
          ],
          "scattercarpet": [
           {
            "marker": {
             "colorbar": {
              "outlinewidth": 0,
              "ticks": ""
             }
            },
            "type": "scattercarpet"
           }
          ],
          "scattergeo": [
           {
            "marker": {
             "colorbar": {
              "outlinewidth": 0,
              "ticks": ""
             }
            },
            "type": "scattergeo"
           }
          ],
          "scattergl": [
           {
            "marker": {
             "colorbar": {
              "outlinewidth": 0,
              "ticks": ""
             }
            },
            "type": "scattergl"
           }
          ],
          "scattermapbox": [
           {
            "marker": {
             "colorbar": {
              "outlinewidth": 0,
              "ticks": ""
             }
            },
            "type": "scattermapbox"
           }
          ],
          "scatterpolar": [
           {
            "marker": {
             "colorbar": {
              "outlinewidth": 0,
              "ticks": ""
             }
            },
            "type": "scatterpolar"
           }
          ],
          "scatterpolargl": [
           {
            "marker": {
             "colorbar": {
              "outlinewidth": 0,
              "ticks": ""
             }
            },
            "type": "scatterpolargl"
           }
          ],
          "scatterternary": [
           {
            "marker": {
             "colorbar": {
              "outlinewidth": 0,
              "ticks": ""
             }
            },
            "type": "scatterternary"
           }
          ],
          "surface": [
           {
            "colorbar": {
             "outlinewidth": 0,
             "ticks": ""
            },
            "colorscale": [
             [
              0,
              "#0d0887"
             ],
             [
              0.1111111111111111,
              "#46039f"
             ],
             [
              0.2222222222222222,
              "#7201a8"
             ],
             [
              0.3333333333333333,
              "#9c179e"
             ],
             [
              0.4444444444444444,
              "#bd3786"
             ],
             [
              0.5555555555555556,
              "#d8576b"
             ],
             [
              0.6666666666666666,
              "#ed7953"
             ],
             [
              0.7777777777777778,
              "#fb9f3a"
             ],
             [
              0.8888888888888888,
              "#fdca26"
             ],
             [
              1,
              "#f0f921"
             ]
            ],
            "type": "surface"
           }
          ],
          "table": [
           {
            "cells": {
             "fill": {
              "color": "#EBF0F8"
             },
             "line": {
              "color": "white"
             }
            },
            "header": {
             "fill": {
              "color": "#C8D4E3"
             },
             "line": {
              "color": "white"
             }
            },
            "type": "table"
           }
          ]
         },
         "layout": {
          "annotationdefaults": {
           "arrowcolor": "#2a3f5f",
           "arrowhead": 0,
           "arrowwidth": 1
          },
          "autotypenumbers": "strict",
          "coloraxis": {
           "colorbar": {
            "outlinewidth": 0,
            "ticks": ""
           }
          },
          "colorscale": {
           "diverging": [
            [
             0,
             "#8e0152"
            ],
            [
             0.1,
             "#c51b7d"
            ],
            [
             0.2,
             "#de77ae"
            ],
            [
             0.3,
             "#f1b6da"
            ],
            [
             0.4,
             "#fde0ef"
            ],
            [
             0.5,
             "#f7f7f7"
            ],
            [
             0.6,
             "#e6f5d0"
            ],
            [
             0.7,
             "#b8e186"
            ],
            [
             0.8,
             "#7fbc41"
            ],
            [
             0.9,
             "#4d9221"
            ],
            [
             1,
             "#276419"
            ]
           ],
           "sequential": [
            [
             0,
             "#0d0887"
            ],
            [
             0.1111111111111111,
             "#46039f"
            ],
            [
             0.2222222222222222,
             "#7201a8"
            ],
            [
             0.3333333333333333,
             "#9c179e"
            ],
            [
             0.4444444444444444,
             "#bd3786"
            ],
            [
             0.5555555555555556,
             "#d8576b"
            ],
            [
             0.6666666666666666,
             "#ed7953"
            ],
            [
             0.7777777777777778,
             "#fb9f3a"
            ],
            [
             0.8888888888888888,
             "#fdca26"
            ],
            [
             1,
             "#f0f921"
            ]
           ],
           "sequentialminus": [
            [
             0,
             "#0d0887"
            ],
            [
             0.1111111111111111,
             "#46039f"
            ],
            [
             0.2222222222222222,
             "#7201a8"
            ],
            [
             0.3333333333333333,
             "#9c179e"
            ],
            [
             0.4444444444444444,
             "#bd3786"
            ],
            [
             0.5555555555555556,
             "#d8576b"
            ],
            [
             0.6666666666666666,
             "#ed7953"
            ],
            [
             0.7777777777777778,
             "#fb9f3a"
            ],
            [
             0.8888888888888888,
             "#fdca26"
            ],
            [
             1,
             "#f0f921"
            ]
           ]
          },
          "colorway": [
           "#636efa",
           "#EF553B",
           "#00cc96",
           "#ab63fa",
           "#FFA15A",
           "#19d3f3",
           "#FF6692",
           "#B6E880",
           "#FF97FF",
           "#FECB52"
          ],
          "font": {
           "color": "#2a3f5f"
          },
          "geo": {
           "bgcolor": "white",
           "lakecolor": "white",
           "landcolor": "#E5ECF6",
           "showlakes": true,
           "showland": true,
           "subunitcolor": "white"
          },
          "hoverlabel": {
           "align": "left"
          },
          "hovermode": "closest",
          "mapbox": {
           "style": "light"
          },
          "paper_bgcolor": "white",
          "plot_bgcolor": "#E5ECF6",
          "polar": {
           "angularaxis": {
            "gridcolor": "white",
            "linecolor": "white",
            "ticks": ""
           },
           "bgcolor": "#E5ECF6",
           "radialaxis": {
            "gridcolor": "white",
            "linecolor": "white",
            "ticks": ""
           }
          },
          "scene": {
           "xaxis": {
            "backgroundcolor": "#E5ECF6",
            "gridcolor": "white",
            "gridwidth": 2,
            "linecolor": "white",
            "showbackground": true,
            "ticks": "",
            "zerolinecolor": "white"
           },
           "yaxis": {
            "backgroundcolor": "#E5ECF6",
            "gridcolor": "white",
            "gridwidth": 2,
            "linecolor": "white",
            "showbackground": true,
            "ticks": "",
            "zerolinecolor": "white"
           },
           "zaxis": {
            "backgroundcolor": "#E5ECF6",
            "gridcolor": "white",
            "gridwidth": 2,
            "linecolor": "white",
            "showbackground": true,
            "ticks": "",
            "zerolinecolor": "white"
           }
          },
          "shapedefaults": {
           "line": {
            "color": "#2a3f5f"
           }
          },
          "ternary": {
           "aaxis": {
            "gridcolor": "white",
            "linecolor": "white",
            "ticks": ""
           },
           "baxis": {
            "gridcolor": "white",
            "linecolor": "white",
            "ticks": ""
           },
           "bgcolor": "#E5ECF6",
           "caxis": {
            "gridcolor": "white",
            "linecolor": "white",
            "ticks": ""
           }
          },
          "title": {
           "x": 0.05
          },
          "xaxis": {
           "automargin": true,
           "gridcolor": "white",
           "linecolor": "white",
           "ticks": "",
           "title": {
            "standoff": 15
           },
           "zerolinecolor": "white",
           "zerolinewidth": 2
          },
          "yaxis": {
           "automargin": true,
           "gridcolor": "white",
           "linecolor": "white",
           "ticks": "",
           "title": {
            "standoff": 15
           },
           "zerolinecolor": "white",
           "zerolinewidth": 2
          }
         }
        },
        "title": {
         "text": "Gráfico de dispersión con Clustering"
        },
        "xaxis": {
         "title": {
          "text": "Ventas"
         }
        },
        "yaxis": {
         "title": {
          "text": "Gastos_Activos"
         }
        }
       }
      }
     },
     "metadata": {},
     "output_type": "display_data"
    }
   ],
   "source": [
    "#Valores de las columnas 'Ventas' y 'Gastos_Activos'\n",
    "X = df_resultado[['Ventas', 'Gastos_Activos']].values\n",
    "#Distancias entre los puntos de datos utilizando la distancia euclidiana\n",
    "dist_matrix = distance.cdist(X, X, 'euclidean')\n",
    "threshold = 21500000\n",
    "\n",
    "#Definimos el umbral\n",
    "#Generamos el clusters segun el umbral:\n",
    "clusters = []\n",
    "assigned = [False] * len(X)\n",
    "\n",
    "for i in range(len(X)):\n",
    "    if not assigned[i]:\n",
    "        cluster = [i]\n",
    "        for j in range(i + 1, len(X)):\n",
    "            if not assigned[j] and dist_matrix[i, j] <= threshold:\n",
    "                cluster.append(j)\n",
    "                assigned[j] = True\n",
    "        clusters.append(cluster)\n",
    "\n",
    "# Reseteamos el índice del DataFrame        \n",
    "df_resultado.reset_index(drop=True, inplace=True)\n",
    "\n",
    "#Asignación de los numeros de cluster que tenemos en el dataframe:\n",
    "df_resultado['Cluster'] = -1\n",
    "\n",
    "for i, cluster in enumerate(clusters):\n",
    "    df_resultado.loc[cluster, 'Cluster'] = i\n",
    "# Creamos del grafico:\n",
    "fig = go.Figure()\n",
    "\n",
    "# Agregamos los puntos de datos al gráfico\n",
    "fig.add_trace(go.Scatter(\n",
    "    x=df_resultado['Ventas'],\n",
    "    y=df_resultado['Gastos_Activos'],\n",
    "    mode='markers',\n",
    "    marker=dict(color=df_resultado['Cluster'], colorscale='Viridis', size=10),\n",
    "    hovertemplate='Obra: %{text}<br>Cluster: %{marker.color}<extra></extra>',\n",
    "    text=df_resultado['Obra']\n",
    "))\n",
    "\n",
    "# Personaliza el diseño del gráfico\n",
    "fig.update_layout(\n",
    "    title='Gráfico de dispersión con Clustering',\n",
    "    xaxis=dict(title='Ventas'),\n",
    "    yaxis=dict(title='Gastos_Activos')\n",
    ")\n",
    "\n",
    "# Mostrar el gráfico\n",
    "fig.show()\n"
   ]
  },
  {
   "cell_type": "code",
   "execution_count": 49,
   "metadata": {},
   "outputs": [
    {
     "name": "stdout",
     "output_type": "stream",
     "text": [
      "Cantidad de Clusters: 8\n",
      "Cluster 0:\n",
      "['230858', '231273', '240052', '241289', '241537', '242584', '242863', '242864', '242865', '243127', '243128', '243215', '243216', '243249', '243331', '243332', '243460', '243472', '243476', '243510', '243529', '243530', '243531', '243532', '243534', '243535', '243536', '243537', '243547', '243552', '243553', '243555', '243556', '243560', '243563', '243566', '243580', '243595', '243608', '243625', '243626', '243627', '243628', '243629', '243630', '243633', '243645', '243648', '243656', '243657', '243659', '243667', '243668', '243669', '243673', '243676', '243684', '243685', '243688', '243689', '243693', '243696', '243697', '243703', '243708', '243711', '243712', '243713', '243723', '243734', '243735', '243736', '243737', '243738', '243739', '243740', '243751', '243752', '243753', '243754', '243755', '243756', '243757', '243758', '243759', '243760', '243763', '243764', '243765', '243766', '243768', '243774', '243775', '243777', '243778', '243779', '243780', '243781', '243782', '243785', '243787', '243788', '243789', '243790', '243791', '243792', '243793', '243795', '243796', '243800', '243801', '243802', '243803', '243804', '243805', '243806', '243811', '243813', '243816', '243817', '243818', '243819', '243820', '243821', '243822', '243823', '243824', '243825', '243826', '243827', '243831', '243832', '243836', '243837', '243838', '243839', '243842', '243843', '243844', '243845', '243846', '243847', '243848', '243849', '243850', '243851', '243852', '243853', '243854', '243855', '243858', '243859', '243861', '243862', '243863', '243864', '243865', '243866', '243867', '243868', '243869', '243870', '243871', '243872', '243873', '243874', '243875', '243878', '243879', '243881', '243882', '243883', '243884', '243885', '243886', '243887', '243889', '243890', '243891', '243893', '243894', '243896', '243897', '243898', '243899', '243900', '243901', '243904', '243905', '243906', '243907', '243908', '243909', '243910', '243911', '243912', '243913', '243914', '243915', '243916', '243917', '243918', '243919', '243920', '243921', '243922', '243923', '243924', '243926', '243927', '243928', '243929', '243930', '243931', '243933', '243934', '243935', '243936', '243937', '243938', '243939', '243940', '243941', '243942', '243943', '243944', '243945', '243946', '243947', '243948', '243949', '243950', '243951', '243954', '243955', '243956', '243957', '243958', '243959', '243962', '243963', '243964', '243966', '243974', '243975', '243976', '243977', '243978', '243981', '243982', '243983', '243984', '243985', '243986', '243990', '243991', '243992', '243993', '243994', '243995', '243996', '243997', '243998', '243999', '244000', '244002', '244003', '244005', '244006', '244007', '244008', '244009', '244010', '244012', '244013', '244014', '244015', '244016', '244018', '244019', '244020', '244021', '244022', '244023', '244024', '244025', '244027', '244028', '244037', '244038', '244039', '244042', '244043', '244044', '244045', '244046', '244047', '244048', '244049', '244050', '244054', '244055', '244056', '244057', '244058', '244059', '244060', '244064', '244065', '244067', '244068', '244069', '244070', '244071', '244076', '244077', '244078', '244080', '244081', '244082', '244083', '244084', '244088', '244089', '244090', '244091', '244092', '244095', '244096', '244097', '244098', '244099', '244100', '244101', '244102', '244103', '244104', '244105', '244106', '244107', '244108', '244109', '244110', '244111', '244112', '244113', '244114', '244115', '244116', '244117', '244118', '244119', '244120', '244121', '244122', '244123', '244124', '244126', '244127', '244128', '244129', '244130', '244131', '244132', '244133', '244134', '244135', '244136', '244137', '244139', '244143', '244144', '244145', '244147', '244148', '244149', '244150', '244151', '244152', '244153', '244154', '244159', '244160', '244162', '244163', '244164', '244165', '244166', '244167', '244168', '244170', '244171', '244172', '244173', '244174', '244175', '244176', '244178', '244181', '244182', '244183', '244184', '244186', '244187', '244188', '244189', '244190', '244191', '244192', '244193', '244194', '244195', '244196', '244197', '244198', '244200', '244201', '244202', '244204', '244205', '244206', '244207', '244208', '244209', '244211', '244213', '244214', '244215', '244216', '244217', '244218', '244219', '244220', '244221', '244222', '244224', '244225', '244226', '244227', '244229', '244230', '244231', '244232', '244233', '244234', '244235', '244236', '244237', '244238', '244239', '244240', '244241', '244242', '244243', '244245', '244246', '244247', '244248', '244249', '244254', '244255', '244256', '244257', '244258', '244259', '244260', '244261', '244262', '244263', '244265', '244266', '244267', '244268', '244269', '244270', '244271', '244274', '244275', '244276', '244277', '244278', '244280', '244281', '244282', '244283', '244284', '244285', '244286', '244287', '244288', '244291', '244292', '244293', '244294', '244295', '244296', '244297', '244298', '244299', '244300', '244301', '244302', '244303', '244304', '244305', '244307', '244308', '244309', '244310', '244311', '244312', '244313', '244314', '244315', '244316', '244317', '244318', '244319', '244320', '244321', '244324', '244325', '244326', '244327', '244328', '244329', '244331', '244333', '244335', '244336', '244337', '244339', '244341', '244342', '244343', '244344', '244345', '244346', '244347', '244348', '244349', '244350', '244351', '244352', '244353', '244354', '244355', '244356', '244357', '244358', '244359', '244361', '244362', '244363', '244364', '244365', '244366', '244367', '244368', '244370', '244371', '244373', '244374', '244375', '244376', '244377', '244378', '244379', '244380', '244381', '244382', '244383', '244385', '244386', '244387', '244388', '244389', '244390', '244391', '244392', '244394', '244395', '244396', '244397', '244400', '244401', '244402', '244403', '244404', '244405', '244409', '244410', '244411', '244412', '244413', '244414', '244415', '244426', '244427', '244428', '244429', '244430', '244431', '244432', '244433', '244434', '244435', '244436', '244437', '244438', '244439', '244440', '244441', '244442', '244443', '244444', '244445', '244447', '244449', '244450', '244451', '244452', '244455', '244456', '244457', '244458', '244459', '244461', '244462', '244463', '244464', '244465', '244466', '244467', '244468', '244469', '244470', '244471', '244472', '244473', '244475', '244477', '244478', '244479', '244480', '244481', '244482', '244483', '244484', '244485', '244486', '244487', '244488', '244489', '244490', '244491', '244492', '244493', '244494', '244495', '244496', '244499', '244500', '244501', '244502', '244503', '244504', '244505', '244506', '244507', '244508', '244509', '244510', '244511', '244512', '244513', '244514', '244515', '244517', '244518', '244519', '244520', '244521', '244523', '244524', '244525', '244526', '244527', '244528', '244529', '244530', '244532', '244533', '244534', '244535', '244536', '244538', '244539', '244540', '244541', '244542', '244543', '244544', '244545', '244546', '244547', '244548', '244549', '244550', '244551', '244552', '244553', '244555', '244556', '244557', '244558', '244560', '244561', '244562', '244563', '244564', '244565', '244566', '244567', '244569', '244570', '244571', '244572', '244573', '244574', '244575', '244576', '244577', '244578', '244579', '244581', '244582', '244583', '244584', '244585', '244587', '244589', '244590', '244591', '244592', '244593', '244594', '244595', '244596', '244597', '244598', '244599', '244600', '244601', '244602', '244603', '244604', '244605', '244606', '244607', '244608', '244611', '244613', '244614', '244615', '244617', '244619', '244620', '244621', '244622', '244625', '244626', '244627', '244628', '244629', '244630', '244631', '244632', '244633', '244636', '244637', '244638', '244639', '244640', '244641', '244642', '244643', '244644', '244645', '244646', '244647', '244648', '244649', '244651', '244652', '244653', '244654', '244656', '244657', '244658', '244659', '244660', '244661', '244662', '244663', '244664', '244665', '244666', '244667', '244668', '244669', '244674', '244675', '244676', '244677', '244678', '244682', '244683', '244688', '244690', '244696', '244697', '244698', '244699', '244700', '244701', '244702', '244703', '244704', '244705', '244706', '244707', '244708', '244709', '244710', '244713', '244715', '244716', '244717', '244724', '244727', '244731', '244732', '244734', '244736', '244737', '244738', '244739', '244740', '244741', '244742', '244743', '244744', '244746', '244747', '244748', '244749', '244750', '244751', '244752', '244753', '244754', '244758', '244759', '244760', '244761', '244762', '244763', '244764', '244765', '244766', '244767', '244768', '244769', '244770', '244771', '244774', '244775', '244776', '244777', '244778', '244779', '244780', '244781', '244782', '244784', '244785', '244786', '244787', '244788', '244789', '244790', '244791', '244793', '244794', '244795', '244796', '244797', '244798', '244799', '244800', '244801', '244802', '244803', '244804', '244805', '244806', '244807', '244808', '244809', '244810', '244813', '244814', '244815', '244816', '244817', '244820', '244821', '244822', '244823', '244824', '244825', '244826', '244827', '244829', '244831', '244832', '244833', '244834', '244835', '244836', '244837', '244838', '244839', '244840', '244841', '244842', '244843', '244844', '244845', '244846', '244847', '244848', '244849', '244850', '244851', '244852', '244853', '244855', '244856', '244857', '244859', '244861', '244862', '244865', '244866', '244867', '244868', '244869', '244871', '244872', '244873', '244874', '244876', '244877', '244878', '244879', '244883', '244884', '244885', '244886', '244887', '244888', '244889', '244892', '244895', '244896', '244897', '244901', '244905', '244906', '244907', '244910', '244912', '244913', '244914', '244916', '244917', '244918', '244919', '244920', '244921', '244922', '244923', '244924', '244925', '244926', '244927', '244928', '244929', '244930', '244931', '244932', '244933', '244934', '244935', '244936', '244939', '244941', '244942', '244943', '244944', '244945', '244948', '244949', '244951', '244955', '244956', '244960', '244961', '244963', '244964', '244966', '244967', '244971', '244972', '244973', '244974', '244975', '244976', '244977', '244978', '244979', '244980', '244983', '244984', '244985', '244986', '244987', '244988', '244989', '244991', '244992', '244994', '244995', '244996', '244997', '244998', '244999', '245000', '245001', '245002', '245004', '245005', '245006', '245007', '245008', '245009', '245010', '245011', '245012', '245014', '245015', '245016', '245017', '245018', '245019', '245020', '245021', '245022', '245023', '245025', '245026', '245028', '245030', '245031', '245032', '245035', '245036', '245037', '245038', '245039', '245040', '245041', '245042', '245043', '245044', '245046', '245047', '245048', '245051', '245053', '245056', '245057', '245058', '245060', '245062', '245063', '245064', '245065', '245066', '245067', '245071', '245072', '245073', '245074', '245075', '245077', '245078', '245080', '245081', '245082', '245083', '245084', '245085', '245086', '245087', '245088', '245089', '245090', '245091', '245093', '245095', '245096', '245097', '245098', '245099', '245100', '245101', '245107', '245108', '245109', '245110', '245111', '245112', '245113', '245114', '245115', '245116', '245117', '245118', '245120', '245122', '245123', '245124', '245125', '245126', '245127', '245128', '245129', '245130', '245132', '245133', '245134', '245135', '245136', '245137', '245140', '245141', '245142', '245143', '245144', '245145', '245146', '245147', '245148', '245150', '245151', '245152', '245155', '245156', '245158', '245159', '245160', '245162', '245163', '245166', '245167', '245168', '245169', '245170', '245171', '245172', '245173', '245174', '245178', '245179', '245180', '245181', '245182', '245183', '245187', '245188', '245189', '245190', '245191', '245192', '245195', '245197', '245198', '245199', '245201', '245202', '245203', '245204', '245207', '245208', '245209', '245210', '245211', '245212', '245213', '245214', '245215', '245216', '245218', '245220', '245221', '245223', '245225', '245226', '245228', '245229', '245230', '245231', '245232', '245233', '245234', '245235', '245237', '245238', '245239', '245241', '245242', '245244', '245245', '245246', '245247', '245248', '245249', '245252', '245253', '245255', '245256', '245257', '245258', '245261', '245262', '245263', '245264', '245266', '245267', '245270', '245273', '245274', '245275', '245276', '245277', '245278', '245279', '245280', '245281', '245282', '245283', '245284', '245285', '245286', '245287', '245288', '245290', '245291', '245292', '245293', '245294', '245295', '245296', '245297', '245298', '245299', '245300', '245303', '245305', '245308', '245309', '245310', '245312', '245313', '245314', '245315', '245316', '245317', '245318', '245319', '245320', '245322', '245323', '245324', '245325', '245326', '245327', '245328', '245329', '245330', '245331', '245332', '245335', '245336', '245337', '245338', '245339', '245340', '245341', '245342', '245343', '245344', '245345', '245346', '245349', '245351', '245352', '245354', '245358', '245359', '245360', '245361', '245362', '245363', '245364', '245365', '245367', '245368', '245370', '245372', '245374', '245375', '245376', '245377', '245379', '245380', '245384', '245385', '245386', '245392', '245398', '245399', '245400', '245401', '245402', '245403', '245404', '245405', '245406', '245407', '245409', '245410', '245412', '245413', '245414', '245415', '245416', '245417', '245420', '245421', '245422', '245424', '245425', '245426', '245427', '245428', '245429', '245431', '245432', '245433', '245434', '245435', '245436', '245437', '245438', '245439', '245442', '245444', '245446', '245448', '245454', '245458', '245459', '245460', '245461', '245463', '245464', '245465', '245466', '245467', '245468', '245471', '245472', '245473', '245475', '245476', '245477', '245478', '245479', '245480', '245481', '245482', '245483', '245484', '245485', '245487', '245489', '245490', '245491', '245492', '245493', '245501', '245502', '245503', '245508', '245513', '245514', '245515', '245518', '245521', '245525', '245526', '245527', '245528', '245530', '245531', '245532', '245533', '245535', '245537', '245538', '245541', '245544', '245545', '245546', '245547', '245548', '245549', '245550', '245551', '245552', '245553', '245554', '245555', '245556', '245557', '245561', '245562', '245563', '245564', '245568', '245571', '245572', '245574', '245575', '245576', '245577', '245578', '245581', '245582', '245583', '245584', '245586', '245587', '245589', '245590', '245591', '245592', '245593', '245594', '245595', '245596', '245597', '245598', '245599', '245600', '245601', '245602', '245604', '245607', '245611', '245615', '245617', '245618', '245619', '245620', '245622', '245624', '245625', '245627', '245629', '245630', '245631', '245635', '245637', '245638', '245643', '245649', '245655', '245656', '245658', '245659', '245660', '245661', '245662', '245663', '245664', '245665', '245666', '245667', '245668', '245670', '245673', '245674', '245675', '245678', '245691', '245692', '245694', '245695', '245696', '245697', '245704', '245705', '245706', '245707', '245710', '245712', '245713', '245714', '245715', '245720', '245721', '245722', '245723', '245724', '245728', '245735', '245738', '245745', '245746', '245749', '245751', '245763', '245764', '245770', '245775', '245779', '245780', '245781', '245784', '245785', '245786', '245787', '245789', '245790', '245796', '245797', '245798', '245807', '245813', '245816', '245817', '245818', '245819', '245822', '245827', '245829', '245831', '245836', '245839', '245840', '245845', '245855', '245867', '245875']\n",
      "\n",
      "Cluster 1:\n",
      "['241872', '244146', '244244', '244306', '244372', '244460', '244522', '244588', '244624', '244694', '244735', '244828', '244858', '244911', '245034', '245469', '245539', '245605', '245679', '245771']\n",
      "\n",
      "Cluster 2:\n",
      "['243679', '243762', '244537', '244695', '244830', '244898', '244915', '244993', '245076', '245157', '245396', '245470', '245540', '245542', '245558', '245606', '245608', '245609', '245641', '245657', '245672', '245677', '245680', '245681', '245682', '245730', '245774', '245844']\n",
      "\n",
      "Cluster 3:\n",
      "['243841', '243952', '244052', '245457', '245543', '245585', '245758']\n",
      "\n",
      "Cluster 4:\n",
      "['244990', '245070', '245153', '245240', '245289', '245588']\n",
      "\n",
      "Cluster 5:\n",
      "['245027', '245381']\n",
      "\n",
      "Cluster 6:\n",
      "['245373']\n",
      "\n",
      "Cluster 7:\n",
      "['245456', '245536', '245671', '245759']\n",
      "\n"
     ]
    }
   ],
   "source": [
    "#Cantidad de clusters que generamos:\n",
    "num_clusters = len(clusters)\n",
    "print(\"Cantidad de Clusters:\", num_clusters)\n",
    "#Imprimimos obras por clusters: \n",
    "for i in range(num_clusters):\n",
    "    cluster_label = \"Cluster \" + str(i)\n",
    "    obras = df_resultado[df_resultado['Cluster'] == i]['Obra'].tolist()\n",
    "    print(cluster_label + \":\")\n",
    "    print(obras)\n",
    "    print()"
   ]
  },
  {
   "cell_type": "code",
   "execution_count": 51,
   "metadata": {},
   "outputs": [
    {
     "name": "stdout",
     "output_type": "stream",
     "text": [
      "Cluster 0:\n",
      "['230858', '231273', '240052', '241289', '241537', '242584', '242863', '242864', '242865', '243127', '243128', '243215', '243216', '243249', '243331', '243332', '243460', '243472', '243476', '243510', '243529', '243530', '243531', '243532', '243534', '243535', '243536', '243537', '243547', '243552', '243553', '243555', '243556', '243560', '243563', '243566', '243580', '243595', '243608', '243625', '243626', '243627', '243628', '243629', '243630', '243633', '243645', '243648', '243656', '243657', '243659', '243667', '243668', '243669', '243673', '243676', '243684', '243685', '243688', '243689', '243693', '243696', '243697', '243703', '243708', '243711', '243712', '243713', '243723', '243734', '243735', '243736', '243737', '243738', '243739', '243740', '243751', '243752', '243753', '243754', '243755', '243756', '243757', '243758', '243759', '243760', '243763', '243764', '243765', '243766', '243768', '243774', '243775', '243777', '243778', '243779', '243780', '243781', '243782', '243785', '243787', '243788', '243789', '243790', '243791', '243792', '243793', '243795', '243796', '243800', '243801', '243802', '243803', '243804', '243805', '243806', '243811', '243813', '243816', '243817', '243818', '243819', '243820', '243821', '243822', '243823', '243824', '243825', '243826', '243827', '243831', '243832', '243836', '243837', '243838', '243839', '243842', '243843', '243844', '243845', '243846', '243847', '243848', '243849', '243850', '243851', '243852', '243853', '243854', '243855', '243858', '243859', '243861', '243862', '243863', '243864', '243865', '243866', '243867', '243868', '243869', '243870', '243871', '243872', '243873', '243874', '243875', '243878', '243879', '243881', '243882', '243883', '243884', '243885', '243886', '243887', '243889', '243890', '243891', '243893', '243894', '243896', '243897', '243898', '243899', '243900', '243901', '243904', '243905', '243906', '243907', '243908', '243909', '243910', '243911', '243912', '243913', '243914', '243915', '243916', '243917', '243918', '243919', '243920', '243921', '243922', '243923', '243924', '243926', '243927', '243928', '243929', '243930', '243931', '243933', '243934', '243935', '243936', '243937', '243938', '243939', '243940', '243941', '243942', '243943', '243944', '243945', '243946', '243947', '243948', '243949', '243950', '243951', '243954', '243955', '243956', '243957', '243958', '243959', '243962', '243963', '243964', '243966', '243974', '243975', '243976', '243977', '243978', '243981', '243982', '243983', '243984', '243985', '243986', '243990', '243991', '243992', '243993', '243994', '243995', '243996', '243997', '243998', '243999', '244000', '244002', '244003', '244005', '244006', '244007', '244008', '244009', '244010', '244012', '244013', '244014', '244015', '244016', '244018', '244019', '244020', '244021', '244022', '244023', '244024', '244025', '244027', '244028', '244037', '244038', '244039', '244042', '244043', '244044', '244045', '244046', '244047', '244048', '244049', '244050', '244054', '244055', '244056', '244057', '244058', '244059', '244060', '244064', '244065', '244067', '244068', '244069', '244070', '244071', '244076', '244077', '244078', '244080', '244081', '244082', '244083', '244084', '244088', '244089', '244090', '244091', '244092', '244095', '244096', '244097', '244098', '244099', '244100', '244101', '244102', '244103', '244104', '244105', '244106', '244107', '244108', '244109', '244110', '244111', '244112', '244113', '244114', '244115', '244116', '244117', '244118', '244119', '244120', '244121', '244122', '244123', '244124', '244126', '244127', '244128', '244129', '244130', '244131', '244132', '244133', '244134', '244135', '244136', '244137', '244139', '244143', '244144', '244145', '244147', '244148', '244149', '244150', '244151', '244152', '244153', '244154', '244159', '244160', '244162', '244163', '244164', '244165', '244166', '244167', '244168', '244170', '244171', '244172', '244173', '244174', '244175', '244176', '244178', '244181', '244182', '244183', '244184', '244186', '244187', '244188', '244189', '244190', '244191', '244192', '244193', '244194', '244195', '244196', '244197', '244198', '244200', '244201', '244202', '244204', '244205', '244206', '244207', '244208', '244209', '244211', '244213', '244214', '244215', '244216', '244217', '244218', '244219', '244220', '244221', '244222', '244224', '244225', '244226', '244227', '244229', '244230', '244231', '244232', '244233', '244234', '244235', '244236', '244237', '244238', '244239', '244240', '244241', '244242', '244243', '244245', '244246', '244247', '244248', '244249', '244254', '244255', '244256', '244257', '244258', '244259', '244260', '244261', '244262', '244263', '244265', '244266', '244267', '244268', '244269', '244270', '244271', '244274', '244275', '244276', '244277', '244278', '244280', '244281', '244282', '244283', '244284', '244285', '244286', '244287', '244288', '244291', '244292', '244293', '244294', '244295', '244296', '244297', '244298', '244299', '244300', '244301', '244302', '244303', '244304', '244305', '244307', '244308', '244309', '244310', '244311', '244312', '244313', '244314', '244315', '244316', '244317', '244318', '244319', '244320', '244321', '244324', '244325', '244326', '244327', '244328', '244329', '244331', '244333', '244335', '244336', '244337', '244339', '244341', '244342', '244343', '244344', '244345', '244346', '244347', '244348', '244349', '244350', '244351', '244352', '244353', '244354', '244355', '244356', '244357', '244358', '244359', '244361', '244362', '244363', '244364', '244365', '244366', '244367', '244368', '244370', '244371', '244373', '244374', '244375', '244376', '244377', '244378', '244379', '244380', '244381', '244382', '244383', '244385', '244386', '244387', '244388', '244389', '244390', '244391', '244392', '244394', '244395', '244396', '244397', '244400', '244401', '244402', '244403', '244404', '244405', '244409', '244410', '244411', '244412', '244413', '244414', '244415', '244426', '244427', '244428', '244429', '244430', '244431', '244432', '244433', '244434', '244435', '244436', '244437', '244438', '244439', '244440', '244441', '244442', '244443', '244444', '244445', '244447', '244449', '244450', '244451', '244452', '244455', '244456', '244457', '244458', '244459', '244461', '244462', '244463', '244464', '244465', '244466', '244467', '244468', '244469', '244470', '244471', '244472', '244473', '244475', '244477', '244478', '244479', '244480', '244481', '244482', '244483', '244484', '244485', '244486', '244487', '244488', '244489', '244490', '244491', '244492', '244493', '244494', '244495', '244496', '244499', '244500', '244501', '244502', '244503', '244504', '244505', '244506', '244507', '244508', '244509', '244510', '244511', '244512', '244513', '244514', '244515', '244517', '244518', '244519', '244520', '244521', '244523', '244524', '244525', '244526', '244527', '244528', '244529', '244530', '244532', '244533', '244534', '244535', '244536', '244538', '244539', '244540', '244541', '244542', '244543', '244544', '244545', '244546', '244547', '244548', '244549', '244550', '244551', '244552', '244553', '244555', '244556', '244557', '244558', '244560', '244561', '244562', '244563', '244564', '244565', '244566', '244567', '244569', '244570', '244571', '244572', '244573', '244574', '244575', '244576', '244577', '244578', '244579', '244581', '244582', '244583', '244584', '244585', '244587', '244589', '244590', '244591', '244592', '244593', '244594', '244595', '244596', '244597', '244598', '244599', '244600', '244601', '244602', '244603', '244604', '244605', '244606', '244607', '244608', '244611', '244613', '244614', '244615', '244617', '244619', '244620', '244621', '244622', '244625', '244626', '244627', '244628', '244629', '244630', '244631', '244632', '244633', '244636', '244637', '244638', '244639', '244640', '244641', '244642', '244643', '244644', '244645', '244646', '244647', '244648', '244649', '244651', '244652', '244653', '244654', '244656', '244657', '244658', '244659', '244660', '244661', '244662', '244663', '244664', '244665', '244666', '244667', '244668', '244669', '244674', '244675', '244676', '244677', '244678', '244682', '244683', '244688', '244690', '244696', '244697', '244698', '244699', '244700', '244701', '244702', '244703', '244704', '244705', '244706', '244707', '244708', '244709', '244710', '244713', '244715', '244716', '244717', '244724', '244727', '244731', '244732', '244734', '244736', '244737', '244738', '244739', '244740', '244741', '244742', '244743', '244744', '244746', '244747', '244748', '244749', '244750', '244751', '244752', '244753', '244754', '244758', '244759', '244760', '244761', '244762', '244763', '244764', '244765', '244766', '244767', '244768', '244769', '244770', '244771', '244774', '244775', '244776', '244777', '244778', '244779', '244780', '244781', '244782', '244784', '244785', '244786', '244787', '244788', '244789', '244790', '244791', '244793', '244794', '244795', '244796', '244797', '244798', '244799', '244800', '244801', '244802', '244803', '244804', '244805', '244806', '244807', '244808', '244809', '244810', '244813', '244814', '244815', '244816', '244817', '244820', '244821', '244822', '244823', '244824', '244825', '244826', '244827', '244829', '244831', '244832', '244833', '244834', '244835', '244836', '244837', '244838', '244839', '244840', '244841', '244842', '244843', '244844', '244845', '244846', '244847', '244848', '244849', '244850', '244851', '244852', '244853', '244855', '244856', '244857', '244859', '244861', '244862', '244865', '244866', '244867', '244868', '244869', '244871', '244872', '244873', '244874', '244876', '244877', '244878', '244879', '244883', '244884', '244885', '244886', '244887', '244888', '244889', '244892', '244895', '244896', '244897', '244901', '244905', '244906', '244907', '244910', '244912', '244913', '244914', '244916', '244917', '244918', '244919', '244920', '244921', '244922', '244923', '244924', '244925', '244926', '244927', '244928', '244929', '244930', '244931', '244932', '244933', '244934', '244935', '244936', '244939', '244941', '244942', '244943', '244944', '244945', '244948', '244949', '244951', '244955', '244956', '244960', '244961', '244963', '244964', '244966', '244967', '244971', '244972', '244973', '244974', '244975', '244976', '244977', '244978', '244979', '244980', '244983', '244984', '244985', '244986', '244987', '244988', '244989', '244991', '244992', '244994', '244995', '244996', '244997', '244998', '244999', '245000', '245001', '245002', '245004', '245005', '245006', '245007', '245008', '245009', '245010', '245011', '245012', '245014', '245015', '245016', '245017', '245018', '245019', '245020', '245021', '245022', '245023', '245025', '245026', '245028', '245030', '245031', '245032', '245035', '245036', '245037', '245038', '245039', '245040', '245041', '245042', '245043', '245044', '245046', '245047', '245048', '245051', '245053', '245056', '245057', '245058', '245060', '245062', '245063', '245064', '245065', '245066', '245067', '245071', '245072', '245073', '245074', '245075', '245077', '245078', '245080', '245081', '245082', '245083', '245084', '245085', '245086', '245087', '245088', '245089', '245090', '245091', '245093', '245095', '245096', '245097', '245098', '245099', '245100', '245101', '245107', '245108', '245109', '245110', '245111', '245112', '245113', '245114', '245115', '245116', '245117', '245118', '245120', '245122', '245123', '245124', '245125', '245126', '245127', '245128', '245129', '245130', '245132', '245133', '245134', '245135', '245136', '245137', '245140', '245141', '245142', '245143', '245144', '245145', '245146', '245147', '245148', '245150', '245151', '245152', '245155', '245156', '245158', '245159', '245160', '245162', '245163', '245166', '245167', '245168', '245169', '245170', '245171', '245172', '245173', '245174', '245178', '245179', '245180', '245181', '245182', '245183', '245187', '245188', '245189', '245190', '245191', '245192', '245195', '245197', '245198', '245199', '245201', '245202', '245203', '245204', '245207', '245208', '245209', '245210', '245211', '245212', '245213', '245214', '245215', '245216', '245218', '245220', '245221', '245223', '245225', '245226', '245228', '245229', '245230', '245231', '245232', '245233', '245234', '245235', '245237', '245238', '245239', '245241', '245242', '245244', '245245', '245246', '245247', '245248', '245249', '245252', '245253', '245255', '245256', '245257', '245258', '245261', '245262', '245263', '245264', '245266', '245267', '245270', '245273', '245274', '245275', '245276', '245277', '245278', '245279', '245280', '245281', '245282', '245283', '245284', '245285', '245286', '245287', '245288', '245290', '245291', '245292', '245293', '245294', '245295', '245296', '245297', '245298', '245299', '245300', '245303', '245305', '245308', '245309', '245310', '245312', '245313', '245314', '245315', '245316', '245317', '245318', '245319', '245320', '245322', '245323', '245324', '245325', '245326', '245327', '245328', '245329', '245330', '245331', '245332', '245335', '245336', '245337', '245338', '245339', '245340', '245341', '245342', '245343', '245344', '245345', '245346', '245349', '245351', '245352', '245354', '245358', '245359', '245360', '245361', '245362', '245363', '245364', '245365', '245367', '245368', '245370', '245372', '245374', '245375', '245376', '245377', '245379', '245380', '245384', '245385', '245386', '245392', '245398', '245399', '245400', '245401', '245402', '245403', '245404', '245405', '245406', '245407', '245409', '245410', '245412', '245413', '245414', '245415', '245416', '245417', '245420', '245421', '245422', '245424', '245425', '245426', '245427', '245428', '245429', '245431', '245432', '245433', '245434', '245435', '245436', '245437', '245438', '245439', '245442', '245444', '245446', '245448', '245454', '245458', '245459', '245460', '245461', '245463', '245464', '245465', '245466', '245467', '245468', '245471', '245472', '245473', '245475', '245476', '245477', '245478', '245479', '245480', '245481', '245482', '245483', '245484', '245485', '245487', '245489', '245490', '245491', '245492', '245493', '245501', '245502', '245503', '245508', '245513', '245514', '245515', '245518', '245521', '245525', '245526', '245527', '245528', '245530', '245531', '245532', '245533', '245535', '245537', '245538', '245541', '245544', '245545', '245546', '245547', '245548', '245549', '245550', '245551', '245552', '245553', '245554', '245555', '245556', '245557', '245561', '245562', '245563', '245564', '245568', '245571', '245572', '245574', '245575', '245576', '245577', '245578', '245581', '245582', '245583', '245584', '245586', '245587', '245589', '245590', '245591', '245592', '245593', '245594', '245595', '245596', '245597', '245598', '245599', '245600', '245601', '245602', '245604', '245607', '245611', '245615', '245617', '245618', '245619', '245620', '245622', '245624', '245625', '245627', '245629', '245630', '245631', '245635', '245637', '245638', '245643', '245649', '245655', '245656', '245658', '245659', '245660', '245661', '245662', '245663', '245664', '245665', '245666', '245667', '245668', '245670', '245673', '245674', '245675', '245678', '245691', '245692', '245694', '245695', '245696', '245697', '245704', '245705', '245706', '245707', '245710', '245712', '245713', '245714', '245715', '245720', '245721', '245722', '245723', '245724', '245728', '245735', '245738', '245745', '245746', '245749', '245751', '245763', '245764', '245770', '245775', '245779', '245780', '245781', '245784', '245785', '245786', '245787', '245789', '245790', '245796', '245797', '245798', '245807', '245813', '245816', '245817', '245818', '245819', '245822', '245827', '245829', '245831', '245836', '245839', '245840', '245845', '245855', '245867', '245875']\n",
      "\n",
      "Estadísticas del margen bruto:\n",
      "Promedio: -54304.43972880072\n",
      "Mediana: 0.4085043225871406\n",
      "Desviación estándar: 1604206.093493836\n",
      "\n"
     ]
    },
    {
     "data": {
      "application/vnd.plotly.v1+json": {
       "config": {
        "plotlyServerURL": "https://plot.ly"
       },
       "data": [
        {
         "name": "Margen Bruto",
         "type": "box",
         "y": [
          0.9576314825952558,
          0.9575115213254365,
          0.8854565909550153,
          0.9290986846573543,
          0.955999976923401,
          -11.291219971866763,
          0.07482130927873398,
          0.21084611074642612,
          0.11556523062158398,
          -1.1815701676242685,
          -0.01598094107881172,
          -0.9226766646883379,
          -0.03746884192259759,
          0.09660014709038037,
          -0.060136096018552174,
          0.6272638933213873,
          0.986111937271329,
          0.3062633053221288,
          -2.861962170655064,
          -0.1321443745173009,
          0.541930194647575,
          0.9166506549004054,
          0.8589115761415241,
          0.9544431122282728,
          0.8849556460182953,
          0.8130806161757995,
          0.9661078066513515,
          0.9801077931639882,
          0.604176332989336,
          0.98634299659948,
          0.536304775573158,
          0.4781036318992207,
          0.4404672047766474,
          0.7163899409504242,
          0.5675012115590644,
          1.0037994038471225,
          0.9999011946465463,
          0.5431980272048231,
          -5.370171911168696,
          0.1709095733313492,
          0.9788502943077683,
          0.33836215767739247,
          0.44877749366874436,
          0.46844906844346007,
          0.8619265097985876,
          0.9386624468314502,
          0.39891671697362097,
          0.9801428571428571,
          0.7933743068637019,
          0.5007725183930195,
          -19.887932235028664,
          0.911863481164947,
          0.6217994688911227,
          0.9130101670842523,
          0.6607022514083872,
          0.8987565112727927,
          -2.647360790478817,
          -2.679108695309528,
          0.6661088252007484,
          -3.4371262115900176,
          0.7361701301228765,
          -0.0864710678077417,
          0.17673269452521384,
          -90.60089691475712,
          0.9668520813988797,
          1.0159119575658857,
          -0.594262782887536,
          0.9439613526570049,
          0.9661846796587998,
          0.5234218198477805,
          -628.7568546439878,
          0.9624026803388923,
          0.8360620556721787,
          0.7365872501814379,
          0.8170453037905805,
          0.995751274400908,
          0.900862277906938,
          0.9535056267884495,
          0.23491920814482856,
          0.24788605657322552,
          0.2531506483576172,
          0.2650626315614421,
          0.26565289775639467,
          0.28717124681533013,
          0.33826183623120304,
          0.3960489202107407,
          0.2289359729357224,
          0.3921134190305369,
          0.5448355442833204,
          0.9661371190097507,
          0.32084997577931684,
          0.39723960100302863,
          0.020031247378724727,
          0.8106204796345642,
          0.8085613933661584,
          0.8024712621415792,
          0.5960857812142389,
          0.5941484001433818,
          0.589800259279761,
          0.6259341756102367,
          0.6305462492021391,
          0.5569224251367593,
          0.5429258657842726,
          0.5477474329876337,
          0.440884,
          0.44088457142857146,
          0.44075622857142854,
          0.6961354081758953,
          0.326560913552321,
          0.2626718976449344,
          0.41975567205807324,
          0.9696646416275567,
          0.48908472129915864,
          0.950715964925211,
          0.3251904909439298,
          0.9493320948755353,
          0.13642125996626414,
          -0.237710949700896,
          0.9454002779542783,
          0.30000002531642994,
          0.30000004208224196,
          0.3000000650202246,
          -0.35270431288896387,
          0.21437929485339316,
          0.4615151559333402,
          0.4830321829222361,
          0.5959064081196709,
          0.6446954285714286,
          0.5526611533682745,
          0.5526533229545979,
          0.07072654804131528,
          0.23596690212994428,
          0.13042655759687063,
          0.18642665528594085,
          0.4052887269560144,
          0.5367071711741167,
          0.9702939741727084,
          0.7112680319770053,
          -0.06788271773561383,
          0.5409780021721038,
          0.815870477514873,
          0.6176436536469442,
          0.24704844003791154,
          0.2524072839355165,
          0.2047427391641397,
          0.4951422903074919,
          0.1816298892640891,
          0.9277428683525082,
          0.9789071737780198,
          0.5171371483691027,
          0.30000002315842467,
          -0.26063209307542495,
          -2.00842072234334,
          0.3766823836234978,
          0.6287379453189726,
          0.626153950461389,
          0.537971581720539,
          0.046798412263886,
          -0.040628142619041054,
          0.0538926119310173,
          -0.05603434143711559,
          0.43462274177668647,
          0.43084095161721464,
          0.3491531531531532,
          0.34464683374081584,
          0.3024949326493157,
          0.2999999944402088,
          0.5952221566243268,
          0.9320104260380586,
          -0.04086435182218051,
          0.6693533926165455,
          0.30000005300419846,
          0.2690869186138242,
          0.15100835317211708,
          0.8066461198423189,
          0.48738467680987896,
          0.23881185076918676,
          0.466843216080402,
          0.466843216080402,
          0.9359794152357451,
          0.1240357225317871,
          0.5845496551724138,
          0.5634167127836193,
          0.46630567119155353,
          0.9182832572093008,
          0.896749965033055,
          0.930384557039268,
          0.9419218553310934,
          0.9165277779326148,
          0.21464827453498694,
          0.21951825365274072,
          0.6533667449330229,
          0.6329838126451148,
          -0.3003623215840685,
          0.6789998183706969,
          0.5263825392433348,
          0.15402282596708322,
          -0.08096357785014127,
          -0.3663524081742157,
          0.23374999371720606,
          0.3349297072970346,
          0.9324601004593447,
          0.6173321812507668,
          0.9810532240685291,
          0.29999996951177216,
          0.30000147375587044,
          0.8838663273272512,
          0.06618055555555556,
          0.15780860523310897,
          0.15598619217206403,
          0.19009007633587788,
          0.97808256718529,
          0.5501487437185929,
          0.33169560235940865,
          0.411585794855277,
          0.8182153339610656,
          0.4226665590867818,
          0.7823424092239352,
          0.11904126742935721,
          0.2603595596133191,
          -0.08639803423273039,
          0.2999999659985418,
          0.6986163664052513,
          0.6298482238827078,
          0.004297021942769113,
          0.3941644172440753,
          0.3724884155224687,
          0.38316748068194506,
          0.349682471623457,
          0.7320180058760994,
          0.16030440928519507,
          0.6354651282755339,
          0.07465847382956711,
          0.48802502265671366,
          0.5552819117647059,
          0.8853328944215254,
          0.651366364684382,
          -1.3555306246209826,
          0.05291610779173273,
          0.22006667819256695,
          0.4469769523809524,
          0.3503299999999999,
          0.9586347982111133,
          0.2824315839778548,
          0.9054074534782607,
          0.9993143315354986,
          0.9961720343427118,
          0.991732522416096,
          0.530506949867662,
          -0.014351482813259599,
          0.09608735814979544,
          0.4999352898408011,
          0.9264325993767003,
          0.06468040671790609,
          0.483768107226739,
          -1.3555306246209826,
          -0.1258788541666666,
          0.9958641444652553,
          0.979482055199306,
          0.9769270438654194,
          0.9965177600761608,
          0.9730411249241413,
          0.984975149395375,
          0.9961027325812933,
          0.9981010636831253,
          0.5763025541568589,
          0.9742281033231652,
          -0.36981130929318695,
          0.12905125064408385,
          -0.14299596425459293,
          0.6341709732791744,
          0.06566878285606009,
          0.6096278679287109,
          0.24089787719901917,
          0.9124424174629906,
          0.8832565566173207,
          0.567961211505766,
          0.8944024271622542,
          0.46271485863074446,
          0.35389363519800365,
          0.6106910576425958,
          0.6464471499146681,
          0.4005750838989315,
          0.35570932274247485,
          0.28261427123426014,
          0.8612916233741387,
          0.9600249763333754,
          0.8873033100773606,
          0.407660777385159,
          0.35440076209302473,
          0.06677924390991266,
          0.4969159600242278,
          0.130433333656329,
          0.5378680994542089,
          0.19999999924212347,
          0.18210205878038047,
          0.1669497041420119,
          0.43081582128022544,
          -0.5775303303303304,
          -0.04357012297690264,
          0.7094278545807566,
          0.6468051018514237,
          0.6710319015539388,
          -0.06788733405797713,
          0.6083843580917142,
          0.26289075149394947,
          0.110282727013668,
          0.2447545576269441,
          0.21605539986329458,
          0.5414473577469632,
          0.00736778674302752,
          0.16721784970681308,
          -0.9190687978503205,
          0.15249765849813054,
          0.2055306392201227,
          0.5554574479030637,
          0.5806414069978427,
          0.44603708791208796,
          -0.6064917795780131,
          0.017324372885729526,
          -0.11632436594202891,
          -911683.06,
          -0.21137028753993609,
          0.3499999301348865,
          0.3539083973555993,
          -7850651.82,
          -2244556.66,
          -2.5990203860884065,
          0.2652478208720576,
          0.1348878670742034,
          0.1733970588235294,
          0.3422180430656086,
          0.19140711931316576,
          0.5567053434670853,
          0.3660066625203412,
          0.29792683781987306,
          0.5786708302402394,
          0.3364773409231277,
          -1.1633609962112836,
          0.24195759795759786,
          -0.490239862166746,
          -0.3684925437501084,
          -0.0321931579771927,
          0.7420380231287917,
          0.11827868189401355,
          0.2491917388657341,
          0.9000392123415905,
          0.6883138330547995,
          0.9230002534411318,
          0.4869062413341184,
          -1.581607912230612,
          -1.361722534671537,
          -1.1994945515284399,
          0.4709043064720647,
          0.9960816391623419,
          0.4734180898165718,
          0.4033626804158642,
          0.45844244430249886,
          0.40812332767402376,
          0.30952686629049414,
          0.5187567839484276,
          0.482438223530208,
          0.23240629767628282,
          0.43411780000000005,
          0.4415606571428572,
          0.5518252580752581,
          0.6090428453267164,
          -105558.08,
          -519459.61,
          -1768013.86,
          0.8891979458374042,
          -1.2927640988587963,
          0.834812224446552,
          0.9559998428163193,
          -0.4599991490800109,
          0.4668021674790829,
          0.8520672896370818,
          0.6863488466973862,
          -2.7203463269277552,
          0.8086426656514221,
          0.7670105432412921,
          0.8354728987698874,
          0.936686553272418,
          0.8025693665932181,
          0.7692422331340576,
          0.8668007542732802,
          0.20000000127049503,
          -0.07599952550611905,
          0.5838888536043187,
          -0.3260248240460071,
          0.12911195887199003,
          0.31477107948006017,
          0.6923003358793014,
          0.27678594003362844,
          0.5194102111198662,
          0.318679863218952,
          0.12439099905533335,
          0.1304339741996246,
          0.5273947812341594,
          0.5654305771072172,
          0.6453969199398767,
          0.08885041694900064,
          0.3,
          -0.7136380626641423,
          0.6455638292693787,
          0.19407044817419375,
          0.17151367799093706,
          0.27375871383757405,
          0.2737587138375741,
          0.918983874670656,
          0.8459521340423329,
          0.9751474975087181,
          0.9201937577785693,
          -1.0694956755319502,
          0.1268792507517207,
          0.05493244478903955,
          0.13042966217297292,
          0.2749110181183172,
          -4.310156333892233,
          -0.16813575268817207,
          0.22982565790660855,
          0.05496182366234564,
          0.16795140472646905,
          -0.45655772268355205,
          0.5675712684266134,
          0.3138239891799544,
          0.2906184411614876,
          0.28544592898938564,
          0.6390604220448093,
          0.07447495006607692,
          0.006739468415285416,
          0.10357263864685351,
          0.9559999556786257,
          0.22135794334214537,
          0.3964084868932661,
          0.43837244889555094,
          0.3808102676733013,
          0.058210206944661703,
          -2.072915301872353,
          0.11616138673473436,
          0.5812049089646064,
          0.6713278313609479,
          0.19418659090909088,
          0.3397127448992678,
          0.9674699014534105,
          0.5078583826155263,
          0.19942846027650935,
          0.947055699404879,
          0.947055699404879,
          0.21417173174872658,
          0.21920909244264503,
          0.9599487906870658,
          0.96875516005355,
          0.9517608449359941,
          -0.12075795237571407,
          0.8545664795102688,
          0.7522949025414426,
          0.8874822683583383,
          0.9633504041937884,
          0.10865789698319207,
          0.5423952481934116,
          0.1221686003541582,
          0.028025305517756467,
          0.45572885345411285,
          0.6857051701588558,
          0.5404570371544752,
          0.18114235294117645,
          0.4858258737549361,
          0.4900569207388356,
          0.3457806051544736,
          0.614378788213449,
          0.6089055886601661,
          0.4778863705308776,
          0.6653681990165847,
          0.44920182149708443,
          0.3426217597596497,
          0.9978251841091818,
          0.42510015837693704,
          0.22992331749563966,
          0.493289022110851,
          -0.036805374679083576,
          0.1587241540803185,
          -0.5769994632024761,
          -0.011661050381126161,
          -0.5630429858713486,
          -0.7628569055128036,
          -0.6946287221592792,
          0.8657701931992607,
          0.5405626432954094,
          -0.7510516788635385,
          0.06488841687488787,
          0.7574964230029525,
          0.9679093205426247,
          0.3331976643616109,
          0.9144122049703954,
          0.33414854275465644,
          -0.1553098169191918,
          0.30432219975758223,
          0.20500599400599398,
          0.11374739571648479,
          0.5353136411063867,
          0.888712925302444,
          0.3861569461907986,
          0.30676919444352263,
          0.7513927132915348,
          0.17849544829079056,
          -0.2131601743021403,
          0.870344618525943,
          0.1322117565917915,
          0.20000000104674195,
          0.2786936392771109,
          0.2960926641745696,
          0.2853835310614106,
          0.2750002296595057,
          0.3658056422743204,
          0.24928370965193136,
          0.9421349409186169,
          0.29989069600352536,
          -0.02690559019943175,
          0.4155024474419294,
          0.5163786484010296,
          0.04488555347159403,
          0.5688347436035833,
          0.08174627311034757,
          0.4591752156891177,
          0.7015967224894826,
          0.19575844379918925,
          0.7462910971645649,
          0.9128693739861987,
          0.19121855486173062,
          0.19121498661909003,
          0.6133997539194844,
          0.3865055847552283,
          0.9016713786431415,
          0.26191208372070846,
          -0.22366886165290562,
          0.16079276168451256,
          -0.9546280153867274,
          -5.827124849696692,
          0.9825605184514891,
          0.08348525448788854,
          -0.10240683210784321,
          0.4527041128083793,
          0.9081125286590818,
          0.6522696566256622,
          0.5935025641025641,
          -0.018528414787865526,
          -0.09825070661308946,
          0.8957354397907088,
          0.5317969579746156,
          0.9912164466277471,
          0.6177403981252118,
          0.2650910024904576,
          0.9913034197246872,
          0.9633861555992129,
          0.23318135579286012,
          0.20000000041776622,
          0.11659613684862648,
          0.31090520010534894,
          0.9855848270350497,
          0.36061233253561764,
          0.2893381867699516,
          0.16968051190292122,
          0.6605903308459362,
          -0.21238470321566502,
          0.5704741716386301,
          0.4650116847762807,
          0.34766913097954827,
          0.6824721204813111,
          0.8851406608238523,
          0.6400085068861925,
          0.34328268965517245,
          0.403420909106129,
          0.4969204182199166,
          0.6139934796505434,
          0.254273463740992,
          0.1193585954889731,
          -0.022175340035481998,
          0.1896337351759287,
          0.008718287995269098,
          1.00000001200533,
          0.9999999898136593,
          -2.1827852025868566e-11,
          2.000000017029379,
          0.8784711092973138,
          0.652668947368421,
          0.7169635008803499,
          0.9055632220966445,
          0.8391239367771071,
          0.12655863217171567,
          0.45791213080168774,
          0.13882825076991512,
          -0.6299312960340044,
          0.25937199837199837,
          0.16182771290081668,
          0.17279355311355304,
          0.25783134257047297,
          0.07920863122221176,
          0.8263898933916848,
          0.2911086756816956,
          0.39851914061171023,
          0.1805509133269245,
          0.33571165136714465,
          0.3570223369729445,
          0.7474397259776417,
          0.25922080539967624,
          0.806540951560693,
          0.9244434606554585,
          0.30610965133085877,
          -0.5648064718358915,
          0.6281191039729501,
          0.6274108093164696,
          0.3156226259502641,
          0.49989363404741644,
          -0.2690703533894316,
          0.26439086476409,
          0.27814593301435403,
          0.20000000000000007,
          0.34807645916720736,
          -0.5889503921250316,
          0.9897739258078586,
          0.3409088359046284,
          0.7070986668904289,
          0.644060915046492,
          0.47581891321458664,
          0.4790046561796014,
          0.9324866544767854,
          0.1963140009090512,
          0.6832689199559476,
          0.3429128265662641,
          0.2167536880104974,
          0.6682875321020552,
          0.3035690968884586,
          0.3341473674467039,
          0.4151368898908121,
          0.3518548788672628,
          0.01518632295281534,
          0.5076492242313206,
          0.08691918253326093,
          1,
          0.6295820569571274,
          0.4104468076880118,
          0.6141458333695327,
          0.7803874085813307,
          0.9742799257270858,
          0.910543874324765,
          0.40553632000000006,
          0.321797230668464,
          -1.0503831041666667,
          0.813122197420635,
          0.24013210081588016,
          0.4209966843872412,
          0.4143995992703742,
          0.2139818080510449,
          0.23033903478040335,
          0.28952355760015347,
          0.2966797464130797,
          0.2853909277698752,
          0.4157471090844302,
          -0.5825853220976732,
          0.8633808858438767,
          0.3137880724174654,
          0.582961819650953,
          0.9682336486002014,
          0.7704638107507887,
          0.7704637530271823,
          -8.5978580997517,
          0.4630439096086717,
          0.290340147437437,
          0.3019886377615091,
          0.5245654580295037,
          0.5856255056393661,
          0.3637149208630052,
          0.40149118914640275,
          0.28506483911357655,
          0.6692236835515258,
          -0.3060477678571429,
          0.20782695121951217,
          0.8413309187970942,
          0.7869211282963069,
          0.7915307396602465,
          0.1999999992910754,
          0.8515720498955397,
          1.0000000050931703,
          -0.529811215652564,
          0.9664561006593985,
          0.9833229582012243,
          0.964128902006341,
          0.5062708332244322,
          -0.28837279271177163,
          0.5632199375713742,
          0.38028487322779514,
          0.6302644695137897,
          0.499679233813156,
          0.12833948937384113,
          0.05619379631005704,
          0.08568749975250566,
          -0.1039974630177417,
          0.4630260106260107,
          0.1397722972972973,
          0.1898534709208706,
          0.7810905630330818,
          0.5611694499638386,
          0.3418136424583706,
          0.6395003226720283,
          0.2656224156732474,
          0.41264068316564145,
          0.4961736527834412,
          0.548515601965602,
          0.7743589743589744,
          0.7893941054251397,
          0.12663296306869576,
          0.06503275935066505,
          0.8268952670544393,
          0.8603065845387818,
          -115.46061197736306,
          -0.18782365056818187,
          0.2394526043661181,
          0.24578892805307903,
          -1.6751853281428049,
          0.5156743547797907,
          0.15181215011403681,
          -0.1838433190960102,
          0.32864865732814424,
          0.8349969105772431,
          0.8349969105772431,
          0.8349969105772431,
          0.47421748303723715,
          0.4599242607658166,
          0.3548205705926419,
          0.45992287389064845,
          0.74963514730962,
          0.9431822839900003,
          0.20000000071888807,
          0.9431812780729446,
          0.9129878571428571,
          0.9630147431233176,
          0.9975235177031818,
          0.9886503296317423,
          0.5293104659373943,
          -4.035986027726117,
          0.4132884210526316,
          0.282844617825972,
          0.2827466543242529,
          0.19211825909925015,
          0.9995863463659762,
          0.38296535845765184,
          0.5149399284384517,
          0.5336153319790441,
          -0.0526431879924938,
          0.6089885381560263,
          0.6859776501486102,
          0.3947270548603922,
          -0.04681418578632565,
          0.5829192077600954,
          0.9746143429275425,
          0.04611688923802052,
          -0.9369981670594397,
          0.9999999961801223,
          0.49311836222627736,
          0.14129344756300943,
          -0.0207187346437347,
          0.3293952266834839,
          0.3385294748502898,
          0.56452241638652,
          0.9661221055731806,
          0.40589799034314,
          -0.8377504128386699,
          0.17917202583628486,
          0.1707051136778762,
          0.3495421207907662,
          -0.14339465745623145,
          1.000000008913048,
          0.4867267399579178,
          0.3222152825029798,
          0.5271955804038843,
          -0.03227308386494207,
          0.4923032104182886,
          0.6732978435431869,
          0.9993589012992934,
          0.3061416883406998,
          0.13677995798675546,
          0.4483788590677589,
          0.4010035809784571,
          0.1257825021825447,
          0.43397296719598477,
          0.4359435147045964,
          0.41017921079782327,
          0.5995312647700961,
          0.47975858070500926,
          0.26291990361445783,
          0.5234754885301615,
          0.18013950784731642,
          0.5449490791414838,
          0.4881067077523438,
          0.29903234223070313,
          0.27411327383418493,
          0.5879120933272787,
          0.9748907629733736,
          0.9564367471677716,
          0.873164244623926,
          0.1941115691332024,
          0.9737944478417591,
          0.9513936136765497,
          -0.03585112441340452,
          0.9477593887971272,
          -0.00695407220308666,
          0.30401575412380194,
          0.48544327813744725,
          0.9385004039241736,
          0.5450615152106085,
          -0.08581034482758629,
          0.19319872022276843,
          0.24906066327009027,
          -0.043005532509105854,
          0.64713277043307,
          0.2000000004935584,
          0.24092964688041593,
          0.7860603137254902,
          0.39072831382258666,
          0.13766143157967212,
          0.907917665916658,
          -1954740.98,
          0.4498865313263176,
          0.5623472776946248,
          0.5524497985849605,
          -2.163537734753545,
          0.5569032497883474,
          0.6348446334086336,
          -0.055790161201362924,
          -0.21285624242547552,
          0.11459346423554224,
          0.8750237868721888,
          -0.10750898106269843,
          0.08373022353374182,
          0.22015123938100312,
          -0.21537601710443466,
          -0.35078588203588196,
          -0.0787054924242425,
          0.8631414574071198,
          0.5786221568228186,
          0.2,
          -0.5396503735992285,
          0.31537708648975527,
          -0.05953901926759564,
          0.5884100165203054,
          0.7360993502135551,
          0.08567151587740836,
          0.6614606619745831,
          -0.009171281475129963,
          -0.18520701424409344,
          0.03807127885012602,
          0.06579150310082746,
          0.5382858929581779,
          0.47322772950332886,
          0.3079319206642373,
          0.26905339514543364,
          0.652764289013258,
          0.5887249595048016,
          0.5029715917180826,
          0.6556743051616563,
          0.9980835311177148,
          0.26959377677470586,
          0.30427216117216116,
          0.2817814006888633,
          0.3474393541324576,
          0.45007450954331,
          0.475009438671293,
          0.44596940195920187,
          0.42289571874489096,
          0.10750951928156366,
          0.6245515561115238,
          0.6337910276324961,
          0.4548070860191154,
          0.4797001948051949,
          0.4689618543645409,
          0.6668572868988392,
          0.5307417959183673,
          0.5701736354679803,
          0.2774087797422802,
          0.4433097963165659,
          0.3285076500261743,
          0.3395555132537001,
          0.6500655639002441,
          0.6522022370669567,
          0.49630457203887823,
          0.24695868483073058,
          0.01122530680044089,
          0.24012696954488016,
          0.24974281375715238,
          -0.6467212934609017,
          0.06360704869286046,
          0.5407847712238147,
          0.12002330770690098,
          0.2946072377290991,
          0.13690576687289485,
          0.49543441568879604,
          -0.46680778944228124,
          0.47993527646318473,
          -0.3072313289065139,
          -1.5877764033017967,
          -0.5535210786619177,
          -0.9262892784718552,
          0.07129989498763567,
          0.17460382399399707,
          -1.651819619701921,
          -0.5488107978630121,
          0.2233168168046203,
          -0.153024715998869,
          0.7192954174968303,
          0.24853944971353167,
          -0.002276174155217561,
          0.6650400768555987,
          0.7508921887873,
          0.4637448774974632,
          -11.908180358104598,
          0.27400547400547404,
          0.7412246556473829,
          0.3384445439216041,
          0.9381295201827875,
          0.12125927797833942,
          0.4311218549018442,
          0.5913618870173692,
          0.4807248011623238,
          -0.1440571565172415,
          0.2833707709474876,
          -0.04577763951089685,
          0.618131147938561,
          0.897245070643642,
          -0.24000101074335953,
          0.43074441731163154,
          0.21333478695315874,
          -0.16427955040536732,
          0.12276152136583049,
          0.11346023091306119,
          0.16789745640601386,
          0.2948682352941176,
          0.16079535262380815,
          0.26863289901786247,
          0.5042944785276073,
          -1.6171976900052054,
          0.1023659591711259,
          0.61264799055663,
          0.9422533491641909,
          0.1303222553373413,
          0.2921163735738793,
          0.5120503638194454,
          0.15954708413977833,
          0.956000015952524,
          0.956000015952524,
          0.9559999815720842,
          0.9847270687519176,
          -0.011128477329411034,
          0.3484725228754698,
          0.7540840015157256,
          0.266697137254902,
          0.9983240784313726,
          -0.16014377035499786,
          0.9948374500209978,
          0.42012487112032093,
          0.35908467796972277,
          0.315600243436798,
          0.1930824074977681,
          -0.1697202527321827,
          0.8450273486213208,
          0.485346981846434,
          -0.11165046123161308,
          0.9812055023264387,
          1.0039855181335162,
          0.3642668226565274,
          -0.42839211720379106,
          0.9566678361547232,
          0.9490800447518308,
          -0.46213962427704586,
          0.2782395152377743,
          0.5512961206305689,
          0.40761333943050937,
          0.8468947159416674,
          0.3469910796239742,
          0.6927352683310558,
          0.2594855488444068,
          0.9738002923446102,
          0.8477069117322162,
          -0.5820097368658104,
          -0.02571624839125732,
          0.2096235187376366,
          0.8203320214233444,
          -6.569908113920847,
          0.11140032253814956,
          0.5706130502100982,
          0.5296020006121921,
          0.5214723926380368,
          1,
          0.19714590329624104,
          0.9173656472341218,
          0.9673603596316996,
          0.9715937755375569,
          0.8224980485611644,
          -4.008601894484111,
          0.3364588479679274,
          0.9715943280858745,
          0.3673470547532813,
          0.18471103965588287,
          0.989008177439019,
          -0.06920819279730167,
          0.7842894240406424,
          -4.46336033791175,
          0.37271901986018574,
          -0.5826592097174143,
          0.522767369911696,
          0.27332021173794985,
          0.26063409424836337,
          0.25308639383287745,
          -0.04726293688869286,
          -0.8027297239664878,
          0.25023886274509805,
          0.7478732440378961,
          0.42699384332030405,
          0.4112510041314329,
          0.47166131225471225,
          -0.5287167344006704,
          -1.0721086010329035,
          -0.07504011565941654,
          -1.8736229618293718,
          -0.5199361980055386,
          0.9696380226075803,
          0.36693099095229115,
          0.5955831684791357,
          0.20997065748958527,
          0.32863071240705266,
          0.16898881785438633,
          0.34350160946043123,
          0.4914066931366988,
          0.674247137745975,
          0.5952206735720232,
          0.4506206627246639,
          0.40780853552951113,
          0.29149466201761925,
          0.07086905852575194,
          0.5423359699554896,
          0.4082505553938381,
          0.3313875599786349,
          0.09276321187024761,
          0.4632373677907,
          0.3035952847049175,
          0.49436918738703994,
          0.9536530415191503,
          0.022442243494518545,
          0.729145654316704,
          0.5337839333940907,
          0.3586227396236281,
          0.4104211707426753,
          -31.281347756645175,
          0.19990282537465762,
          0.5417226672529414,
          0.9658036111244653,
          0.20191327600588513,
          -6.069085707909393,
          0.2871570071128867,
          0.33833279888360296,
          0.8868520514458735,
          0.9724954257288188,
          -2.934660764720969,
          0.0688937748613758,
          0.6065084301236418,
          0.26005059920324547,
          0.5137024003650765,
          0.18089028928336615,
          0.9948106927417342,
          0.4151511633307016,
          0.8789253479374542,
          -0.8566877563262775,
          0.45742095143469585,
          0.7644444444444445,
          -0.941976705982135,
          -0.04013095325822062,
          0.5366320026585907,
          0.6876456732230297,
          0.9941323749639045,
          0.328961980183048,
          0.4870392699759989,
          0.6638236070907286,
          0.9862788992870353,
          0.3771471801635618,
          0.4085043225871406,
          0.99399127543681,
          0.9641263472955328,
          0.979384431466777,
          0.9964783692055263,
          0.57259366728349,
          0.9628517404707991,
          0.9843483374665445,
          0.9951242907892944,
          -0.8403541193925328,
          0.4564555716860775,
          0.9742308084978456,
          0.19190094465540034,
          0.15501752272066854,
          0.04481247868080175,
          0.6182418784301746,
          0.38166630599499524,
          0.9860000000000001,
          0.9601541722459104,
          0.9732952776493655,
          0.9702207259324019,
          0.9702207259324019,
          0.9702207259324019,
          0.4648142149001933,
          0.7130731071445695,
          0.0003886676237978456,
          0.28391400987478965,
          0.9682830297310052,
          0.952958924624431,
          -1.8299413233046946,
          0.5422382757837075,
          0.19497256773631605,
          -0.8915043595391083,
          0.4971361362294522,
          -0.00729541364185581,
          -0.2286410931067556,
          0.48917460750042246,
          0.040477556484441166,
          0.5238095238095238,
          -0.13005615165991508,
          0.5871666816985603,
          -0.8285972742880229,
          -1.2316542464396716,
          0.7178682301931415,
          0.4131782443094071,
          0.12027274710439585,
          -62703846.666666664,
          -0.537084851477519,
          -0.9674681309676352,
          0.6561246500619554,
          -0.6144300304852577,
          0.32821111654804275,
          0.5126185846961437,
          0.36682043457943925,
          0.5588643630573249,
          0.495065235021516,
          -1.4714048393672539,
          0.7713985087047905,
          0.9732952776493655,
          0.9732952776493655,
          0.9732952776493655,
          0.9732952431865455,
          0.4346064603136196,
          0.9760204546903675,
          0.9624521767869267,
          0.5492485012489107,
          0.7920165109842486,
          0.03489696580007657,
          0.9798847169811321,
          0.8840508309914143,
          0.7924739115217655,
          0.3899241357025554,
          0.6806264092855236,
          0.7073858395681049,
          0.1932596656981749,
          0.6468430238883702,
          0.20316910740164912,
          0.6886582129407456,
          0.7806272435933731,
          0.4269041728601015,
          0.28599796850268155,
          0.766889808144869,
          0.8841647739146735,
          0.16979220896078773,
          -0.1258132778089458,
          0.6291222156929256,
          0.42443676047656026,
          -0.009465613022246997,
          0.7652132610278795,
          0.653513015728877,
          0.17716507978082704,
          0.0686962540263534,
          0.31746031746031744,
          0.06774055930682431,
          0.4000636508138141,
          0.38654889880691923,
          -0.027768014719374387,
          -0.06807329713328635,
          0.4352090500915544,
          0.46595477139062796,
          0.4849201675643327,
          0.58565547626435,
          0.5725199134199135,
          0.65576843207399,
          0.6622748506825938,
          0.060178603973027156,
          0.053763440860215055,
          0.9635549394522124,
          0.38750747582498646,
          -0.39338328065968237,
          0.4769467603552243,
          0.08657081678974515,
          -1.8684299390600982,
          -1.6151972175954885,
          0.3486188678394416,
          0.5671638036501805,
          0.525853473863624,
          0.339281514476293,
          0.674106814638169,
          -0.12284421474069077,
          0.1547633468541319,
          0.9749913067289154,
          0.9602588107563289,
          0.9067749404488907,
          0.6507374069771314,
          0.2859990580317701,
          0.4724949811348915,
          0.4219333075531618,
          0.5135279159514772,
          0.9766393866367621,
          0.548280341259057,
          0.9860000093288804,
          0.5299517341151468,
          0.9618905366256699,
          0.41947637049937037,
          0.43991234880291213,
          -0.023129449885880296,
          0.6107752045195703,
          0.8723535370699287,
          0.9494583793918487,
          0.8766456769450097,
          0.24608145812300802,
          0.7392519783105651,
          0.03940987736131657,
          0.4374358893666061,
          -1.316685268477524,
          0.6685641104740322,
          -0.08292781150936705,
          -0.01978118338969055,
          0.31746031746031744,
          0.637800363967243,
          0.40263732664769397,
          0.6425029332129963,
          0.38053808732269495,
          -2.551084908087219,
          0.2524031622494161,
          0.26436358376688934,
          0.5269054897029706,
          0.17401039234002802,
          0.9560000064691199,
          -0.10737331534232374,
          0.18842554313106397,
          0.637067506074991,
          0.649189446854366,
          0.45816036483271977,
          0.8846034651703067,
          0.6747203147257644,
          0.5147477670178107,
          0.18061418346705635,
          0.7535374743928965,
          0.5302821984333211,
          0.5169196206328742,
          0.5246908115337964,
          0.5282651056461866,
          0.3059539384390783,
          0.22475521918117375,
          0.5220644833181927,
          0.5241972632844906,
          0.5871489252781738,
          0.38251473098084043,
          -2.8677396668591673,
          -0.0365116711367347,
          0.7402843667868012,
          0.5984492235228107,
          -1.2333882895370818,
          -0.14016106609848855,
          -0.0768057476338793,
          -0.08838090283466486,
          0.946474981720458,
          0.18599999834231754,
          0.9973095737246681,
          0.6091865073333591,
          0.26725964407347874,
          0.3630848886486045,
          0.5776193979906002,
          0.5020008105369808,
          0.6385767108410573,
          0.5915355622956833,
          -0.07239107444524306,
          0.283978475690204,
          0.16635559333864883,
          0.2630240182807183,
          0.43639370337549516,
          0.304334440882959,
          0.47229264754011574,
          0.4724467626713761,
          0.47198410880447966,
          0.4980866068360903,
          0.9752055697465185,
          0.4303652582176584,
          -0.36458152004906835,
          -1.1811853854088779,
          -4.071439241822247,
          0.4405214628845478,
          0.4914603217146024,
          0.4218681495787493,
          0.4761677049083033,
          0.3776555958357921,
          0.5676363649220519,
          0.7100913141159161,
          0.3469437518429978,
          0.15610376361444228,
          0.5018987775832554,
          0.3026507595642746,
          0.3453757514603375,
          -0.9537159217161102,
          0.4529950921676332,
          0.6763942867229831,
          0.9359971685867001,
          0.4773030609782018,
          0.4646502006685702,
          0.04208126260849703,
          0.06358833014289449,
          0.9658608369098963,
          0.4696711835796002,
          -3.059915026682341,
          0.28600249559927204,
          0.5363709153589111,
          0.49947546368091267,
          0.5258642758441768,
          0.5218265613573324,
          0.5358135754831209,
          0.5400026199346056,
          0.47558778195080653,
          0.3000016235352767,
          0.2657651275771034,
          0.5300751879699248,
          0.285995387597962,
          -0.15562580120983424,
          0.04757041717185464,
          0.716659979017323,
          0.6222751296926188,
          -0.37975737012422617,
          0.19998162028834868,
          0.7766904136982877,
          -0.5975170717052726,
          0.8919096210077376,
          -0.17330760084190297,
          0.18444715962770805,
          0.1863657233238865,
          -0.9901983761548593,
          0.4745675396825396,
          -0.19782715295349446,
          -0.7131322891220557,
          0.3729114452798663,
          -0.10893254531446406,
          -0.009890275062211115,
          0.2658696306824285,
          0.33280503476083173,
          0.44452008168822327,
          0.08069764837253665,
          -0.012500823003756933,
          -0.1728148016367195,
          0.3135148311870317,
          0.9106793544398516,
          0.8979756883530539,
          0.6715270942778273,
          0.346293549790275,
          0.4850731433121019,
          0.33598285240136283,
          -0.29080497202006794,
          0.24884874223320022,
          -0.16887424341141383,
          0.5759264831808146,
          0.5643517303608716,
          0.5800531301600512,
          -16.241128439679088,
          -0.23515808891348455,
          -19.800381169857722,
          -4.740875420875422,
          0.6495324781234206,
          0.5353146865180566,
          0.5228247277630245,
          0.5399433753653097,
          -0.2028500551601327,
          0.18820557873461602,
          -0.28837890084119433,
          0.2060136816151738,
          0.004112490260189643,
          0.9359993238950292,
          0.07508176601612018,
          0.9323644112953569,
          0.29599926712284713,
          0.3620640771193649,
          0.20293144133173846,
          0.4074074074074074,
          0.024494255461546516,
          0.18565185595630362,
          0.10242273775954767,
          0.12402928186817788,
          0.35942258590344334,
          0.46279445204485625,
          -0.7947629022111437,
          -0.630500030220768,
          -1.2762722759760141,
          0.9913861611000025,
          0.9959923664989031,
          0.9789174857182964,
          0.4350288125988933,
          0.9989828376068377,
          0.2545363675163039,
          0.9961396130952381,
          0.5333118389266912,
          0.5560224884776351,
          0.34211722466290084,
          0.9947864821037499,
          0.33927091168091167,
          0.8733798441669132,
          0.32086548364199524,
          -0.5248392795569387,
          -1.0957181763453343,
          0.06172812390479337,
          0.7524779079146388,
          -1.0472855497617464,
          0.2783468953297278,
          0.11974360570398762,
          0.315356140641275,
          -1.7833216629951352,
          -0.643278319327731,
          0.48394220152657097,
          0.4032016137673255,
          -0.02870738637020209,
          0.9080370774647887,
          0.1619497050847615,
          0.5081564103850076,
          0.1698146042326198,
          -1.788288258901212,
          -0.205025150665329,
          0.9560000034891348,
          0.6887660446860088,
          0.4295046104466363,
          0.1917517131144125,
          0.7774569522074116,
          0.5248857151462981,
          -0.5156332641544407,
          0.7767524963978026,
          0.17706266998160575,
          0.4816646593119661,
          0.8978952627860708,
          0.4860647279799376,
          0.858721178724292,
          0.8882107224328476,
          0.8867902521208063,
          0.7337821952990772,
          0.5733104398148711,
          -0.7694000487804877,
          -0.11325223293148567,
          0.3305394913259736,
          0.9559999949956148,
          0.3361324635116515,
          0.38145791167645865,
          0.655741902257208,
          -2.4430308904471314,
          0.36066352102398336,
          -0.30934429223012944,
          0.36159565670835164,
          0.5895574167131956,
          -0.28130731473426596,
          0.955999918172647,
          0.9559999987113802,
          0.2601387923355051,
          0.9237822228745189,
          0.5080258086997715,
          -0.28683873004620997,
          0.43305287169726436,
          0.6389080555816875,
          0.01880478950925915,
          0.5080528859010548,
          0.5615914819675318,
          0.5651553943819851,
          0.5104829236284489,
          0.9365438837121844,
          -0.6263313264292386,
          0.5934171603853163,
          -0.38312137024121823,
          0.5931997604519554,
          0.9049215504140501,
          0.16151407506412407,
          0.7157904759552827,
          -2.0517835931904576,
          -0.28799949692723753,
          0.29429817366579175,
          0.8460145403630378,
          0.19149096544049726,
          -0.9502419311605145,
          0.30774765475850013,
          -3.717431876553438,
          0.21856892062093575,
          0.024201188768298767,
          0.18265202522301044,
          0.4008186979414339,
          0.19656395429545628,
          0.9023869934684681,
          0.34523809523809523,
          0.37774111059158155,
          0.1860002577049159,
          0.2956109421005597,
          0.4904467779353349,
          0.5792815788400042,
          -1.8346513216550884,
          0.796688181640137,
          0.6682276096164053,
          0.18923090796969277,
          0.946000003495587,
          0.9459999863249066,
          0.9013645384146819,
          -0.3082650402209394,
          0.31587390943396226,
          0.4111538271604938,
          0.4506734605504587,
          0.7627879710901506,
          0.16605350696393292,
          0.2074404408240086,
          0.45096907713963774,
          -0.39158791444496277,
          0.6298019589264118,
          0.2871279979709944,
          0.44073849525872333,
          0.494611354899203,
          0.5069552142608291,
          0.44886040652385584,
          0.0013097877325920911,
          0.9914709892761394,
          0.39974790126582277,
          0.25554632397219457,
          0.8636135770234987,
          0.2968904791844929,
          0.3059999575045016,
          0.3059999946450782,
          0.2559999912277187,
          0.8724935541911669,
          0.2044226335202747,
          0.20442347923625404,
          0.42966719101009027,
          -3.0716097188166733,
          0.19957575004397674,
          0.9560000023563593,
          0.3460000019375958,
          0.45908302763116504,
          0.3764744413646055,
          0.5133397121535181,
          0.5299197291719645,
          0.8469332977967307,
          0.9055923031707587,
          0.032368543591787854,
          0.5836003316749585,
          0.3499999976679477,
          0.35000000583013063,
          0.35000000835116574,
          0.3519885315828359,
          0.5174063566753232,
          0.3926369296965321,
          0.20226851049072309,
          0.3114391120428958,
          0.41499159438740335,
          0.4655495938677783,
          -0.2787090735997871,
          0.9735443784034731,
          0.42350553425758913,
          0.6935411065353192,
          0.705382457593742,
          0.5074364826919268,
          0.5790597462239253,
          0.5934238976673084,
          0.6155724682844735,
          -0.17001587906611304,
          0.33471418732782365,
          0.9600192184654914,
          0.8059969529675843,
          0.34999999196307263,
          0.7778701733011585,
          0.9934812902814146,
          0.6750000045437992,
          0.9939727806966029,
          -7687733.45
         ]
        }
       ],
       "layout": {
        "template": {
         "data": {
          "bar": [
           {
            "error_x": {
             "color": "#2a3f5f"
            },
            "error_y": {
             "color": "#2a3f5f"
            },
            "marker": {
             "line": {
              "color": "#E5ECF6",
              "width": 0.5
             },
             "pattern": {
              "fillmode": "overlay",
              "size": 10,
              "solidity": 0.2
             }
            },
            "type": "bar"
           }
          ],
          "barpolar": [
           {
            "marker": {
             "line": {
              "color": "#E5ECF6",
              "width": 0.5
             },
             "pattern": {
              "fillmode": "overlay",
              "size": 10,
              "solidity": 0.2
             }
            },
            "type": "barpolar"
           }
          ],
          "carpet": [
           {
            "aaxis": {
             "endlinecolor": "#2a3f5f",
             "gridcolor": "white",
             "linecolor": "white",
             "minorgridcolor": "white",
             "startlinecolor": "#2a3f5f"
            },
            "baxis": {
             "endlinecolor": "#2a3f5f",
             "gridcolor": "white",
             "linecolor": "white",
             "minorgridcolor": "white",
             "startlinecolor": "#2a3f5f"
            },
            "type": "carpet"
           }
          ],
          "choropleth": [
           {
            "colorbar": {
             "outlinewidth": 0,
             "ticks": ""
            },
            "type": "choropleth"
           }
          ],
          "contour": [
           {
            "colorbar": {
             "outlinewidth": 0,
             "ticks": ""
            },
            "colorscale": [
             [
              0,
              "#0d0887"
             ],
             [
              0.1111111111111111,
              "#46039f"
             ],
             [
              0.2222222222222222,
              "#7201a8"
             ],
             [
              0.3333333333333333,
              "#9c179e"
             ],
             [
              0.4444444444444444,
              "#bd3786"
             ],
             [
              0.5555555555555556,
              "#d8576b"
             ],
             [
              0.6666666666666666,
              "#ed7953"
             ],
             [
              0.7777777777777778,
              "#fb9f3a"
             ],
             [
              0.8888888888888888,
              "#fdca26"
             ],
             [
              1,
              "#f0f921"
             ]
            ],
            "type": "contour"
           }
          ],
          "contourcarpet": [
           {
            "colorbar": {
             "outlinewidth": 0,
             "ticks": ""
            },
            "type": "contourcarpet"
           }
          ],
          "heatmap": [
           {
            "colorbar": {
             "outlinewidth": 0,
             "ticks": ""
            },
            "colorscale": [
             [
              0,
              "#0d0887"
             ],
             [
              0.1111111111111111,
              "#46039f"
             ],
             [
              0.2222222222222222,
              "#7201a8"
             ],
             [
              0.3333333333333333,
              "#9c179e"
             ],
             [
              0.4444444444444444,
              "#bd3786"
             ],
             [
              0.5555555555555556,
              "#d8576b"
             ],
             [
              0.6666666666666666,
              "#ed7953"
             ],
             [
              0.7777777777777778,
              "#fb9f3a"
             ],
             [
              0.8888888888888888,
              "#fdca26"
             ],
             [
              1,
              "#f0f921"
             ]
            ],
            "type": "heatmap"
           }
          ],
          "heatmapgl": [
           {
            "colorbar": {
             "outlinewidth": 0,
             "ticks": ""
            },
            "colorscale": [
             [
              0,
              "#0d0887"
             ],
             [
              0.1111111111111111,
              "#46039f"
             ],
             [
              0.2222222222222222,
              "#7201a8"
             ],
             [
              0.3333333333333333,
              "#9c179e"
             ],
             [
              0.4444444444444444,
              "#bd3786"
             ],
             [
              0.5555555555555556,
              "#d8576b"
             ],
             [
              0.6666666666666666,
              "#ed7953"
             ],
             [
              0.7777777777777778,
              "#fb9f3a"
             ],
             [
              0.8888888888888888,
              "#fdca26"
             ],
             [
              1,
              "#f0f921"
             ]
            ],
            "type": "heatmapgl"
           }
          ],
          "histogram": [
           {
            "marker": {
             "pattern": {
              "fillmode": "overlay",
              "size": 10,
              "solidity": 0.2
             }
            },
            "type": "histogram"
           }
          ],
          "histogram2d": [
           {
            "colorbar": {
             "outlinewidth": 0,
             "ticks": ""
            },
            "colorscale": [
             [
              0,
              "#0d0887"
             ],
             [
              0.1111111111111111,
              "#46039f"
             ],
             [
              0.2222222222222222,
              "#7201a8"
             ],
             [
              0.3333333333333333,
              "#9c179e"
             ],
             [
              0.4444444444444444,
              "#bd3786"
             ],
             [
              0.5555555555555556,
              "#d8576b"
             ],
             [
              0.6666666666666666,
              "#ed7953"
             ],
             [
              0.7777777777777778,
              "#fb9f3a"
             ],
             [
              0.8888888888888888,
              "#fdca26"
             ],
             [
              1,
              "#f0f921"
             ]
            ],
            "type": "histogram2d"
           }
          ],
          "histogram2dcontour": [
           {
            "colorbar": {
             "outlinewidth": 0,
             "ticks": ""
            },
            "colorscale": [
             [
              0,
              "#0d0887"
             ],
             [
              0.1111111111111111,
              "#46039f"
             ],
             [
              0.2222222222222222,
              "#7201a8"
             ],
             [
              0.3333333333333333,
              "#9c179e"
             ],
             [
              0.4444444444444444,
              "#bd3786"
             ],
             [
              0.5555555555555556,
              "#d8576b"
             ],
             [
              0.6666666666666666,
              "#ed7953"
             ],
             [
              0.7777777777777778,
              "#fb9f3a"
             ],
             [
              0.8888888888888888,
              "#fdca26"
             ],
             [
              1,
              "#f0f921"
             ]
            ],
            "type": "histogram2dcontour"
           }
          ],
          "mesh3d": [
           {
            "colorbar": {
             "outlinewidth": 0,
             "ticks": ""
            },
            "type": "mesh3d"
           }
          ],
          "parcoords": [
           {
            "line": {
             "colorbar": {
              "outlinewidth": 0,
              "ticks": ""
             }
            },
            "type": "parcoords"
           }
          ],
          "pie": [
           {
            "automargin": true,
            "type": "pie"
           }
          ],
          "scatter": [
           {
            "fillpattern": {
             "fillmode": "overlay",
             "size": 10,
             "solidity": 0.2
            },
            "type": "scatter"
           }
          ],
          "scatter3d": [
           {
            "line": {
             "colorbar": {
              "outlinewidth": 0,
              "ticks": ""
             }
            },
            "marker": {
             "colorbar": {
              "outlinewidth": 0,
              "ticks": ""
             }
            },
            "type": "scatter3d"
           }
          ],
          "scattercarpet": [
           {
            "marker": {
             "colorbar": {
              "outlinewidth": 0,
              "ticks": ""
             }
            },
            "type": "scattercarpet"
           }
          ],
          "scattergeo": [
           {
            "marker": {
             "colorbar": {
              "outlinewidth": 0,
              "ticks": ""
             }
            },
            "type": "scattergeo"
           }
          ],
          "scattergl": [
           {
            "marker": {
             "colorbar": {
              "outlinewidth": 0,
              "ticks": ""
             }
            },
            "type": "scattergl"
           }
          ],
          "scattermapbox": [
           {
            "marker": {
             "colorbar": {
              "outlinewidth": 0,
              "ticks": ""
             }
            },
            "type": "scattermapbox"
           }
          ],
          "scatterpolar": [
           {
            "marker": {
             "colorbar": {
              "outlinewidth": 0,
              "ticks": ""
             }
            },
            "type": "scatterpolar"
           }
          ],
          "scatterpolargl": [
           {
            "marker": {
             "colorbar": {
              "outlinewidth": 0,
              "ticks": ""
             }
            },
            "type": "scatterpolargl"
           }
          ],
          "scatterternary": [
           {
            "marker": {
             "colorbar": {
              "outlinewidth": 0,
              "ticks": ""
             }
            },
            "type": "scatterternary"
           }
          ],
          "surface": [
           {
            "colorbar": {
             "outlinewidth": 0,
             "ticks": ""
            },
            "colorscale": [
             [
              0,
              "#0d0887"
             ],
             [
              0.1111111111111111,
              "#46039f"
             ],
             [
              0.2222222222222222,
              "#7201a8"
             ],
             [
              0.3333333333333333,
              "#9c179e"
             ],
             [
              0.4444444444444444,
              "#bd3786"
             ],
             [
              0.5555555555555556,
              "#d8576b"
             ],
             [
              0.6666666666666666,
              "#ed7953"
             ],
             [
              0.7777777777777778,
              "#fb9f3a"
             ],
             [
              0.8888888888888888,
              "#fdca26"
             ],
             [
              1,
              "#f0f921"
             ]
            ],
            "type": "surface"
           }
          ],
          "table": [
           {
            "cells": {
             "fill": {
              "color": "#EBF0F8"
             },
             "line": {
              "color": "white"
             }
            },
            "header": {
             "fill": {
              "color": "#C8D4E3"
             },
             "line": {
              "color": "white"
             }
            },
            "type": "table"
           }
          ]
         },
         "layout": {
          "annotationdefaults": {
           "arrowcolor": "#2a3f5f",
           "arrowhead": 0,
           "arrowwidth": 1
          },
          "autotypenumbers": "strict",
          "coloraxis": {
           "colorbar": {
            "outlinewidth": 0,
            "ticks": ""
           }
          },
          "colorscale": {
           "diverging": [
            [
             0,
             "#8e0152"
            ],
            [
             0.1,
             "#c51b7d"
            ],
            [
             0.2,
             "#de77ae"
            ],
            [
             0.3,
             "#f1b6da"
            ],
            [
             0.4,
             "#fde0ef"
            ],
            [
             0.5,
             "#f7f7f7"
            ],
            [
             0.6,
             "#e6f5d0"
            ],
            [
             0.7,
             "#b8e186"
            ],
            [
             0.8,
             "#7fbc41"
            ],
            [
             0.9,
             "#4d9221"
            ],
            [
             1,
             "#276419"
            ]
           ],
           "sequential": [
            [
             0,
             "#0d0887"
            ],
            [
             0.1111111111111111,
             "#46039f"
            ],
            [
             0.2222222222222222,
             "#7201a8"
            ],
            [
             0.3333333333333333,
             "#9c179e"
            ],
            [
             0.4444444444444444,
             "#bd3786"
            ],
            [
             0.5555555555555556,
             "#d8576b"
            ],
            [
             0.6666666666666666,
             "#ed7953"
            ],
            [
             0.7777777777777778,
             "#fb9f3a"
            ],
            [
             0.8888888888888888,
             "#fdca26"
            ],
            [
             1,
             "#f0f921"
            ]
           ],
           "sequentialminus": [
            [
             0,
             "#0d0887"
            ],
            [
             0.1111111111111111,
             "#46039f"
            ],
            [
             0.2222222222222222,
             "#7201a8"
            ],
            [
             0.3333333333333333,
             "#9c179e"
            ],
            [
             0.4444444444444444,
             "#bd3786"
            ],
            [
             0.5555555555555556,
             "#d8576b"
            ],
            [
             0.6666666666666666,
             "#ed7953"
            ],
            [
             0.7777777777777778,
             "#fb9f3a"
            ],
            [
             0.8888888888888888,
             "#fdca26"
            ],
            [
             1,
             "#f0f921"
            ]
           ]
          },
          "colorway": [
           "#636efa",
           "#EF553B",
           "#00cc96",
           "#ab63fa",
           "#FFA15A",
           "#19d3f3",
           "#FF6692",
           "#B6E880",
           "#FF97FF",
           "#FECB52"
          ],
          "font": {
           "color": "#2a3f5f"
          },
          "geo": {
           "bgcolor": "white",
           "lakecolor": "white",
           "landcolor": "#E5ECF6",
           "showlakes": true,
           "showland": true,
           "subunitcolor": "white"
          },
          "hoverlabel": {
           "align": "left"
          },
          "hovermode": "closest",
          "mapbox": {
           "style": "light"
          },
          "paper_bgcolor": "white",
          "plot_bgcolor": "#E5ECF6",
          "polar": {
           "angularaxis": {
            "gridcolor": "white",
            "linecolor": "white",
            "ticks": ""
           },
           "bgcolor": "#E5ECF6",
           "radialaxis": {
            "gridcolor": "white",
            "linecolor": "white",
            "ticks": ""
           }
          },
          "scene": {
           "xaxis": {
            "backgroundcolor": "#E5ECF6",
            "gridcolor": "white",
            "gridwidth": 2,
            "linecolor": "white",
            "showbackground": true,
            "ticks": "",
            "zerolinecolor": "white"
           },
           "yaxis": {
            "backgroundcolor": "#E5ECF6",
            "gridcolor": "white",
            "gridwidth": 2,
            "linecolor": "white",
            "showbackground": true,
            "ticks": "",
            "zerolinecolor": "white"
           },
           "zaxis": {
            "backgroundcolor": "#E5ECF6",
            "gridcolor": "white",
            "gridwidth": 2,
            "linecolor": "white",
            "showbackground": true,
            "ticks": "",
            "zerolinecolor": "white"
           }
          },
          "shapedefaults": {
           "line": {
            "color": "#2a3f5f"
           }
          },
          "ternary": {
           "aaxis": {
            "gridcolor": "white",
            "linecolor": "white",
            "ticks": ""
           },
           "baxis": {
            "gridcolor": "white",
            "linecolor": "white",
            "ticks": ""
           },
           "bgcolor": "#E5ECF6",
           "caxis": {
            "gridcolor": "white",
            "linecolor": "white",
            "ticks": ""
           }
          },
          "title": {
           "x": 0.05
          },
          "xaxis": {
           "automargin": true,
           "gridcolor": "white",
           "linecolor": "white",
           "ticks": "",
           "title": {
            "standoff": 15
           },
           "zerolinecolor": "white",
           "zerolinewidth": 2
          },
          "yaxis": {
           "automargin": true,
           "gridcolor": "white",
           "linecolor": "white",
           "ticks": "",
           "title": {
            "standoff": 15
           },
           "zerolinecolor": "white",
           "zerolinewidth": 2
          }
         }
        },
        "title": {
         "text": "Cluster 0: Distribución del Margen Bruto"
        },
        "yaxis": {
         "title": {
          "text": "Margen Bruto"
         }
        }
       }
      }
     },
     "metadata": {},
     "output_type": "display_data"
    },
    {
     "name": "stdout",
     "output_type": "stream",
     "text": [
      "Cluster 1:\n",
      "['241872', '244146', '244244', '244306', '244372', '244460', '244522', '244588', '244624', '244694', '244735', '244828', '244858', '244911', '245034', '245469', '245539', '245605', '245679', '245771']\n",
      "\n",
      "Estadísticas del margen bruto:\n",
      "Promedio: 0.32051285915320826\n",
      "Mediana: 0.2439653439157914\n",
      "Desviación estándar: 0.2286716982774021\n",
      "\n"
     ]
    },
    {
     "data": {
      "application/vnd.plotly.v1+json": {
       "config": {
        "plotlyServerURL": "https://plot.ly"
       },
       "data": [
        {
         "name": "Margen Bruto",
         "type": "box",
         "y": [
          0.35571109955504476,
          0.25049786514384254,
          0.21253784040952112,
          0.1671325210057981,
          0.13171397238687885,
          0.1404777388340104,
          0.09853585136899896,
          0.15756215480722072,
          -0.02311180981102392,
          0.0673596842961246,
          0.22553623492830596,
          0.2374328226877402,
          0.2862629395539655,
          0.29068438810860614,
          0.6767996214342865,
          0.5608737679417176,
          0.5875820793106563,
          0.636138983135215,
          0.6551731557565944,
          0.6953562722106612
         ]
        }
       ],
       "layout": {
        "template": {
         "data": {
          "bar": [
           {
            "error_x": {
             "color": "#2a3f5f"
            },
            "error_y": {
             "color": "#2a3f5f"
            },
            "marker": {
             "line": {
              "color": "#E5ECF6",
              "width": 0.5
             },
             "pattern": {
              "fillmode": "overlay",
              "size": 10,
              "solidity": 0.2
             }
            },
            "type": "bar"
           }
          ],
          "barpolar": [
           {
            "marker": {
             "line": {
              "color": "#E5ECF6",
              "width": 0.5
             },
             "pattern": {
              "fillmode": "overlay",
              "size": 10,
              "solidity": 0.2
             }
            },
            "type": "barpolar"
           }
          ],
          "carpet": [
           {
            "aaxis": {
             "endlinecolor": "#2a3f5f",
             "gridcolor": "white",
             "linecolor": "white",
             "minorgridcolor": "white",
             "startlinecolor": "#2a3f5f"
            },
            "baxis": {
             "endlinecolor": "#2a3f5f",
             "gridcolor": "white",
             "linecolor": "white",
             "minorgridcolor": "white",
             "startlinecolor": "#2a3f5f"
            },
            "type": "carpet"
           }
          ],
          "choropleth": [
           {
            "colorbar": {
             "outlinewidth": 0,
             "ticks": ""
            },
            "type": "choropleth"
           }
          ],
          "contour": [
           {
            "colorbar": {
             "outlinewidth": 0,
             "ticks": ""
            },
            "colorscale": [
             [
              0,
              "#0d0887"
             ],
             [
              0.1111111111111111,
              "#46039f"
             ],
             [
              0.2222222222222222,
              "#7201a8"
             ],
             [
              0.3333333333333333,
              "#9c179e"
             ],
             [
              0.4444444444444444,
              "#bd3786"
             ],
             [
              0.5555555555555556,
              "#d8576b"
             ],
             [
              0.6666666666666666,
              "#ed7953"
             ],
             [
              0.7777777777777778,
              "#fb9f3a"
             ],
             [
              0.8888888888888888,
              "#fdca26"
             ],
             [
              1,
              "#f0f921"
             ]
            ],
            "type": "contour"
           }
          ],
          "contourcarpet": [
           {
            "colorbar": {
             "outlinewidth": 0,
             "ticks": ""
            },
            "type": "contourcarpet"
           }
          ],
          "heatmap": [
           {
            "colorbar": {
             "outlinewidth": 0,
             "ticks": ""
            },
            "colorscale": [
             [
              0,
              "#0d0887"
             ],
             [
              0.1111111111111111,
              "#46039f"
             ],
             [
              0.2222222222222222,
              "#7201a8"
             ],
             [
              0.3333333333333333,
              "#9c179e"
             ],
             [
              0.4444444444444444,
              "#bd3786"
             ],
             [
              0.5555555555555556,
              "#d8576b"
             ],
             [
              0.6666666666666666,
              "#ed7953"
             ],
             [
              0.7777777777777778,
              "#fb9f3a"
             ],
             [
              0.8888888888888888,
              "#fdca26"
             ],
             [
              1,
              "#f0f921"
             ]
            ],
            "type": "heatmap"
           }
          ],
          "heatmapgl": [
           {
            "colorbar": {
             "outlinewidth": 0,
             "ticks": ""
            },
            "colorscale": [
             [
              0,
              "#0d0887"
             ],
             [
              0.1111111111111111,
              "#46039f"
             ],
             [
              0.2222222222222222,
              "#7201a8"
             ],
             [
              0.3333333333333333,
              "#9c179e"
             ],
             [
              0.4444444444444444,
              "#bd3786"
             ],
             [
              0.5555555555555556,
              "#d8576b"
             ],
             [
              0.6666666666666666,
              "#ed7953"
             ],
             [
              0.7777777777777778,
              "#fb9f3a"
             ],
             [
              0.8888888888888888,
              "#fdca26"
             ],
             [
              1,
              "#f0f921"
             ]
            ],
            "type": "heatmapgl"
           }
          ],
          "histogram": [
           {
            "marker": {
             "pattern": {
              "fillmode": "overlay",
              "size": 10,
              "solidity": 0.2
             }
            },
            "type": "histogram"
           }
          ],
          "histogram2d": [
           {
            "colorbar": {
             "outlinewidth": 0,
             "ticks": ""
            },
            "colorscale": [
             [
              0,
              "#0d0887"
             ],
             [
              0.1111111111111111,
              "#46039f"
             ],
             [
              0.2222222222222222,
              "#7201a8"
             ],
             [
              0.3333333333333333,
              "#9c179e"
             ],
             [
              0.4444444444444444,
              "#bd3786"
             ],
             [
              0.5555555555555556,
              "#d8576b"
             ],
             [
              0.6666666666666666,
              "#ed7953"
             ],
             [
              0.7777777777777778,
              "#fb9f3a"
             ],
             [
              0.8888888888888888,
              "#fdca26"
             ],
             [
              1,
              "#f0f921"
             ]
            ],
            "type": "histogram2d"
           }
          ],
          "histogram2dcontour": [
           {
            "colorbar": {
             "outlinewidth": 0,
             "ticks": ""
            },
            "colorscale": [
             [
              0,
              "#0d0887"
             ],
             [
              0.1111111111111111,
              "#46039f"
             ],
             [
              0.2222222222222222,
              "#7201a8"
             ],
             [
              0.3333333333333333,
              "#9c179e"
             ],
             [
              0.4444444444444444,
              "#bd3786"
             ],
             [
              0.5555555555555556,
              "#d8576b"
             ],
             [
              0.6666666666666666,
              "#ed7953"
             ],
             [
              0.7777777777777778,
              "#fb9f3a"
             ],
             [
              0.8888888888888888,
              "#fdca26"
             ],
             [
              1,
              "#f0f921"
             ]
            ],
            "type": "histogram2dcontour"
           }
          ],
          "mesh3d": [
           {
            "colorbar": {
             "outlinewidth": 0,
             "ticks": ""
            },
            "type": "mesh3d"
           }
          ],
          "parcoords": [
           {
            "line": {
             "colorbar": {
              "outlinewidth": 0,
              "ticks": ""
             }
            },
            "type": "parcoords"
           }
          ],
          "pie": [
           {
            "automargin": true,
            "type": "pie"
           }
          ],
          "scatter": [
           {
            "fillpattern": {
             "fillmode": "overlay",
             "size": 10,
             "solidity": 0.2
            },
            "type": "scatter"
           }
          ],
          "scatter3d": [
           {
            "line": {
             "colorbar": {
              "outlinewidth": 0,
              "ticks": ""
             }
            },
            "marker": {
             "colorbar": {
              "outlinewidth": 0,
              "ticks": ""
             }
            },
            "type": "scatter3d"
           }
          ],
          "scattercarpet": [
           {
            "marker": {
             "colorbar": {
              "outlinewidth": 0,
              "ticks": ""
             }
            },
            "type": "scattercarpet"
           }
          ],
          "scattergeo": [
           {
            "marker": {
             "colorbar": {
              "outlinewidth": 0,
              "ticks": ""
             }
            },
            "type": "scattergeo"
           }
          ],
          "scattergl": [
           {
            "marker": {
             "colorbar": {
              "outlinewidth": 0,
              "ticks": ""
             }
            },
            "type": "scattergl"
           }
          ],
          "scattermapbox": [
           {
            "marker": {
             "colorbar": {
              "outlinewidth": 0,
              "ticks": ""
             }
            },
            "type": "scattermapbox"
           }
          ],
          "scatterpolar": [
           {
            "marker": {
             "colorbar": {
              "outlinewidth": 0,
              "ticks": ""
             }
            },
            "type": "scatterpolar"
           }
          ],
          "scatterpolargl": [
           {
            "marker": {
             "colorbar": {
              "outlinewidth": 0,
              "ticks": ""
             }
            },
            "type": "scatterpolargl"
           }
          ],
          "scatterternary": [
           {
            "marker": {
             "colorbar": {
              "outlinewidth": 0,
              "ticks": ""
             }
            },
            "type": "scatterternary"
           }
          ],
          "surface": [
           {
            "colorbar": {
             "outlinewidth": 0,
             "ticks": ""
            },
            "colorscale": [
             [
              0,
              "#0d0887"
             ],
             [
              0.1111111111111111,
              "#46039f"
             ],
             [
              0.2222222222222222,
              "#7201a8"
             ],
             [
              0.3333333333333333,
              "#9c179e"
             ],
             [
              0.4444444444444444,
              "#bd3786"
             ],
             [
              0.5555555555555556,
              "#d8576b"
             ],
             [
              0.6666666666666666,
              "#ed7953"
             ],
             [
              0.7777777777777778,
              "#fb9f3a"
             ],
             [
              0.8888888888888888,
              "#fdca26"
             ],
             [
              1,
              "#f0f921"
             ]
            ],
            "type": "surface"
           }
          ],
          "table": [
           {
            "cells": {
             "fill": {
              "color": "#EBF0F8"
             },
             "line": {
              "color": "white"
             }
            },
            "header": {
             "fill": {
              "color": "#C8D4E3"
             },
             "line": {
              "color": "white"
             }
            },
            "type": "table"
           }
          ]
         },
         "layout": {
          "annotationdefaults": {
           "arrowcolor": "#2a3f5f",
           "arrowhead": 0,
           "arrowwidth": 1
          },
          "autotypenumbers": "strict",
          "coloraxis": {
           "colorbar": {
            "outlinewidth": 0,
            "ticks": ""
           }
          },
          "colorscale": {
           "diverging": [
            [
             0,
             "#8e0152"
            ],
            [
             0.1,
             "#c51b7d"
            ],
            [
             0.2,
             "#de77ae"
            ],
            [
             0.3,
             "#f1b6da"
            ],
            [
             0.4,
             "#fde0ef"
            ],
            [
             0.5,
             "#f7f7f7"
            ],
            [
             0.6,
             "#e6f5d0"
            ],
            [
             0.7,
             "#b8e186"
            ],
            [
             0.8,
             "#7fbc41"
            ],
            [
             0.9,
             "#4d9221"
            ],
            [
             1,
             "#276419"
            ]
           ],
           "sequential": [
            [
             0,
             "#0d0887"
            ],
            [
             0.1111111111111111,
             "#46039f"
            ],
            [
             0.2222222222222222,
             "#7201a8"
            ],
            [
             0.3333333333333333,
             "#9c179e"
            ],
            [
             0.4444444444444444,
             "#bd3786"
            ],
            [
             0.5555555555555556,
             "#d8576b"
            ],
            [
             0.6666666666666666,
             "#ed7953"
            ],
            [
             0.7777777777777778,
             "#fb9f3a"
            ],
            [
             0.8888888888888888,
             "#fdca26"
            ],
            [
             1,
             "#f0f921"
            ]
           ],
           "sequentialminus": [
            [
             0,
             "#0d0887"
            ],
            [
             0.1111111111111111,
             "#46039f"
            ],
            [
             0.2222222222222222,
             "#7201a8"
            ],
            [
             0.3333333333333333,
             "#9c179e"
            ],
            [
             0.4444444444444444,
             "#bd3786"
            ],
            [
             0.5555555555555556,
             "#d8576b"
            ],
            [
             0.6666666666666666,
             "#ed7953"
            ],
            [
             0.7777777777777778,
             "#fb9f3a"
            ],
            [
             0.8888888888888888,
             "#fdca26"
            ],
            [
             1,
             "#f0f921"
            ]
           ]
          },
          "colorway": [
           "#636efa",
           "#EF553B",
           "#00cc96",
           "#ab63fa",
           "#FFA15A",
           "#19d3f3",
           "#FF6692",
           "#B6E880",
           "#FF97FF",
           "#FECB52"
          ],
          "font": {
           "color": "#2a3f5f"
          },
          "geo": {
           "bgcolor": "white",
           "lakecolor": "white",
           "landcolor": "#E5ECF6",
           "showlakes": true,
           "showland": true,
           "subunitcolor": "white"
          },
          "hoverlabel": {
           "align": "left"
          },
          "hovermode": "closest",
          "mapbox": {
           "style": "light"
          },
          "paper_bgcolor": "white",
          "plot_bgcolor": "#E5ECF6",
          "polar": {
           "angularaxis": {
            "gridcolor": "white",
            "linecolor": "white",
            "ticks": ""
           },
           "bgcolor": "#E5ECF6",
           "radialaxis": {
            "gridcolor": "white",
            "linecolor": "white",
            "ticks": ""
           }
          },
          "scene": {
           "xaxis": {
            "backgroundcolor": "#E5ECF6",
            "gridcolor": "white",
            "gridwidth": 2,
            "linecolor": "white",
            "showbackground": true,
            "ticks": "",
            "zerolinecolor": "white"
           },
           "yaxis": {
            "backgroundcolor": "#E5ECF6",
            "gridcolor": "white",
            "gridwidth": 2,
            "linecolor": "white",
            "showbackground": true,
            "ticks": "",
            "zerolinecolor": "white"
           },
           "zaxis": {
            "backgroundcolor": "#E5ECF6",
            "gridcolor": "white",
            "gridwidth": 2,
            "linecolor": "white",
            "showbackground": true,
            "ticks": "",
            "zerolinecolor": "white"
           }
          },
          "shapedefaults": {
           "line": {
            "color": "#2a3f5f"
           }
          },
          "ternary": {
           "aaxis": {
            "gridcolor": "white",
            "linecolor": "white",
            "ticks": ""
           },
           "baxis": {
            "gridcolor": "white",
            "linecolor": "white",
            "ticks": ""
           },
           "bgcolor": "#E5ECF6",
           "caxis": {
            "gridcolor": "white",
            "linecolor": "white",
            "ticks": ""
           }
          },
          "title": {
           "x": 0.05
          },
          "xaxis": {
           "automargin": true,
           "gridcolor": "white",
           "linecolor": "white",
           "ticks": "",
           "title": {
            "standoff": 15
           },
           "zerolinecolor": "white",
           "zerolinewidth": 2
          },
          "yaxis": {
           "automargin": true,
           "gridcolor": "white",
           "linecolor": "white",
           "ticks": "",
           "title": {
            "standoff": 15
           },
           "zerolinecolor": "white",
           "zerolinewidth": 2
          }
         }
        },
        "title": {
         "text": "Cluster 1: Distribución del Margen Bruto"
        },
        "yaxis": {
         "title": {
          "text": "Margen Bruto"
         }
        }
       }
      }
     },
     "metadata": {},
     "output_type": "display_data"
    },
    {
     "name": "stdout",
     "output_type": "stream",
     "text": [
      "Cluster 2:\n",
      "['243679', '243762', '244537', '244695', '244830', '244898', '244915', '244993', '245076', '245157', '245396', '245470', '245540', '245542', '245558', '245606', '245608', '245609', '245641', '245657', '245672', '245677', '245680', '245681', '245682', '245730', '245774', '245844']\n",
      "\n",
      "Estadísticas del margen bruto:\n",
      "Promedio: 0.346218794527215\n",
      "Mediana: 0.4075087950212988\n",
      "Desviación estándar: 0.3130210011683776\n",
      "\n"
     ]
    },
    {
     "data": {
      "application/vnd.plotly.v1+json": {
       "config": {
        "plotlyServerURL": "https://plot.ly"
       },
       "data": [
        {
         "name": "Margen Bruto",
         "type": "box",
         "y": [
          0.8126282901193707,
          0.3987938220090647,
          0.6507391505620274,
          0.5571014494035731,
          0.6008898263159589,
          0.4379582195678807,
          0.4227879895979451,
          0.4060899304918234,
          0.3669117463336369,
          0.4161220800104485,
          -0.06578948677248671,
          -0.139231432675945,
          -0.017995276521282196,
          0.6284660677520403,
          0.03738414612113605,
          -0.03850375864683035,
          0.584804670607921,
          0.03412813281933069,
          0.20000003588328194,
          0.9232668578709349,
          0.001919886936149266,
          0.19692243572301793,
          -0.027039221901590537,
          0.5745064613713555,
          -0.1151856464105819,
          0.7605927495066647,
          0.40892765955077415,
          0.6769294611364014
         ]
        }
       ],
       "layout": {
        "template": {
         "data": {
          "bar": [
           {
            "error_x": {
             "color": "#2a3f5f"
            },
            "error_y": {
             "color": "#2a3f5f"
            },
            "marker": {
             "line": {
              "color": "#E5ECF6",
              "width": 0.5
             },
             "pattern": {
              "fillmode": "overlay",
              "size": 10,
              "solidity": 0.2
             }
            },
            "type": "bar"
           }
          ],
          "barpolar": [
           {
            "marker": {
             "line": {
              "color": "#E5ECF6",
              "width": 0.5
             },
             "pattern": {
              "fillmode": "overlay",
              "size": 10,
              "solidity": 0.2
             }
            },
            "type": "barpolar"
           }
          ],
          "carpet": [
           {
            "aaxis": {
             "endlinecolor": "#2a3f5f",
             "gridcolor": "white",
             "linecolor": "white",
             "minorgridcolor": "white",
             "startlinecolor": "#2a3f5f"
            },
            "baxis": {
             "endlinecolor": "#2a3f5f",
             "gridcolor": "white",
             "linecolor": "white",
             "minorgridcolor": "white",
             "startlinecolor": "#2a3f5f"
            },
            "type": "carpet"
           }
          ],
          "choropleth": [
           {
            "colorbar": {
             "outlinewidth": 0,
             "ticks": ""
            },
            "type": "choropleth"
           }
          ],
          "contour": [
           {
            "colorbar": {
             "outlinewidth": 0,
             "ticks": ""
            },
            "colorscale": [
             [
              0,
              "#0d0887"
             ],
             [
              0.1111111111111111,
              "#46039f"
             ],
             [
              0.2222222222222222,
              "#7201a8"
             ],
             [
              0.3333333333333333,
              "#9c179e"
             ],
             [
              0.4444444444444444,
              "#bd3786"
             ],
             [
              0.5555555555555556,
              "#d8576b"
             ],
             [
              0.6666666666666666,
              "#ed7953"
             ],
             [
              0.7777777777777778,
              "#fb9f3a"
             ],
             [
              0.8888888888888888,
              "#fdca26"
             ],
             [
              1,
              "#f0f921"
             ]
            ],
            "type": "contour"
           }
          ],
          "contourcarpet": [
           {
            "colorbar": {
             "outlinewidth": 0,
             "ticks": ""
            },
            "type": "contourcarpet"
           }
          ],
          "heatmap": [
           {
            "colorbar": {
             "outlinewidth": 0,
             "ticks": ""
            },
            "colorscale": [
             [
              0,
              "#0d0887"
             ],
             [
              0.1111111111111111,
              "#46039f"
             ],
             [
              0.2222222222222222,
              "#7201a8"
             ],
             [
              0.3333333333333333,
              "#9c179e"
             ],
             [
              0.4444444444444444,
              "#bd3786"
             ],
             [
              0.5555555555555556,
              "#d8576b"
             ],
             [
              0.6666666666666666,
              "#ed7953"
             ],
             [
              0.7777777777777778,
              "#fb9f3a"
             ],
             [
              0.8888888888888888,
              "#fdca26"
             ],
             [
              1,
              "#f0f921"
             ]
            ],
            "type": "heatmap"
           }
          ],
          "heatmapgl": [
           {
            "colorbar": {
             "outlinewidth": 0,
             "ticks": ""
            },
            "colorscale": [
             [
              0,
              "#0d0887"
             ],
             [
              0.1111111111111111,
              "#46039f"
             ],
             [
              0.2222222222222222,
              "#7201a8"
             ],
             [
              0.3333333333333333,
              "#9c179e"
             ],
             [
              0.4444444444444444,
              "#bd3786"
             ],
             [
              0.5555555555555556,
              "#d8576b"
             ],
             [
              0.6666666666666666,
              "#ed7953"
             ],
             [
              0.7777777777777778,
              "#fb9f3a"
             ],
             [
              0.8888888888888888,
              "#fdca26"
             ],
             [
              1,
              "#f0f921"
             ]
            ],
            "type": "heatmapgl"
           }
          ],
          "histogram": [
           {
            "marker": {
             "pattern": {
              "fillmode": "overlay",
              "size": 10,
              "solidity": 0.2
             }
            },
            "type": "histogram"
           }
          ],
          "histogram2d": [
           {
            "colorbar": {
             "outlinewidth": 0,
             "ticks": ""
            },
            "colorscale": [
             [
              0,
              "#0d0887"
             ],
             [
              0.1111111111111111,
              "#46039f"
             ],
             [
              0.2222222222222222,
              "#7201a8"
             ],
             [
              0.3333333333333333,
              "#9c179e"
             ],
             [
              0.4444444444444444,
              "#bd3786"
             ],
             [
              0.5555555555555556,
              "#d8576b"
             ],
             [
              0.6666666666666666,
              "#ed7953"
             ],
             [
              0.7777777777777778,
              "#fb9f3a"
             ],
             [
              0.8888888888888888,
              "#fdca26"
             ],
             [
              1,
              "#f0f921"
             ]
            ],
            "type": "histogram2d"
           }
          ],
          "histogram2dcontour": [
           {
            "colorbar": {
             "outlinewidth": 0,
             "ticks": ""
            },
            "colorscale": [
             [
              0,
              "#0d0887"
             ],
             [
              0.1111111111111111,
              "#46039f"
             ],
             [
              0.2222222222222222,
              "#7201a8"
             ],
             [
              0.3333333333333333,
              "#9c179e"
             ],
             [
              0.4444444444444444,
              "#bd3786"
             ],
             [
              0.5555555555555556,
              "#d8576b"
             ],
             [
              0.6666666666666666,
              "#ed7953"
             ],
             [
              0.7777777777777778,
              "#fb9f3a"
             ],
             [
              0.8888888888888888,
              "#fdca26"
             ],
             [
              1,
              "#f0f921"
             ]
            ],
            "type": "histogram2dcontour"
           }
          ],
          "mesh3d": [
           {
            "colorbar": {
             "outlinewidth": 0,
             "ticks": ""
            },
            "type": "mesh3d"
           }
          ],
          "parcoords": [
           {
            "line": {
             "colorbar": {
              "outlinewidth": 0,
              "ticks": ""
             }
            },
            "type": "parcoords"
           }
          ],
          "pie": [
           {
            "automargin": true,
            "type": "pie"
           }
          ],
          "scatter": [
           {
            "fillpattern": {
             "fillmode": "overlay",
             "size": 10,
             "solidity": 0.2
            },
            "type": "scatter"
           }
          ],
          "scatter3d": [
           {
            "line": {
             "colorbar": {
              "outlinewidth": 0,
              "ticks": ""
             }
            },
            "marker": {
             "colorbar": {
              "outlinewidth": 0,
              "ticks": ""
             }
            },
            "type": "scatter3d"
           }
          ],
          "scattercarpet": [
           {
            "marker": {
             "colorbar": {
              "outlinewidth": 0,
              "ticks": ""
             }
            },
            "type": "scattercarpet"
           }
          ],
          "scattergeo": [
           {
            "marker": {
             "colorbar": {
              "outlinewidth": 0,
              "ticks": ""
             }
            },
            "type": "scattergeo"
           }
          ],
          "scattergl": [
           {
            "marker": {
             "colorbar": {
              "outlinewidth": 0,
              "ticks": ""
             }
            },
            "type": "scattergl"
           }
          ],
          "scattermapbox": [
           {
            "marker": {
             "colorbar": {
              "outlinewidth": 0,
              "ticks": ""
             }
            },
            "type": "scattermapbox"
           }
          ],
          "scatterpolar": [
           {
            "marker": {
             "colorbar": {
              "outlinewidth": 0,
              "ticks": ""
             }
            },
            "type": "scatterpolar"
           }
          ],
          "scatterpolargl": [
           {
            "marker": {
             "colorbar": {
              "outlinewidth": 0,
              "ticks": ""
             }
            },
            "type": "scatterpolargl"
           }
          ],
          "scatterternary": [
           {
            "marker": {
             "colorbar": {
              "outlinewidth": 0,
              "ticks": ""
             }
            },
            "type": "scatterternary"
           }
          ],
          "surface": [
           {
            "colorbar": {
             "outlinewidth": 0,
             "ticks": ""
            },
            "colorscale": [
             [
              0,
              "#0d0887"
             ],
             [
              0.1111111111111111,
              "#46039f"
             ],
             [
              0.2222222222222222,
              "#7201a8"
             ],
             [
              0.3333333333333333,
              "#9c179e"
             ],
             [
              0.4444444444444444,
              "#bd3786"
             ],
             [
              0.5555555555555556,
              "#d8576b"
             ],
             [
              0.6666666666666666,
              "#ed7953"
             ],
             [
              0.7777777777777778,
              "#fb9f3a"
             ],
             [
              0.8888888888888888,
              "#fdca26"
             ],
             [
              1,
              "#f0f921"
             ]
            ],
            "type": "surface"
           }
          ],
          "table": [
           {
            "cells": {
             "fill": {
              "color": "#EBF0F8"
             },
             "line": {
              "color": "white"
             }
            },
            "header": {
             "fill": {
              "color": "#C8D4E3"
             },
             "line": {
              "color": "white"
             }
            },
            "type": "table"
           }
          ]
         },
         "layout": {
          "annotationdefaults": {
           "arrowcolor": "#2a3f5f",
           "arrowhead": 0,
           "arrowwidth": 1
          },
          "autotypenumbers": "strict",
          "coloraxis": {
           "colorbar": {
            "outlinewidth": 0,
            "ticks": ""
           }
          },
          "colorscale": {
           "diverging": [
            [
             0,
             "#8e0152"
            ],
            [
             0.1,
             "#c51b7d"
            ],
            [
             0.2,
             "#de77ae"
            ],
            [
             0.3,
             "#f1b6da"
            ],
            [
             0.4,
             "#fde0ef"
            ],
            [
             0.5,
             "#f7f7f7"
            ],
            [
             0.6,
             "#e6f5d0"
            ],
            [
             0.7,
             "#b8e186"
            ],
            [
             0.8,
             "#7fbc41"
            ],
            [
             0.9,
             "#4d9221"
            ],
            [
             1,
             "#276419"
            ]
           ],
           "sequential": [
            [
             0,
             "#0d0887"
            ],
            [
             0.1111111111111111,
             "#46039f"
            ],
            [
             0.2222222222222222,
             "#7201a8"
            ],
            [
             0.3333333333333333,
             "#9c179e"
            ],
            [
             0.4444444444444444,
             "#bd3786"
            ],
            [
             0.5555555555555556,
             "#d8576b"
            ],
            [
             0.6666666666666666,
             "#ed7953"
            ],
            [
             0.7777777777777778,
             "#fb9f3a"
            ],
            [
             0.8888888888888888,
             "#fdca26"
            ],
            [
             1,
             "#f0f921"
            ]
           ],
           "sequentialminus": [
            [
             0,
             "#0d0887"
            ],
            [
             0.1111111111111111,
             "#46039f"
            ],
            [
             0.2222222222222222,
             "#7201a8"
            ],
            [
             0.3333333333333333,
             "#9c179e"
            ],
            [
             0.4444444444444444,
             "#bd3786"
            ],
            [
             0.5555555555555556,
             "#d8576b"
            ],
            [
             0.6666666666666666,
             "#ed7953"
            ],
            [
             0.7777777777777778,
             "#fb9f3a"
            ],
            [
             0.8888888888888888,
             "#fdca26"
            ],
            [
             1,
             "#f0f921"
            ]
           ]
          },
          "colorway": [
           "#636efa",
           "#EF553B",
           "#00cc96",
           "#ab63fa",
           "#FFA15A",
           "#19d3f3",
           "#FF6692",
           "#B6E880",
           "#FF97FF",
           "#FECB52"
          ],
          "font": {
           "color": "#2a3f5f"
          },
          "geo": {
           "bgcolor": "white",
           "lakecolor": "white",
           "landcolor": "#E5ECF6",
           "showlakes": true,
           "showland": true,
           "subunitcolor": "white"
          },
          "hoverlabel": {
           "align": "left"
          },
          "hovermode": "closest",
          "mapbox": {
           "style": "light"
          },
          "paper_bgcolor": "white",
          "plot_bgcolor": "#E5ECF6",
          "polar": {
           "angularaxis": {
            "gridcolor": "white",
            "linecolor": "white",
            "ticks": ""
           },
           "bgcolor": "#E5ECF6",
           "radialaxis": {
            "gridcolor": "white",
            "linecolor": "white",
            "ticks": ""
           }
          },
          "scene": {
           "xaxis": {
            "backgroundcolor": "#E5ECF6",
            "gridcolor": "white",
            "gridwidth": 2,
            "linecolor": "white",
            "showbackground": true,
            "ticks": "",
            "zerolinecolor": "white"
           },
           "yaxis": {
            "backgroundcolor": "#E5ECF6",
            "gridcolor": "white",
            "gridwidth": 2,
            "linecolor": "white",
            "showbackground": true,
            "ticks": "",
            "zerolinecolor": "white"
           },
           "zaxis": {
            "backgroundcolor": "#E5ECF6",
            "gridcolor": "white",
            "gridwidth": 2,
            "linecolor": "white",
            "showbackground": true,
            "ticks": "",
            "zerolinecolor": "white"
           }
          },
          "shapedefaults": {
           "line": {
            "color": "#2a3f5f"
           }
          },
          "ternary": {
           "aaxis": {
            "gridcolor": "white",
            "linecolor": "white",
            "ticks": ""
           },
           "baxis": {
            "gridcolor": "white",
            "linecolor": "white",
            "ticks": ""
           },
           "bgcolor": "#E5ECF6",
           "caxis": {
            "gridcolor": "white",
            "linecolor": "white",
            "ticks": ""
           }
          },
          "title": {
           "x": 0.05
          },
          "xaxis": {
           "automargin": true,
           "gridcolor": "white",
           "linecolor": "white",
           "ticks": "",
           "title": {
            "standoff": 15
           },
           "zerolinecolor": "white",
           "zerolinewidth": 2
          },
          "yaxis": {
           "automargin": true,
           "gridcolor": "white",
           "linecolor": "white",
           "ticks": "",
           "title": {
            "standoff": 15
           },
           "zerolinecolor": "white",
           "zerolinewidth": 2
          }
         }
        },
        "title": {
         "text": "Cluster 2: Distribución del Margen Bruto"
        },
        "yaxis": {
         "title": {
          "text": "Margen Bruto"
         }
        }
       }
      }
     },
     "metadata": {},
     "output_type": "display_data"
    },
    {
     "name": "stdout",
     "output_type": "stream",
     "text": [
      "Cluster 3:\n",
      "['243841', '243952', '244052', '245457', '245543', '245585', '245758']\n",
      "\n",
      "Estadísticas del margen bruto:\n",
      "Promedio: -0.1977102009984346\n",
      "Mediana: -0.42878565578183714\n",
      "Desviación estándar: 0.3395571495958112\n",
      "\n"
     ]
    },
    {
     "data": {
      "application/vnd.plotly.v1+json": {
       "config": {
        "plotlyServerURL": "https://plot.ly"
       },
       "data": [
        {
         "name": "Margen Bruto",
         "type": "box",
         "y": [
          0.09417677486173756,
          0.31178670851476764,
          0.05510037508178933,
          -0.5227697135861887,
          -0.44830037130011496,
          -0.42878565578183714,
          -0.4451795247791957
         ]
        }
       ],
       "layout": {
        "template": {
         "data": {
          "bar": [
           {
            "error_x": {
             "color": "#2a3f5f"
            },
            "error_y": {
             "color": "#2a3f5f"
            },
            "marker": {
             "line": {
              "color": "#E5ECF6",
              "width": 0.5
             },
             "pattern": {
              "fillmode": "overlay",
              "size": 10,
              "solidity": 0.2
             }
            },
            "type": "bar"
           }
          ],
          "barpolar": [
           {
            "marker": {
             "line": {
              "color": "#E5ECF6",
              "width": 0.5
             },
             "pattern": {
              "fillmode": "overlay",
              "size": 10,
              "solidity": 0.2
             }
            },
            "type": "barpolar"
           }
          ],
          "carpet": [
           {
            "aaxis": {
             "endlinecolor": "#2a3f5f",
             "gridcolor": "white",
             "linecolor": "white",
             "minorgridcolor": "white",
             "startlinecolor": "#2a3f5f"
            },
            "baxis": {
             "endlinecolor": "#2a3f5f",
             "gridcolor": "white",
             "linecolor": "white",
             "minorgridcolor": "white",
             "startlinecolor": "#2a3f5f"
            },
            "type": "carpet"
           }
          ],
          "choropleth": [
           {
            "colorbar": {
             "outlinewidth": 0,
             "ticks": ""
            },
            "type": "choropleth"
           }
          ],
          "contour": [
           {
            "colorbar": {
             "outlinewidth": 0,
             "ticks": ""
            },
            "colorscale": [
             [
              0,
              "#0d0887"
             ],
             [
              0.1111111111111111,
              "#46039f"
             ],
             [
              0.2222222222222222,
              "#7201a8"
             ],
             [
              0.3333333333333333,
              "#9c179e"
             ],
             [
              0.4444444444444444,
              "#bd3786"
             ],
             [
              0.5555555555555556,
              "#d8576b"
             ],
             [
              0.6666666666666666,
              "#ed7953"
             ],
             [
              0.7777777777777778,
              "#fb9f3a"
             ],
             [
              0.8888888888888888,
              "#fdca26"
             ],
             [
              1,
              "#f0f921"
             ]
            ],
            "type": "contour"
           }
          ],
          "contourcarpet": [
           {
            "colorbar": {
             "outlinewidth": 0,
             "ticks": ""
            },
            "type": "contourcarpet"
           }
          ],
          "heatmap": [
           {
            "colorbar": {
             "outlinewidth": 0,
             "ticks": ""
            },
            "colorscale": [
             [
              0,
              "#0d0887"
             ],
             [
              0.1111111111111111,
              "#46039f"
             ],
             [
              0.2222222222222222,
              "#7201a8"
             ],
             [
              0.3333333333333333,
              "#9c179e"
             ],
             [
              0.4444444444444444,
              "#bd3786"
             ],
             [
              0.5555555555555556,
              "#d8576b"
             ],
             [
              0.6666666666666666,
              "#ed7953"
             ],
             [
              0.7777777777777778,
              "#fb9f3a"
             ],
             [
              0.8888888888888888,
              "#fdca26"
             ],
             [
              1,
              "#f0f921"
             ]
            ],
            "type": "heatmap"
           }
          ],
          "heatmapgl": [
           {
            "colorbar": {
             "outlinewidth": 0,
             "ticks": ""
            },
            "colorscale": [
             [
              0,
              "#0d0887"
             ],
             [
              0.1111111111111111,
              "#46039f"
             ],
             [
              0.2222222222222222,
              "#7201a8"
             ],
             [
              0.3333333333333333,
              "#9c179e"
             ],
             [
              0.4444444444444444,
              "#bd3786"
             ],
             [
              0.5555555555555556,
              "#d8576b"
             ],
             [
              0.6666666666666666,
              "#ed7953"
             ],
             [
              0.7777777777777778,
              "#fb9f3a"
             ],
             [
              0.8888888888888888,
              "#fdca26"
             ],
             [
              1,
              "#f0f921"
             ]
            ],
            "type": "heatmapgl"
           }
          ],
          "histogram": [
           {
            "marker": {
             "pattern": {
              "fillmode": "overlay",
              "size": 10,
              "solidity": 0.2
             }
            },
            "type": "histogram"
           }
          ],
          "histogram2d": [
           {
            "colorbar": {
             "outlinewidth": 0,
             "ticks": ""
            },
            "colorscale": [
             [
              0,
              "#0d0887"
             ],
             [
              0.1111111111111111,
              "#46039f"
             ],
             [
              0.2222222222222222,
              "#7201a8"
             ],
             [
              0.3333333333333333,
              "#9c179e"
             ],
             [
              0.4444444444444444,
              "#bd3786"
             ],
             [
              0.5555555555555556,
              "#d8576b"
             ],
             [
              0.6666666666666666,
              "#ed7953"
             ],
             [
              0.7777777777777778,
              "#fb9f3a"
             ],
             [
              0.8888888888888888,
              "#fdca26"
             ],
             [
              1,
              "#f0f921"
             ]
            ],
            "type": "histogram2d"
           }
          ],
          "histogram2dcontour": [
           {
            "colorbar": {
             "outlinewidth": 0,
             "ticks": ""
            },
            "colorscale": [
             [
              0,
              "#0d0887"
             ],
             [
              0.1111111111111111,
              "#46039f"
             ],
             [
              0.2222222222222222,
              "#7201a8"
             ],
             [
              0.3333333333333333,
              "#9c179e"
             ],
             [
              0.4444444444444444,
              "#bd3786"
             ],
             [
              0.5555555555555556,
              "#d8576b"
             ],
             [
              0.6666666666666666,
              "#ed7953"
             ],
             [
              0.7777777777777778,
              "#fb9f3a"
             ],
             [
              0.8888888888888888,
              "#fdca26"
             ],
             [
              1,
              "#f0f921"
             ]
            ],
            "type": "histogram2dcontour"
           }
          ],
          "mesh3d": [
           {
            "colorbar": {
             "outlinewidth": 0,
             "ticks": ""
            },
            "type": "mesh3d"
           }
          ],
          "parcoords": [
           {
            "line": {
             "colorbar": {
              "outlinewidth": 0,
              "ticks": ""
             }
            },
            "type": "parcoords"
           }
          ],
          "pie": [
           {
            "automargin": true,
            "type": "pie"
           }
          ],
          "scatter": [
           {
            "fillpattern": {
             "fillmode": "overlay",
             "size": 10,
             "solidity": 0.2
            },
            "type": "scatter"
           }
          ],
          "scatter3d": [
           {
            "line": {
             "colorbar": {
              "outlinewidth": 0,
              "ticks": ""
             }
            },
            "marker": {
             "colorbar": {
              "outlinewidth": 0,
              "ticks": ""
             }
            },
            "type": "scatter3d"
           }
          ],
          "scattercarpet": [
           {
            "marker": {
             "colorbar": {
              "outlinewidth": 0,
              "ticks": ""
             }
            },
            "type": "scattercarpet"
           }
          ],
          "scattergeo": [
           {
            "marker": {
             "colorbar": {
              "outlinewidth": 0,
              "ticks": ""
             }
            },
            "type": "scattergeo"
           }
          ],
          "scattergl": [
           {
            "marker": {
             "colorbar": {
              "outlinewidth": 0,
              "ticks": ""
             }
            },
            "type": "scattergl"
           }
          ],
          "scattermapbox": [
           {
            "marker": {
             "colorbar": {
              "outlinewidth": 0,
              "ticks": ""
             }
            },
            "type": "scattermapbox"
           }
          ],
          "scatterpolar": [
           {
            "marker": {
             "colorbar": {
              "outlinewidth": 0,
              "ticks": ""
             }
            },
            "type": "scatterpolar"
           }
          ],
          "scatterpolargl": [
           {
            "marker": {
             "colorbar": {
              "outlinewidth": 0,
              "ticks": ""
             }
            },
            "type": "scatterpolargl"
           }
          ],
          "scatterternary": [
           {
            "marker": {
             "colorbar": {
              "outlinewidth": 0,
              "ticks": ""
             }
            },
            "type": "scatterternary"
           }
          ],
          "surface": [
           {
            "colorbar": {
             "outlinewidth": 0,
             "ticks": ""
            },
            "colorscale": [
             [
              0,
              "#0d0887"
             ],
             [
              0.1111111111111111,
              "#46039f"
             ],
             [
              0.2222222222222222,
              "#7201a8"
             ],
             [
              0.3333333333333333,
              "#9c179e"
             ],
             [
              0.4444444444444444,
              "#bd3786"
             ],
             [
              0.5555555555555556,
              "#d8576b"
             ],
             [
              0.6666666666666666,
              "#ed7953"
             ],
             [
              0.7777777777777778,
              "#fb9f3a"
             ],
             [
              0.8888888888888888,
              "#fdca26"
             ],
             [
              1,
              "#f0f921"
             ]
            ],
            "type": "surface"
           }
          ],
          "table": [
           {
            "cells": {
             "fill": {
              "color": "#EBF0F8"
             },
             "line": {
              "color": "white"
             }
            },
            "header": {
             "fill": {
              "color": "#C8D4E3"
             },
             "line": {
              "color": "white"
             }
            },
            "type": "table"
           }
          ]
         },
         "layout": {
          "annotationdefaults": {
           "arrowcolor": "#2a3f5f",
           "arrowhead": 0,
           "arrowwidth": 1
          },
          "autotypenumbers": "strict",
          "coloraxis": {
           "colorbar": {
            "outlinewidth": 0,
            "ticks": ""
           }
          },
          "colorscale": {
           "diverging": [
            [
             0,
             "#8e0152"
            ],
            [
             0.1,
             "#c51b7d"
            ],
            [
             0.2,
             "#de77ae"
            ],
            [
             0.3,
             "#f1b6da"
            ],
            [
             0.4,
             "#fde0ef"
            ],
            [
             0.5,
             "#f7f7f7"
            ],
            [
             0.6,
             "#e6f5d0"
            ],
            [
             0.7,
             "#b8e186"
            ],
            [
             0.8,
             "#7fbc41"
            ],
            [
             0.9,
             "#4d9221"
            ],
            [
             1,
             "#276419"
            ]
           ],
           "sequential": [
            [
             0,
             "#0d0887"
            ],
            [
             0.1111111111111111,
             "#46039f"
            ],
            [
             0.2222222222222222,
             "#7201a8"
            ],
            [
             0.3333333333333333,
             "#9c179e"
            ],
            [
             0.4444444444444444,
             "#bd3786"
            ],
            [
             0.5555555555555556,
             "#d8576b"
            ],
            [
             0.6666666666666666,
             "#ed7953"
            ],
            [
             0.7777777777777778,
             "#fb9f3a"
            ],
            [
             0.8888888888888888,
             "#fdca26"
            ],
            [
             1,
             "#f0f921"
            ]
           ],
           "sequentialminus": [
            [
             0,
             "#0d0887"
            ],
            [
             0.1111111111111111,
             "#46039f"
            ],
            [
             0.2222222222222222,
             "#7201a8"
            ],
            [
             0.3333333333333333,
             "#9c179e"
            ],
            [
             0.4444444444444444,
             "#bd3786"
            ],
            [
             0.5555555555555556,
             "#d8576b"
            ],
            [
             0.6666666666666666,
             "#ed7953"
            ],
            [
             0.7777777777777778,
             "#fb9f3a"
            ],
            [
             0.8888888888888888,
             "#fdca26"
            ],
            [
             1,
             "#f0f921"
            ]
           ]
          },
          "colorway": [
           "#636efa",
           "#EF553B",
           "#00cc96",
           "#ab63fa",
           "#FFA15A",
           "#19d3f3",
           "#FF6692",
           "#B6E880",
           "#FF97FF",
           "#FECB52"
          ],
          "font": {
           "color": "#2a3f5f"
          },
          "geo": {
           "bgcolor": "white",
           "lakecolor": "white",
           "landcolor": "#E5ECF6",
           "showlakes": true,
           "showland": true,
           "subunitcolor": "white"
          },
          "hoverlabel": {
           "align": "left"
          },
          "hovermode": "closest",
          "mapbox": {
           "style": "light"
          },
          "paper_bgcolor": "white",
          "plot_bgcolor": "#E5ECF6",
          "polar": {
           "angularaxis": {
            "gridcolor": "white",
            "linecolor": "white",
            "ticks": ""
           },
           "bgcolor": "#E5ECF6",
           "radialaxis": {
            "gridcolor": "white",
            "linecolor": "white",
            "ticks": ""
           }
          },
          "scene": {
           "xaxis": {
            "backgroundcolor": "#E5ECF6",
            "gridcolor": "white",
            "gridwidth": 2,
            "linecolor": "white",
            "showbackground": true,
            "ticks": "",
            "zerolinecolor": "white"
           },
           "yaxis": {
            "backgroundcolor": "#E5ECF6",
            "gridcolor": "white",
            "gridwidth": 2,
            "linecolor": "white",
            "showbackground": true,
            "ticks": "",
            "zerolinecolor": "white"
           },
           "zaxis": {
            "backgroundcolor": "#E5ECF6",
            "gridcolor": "white",
            "gridwidth": 2,
            "linecolor": "white",
            "showbackground": true,
            "ticks": "",
            "zerolinecolor": "white"
           }
          },
          "shapedefaults": {
           "line": {
            "color": "#2a3f5f"
           }
          },
          "ternary": {
           "aaxis": {
            "gridcolor": "white",
            "linecolor": "white",
            "ticks": ""
           },
           "baxis": {
            "gridcolor": "white",
            "linecolor": "white",
            "ticks": ""
           },
           "bgcolor": "#E5ECF6",
           "caxis": {
            "gridcolor": "white",
            "linecolor": "white",
            "ticks": ""
           }
          },
          "title": {
           "x": 0.05
          },
          "xaxis": {
           "automargin": true,
           "gridcolor": "white",
           "linecolor": "white",
           "ticks": "",
           "title": {
            "standoff": 15
           },
           "zerolinecolor": "white",
           "zerolinewidth": 2
          },
          "yaxis": {
           "automargin": true,
           "gridcolor": "white",
           "linecolor": "white",
           "ticks": "",
           "title": {
            "standoff": 15
           },
           "zerolinecolor": "white",
           "zerolinewidth": 2
          }
         }
        },
        "title": {
         "text": "Cluster 3: Distribución del Margen Bruto"
        },
        "yaxis": {
         "title": {
          "text": "Margen Bruto"
         }
        }
       }
      }
     },
     "metadata": {},
     "output_type": "display_data"
    },
    {
     "name": "stdout",
     "output_type": "stream",
     "text": [
      "Cluster 4:\n",
      "['244990', '245070', '245153', '245240', '245289', '245588']\n",
      "\n",
      "Estadísticas del margen bruto:\n",
      "Promedio: 0.3541205781549322\n",
      "Mediana: 0.36413146583510037\n",
      "Desviación estándar: 0.09790051547634528\n",
      "\n"
     ]
    },
    {
     "data": {
      "application/vnd.plotly.v1+json": {
       "config": {
        "plotlyServerURL": "https://plot.ly"
       },
       "data": [
        {
         "name": "Margen Bruto",
         "type": "box",
         "y": [
          0.17480817215810016,
          0.4350035413006706,
          0.374751962523668,
          0.35351096914653274,
          0.446839153683668,
          0.33980967011695357
         ]
        }
       ],
       "layout": {
        "template": {
         "data": {
          "bar": [
           {
            "error_x": {
             "color": "#2a3f5f"
            },
            "error_y": {
             "color": "#2a3f5f"
            },
            "marker": {
             "line": {
              "color": "#E5ECF6",
              "width": 0.5
             },
             "pattern": {
              "fillmode": "overlay",
              "size": 10,
              "solidity": 0.2
             }
            },
            "type": "bar"
           }
          ],
          "barpolar": [
           {
            "marker": {
             "line": {
              "color": "#E5ECF6",
              "width": 0.5
             },
             "pattern": {
              "fillmode": "overlay",
              "size": 10,
              "solidity": 0.2
             }
            },
            "type": "barpolar"
           }
          ],
          "carpet": [
           {
            "aaxis": {
             "endlinecolor": "#2a3f5f",
             "gridcolor": "white",
             "linecolor": "white",
             "minorgridcolor": "white",
             "startlinecolor": "#2a3f5f"
            },
            "baxis": {
             "endlinecolor": "#2a3f5f",
             "gridcolor": "white",
             "linecolor": "white",
             "minorgridcolor": "white",
             "startlinecolor": "#2a3f5f"
            },
            "type": "carpet"
           }
          ],
          "choropleth": [
           {
            "colorbar": {
             "outlinewidth": 0,
             "ticks": ""
            },
            "type": "choropleth"
           }
          ],
          "contour": [
           {
            "colorbar": {
             "outlinewidth": 0,
             "ticks": ""
            },
            "colorscale": [
             [
              0,
              "#0d0887"
             ],
             [
              0.1111111111111111,
              "#46039f"
             ],
             [
              0.2222222222222222,
              "#7201a8"
             ],
             [
              0.3333333333333333,
              "#9c179e"
             ],
             [
              0.4444444444444444,
              "#bd3786"
             ],
             [
              0.5555555555555556,
              "#d8576b"
             ],
             [
              0.6666666666666666,
              "#ed7953"
             ],
             [
              0.7777777777777778,
              "#fb9f3a"
             ],
             [
              0.8888888888888888,
              "#fdca26"
             ],
             [
              1,
              "#f0f921"
             ]
            ],
            "type": "contour"
           }
          ],
          "contourcarpet": [
           {
            "colorbar": {
             "outlinewidth": 0,
             "ticks": ""
            },
            "type": "contourcarpet"
           }
          ],
          "heatmap": [
           {
            "colorbar": {
             "outlinewidth": 0,
             "ticks": ""
            },
            "colorscale": [
             [
              0,
              "#0d0887"
             ],
             [
              0.1111111111111111,
              "#46039f"
             ],
             [
              0.2222222222222222,
              "#7201a8"
             ],
             [
              0.3333333333333333,
              "#9c179e"
             ],
             [
              0.4444444444444444,
              "#bd3786"
             ],
             [
              0.5555555555555556,
              "#d8576b"
             ],
             [
              0.6666666666666666,
              "#ed7953"
             ],
             [
              0.7777777777777778,
              "#fb9f3a"
             ],
             [
              0.8888888888888888,
              "#fdca26"
             ],
             [
              1,
              "#f0f921"
             ]
            ],
            "type": "heatmap"
           }
          ],
          "heatmapgl": [
           {
            "colorbar": {
             "outlinewidth": 0,
             "ticks": ""
            },
            "colorscale": [
             [
              0,
              "#0d0887"
             ],
             [
              0.1111111111111111,
              "#46039f"
             ],
             [
              0.2222222222222222,
              "#7201a8"
             ],
             [
              0.3333333333333333,
              "#9c179e"
             ],
             [
              0.4444444444444444,
              "#bd3786"
             ],
             [
              0.5555555555555556,
              "#d8576b"
             ],
             [
              0.6666666666666666,
              "#ed7953"
             ],
             [
              0.7777777777777778,
              "#fb9f3a"
             ],
             [
              0.8888888888888888,
              "#fdca26"
             ],
             [
              1,
              "#f0f921"
             ]
            ],
            "type": "heatmapgl"
           }
          ],
          "histogram": [
           {
            "marker": {
             "pattern": {
              "fillmode": "overlay",
              "size": 10,
              "solidity": 0.2
             }
            },
            "type": "histogram"
           }
          ],
          "histogram2d": [
           {
            "colorbar": {
             "outlinewidth": 0,
             "ticks": ""
            },
            "colorscale": [
             [
              0,
              "#0d0887"
             ],
             [
              0.1111111111111111,
              "#46039f"
             ],
             [
              0.2222222222222222,
              "#7201a8"
             ],
             [
              0.3333333333333333,
              "#9c179e"
             ],
             [
              0.4444444444444444,
              "#bd3786"
             ],
             [
              0.5555555555555556,
              "#d8576b"
             ],
             [
              0.6666666666666666,
              "#ed7953"
             ],
             [
              0.7777777777777778,
              "#fb9f3a"
             ],
             [
              0.8888888888888888,
              "#fdca26"
             ],
             [
              1,
              "#f0f921"
             ]
            ],
            "type": "histogram2d"
           }
          ],
          "histogram2dcontour": [
           {
            "colorbar": {
             "outlinewidth": 0,
             "ticks": ""
            },
            "colorscale": [
             [
              0,
              "#0d0887"
             ],
             [
              0.1111111111111111,
              "#46039f"
             ],
             [
              0.2222222222222222,
              "#7201a8"
             ],
             [
              0.3333333333333333,
              "#9c179e"
             ],
             [
              0.4444444444444444,
              "#bd3786"
             ],
             [
              0.5555555555555556,
              "#d8576b"
             ],
             [
              0.6666666666666666,
              "#ed7953"
             ],
             [
              0.7777777777777778,
              "#fb9f3a"
             ],
             [
              0.8888888888888888,
              "#fdca26"
             ],
             [
              1,
              "#f0f921"
             ]
            ],
            "type": "histogram2dcontour"
           }
          ],
          "mesh3d": [
           {
            "colorbar": {
             "outlinewidth": 0,
             "ticks": ""
            },
            "type": "mesh3d"
           }
          ],
          "parcoords": [
           {
            "line": {
             "colorbar": {
              "outlinewidth": 0,
              "ticks": ""
             }
            },
            "type": "parcoords"
           }
          ],
          "pie": [
           {
            "automargin": true,
            "type": "pie"
           }
          ],
          "scatter": [
           {
            "fillpattern": {
             "fillmode": "overlay",
             "size": 10,
             "solidity": 0.2
            },
            "type": "scatter"
           }
          ],
          "scatter3d": [
           {
            "line": {
             "colorbar": {
              "outlinewidth": 0,
              "ticks": ""
             }
            },
            "marker": {
             "colorbar": {
              "outlinewidth": 0,
              "ticks": ""
             }
            },
            "type": "scatter3d"
           }
          ],
          "scattercarpet": [
           {
            "marker": {
             "colorbar": {
              "outlinewidth": 0,
              "ticks": ""
             }
            },
            "type": "scattercarpet"
           }
          ],
          "scattergeo": [
           {
            "marker": {
             "colorbar": {
              "outlinewidth": 0,
              "ticks": ""
             }
            },
            "type": "scattergeo"
           }
          ],
          "scattergl": [
           {
            "marker": {
             "colorbar": {
              "outlinewidth": 0,
              "ticks": ""
             }
            },
            "type": "scattergl"
           }
          ],
          "scattermapbox": [
           {
            "marker": {
             "colorbar": {
              "outlinewidth": 0,
              "ticks": ""
             }
            },
            "type": "scattermapbox"
           }
          ],
          "scatterpolar": [
           {
            "marker": {
             "colorbar": {
              "outlinewidth": 0,
              "ticks": ""
             }
            },
            "type": "scatterpolar"
           }
          ],
          "scatterpolargl": [
           {
            "marker": {
             "colorbar": {
              "outlinewidth": 0,
              "ticks": ""
             }
            },
            "type": "scatterpolargl"
           }
          ],
          "scatterternary": [
           {
            "marker": {
             "colorbar": {
              "outlinewidth": 0,
              "ticks": ""
             }
            },
            "type": "scatterternary"
           }
          ],
          "surface": [
           {
            "colorbar": {
             "outlinewidth": 0,
             "ticks": ""
            },
            "colorscale": [
             [
              0,
              "#0d0887"
             ],
             [
              0.1111111111111111,
              "#46039f"
             ],
             [
              0.2222222222222222,
              "#7201a8"
             ],
             [
              0.3333333333333333,
              "#9c179e"
             ],
             [
              0.4444444444444444,
              "#bd3786"
             ],
             [
              0.5555555555555556,
              "#d8576b"
             ],
             [
              0.6666666666666666,
              "#ed7953"
             ],
             [
              0.7777777777777778,
              "#fb9f3a"
             ],
             [
              0.8888888888888888,
              "#fdca26"
             ],
             [
              1,
              "#f0f921"
             ]
            ],
            "type": "surface"
           }
          ],
          "table": [
           {
            "cells": {
             "fill": {
              "color": "#EBF0F8"
             },
             "line": {
              "color": "white"
             }
            },
            "header": {
             "fill": {
              "color": "#C8D4E3"
             },
             "line": {
              "color": "white"
             }
            },
            "type": "table"
           }
          ]
         },
         "layout": {
          "annotationdefaults": {
           "arrowcolor": "#2a3f5f",
           "arrowhead": 0,
           "arrowwidth": 1
          },
          "autotypenumbers": "strict",
          "coloraxis": {
           "colorbar": {
            "outlinewidth": 0,
            "ticks": ""
           }
          },
          "colorscale": {
           "diverging": [
            [
             0,
             "#8e0152"
            ],
            [
             0.1,
             "#c51b7d"
            ],
            [
             0.2,
             "#de77ae"
            ],
            [
             0.3,
             "#f1b6da"
            ],
            [
             0.4,
             "#fde0ef"
            ],
            [
             0.5,
             "#f7f7f7"
            ],
            [
             0.6,
             "#e6f5d0"
            ],
            [
             0.7,
             "#b8e186"
            ],
            [
             0.8,
             "#7fbc41"
            ],
            [
             0.9,
             "#4d9221"
            ],
            [
             1,
             "#276419"
            ]
           ],
           "sequential": [
            [
             0,
             "#0d0887"
            ],
            [
             0.1111111111111111,
             "#46039f"
            ],
            [
             0.2222222222222222,
             "#7201a8"
            ],
            [
             0.3333333333333333,
             "#9c179e"
            ],
            [
             0.4444444444444444,
             "#bd3786"
            ],
            [
             0.5555555555555556,
             "#d8576b"
            ],
            [
             0.6666666666666666,
             "#ed7953"
            ],
            [
             0.7777777777777778,
             "#fb9f3a"
            ],
            [
             0.8888888888888888,
             "#fdca26"
            ],
            [
             1,
             "#f0f921"
            ]
           ],
           "sequentialminus": [
            [
             0,
             "#0d0887"
            ],
            [
             0.1111111111111111,
             "#46039f"
            ],
            [
             0.2222222222222222,
             "#7201a8"
            ],
            [
             0.3333333333333333,
             "#9c179e"
            ],
            [
             0.4444444444444444,
             "#bd3786"
            ],
            [
             0.5555555555555556,
             "#d8576b"
            ],
            [
             0.6666666666666666,
             "#ed7953"
            ],
            [
             0.7777777777777778,
             "#fb9f3a"
            ],
            [
             0.8888888888888888,
             "#fdca26"
            ],
            [
             1,
             "#f0f921"
            ]
           ]
          },
          "colorway": [
           "#636efa",
           "#EF553B",
           "#00cc96",
           "#ab63fa",
           "#FFA15A",
           "#19d3f3",
           "#FF6692",
           "#B6E880",
           "#FF97FF",
           "#FECB52"
          ],
          "font": {
           "color": "#2a3f5f"
          },
          "geo": {
           "bgcolor": "white",
           "lakecolor": "white",
           "landcolor": "#E5ECF6",
           "showlakes": true,
           "showland": true,
           "subunitcolor": "white"
          },
          "hoverlabel": {
           "align": "left"
          },
          "hovermode": "closest",
          "mapbox": {
           "style": "light"
          },
          "paper_bgcolor": "white",
          "plot_bgcolor": "#E5ECF6",
          "polar": {
           "angularaxis": {
            "gridcolor": "white",
            "linecolor": "white",
            "ticks": ""
           },
           "bgcolor": "#E5ECF6",
           "radialaxis": {
            "gridcolor": "white",
            "linecolor": "white",
            "ticks": ""
           }
          },
          "scene": {
           "xaxis": {
            "backgroundcolor": "#E5ECF6",
            "gridcolor": "white",
            "gridwidth": 2,
            "linecolor": "white",
            "showbackground": true,
            "ticks": "",
            "zerolinecolor": "white"
           },
           "yaxis": {
            "backgroundcolor": "#E5ECF6",
            "gridcolor": "white",
            "gridwidth": 2,
            "linecolor": "white",
            "showbackground": true,
            "ticks": "",
            "zerolinecolor": "white"
           },
           "zaxis": {
            "backgroundcolor": "#E5ECF6",
            "gridcolor": "white",
            "gridwidth": 2,
            "linecolor": "white",
            "showbackground": true,
            "ticks": "",
            "zerolinecolor": "white"
           }
          },
          "shapedefaults": {
           "line": {
            "color": "#2a3f5f"
           }
          },
          "ternary": {
           "aaxis": {
            "gridcolor": "white",
            "linecolor": "white",
            "ticks": ""
           },
           "baxis": {
            "gridcolor": "white",
            "linecolor": "white",
            "ticks": ""
           },
           "bgcolor": "#E5ECF6",
           "caxis": {
            "gridcolor": "white",
            "linecolor": "white",
            "ticks": ""
           }
          },
          "title": {
           "x": 0.05
          },
          "xaxis": {
           "automargin": true,
           "gridcolor": "white",
           "linecolor": "white",
           "ticks": "",
           "title": {
            "standoff": 15
           },
           "zerolinecolor": "white",
           "zerolinewidth": 2
          },
          "yaxis": {
           "automargin": true,
           "gridcolor": "white",
           "linecolor": "white",
           "ticks": "",
           "title": {
            "standoff": 15
           },
           "zerolinecolor": "white",
           "zerolinewidth": 2
          }
         }
        },
        "title": {
         "text": "Cluster 4: Distribución del Margen Bruto"
        },
        "yaxis": {
         "title": {
          "text": "Margen Bruto"
         }
        }
       }
      }
     },
     "metadata": {},
     "output_type": "display_data"
    },
    {
     "name": "stdout",
     "output_type": "stream",
     "text": [
      "Cluster 5:\n",
      "['245027', '245381']\n",
      "\n",
      "Estadísticas del margen bruto:\n",
      "Promedio: 0.4872281449421043\n",
      "Mediana: 0.4872281449421043\n",
      "Desviación estándar: 0.06625481121011288\n",
      "\n"
     ]
    },
    {
     "data": {
      "application/vnd.plotly.v1+json": {
       "config": {
        "plotlyServerURL": "https://plot.ly"
       },
       "data": [
        {
         "name": "Margen Bruto",
         "type": "box",
         "y": [
          0.5340773712350096,
          0.44037891864919904
         ]
        }
       ],
       "layout": {
        "template": {
         "data": {
          "bar": [
           {
            "error_x": {
             "color": "#2a3f5f"
            },
            "error_y": {
             "color": "#2a3f5f"
            },
            "marker": {
             "line": {
              "color": "#E5ECF6",
              "width": 0.5
             },
             "pattern": {
              "fillmode": "overlay",
              "size": 10,
              "solidity": 0.2
             }
            },
            "type": "bar"
           }
          ],
          "barpolar": [
           {
            "marker": {
             "line": {
              "color": "#E5ECF6",
              "width": 0.5
             },
             "pattern": {
              "fillmode": "overlay",
              "size": 10,
              "solidity": 0.2
             }
            },
            "type": "barpolar"
           }
          ],
          "carpet": [
           {
            "aaxis": {
             "endlinecolor": "#2a3f5f",
             "gridcolor": "white",
             "linecolor": "white",
             "minorgridcolor": "white",
             "startlinecolor": "#2a3f5f"
            },
            "baxis": {
             "endlinecolor": "#2a3f5f",
             "gridcolor": "white",
             "linecolor": "white",
             "minorgridcolor": "white",
             "startlinecolor": "#2a3f5f"
            },
            "type": "carpet"
           }
          ],
          "choropleth": [
           {
            "colorbar": {
             "outlinewidth": 0,
             "ticks": ""
            },
            "type": "choropleth"
           }
          ],
          "contour": [
           {
            "colorbar": {
             "outlinewidth": 0,
             "ticks": ""
            },
            "colorscale": [
             [
              0,
              "#0d0887"
             ],
             [
              0.1111111111111111,
              "#46039f"
             ],
             [
              0.2222222222222222,
              "#7201a8"
             ],
             [
              0.3333333333333333,
              "#9c179e"
             ],
             [
              0.4444444444444444,
              "#bd3786"
             ],
             [
              0.5555555555555556,
              "#d8576b"
             ],
             [
              0.6666666666666666,
              "#ed7953"
             ],
             [
              0.7777777777777778,
              "#fb9f3a"
             ],
             [
              0.8888888888888888,
              "#fdca26"
             ],
             [
              1,
              "#f0f921"
             ]
            ],
            "type": "contour"
           }
          ],
          "contourcarpet": [
           {
            "colorbar": {
             "outlinewidth": 0,
             "ticks": ""
            },
            "type": "contourcarpet"
           }
          ],
          "heatmap": [
           {
            "colorbar": {
             "outlinewidth": 0,
             "ticks": ""
            },
            "colorscale": [
             [
              0,
              "#0d0887"
             ],
             [
              0.1111111111111111,
              "#46039f"
             ],
             [
              0.2222222222222222,
              "#7201a8"
             ],
             [
              0.3333333333333333,
              "#9c179e"
             ],
             [
              0.4444444444444444,
              "#bd3786"
             ],
             [
              0.5555555555555556,
              "#d8576b"
             ],
             [
              0.6666666666666666,
              "#ed7953"
             ],
             [
              0.7777777777777778,
              "#fb9f3a"
             ],
             [
              0.8888888888888888,
              "#fdca26"
             ],
             [
              1,
              "#f0f921"
             ]
            ],
            "type": "heatmap"
           }
          ],
          "heatmapgl": [
           {
            "colorbar": {
             "outlinewidth": 0,
             "ticks": ""
            },
            "colorscale": [
             [
              0,
              "#0d0887"
             ],
             [
              0.1111111111111111,
              "#46039f"
             ],
             [
              0.2222222222222222,
              "#7201a8"
             ],
             [
              0.3333333333333333,
              "#9c179e"
             ],
             [
              0.4444444444444444,
              "#bd3786"
             ],
             [
              0.5555555555555556,
              "#d8576b"
             ],
             [
              0.6666666666666666,
              "#ed7953"
             ],
             [
              0.7777777777777778,
              "#fb9f3a"
             ],
             [
              0.8888888888888888,
              "#fdca26"
             ],
             [
              1,
              "#f0f921"
             ]
            ],
            "type": "heatmapgl"
           }
          ],
          "histogram": [
           {
            "marker": {
             "pattern": {
              "fillmode": "overlay",
              "size": 10,
              "solidity": 0.2
             }
            },
            "type": "histogram"
           }
          ],
          "histogram2d": [
           {
            "colorbar": {
             "outlinewidth": 0,
             "ticks": ""
            },
            "colorscale": [
             [
              0,
              "#0d0887"
             ],
             [
              0.1111111111111111,
              "#46039f"
             ],
             [
              0.2222222222222222,
              "#7201a8"
             ],
             [
              0.3333333333333333,
              "#9c179e"
             ],
             [
              0.4444444444444444,
              "#bd3786"
             ],
             [
              0.5555555555555556,
              "#d8576b"
             ],
             [
              0.6666666666666666,
              "#ed7953"
             ],
             [
              0.7777777777777778,
              "#fb9f3a"
             ],
             [
              0.8888888888888888,
              "#fdca26"
             ],
             [
              1,
              "#f0f921"
             ]
            ],
            "type": "histogram2d"
           }
          ],
          "histogram2dcontour": [
           {
            "colorbar": {
             "outlinewidth": 0,
             "ticks": ""
            },
            "colorscale": [
             [
              0,
              "#0d0887"
             ],
             [
              0.1111111111111111,
              "#46039f"
             ],
             [
              0.2222222222222222,
              "#7201a8"
             ],
             [
              0.3333333333333333,
              "#9c179e"
             ],
             [
              0.4444444444444444,
              "#bd3786"
             ],
             [
              0.5555555555555556,
              "#d8576b"
             ],
             [
              0.6666666666666666,
              "#ed7953"
             ],
             [
              0.7777777777777778,
              "#fb9f3a"
             ],
             [
              0.8888888888888888,
              "#fdca26"
             ],
             [
              1,
              "#f0f921"
             ]
            ],
            "type": "histogram2dcontour"
           }
          ],
          "mesh3d": [
           {
            "colorbar": {
             "outlinewidth": 0,
             "ticks": ""
            },
            "type": "mesh3d"
           }
          ],
          "parcoords": [
           {
            "line": {
             "colorbar": {
              "outlinewidth": 0,
              "ticks": ""
             }
            },
            "type": "parcoords"
           }
          ],
          "pie": [
           {
            "automargin": true,
            "type": "pie"
           }
          ],
          "scatter": [
           {
            "fillpattern": {
             "fillmode": "overlay",
             "size": 10,
             "solidity": 0.2
            },
            "type": "scatter"
           }
          ],
          "scatter3d": [
           {
            "line": {
             "colorbar": {
              "outlinewidth": 0,
              "ticks": ""
             }
            },
            "marker": {
             "colorbar": {
              "outlinewidth": 0,
              "ticks": ""
             }
            },
            "type": "scatter3d"
           }
          ],
          "scattercarpet": [
           {
            "marker": {
             "colorbar": {
              "outlinewidth": 0,
              "ticks": ""
             }
            },
            "type": "scattercarpet"
           }
          ],
          "scattergeo": [
           {
            "marker": {
             "colorbar": {
              "outlinewidth": 0,
              "ticks": ""
             }
            },
            "type": "scattergeo"
           }
          ],
          "scattergl": [
           {
            "marker": {
             "colorbar": {
              "outlinewidth": 0,
              "ticks": ""
             }
            },
            "type": "scattergl"
           }
          ],
          "scattermapbox": [
           {
            "marker": {
             "colorbar": {
              "outlinewidth": 0,
              "ticks": ""
             }
            },
            "type": "scattermapbox"
           }
          ],
          "scatterpolar": [
           {
            "marker": {
             "colorbar": {
              "outlinewidth": 0,
              "ticks": ""
             }
            },
            "type": "scatterpolar"
           }
          ],
          "scatterpolargl": [
           {
            "marker": {
             "colorbar": {
              "outlinewidth": 0,
              "ticks": ""
             }
            },
            "type": "scatterpolargl"
           }
          ],
          "scatterternary": [
           {
            "marker": {
             "colorbar": {
              "outlinewidth": 0,
              "ticks": ""
             }
            },
            "type": "scatterternary"
           }
          ],
          "surface": [
           {
            "colorbar": {
             "outlinewidth": 0,
             "ticks": ""
            },
            "colorscale": [
             [
              0,
              "#0d0887"
             ],
             [
              0.1111111111111111,
              "#46039f"
             ],
             [
              0.2222222222222222,
              "#7201a8"
             ],
             [
              0.3333333333333333,
              "#9c179e"
             ],
             [
              0.4444444444444444,
              "#bd3786"
             ],
             [
              0.5555555555555556,
              "#d8576b"
             ],
             [
              0.6666666666666666,
              "#ed7953"
             ],
             [
              0.7777777777777778,
              "#fb9f3a"
             ],
             [
              0.8888888888888888,
              "#fdca26"
             ],
             [
              1,
              "#f0f921"
             ]
            ],
            "type": "surface"
           }
          ],
          "table": [
           {
            "cells": {
             "fill": {
              "color": "#EBF0F8"
             },
             "line": {
              "color": "white"
             }
            },
            "header": {
             "fill": {
              "color": "#C8D4E3"
             },
             "line": {
              "color": "white"
             }
            },
            "type": "table"
           }
          ]
         },
         "layout": {
          "annotationdefaults": {
           "arrowcolor": "#2a3f5f",
           "arrowhead": 0,
           "arrowwidth": 1
          },
          "autotypenumbers": "strict",
          "coloraxis": {
           "colorbar": {
            "outlinewidth": 0,
            "ticks": ""
           }
          },
          "colorscale": {
           "diverging": [
            [
             0,
             "#8e0152"
            ],
            [
             0.1,
             "#c51b7d"
            ],
            [
             0.2,
             "#de77ae"
            ],
            [
             0.3,
             "#f1b6da"
            ],
            [
             0.4,
             "#fde0ef"
            ],
            [
             0.5,
             "#f7f7f7"
            ],
            [
             0.6,
             "#e6f5d0"
            ],
            [
             0.7,
             "#b8e186"
            ],
            [
             0.8,
             "#7fbc41"
            ],
            [
             0.9,
             "#4d9221"
            ],
            [
             1,
             "#276419"
            ]
           ],
           "sequential": [
            [
             0,
             "#0d0887"
            ],
            [
             0.1111111111111111,
             "#46039f"
            ],
            [
             0.2222222222222222,
             "#7201a8"
            ],
            [
             0.3333333333333333,
             "#9c179e"
            ],
            [
             0.4444444444444444,
             "#bd3786"
            ],
            [
             0.5555555555555556,
             "#d8576b"
            ],
            [
             0.6666666666666666,
             "#ed7953"
            ],
            [
             0.7777777777777778,
             "#fb9f3a"
            ],
            [
             0.8888888888888888,
             "#fdca26"
            ],
            [
             1,
             "#f0f921"
            ]
           ],
           "sequentialminus": [
            [
             0,
             "#0d0887"
            ],
            [
             0.1111111111111111,
             "#46039f"
            ],
            [
             0.2222222222222222,
             "#7201a8"
            ],
            [
             0.3333333333333333,
             "#9c179e"
            ],
            [
             0.4444444444444444,
             "#bd3786"
            ],
            [
             0.5555555555555556,
             "#d8576b"
            ],
            [
             0.6666666666666666,
             "#ed7953"
            ],
            [
             0.7777777777777778,
             "#fb9f3a"
            ],
            [
             0.8888888888888888,
             "#fdca26"
            ],
            [
             1,
             "#f0f921"
            ]
           ]
          },
          "colorway": [
           "#636efa",
           "#EF553B",
           "#00cc96",
           "#ab63fa",
           "#FFA15A",
           "#19d3f3",
           "#FF6692",
           "#B6E880",
           "#FF97FF",
           "#FECB52"
          ],
          "font": {
           "color": "#2a3f5f"
          },
          "geo": {
           "bgcolor": "white",
           "lakecolor": "white",
           "landcolor": "#E5ECF6",
           "showlakes": true,
           "showland": true,
           "subunitcolor": "white"
          },
          "hoverlabel": {
           "align": "left"
          },
          "hovermode": "closest",
          "mapbox": {
           "style": "light"
          },
          "paper_bgcolor": "white",
          "plot_bgcolor": "#E5ECF6",
          "polar": {
           "angularaxis": {
            "gridcolor": "white",
            "linecolor": "white",
            "ticks": ""
           },
           "bgcolor": "#E5ECF6",
           "radialaxis": {
            "gridcolor": "white",
            "linecolor": "white",
            "ticks": ""
           }
          },
          "scene": {
           "xaxis": {
            "backgroundcolor": "#E5ECF6",
            "gridcolor": "white",
            "gridwidth": 2,
            "linecolor": "white",
            "showbackground": true,
            "ticks": "",
            "zerolinecolor": "white"
           },
           "yaxis": {
            "backgroundcolor": "#E5ECF6",
            "gridcolor": "white",
            "gridwidth": 2,
            "linecolor": "white",
            "showbackground": true,
            "ticks": "",
            "zerolinecolor": "white"
           },
           "zaxis": {
            "backgroundcolor": "#E5ECF6",
            "gridcolor": "white",
            "gridwidth": 2,
            "linecolor": "white",
            "showbackground": true,
            "ticks": "",
            "zerolinecolor": "white"
           }
          },
          "shapedefaults": {
           "line": {
            "color": "#2a3f5f"
           }
          },
          "ternary": {
           "aaxis": {
            "gridcolor": "white",
            "linecolor": "white",
            "ticks": ""
           },
           "baxis": {
            "gridcolor": "white",
            "linecolor": "white",
            "ticks": ""
           },
           "bgcolor": "#E5ECF6",
           "caxis": {
            "gridcolor": "white",
            "linecolor": "white",
            "ticks": ""
           }
          },
          "title": {
           "x": 0.05
          },
          "xaxis": {
           "automargin": true,
           "gridcolor": "white",
           "linecolor": "white",
           "ticks": "",
           "title": {
            "standoff": 15
           },
           "zerolinecolor": "white",
           "zerolinewidth": 2
          },
          "yaxis": {
           "automargin": true,
           "gridcolor": "white",
           "linecolor": "white",
           "ticks": "",
           "title": {
            "standoff": 15
           },
           "zerolinecolor": "white",
           "zerolinewidth": 2
          }
         }
        },
        "title": {
         "text": "Cluster 5: Distribución del Margen Bruto"
        },
        "yaxis": {
         "title": {
          "text": "Margen Bruto"
         }
        }
       }
      }
     },
     "metadata": {},
     "output_type": "display_data"
    },
    {
     "name": "stdout",
     "output_type": "stream",
     "text": [
      "Cluster 6:\n",
      "['245373']\n",
      "\n",
      "Estadísticas del margen bruto:\n",
      "Promedio: 0.7235915386124129\n",
      "Mediana: 0.7235915386124129\n",
      "Desviación estándar: nan\n",
      "\n"
     ]
    },
    {
     "data": {
      "application/vnd.plotly.v1+json": {
       "config": {
        "plotlyServerURL": "https://plot.ly"
       },
       "data": [
        {
         "name": "Margen Bruto",
         "type": "box",
         "y": [
          0.7235915386124129
         ]
        }
       ],
       "layout": {
        "template": {
         "data": {
          "bar": [
           {
            "error_x": {
             "color": "#2a3f5f"
            },
            "error_y": {
             "color": "#2a3f5f"
            },
            "marker": {
             "line": {
              "color": "#E5ECF6",
              "width": 0.5
             },
             "pattern": {
              "fillmode": "overlay",
              "size": 10,
              "solidity": 0.2
             }
            },
            "type": "bar"
           }
          ],
          "barpolar": [
           {
            "marker": {
             "line": {
              "color": "#E5ECF6",
              "width": 0.5
             },
             "pattern": {
              "fillmode": "overlay",
              "size": 10,
              "solidity": 0.2
             }
            },
            "type": "barpolar"
           }
          ],
          "carpet": [
           {
            "aaxis": {
             "endlinecolor": "#2a3f5f",
             "gridcolor": "white",
             "linecolor": "white",
             "minorgridcolor": "white",
             "startlinecolor": "#2a3f5f"
            },
            "baxis": {
             "endlinecolor": "#2a3f5f",
             "gridcolor": "white",
             "linecolor": "white",
             "minorgridcolor": "white",
             "startlinecolor": "#2a3f5f"
            },
            "type": "carpet"
           }
          ],
          "choropleth": [
           {
            "colorbar": {
             "outlinewidth": 0,
             "ticks": ""
            },
            "type": "choropleth"
           }
          ],
          "contour": [
           {
            "colorbar": {
             "outlinewidth": 0,
             "ticks": ""
            },
            "colorscale": [
             [
              0,
              "#0d0887"
             ],
             [
              0.1111111111111111,
              "#46039f"
             ],
             [
              0.2222222222222222,
              "#7201a8"
             ],
             [
              0.3333333333333333,
              "#9c179e"
             ],
             [
              0.4444444444444444,
              "#bd3786"
             ],
             [
              0.5555555555555556,
              "#d8576b"
             ],
             [
              0.6666666666666666,
              "#ed7953"
             ],
             [
              0.7777777777777778,
              "#fb9f3a"
             ],
             [
              0.8888888888888888,
              "#fdca26"
             ],
             [
              1,
              "#f0f921"
             ]
            ],
            "type": "contour"
           }
          ],
          "contourcarpet": [
           {
            "colorbar": {
             "outlinewidth": 0,
             "ticks": ""
            },
            "type": "contourcarpet"
           }
          ],
          "heatmap": [
           {
            "colorbar": {
             "outlinewidth": 0,
             "ticks": ""
            },
            "colorscale": [
             [
              0,
              "#0d0887"
             ],
             [
              0.1111111111111111,
              "#46039f"
             ],
             [
              0.2222222222222222,
              "#7201a8"
             ],
             [
              0.3333333333333333,
              "#9c179e"
             ],
             [
              0.4444444444444444,
              "#bd3786"
             ],
             [
              0.5555555555555556,
              "#d8576b"
             ],
             [
              0.6666666666666666,
              "#ed7953"
             ],
             [
              0.7777777777777778,
              "#fb9f3a"
             ],
             [
              0.8888888888888888,
              "#fdca26"
             ],
             [
              1,
              "#f0f921"
             ]
            ],
            "type": "heatmap"
           }
          ],
          "heatmapgl": [
           {
            "colorbar": {
             "outlinewidth": 0,
             "ticks": ""
            },
            "colorscale": [
             [
              0,
              "#0d0887"
             ],
             [
              0.1111111111111111,
              "#46039f"
             ],
             [
              0.2222222222222222,
              "#7201a8"
             ],
             [
              0.3333333333333333,
              "#9c179e"
             ],
             [
              0.4444444444444444,
              "#bd3786"
             ],
             [
              0.5555555555555556,
              "#d8576b"
             ],
             [
              0.6666666666666666,
              "#ed7953"
             ],
             [
              0.7777777777777778,
              "#fb9f3a"
             ],
             [
              0.8888888888888888,
              "#fdca26"
             ],
             [
              1,
              "#f0f921"
             ]
            ],
            "type": "heatmapgl"
           }
          ],
          "histogram": [
           {
            "marker": {
             "pattern": {
              "fillmode": "overlay",
              "size": 10,
              "solidity": 0.2
             }
            },
            "type": "histogram"
           }
          ],
          "histogram2d": [
           {
            "colorbar": {
             "outlinewidth": 0,
             "ticks": ""
            },
            "colorscale": [
             [
              0,
              "#0d0887"
             ],
             [
              0.1111111111111111,
              "#46039f"
             ],
             [
              0.2222222222222222,
              "#7201a8"
             ],
             [
              0.3333333333333333,
              "#9c179e"
             ],
             [
              0.4444444444444444,
              "#bd3786"
             ],
             [
              0.5555555555555556,
              "#d8576b"
             ],
             [
              0.6666666666666666,
              "#ed7953"
             ],
             [
              0.7777777777777778,
              "#fb9f3a"
             ],
             [
              0.8888888888888888,
              "#fdca26"
             ],
             [
              1,
              "#f0f921"
             ]
            ],
            "type": "histogram2d"
           }
          ],
          "histogram2dcontour": [
           {
            "colorbar": {
             "outlinewidth": 0,
             "ticks": ""
            },
            "colorscale": [
             [
              0,
              "#0d0887"
             ],
             [
              0.1111111111111111,
              "#46039f"
             ],
             [
              0.2222222222222222,
              "#7201a8"
             ],
             [
              0.3333333333333333,
              "#9c179e"
             ],
             [
              0.4444444444444444,
              "#bd3786"
             ],
             [
              0.5555555555555556,
              "#d8576b"
             ],
             [
              0.6666666666666666,
              "#ed7953"
             ],
             [
              0.7777777777777778,
              "#fb9f3a"
             ],
             [
              0.8888888888888888,
              "#fdca26"
             ],
             [
              1,
              "#f0f921"
             ]
            ],
            "type": "histogram2dcontour"
           }
          ],
          "mesh3d": [
           {
            "colorbar": {
             "outlinewidth": 0,
             "ticks": ""
            },
            "type": "mesh3d"
           }
          ],
          "parcoords": [
           {
            "line": {
             "colorbar": {
              "outlinewidth": 0,
              "ticks": ""
             }
            },
            "type": "parcoords"
           }
          ],
          "pie": [
           {
            "automargin": true,
            "type": "pie"
           }
          ],
          "scatter": [
           {
            "fillpattern": {
             "fillmode": "overlay",
             "size": 10,
             "solidity": 0.2
            },
            "type": "scatter"
           }
          ],
          "scatter3d": [
           {
            "line": {
             "colorbar": {
              "outlinewidth": 0,
              "ticks": ""
             }
            },
            "marker": {
             "colorbar": {
              "outlinewidth": 0,
              "ticks": ""
             }
            },
            "type": "scatter3d"
           }
          ],
          "scattercarpet": [
           {
            "marker": {
             "colorbar": {
              "outlinewidth": 0,
              "ticks": ""
             }
            },
            "type": "scattercarpet"
           }
          ],
          "scattergeo": [
           {
            "marker": {
             "colorbar": {
              "outlinewidth": 0,
              "ticks": ""
             }
            },
            "type": "scattergeo"
           }
          ],
          "scattergl": [
           {
            "marker": {
             "colorbar": {
              "outlinewidth": 0,
              "ticks": ""
             }
            },
            "type": "scattergl"
           }
          ],
          "scattermapbox": [
           {
            "marker": {
             "colorbar": {
              "outlinewidth": 0,
              "ticks": ""
             }
            },
            "type": "scattermapbox"
           }
          ],
          "scatterpolar": [
           {
            "marker": {
             "colorbar": {
              "outlinewidth": 0,
              "ticks": ""
             }
            },
            "type": "scatterpolar"
           }
          ],
          "scatterpolargl": [
           {
            "marker": {
             "colorbar": {
              "outlinewidth": 0,
              "ticks": ""
             }
            },
            "type": "scatterpolargl"
           }
          ],
          "scatterternary": [
           {
            "marker": {
             "colorbar": {
              "outlinewidth": 0,
              "ticks": ""
             }
            },
            "type": "scatterternary"
           }
          ],
          "surface": [
           {
            "colorbar": {
             "outlinewidth": 0,
             "ticks": ""
            },
            "colorscale": [
             [
              0,
              "#0d0887"
             ],
             [
              0.1111111111111111,
              "#46039f"
             ],
             [
              0.2222222222222222,
              "#7201a8"
             ],
             [
              0.3333333333333333,
              "#9c179e"
             ],
             [
              0.4444444444444444,
              "#bd3786"
             ],
             [
              0.5555555555555556,
              "#d8576b"
             ],
             [
              0.6666666666666666,
              "#ed7953"
             ],
             [
              0.7777777777777778,
              "#fb9f3a"
             ],
             [
              0.8888888888888888,
              "#fdca26"
             ],
             [
              1,
              "#f0f921"
             ]
            ],
            "type": "surface"
           }
          ],
          "table": [
           {
            "cells": {
             "fill": {
              "color": "#EBF0F8"
             },
             "line": {
              "color": "white"
             }
            },
            "header": {
             "fill": {
              "color": "#C8D4E3"
             },
             "line": {
              "color": "white"
             }
            },
            "type": "table"
           }
          ]
         },
         "layout": {
          "annotationdefaults": {
           "arrowcolor": "#2a3f5f",
           "arrowhead": 0,
           "arrowwidth": 1
          },
          "autotypenumbers": "strict",
          "coloraxis": {
           "colorbar": {
            "outlinewidth": 0,
            "ticks": ""
           }
          },
          "colorscale": {
           "diverging": [
            [
             0,
             "#8e0152"
            ],
            [
             0.1,
             "#c51b7d"
            ],
            [
             0.2,
             "#de77ae"
            ],
            [
             0.3,
             "#f1b6da"
            ],
            [
             0.4,
             "#fde0ef"
            ],
            [
             0.5,
             "#f7f7f7"
            ],
            [
             0.6,
             "#e6f5d0"
            ],
            [
             0.7,
             "#b8e186"
            ],
            [
             0.8,
             "#7fbc41"
            ],
            [
             0.9,
             "#4d9221"
            ],
            [
             1,
             "#276419"
            ]
           ],
           "sequential": [
            [
             0,
             "#0d0887"
            ],
            [
             0.1111111111111111,
             "#46039f"
            ],
            [
             0.2222222222222222,
             "#7201a8"
            ],
            [
             0.3333333333333333,
             "#9c179e"
            ],
            [
             0.4444444444444444,
             "#bd3786"
            ],
            [
             0.5555555555555556,
             "#d8576b"
            ],
            [
             0.6666666666666666,
             "#ed7953"
            ],
            [
             0.7777777777777778,
             "#fb9f3a"
            ],
            [
             0.8888888888888888,
             "#fdca26"
            ],
            [
             1,
             "#f0f921"
            ]
           ],
           "sequentialminus": [
            [
             0,
             "#0d0887"
            ],
            [
             0.1111111111111111,
             "#46039f"
            ],
            [
             0.2222222222222222,
             "#7201a8"
            ],
            [
             0.3333333333333333,
             "#9c179e"
            ],
            [
             0.4444444444444444,
             "#bd3786"
            ],
            [
             0.5555555555555556,
             "#d8576b"
            ],
            [
             0.6666666666666666,
             "#ed7953"
            ],
            [
             0.7777777777777778,
             "#fb9f3a"
            ],
            [
             0.8888888888888888,
             "#fdca26"
            ],
            [
             1,
             "#f0f921"
            ]
           ]
          },
          "colorway": [
           "#636efa",
           "#EF553B",
           "#00cc96",
           "#ab63fa",
           "#FFA15A",
           "#19d3f3",
           "#FF6692",
           "#B6E880",
           "#FF97FF",
           "#FECB52"
          ],
          "font": {
           "color": "#2a3f5f"
          },
          "geo": {
           "bgcolor": "white",
           "lakecolor": "white",
           "landcolor": "#E5ECF6",
           "showlakes": true,
           "showland": true,
           "subunitcolor": "white"
          },
          "hoverlabel": {
           "align": "left"
          },
          "hovermode": "closest",
          "mapbox": {
           "style": "light"
          },
          "paper_bgcolor": "white",
          "plot_bgcolor": "#E5ECF6",
          "polar": {
           "angularaxis": {
            "gridcolor": "white",
            "linecolor": "white",
            "ticks": ""
           },
           "bgcolor": "#E5ECF6",
           "radialaxis": {
            "gridcolor": "white",
            "linecolor": "white",
            "ticks": ""
           }
          },
          "scene": {
           "xaxis": {
            "backgroundcolor": "#E5ECF6",
            "gridcolor": "white",
            "gridwidth": 2,
            "linecolor": "white",
            "showbackground": true,
            "ticks": "",
            "zerolinecolor": "white"
           },
           "yaxis": {
            "backgroundcolor": "#E5ECF6",
            "gridcolor": "white",
            "gridwidth": 2,
            "linecolor": "white",
            "showbackground": true,
            "ticks": "",
            "zerolinecolor": "white"
           },
           "zaxis": {
            "backgroundcolor": "#E5ECF6",
            "gridcolor": "white",
            "gridwidth": 2,
            "linecolor": "white",
            "showbackground": true,
            "ticks": "",
            "zerolinecolor": "white"
           }
          },
          "shapedefaults": {
           "line": {
            "color": "#2a3f5f"
           }
          },
          "ternary": {
           "aaxis": {
            "gridcolor": "white",
            "linecolor": "white",
            "ticks": ""
           },
           "baxis": {
            "gridcolor": "white",
            "linecolor": "white",
            "ticks": ""
           },
           "bgcolor": "#E5ECF6",
           "caxis": {
            "gridcolor": "white",
            "linecolor": "white",
            "ticks": ""
           }
          },
          "title": {
           "x": 0.05
          },
          "xaxis": {
           "automargin": true,
           "gridcolor": "white",
           "linecolor": "white",
           "ticks": "",
           "title": {
            "standoff": 15
           },
           "zerolinecolor": "white",
           "zerolinewidth": 2
          },
          "yaxis": {
           "automargin": true,
           "gridcolor": "white",
           "linecolor": "white",
           "ticks": "",
           "title": {
            "standoff": 15
           },
           "zerolinecolor": "white",
           "zerolinewidth": 2
          }
         }
        },
        "title": {
         "text": "Cluster 6: Distribución del Margen Bruto"
        },
        "yaxis": {
         "title": {
          "text": "Margen Bruto"
         }
        }
       }
      }
     },
     "metadata": {},
     "output_type": "display_data"
    },
    {
     "name": "stdout",
     "output_type": "stream",
     "text": [
      "Cluster 7:\n",
      "['245456', '245536', '245671', '245759']\n",
      "\n",
      "Estadísticas del margen bruto:\n",
      "Promedio: 0.3267820289867315\n",
      "Mediana: 0.32729338564310806\n",
      "Desviación estándar: 0.05752755441171984\n",
      "\n"
     ]
    },
    {
     "data": {
      "application/vnd.plotly.v1+json": {
       "config": {
        "plotlyServerURL": "https://plot.ly"
       },
       "data": [
        {
         "name": "Margen Bruto",
         "type": "box",
         "y": [
          0.26767225002062633,
          0.38486909464008345,
          0.36640644236897324,
          0.28818032891724293
         ]
        }
       ],
       "layout": {
        "template": {
         "data": {
          "bar": [
           {
            "error_x": {
             "color": "#2a3f5f"
            },
            "error_y": {
             "color": "#2a3f5f"
            },
            "marker": {
             "line": {
              "color": "#E5ECF6",
              "width": 0.5
             },
             "pattern": {
              "fillmode": "overlay",
              "size": 10,
              "solidity": 0.2
             }
            },
            "type": "bar"
           }
          ],
          "barpolar": [
           {
            "marker": {
             "line": {
              "color": "#E5ECF6",
              "width": 0.5
             },
             "pattern": {
              "fillmode": "overlay",
              "size": 10,
              "solidity": 0.2
             }
            },
            "type": "barpolar"
           }
          ],
          "carpet": [
           {
            "aaxis": {
             "endlinecolor": "#2a3f5f",
             "gridcolor": "white",
             "linecolor": "white",
             "minorgridcolor": "white",
             "startlinecolor": "#2a3f5f"
            },
            "baxis": {
             "endlinecolor": "#2a3f5f",
             "gridcolor": "white",
             "linecolor": "white",
             "minorgridcolor": "white",
             "startlinecolor": "#2a3f5f"
            },
            "type": "carpet"
           }
          ],
          "choropleth": [
           {
            "colorbar": {
             "outlinewidth": 0,
             "ticks": ""
            },
            "type": "choropleth"
           }
          ],
          "contour": [
           {
            "colorbar": {
             "outlinewidth": 0,
             "ticks": ""
            },
            "colorscale": [
             [
              0,
              "#0d0887"
             ],
             [
              0.1111111111111111,
              "#46039f"
             ],
             [
              0.2222222222222222,
              "#7201a8"
             ],
             [
              0.3333333333333333,
              "#9c179e"
             ],
             [
              0.4444444444444444,
              "#bd3786"
             ],
             [
              0.5555555555555556,
              "#d8576b"
             ],
             [
              0.6666666666666666,
              "#ed7953"
             ],
             [
              0.7777777777777778,
              "#fb9f3a"
             ],
             [
              0.8888888888888888,
              "#fdca26"
             ],
             [
              1,
              "#f0f921"
             ]
            ],
            "type": "contour"
           }
          ],
          "contourcarpet": [
           {
            "colorbar": {
             "outlinewidth": 0,
             "ticks": ""
            },
            "type": "contourcarpet"
           }
          ],
          "heatmap": [
           {
            "colorbar": {
             "outlinewidth": 0,
             "ticks": ""
            },
            "colorscale": [
             [
              0,
              "#0d0887"
             ],
             [
              0.1111111111111111,
              "#46039f"
             ],
             [
              0.2222222222222222,
              "#7201a8"
             ],
             [
              0.3333333333333333,
              "#9c179e"
             ],
             [
              0.4444444444444444,
              "#bd3786"
             ],
             [
              0.5555555555555556,
              "#d8576b"
             ],
             [
              0.6666666666666666,
              "#ed7953"
             ],
             [
              0.7777777777777778,
              "#fb9f3a"
             ],
             [
              0.8888888888888888,
              "#fdca26"
             ],
             [
              1,
              "#f0f921"
             ]
            ],
            "type": "heatmap"
           }
          ],
          "heatmapgl": [
           {
            "colorbar": {
             "outlinewidth": 0,
             "ticks": ""
            },
            "colorscale": [
             [
              0,
              "#0d0887"
             ],
             [
              0.1111111111111111,
              "#46039f"
             ],
             [
              0.2222222222222222,
              "#7201a8"
             ],
             [
              0.3333333333333333,
              "#9c179e"
             ],
             [
              0.4444444444444444,
              "#bd3786"
             ],
             [
              0.5555555555555556,
              "#d8576b"
             ],
             [
              0.6666666666666666,
              "#ed7953"
             ],
             [
              0.7777777777777778,
              "#fb9f3a"
             ],
             [
              0.8888888888888888,
              "#fdca26"
             ],
             [
              1,
              "#f0f921"
             ]
            ],
            "type": "heatmapgl"
           }
          ],
          "histogram": [
           {
            "marker": {
             "pattern": {
              "fillmode": "overlay",
              "size": 10,
              "solidity": 0.2
             }
            },
            "type": "histogram"
           }
          ],
          "histogram2d": [
           {
            "colorbar": {
             "outlinewidth": 0,
             "ticks": ""
            },
            "colorscale": [
             [
              0,
              "#0d0887"
             ],
             [
              0.1111111111111111,
              "#46039f"
             ],
             [
              0.2222222222222222,
              "#7201a8"
             ],
             [
              0.3333333333333333,
              "#9c179e"
             ],
             [
              0.4444444444444444,
              "#bd3786"
             ],
             [
              0.5555555555555556,
              "#d8576b"
             ],
             [
              0.6666666666666666,
              "#ed7953"
             ],
             [
              0.7777777777777778,
              "#fb9f3a"
             ],
             [
              0.8888888888888888,
              "#fdca26"
             ],
             [
              1,
              "#f0f921"
             ]
            ],
            "type": "histogram2d"
           }
          ],
          "histogram2dcontour": [
           {
            "colorbar": {
             "outlinewidth": 0,
             "ticks": ""
            },
            "colorscale": [
             [
              0,
              "#0d0887"
             ],
             [
              0.1111111111111111,
              "#46039f"
             ],
             [
              0.2222222222222222,
              "#7201a8"
             ],
             [
              0.3333333333333333,
              "#9c179e"
             ],
             [
              0.4444444444444444,
              "#bd3786"
             ],
             [
              0.5555555555555556,
              "#d8576b"
             ],
             [
              0.6666666666666666,
              "#ed7953"
             ],
             [
              0.7777777777777778,
              "#fb9f3a"
             ],
             [
              0.8888888888888888,
              "#fdca26"
             ],
             [
              1,
              "#f0f921"
             ]
            ],
            "type": "histogram2dcontour"
           }
          ],
          "mesh3d": [
           {
            "colorbar": {
             "outlinewidth": 0,
             "ticks": ""
            },
            "type": "mesh3d"
           }
          ],
          "parcoords": [
           {
            "line": {
             "colorbar": {
              "outlinewidth": 0,
              "ticks": ""
             }
            },
            "type": "parcoords"
           }
          ],
          "pie": [
           {
            "automargin": true,
            "type": "pie"
           }
          ],
          "scatter": [
           {
            "fillpattern": {
             "fillmode": "overlay",
             "size": 10,
             "solidity": 0.2
            },
            "type": "scatter"
           }
          ],
          "scatter3d": [
           {
            "line": {
             "colorbar": {
              "outlinewidth": 0,
              "ticks": ""
             }
            },
            "marker": {
             "colorbar": {
              "outlinewidth": 0,
              "ticks": ""
             }
            },
            "type": "scatter3d"
           }
          ],
          "scattercarpet": [
           {
            "marker": {
             "colorbar": {
              "outlinewidth": 0,
              "ticks": ""
             }
            },
            "type": "scattercarpet"
           }
          ],
          "scattergeo": [
           {
            "marker": {
             "colorbar": {
              "outlinewidth": 0,
              "ticks": ""
             }
            },
            "type": "scattergeo"
           }
          ],
          "scattergl": [
           {
            "marker": {
             "colorbar": {
              "outlinewidth": 0,
              "ticks": ""
             }
            },
            "type": "scattergl"
           }
          ],
          "scattermapbox": [
           {
            "marker": {
             "colorbar": {
              "outlinewidth": 0,
              "ticks": ""
             }
            },
            "type": "scattermapbox"
           }
          ],
          "scatterpolar": [
           {
            "marker": {
             "colorbar": {
              "outlinewidth": 0,
              "ticks": ""
             }
            },
            "type": "scatterpolar"
           }
          ],
          "scatterpolargl": [
           {
            "marker": {
             "colorbar": {
              "outlinewidth": 0,
              "ticks": ""
             }
            },
            "type": "scatterpolargl"
           }
          ],
          "scatterternary": [
           {
            "marker": {
             "colorbar": {
              "outlinewidth": 0,
              "ticks": ""
             }
            },
            "type": "scatterternary"
           }
          ],
          "surface": [
           {
            "colorbar": {
             "outlinewidth": 0,
             "ticks": ""
            },
            "colorscale": [
             [
              0,
              "#0d0887"
             ],
             [
              0.1111111111111111,
              "#46039f"
             ],
             [
              0.2222222222222222,
              "#7201a8"
             ],
             [
              0.3333333333333333,
              "#9c179e"
             ],
             [
              0.4444444444444444,
              "#bd3786"
             ],
             [
              0.5555555555555556,
              "#d8576b"
             ],
             [
              0.6666666666666666,
              "#ed7953"
             ],
             [
              0.7777777777777778,
              "#fb9f3a"
             ],
             [
              0.8888888888888888,
              "#fdca26"
             ],
             [
              1,
              "#f0f921"
             ]
            ],
            "type": "surface"
           }
          ],
          "table": [
           {
            "cells": {
             "fill": {
              "color": "#EBF0F8"
             },
             "line": {
              "color": "white"
             }
            },
            "header": {
             "fill": {
              "color": "#C8D4E3"
             },
             "line": {
              "color": "white"
             }
            },
            "type": "table"
           }
          ]
         },
         "layout": {
          "annotationdefaults": {
           "arrowcolor": "#2a3f5f",
           "arrowhead": 0,
           "arrowwidth": 1
          },
          "autotypenumbers": "strict",
          "coloraxis": {
           "colorbar": {
            "outlinewidth": 0,
            "ticks": ""
           }
          },
          "colorscale": {
           "diverging": [
            [
             0,
             "#8e0152"
            ],
            [
             0.1,
             "#c51b7d"
            ],
            [
             0.2,
             "#de77ae"
            ],
            [
             0.3,
             "#f1b6da"
            ],
            [
             0.4,
             "#fde0ef"
            ],
            [
             0.5,
             "#f7f7f7"
            ],
            [
             0.6,
             "#e6f5d0"
            ],
            [
             0.7,
             "#b8e186"
            ],
            [
             0.8,
             "#7fbc41"
            ],
            [
             0.9,
             "#4d9221"
            ],
            [
             1,
             "#276419"
            ]
           ],
           "sequential": [
            [
             0,
             "#0d0887"
            ],
            [
             0.1111111111111111,
             "#46039f"
            ],
            [
             0.2222222222222222,
             "#7201a8"
            ],
            [
             0.3333333333333333,
             "#9c179e"
            ],
            [
             0.4444444444444444,
             "#bd3786"
            ],
            [
             0.5555555555555556,
             "#d8576b"
            ],
            [
             0.6666666666666666,
             "#ed7953"
            ],
            [
             0.7777777777777778,
             "#fb9f3a"
            ],
            [
             0.8888888888888888,
             "#fdca26"
            ],
            [
             1,
             "#f0f921"
            ]
           ],
           "sequentialminus": [
            [
             0,
             "#0d0887"
            ],
            [
             0.1111111111111111,
             "#46039f"
            ],
            [
             0.2222222222222222,
             "#7201a8"
            ],
            [
             0.3333333333333333,
             "#9c179e"
            ],
            [
             0.4444444444444444,
             "#bd3786"
            ],
            [
             0.5555555555555556,
             "#d8576b"
            ],
            [
             0.6666666666666666,
             "#ed7953"
            ],
            [
             0.7777777777777778,
             "#fb9f3a"
            ],
            [
             0.8888888888888888,
             "#fdca26"
            ],
            [
             1,
             "#f0f921"
            ]
           ]
          },
          "colorway": [
           "#636efa",
           "#EF553B",
           "#00cc96",
           "#ab63fa",
           "#FFA15A",
           "#19d3f3",
           "#FF6692",
           "#B6E880",
           "#FF97FF",
           "#FECB52"
          ],
          "font": {
           "color": "#2a3f5f"
          },
          "geo": {
           "bgcolor": "white",
           "lakecolor": "white",
           "landcolor": "#E5ECF6",
           "showlakes": true,
           "showland": true,
           "subunitcolor": "white"
          },
          "hoverlabel": {
           "align": "left"
          },
          "hovermode": "closest",
          "mapbox": {
           "style": "light"
          },
          "paper_bgcolor": "white",
          "plot_bgcolor": "#E5ECF6",
          "polar": {
           "angularaxis": {
            "gridcolor": "white",
            "linecolor": "white",
            "ticks": ""
           },
           "bgcolor": "#E5ECF6",
           "radialaxis": {
            "gridcolor": "white",
            "linecolor": "white",
            "ticks": ""
           }
          },
          "scene": {
           "xaxis": {
            "backgroundcolor": "#E5ECF6",
            "gridcolor": "white",
            "gridwidth": 2,
            "linecolor": "white",
            "showbackground": true,
            "ticks": "",
            "zerolinecolor": "white"
           },
           "yaxis": {
            "backgroundcolor": "#E5ECF6",
            "gridcolor": "white",
            "gridwidth": 2,
            "linecolor": "white",
            "showbackground": true,
            "ticks": "",
            "zerolinecolor": "white"
           },
           "zaxis": {
            "backgroundcolor": "#E5ECF6",
            "gridcolor": "white",
            "gridwidth": 2,
            "linecolor": "white",
            "showbackground": true,
            "ticks": "",
            "zerolinecolor": "white"
           }
          },
          "shapedefaults": {
           "line": {
            "color": "#2a3f5f"
           }
          },
          "ternary": {
           "aaxis": {
            "gridcolor": "white",
            "linecolor": "white",
            "ticks": ""
           },
           "baxis": {
            "gridcolor": "white",
            "linecolor": "white",
            "ticks": ""
           },
           "bgcolor": "#E5ECF6",
           "caxis": {
            "gridcolor": "white",
            "linecolor": "white",
            "ticks": ""
           }
          },
          "title": {
           "x": 0.05
          },
          "xaxis": {
           "automargin": true,
           "gridcolor": "white",
           "linecolor": "white",
           "ticks": "",
           "title": {
            "standoff": 15
           },
           "zerolinecolor": "white",
           "zerolinewidth": 2
          },
          "yaxis": {
           "automargin": true,
           "gridcolor": "white",
           "linecolor": "white",
           "ticks": "",
           "title": {
            "standoff": 15
           },
           "zerolinecolor": "white",
           "zerolinewidth": 2
          }
         }
        },
        "title": {
         "text": "Cluster 7: Distribución del Margen Bruto"
        },
        "yaxis": {
         "title": {
          "text": "Margen Bruto"
         }
        }
       }
      }
     },
     "metadata": {},
     "output_type": "display_data"
    }
   ],
   "source": [
    "####### Obras cluster-Margen bruto\n",
    "for i in range(num_clusters):\n",
    "    \n",
    "    cluster_label = \"Cluster \" + str(i)\n",
    "    obras = df_resultado[df_resultado['Cluster'] == i]['Obra'].tolist()\n",
    "    cluster_margin = df_resultado[df_resultado['Cluster'] == i]['MargenBruto']\n",
    "    \n",
    "    # Imprime las obras del cluster\n",
    "    print(cluster_label + \":\")\n",
    "    print(obras)\n",
    "    print()\n",
    "    \n",
    "    #EDescriptivas de margen bruto\n",
    "    print(\"Estadísticas del margen bruto:\")\n",
    "    print(\"Promedio:\", cluster_margin.mean())\n",
    "    print(\"Mediana:\", cluster_margin.median())\n",
    "    print(\"Desviación estándar:\", cluster_margin.std())\n",
    "    print()\n",
    "    \n",
    "    #Grafico comparativo/margen bruto\n",
    "    fig = go.Figure()\n",
    "    fig.add_trace(go.Box(y=cluster_margin, name='Margen Bruto'))\n",
    "    fig.update_layout(title=cluster_label + ': Distribución del Margen Bruto',\n",
    "                      yaxis=dict(title='Margen Bruto'))\n",
    "    fig.show()\n"
   ]
  },
  {
   "cell_type": "code",
   "execution_count": 52,
   "metadata": {},
   "outputs": [
    {
     "data": {
      "text/plain": [
       "True"
      ]
     },
     "execution_count": 52,
     "metadata": {},
     "output_type": "execute_result"
    }
   ],
   "source": [
    "# Analizar esto:\n",
    "any(df_resultado['%MBruto']<0) # esto es raro, por que sucede?? "
   ]
  },
  {
   "cell_type": "code",
   "execution_count": 53,
   "metadata": {},
   "outputs": [],
   "source": [
    "# Obtener el índice de la obra con el margen bruto máximo\n",
    "indice_max_margen_bruto = df_resultado['MargenBruto'].idxmax()\n",
    "# Obtener el índice de la obra con el margen bruto mínimo\n",
    "indice_min_margen_bruto = df_resultado['MargenBruto'].idxmin()\n",
    "# Obtener la información completa de la obra con el margen bruto máximo\n",
    "obra_max_margen_bruto = df_resultado.loc[indice_max_margen_bruto]\n",
    "# Obtener la información completa de la obra con el margen bruto mínimo\n",
    "obra_min_margen_bruto = df_resultado.loc[indice_min_margen_bruto]"
   ]
  },
  {
   "cell_type": "code",
   "execution_count": 54,
   "metadata": {},
   "outputs": [
    {
     "name": "stdout",
     "output_type": "stream",
     "text": [
      "Obra con mayor margen bruto:\n",
      "Obra: 244397\n",
      "Gastos_Activos: 0.020000000340587576\n",
      "Ventas: 0.02\n",
      "MargenBruto: 2.000000017029379\n",
      "%MBruto: 200.0\n",
      "\n"
     ]
    }
   ],
   "source": [
    "# Imprimir la obra con el margen bruto máximo\n",
    "print(\"Obra con mayor margen bruto:\")\n",
    "print(\"Obra:\", obra_max_margen_bruto['Obra'])\n",
    "print(\"Gastos_Activos:\", obra_max_margen_bruto['Gastos_Activos'])\n",
    "print(\"Ventas:\", obra_max_margen_bruto['Ventas'])\n",
    "print(\"MargenBruto:\", obra_max_margen_bruto['MargenBruto'])\n",
    "print(\"%MBruto:\", obra_max_margen_bruto['%MBruto'])\n",
    "print()"
   ]
  }
 ],
 "metadata": {
  "kernelspec": {
   "display_name": "venv",
   "language": "python",
   "name": "python3"
  },
  "language_info": {
   "codemirror_mode": {
    "name": "ipython",
    "version": 3
   },
   "file_extension": ".py",
   "mimetype": "text/x-python",
   "name": "python",
   "nbconvert_exporter": "python",
   "pygments_lexer": "ipython3",
   "version": "3.11.2"
  },
  "orig_nbformat": 4
 },
 "nbformat": 4,
 "nbformat_minor": 2
}
