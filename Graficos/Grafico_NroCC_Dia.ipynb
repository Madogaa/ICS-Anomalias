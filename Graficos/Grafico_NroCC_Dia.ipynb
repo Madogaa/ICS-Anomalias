{
 "cells": [
  {
   "cell_type": "code",
   "execution_count": 4,
   "metadata": {},
   "outputs": [
    {
     "name": "stderr",
     "output_type": "stream",
     "text": [
      "C:\\Users\\mario\\OneDrive\\Documentos\\ICS Anomalías\\Códigos_Análisis\\Datos\\Base_datos.py:14: UserWarning: pandas only supports SQLAlchemy connectable (engine/connection) or database string URI or sqlite3 DBAPI2 connection. Other DBAPI2 objects are not tested. Please consider using SQLAlchemy.\n",
      "  df = pd.read_sql_query('SELECT * FROM Output_BalanceFinal', conn )\n"
     ]
    },
    {
     "name": "stdout",
     "output_type": "stream",
     "text": [
      "2023-08-27\n"
     ]
    },
    {
     "name": "stderr",
     "output_type": "stream",
     "text": [
      "C:\\Users\\mario\\OneDrive\\Documentos\\ICS Anomalías\\Códigos_Análisis\\Datos\\Base_datos.py:14: UserWarning: pandas only supports SQLAlchemy connectable (engine/connection) or database string URI or sqlite3 DBAPI2 connection. Other DBAPI2 objects are not tested. Please consider using SQLAlchemy.\n",
      "  df = pd.read_sql_query('SELECT * FROM Output_BalanceFinal', conn )\n"
     ]
    },
    {
     "name": "stdout",
     "output_type": "stream",
     "text": [
      "2023-08-27\n",
      "100033\n",
      "    NroCC_Obra          NombreCC_Obra  mesi  MONTO\n",
      "709     100033  CC TELFINAR IMPUESTOS  26.0 -0.010\n",
      "710     100033  CC TELFINAR IMPUESTOS  28.0 -0.022\n",
      "Polyfit may be poorly conditioned\n"
     ]
    },
    {
     "name": "stderr",
     "output_type": "stream",
     "text": [
      "C:\\Users\\mario\\OneDrive\\Documentos\\ICS Anomalías\\Códigos_Análisis\\Datos\\Base_datos.py:14: UserWarning: pandas only supports SQLAlchemy connectable (engine/connection) or database string URI or sqlite3 DBAPI2 connection. Other DBAPI2 objects are not tested. Please consider using SQLAlchemy.\n",
      "  df = pd.read_sql_query('SELECT * FROM Output_BalanceFinal', conn )\n"
     ]
    },
    {
     "name": "stdout",
     "output_type": "stream",
     "text": [
      "2023-08-27\n"
     ]
    }
   ],
   "source": [
    "import os\n",
    "os.chdir(r'C:\\\\Users\\\\mario\\\\OneDrive\\\\Documentos\\\\ICS Anomalías\\\\Códigos_Análisis')\n",
    "\n",
    "import pandas as pd\n",
    "import xlsxwriter\n",
    "from Alarmas.Alarmas_NroCC_Dia import*\n",
    "# Crea tus DataFrames\n",
    "\n",
    "alarmas = alarmas_nrocc_dia(29,31)\n",
    "nrocc = alarmas['NroCC_Obra'].unique()\n",
    "writer = pd.ExcelWriter('DiasMesNroCCGraficos.xlsx', engine='xlsxwriter')\n",
    "for id in nrocc:\n",
    "    proy = alarmas[alarmas['NroCC_Obra']==id]\n",
    "    df = pd.DataFrame({'Dia':proy['diai'],'Gasto Real': proy['Gasto Real %'], 'Gasto Previsto': proy['Gasto Prevista %'], 'Nivel': proy['nivel %']})\n",
    "    df.to_excel(writer, sheet_name='NroCC_'+str(id), index=False)\n",
    "\n",
    "# Cierra el escritor de Excel\n",
    "writer.close()"
   ]
  }
 ],
 "metadata": {
  "kernelspec": {
   "display_name": "Python 3",
   "language": "python",
   "name": "python3"
  },
  "language_info": {
   "codemirror_mode": {
    "name": "ipython",
    "version": 3
   },
   "file_extension": ".py",
   "mimetype": "text/x-python",
   "name": "python",
   "nbconvert_exporter": "python",
   "pygments_lexer": "ipython3",
   "version": "3.10.11"
  },
  "orig_nbformat": 4
 },
 "nbformat": 4,
 "nbformat_minor": 2
}
