{
 "cells": [
  {
   "cell_type": "code",
   "execution_count": 1,
   "metadata": {},
   "outputs": [
    {
     "name": "stderr",
     "output_type": "stream",
     "text": [
      "C:\\Users\\mario\\OneDrive\\Documentos\\ICS Anomalías\\Códigos_Análisis\\Datos\\Base_datos.py:10: UserWarning: pandas only supports SQLAlchemy connectable (engine/connection) or database string URI or sqlite3 DBAPI2 connection. Other DBAPI2 objects are not tested. Please consider using SQLAlchemy.\n",
      "  df = pd.read_sql_query('SELECT * FROM Output_EstadoDeResultados', conn )\n"
     ]
    },
    {
     "name": "stdout",
     "output_type": "stream",
     "text": [
      "2023-06-10\n"
     ]
    },
    {
     "name": "stderr",
     "output_type": "stream",
     "text": [
      "C:\\Users\\mario\\OneDrive\\Documentos\\ICS Anomalías\\Códigos_Análisis\\Datos\\Base_datos.py:15: UserWarning: pandas only supports SQLAlchemy connectable (engine/connection) or database string URI or sqlite3 DBAPI2 connection. Other DBAPI2 objects are not tested. Please consider using SQLAlchemy.\n",
      "  df = pd.read_sql_query('SELECT * FROM Output_BalanceFinal', conn )\n"
     ]
    },
    {
     "name": "stdout",
     "output_type": "stream",
     "text": [
      "2023-08-30\n"
     ]
    },
    {
     "name": "stderr",
     "output_type": "stream",
     "text": [
      "C:\\Users\\mario\\OneDrive\\Documentos\\ICS Anomalías\\Códigos_Análisis\\Datos\\Base_datos.py:15: UserWarning: pandas only supports SQLAlchemy connectable (engine/connection) or database string URI or sqlite3 DBAPI2 connection. Other DBAPI2 objects are not tested. Please consider using SQLAlchemy.\n",
      "  df = pd.read_sql_query('SELECT * FROM Output_BalanceFinal', conn )\n"
     ]
    },
    {
     "name": "stdout",
     "output_type": "stream",
     "text": [
      "2023-08-30\n",
      "100033\n",
      "    NroCC_Obra          NombreCC_Obra  mesi  MONTO\n",
      "709     100033  CC TELFINAR IMPUESTOS  26.0 -0.010\n",
      "710     100033  CC TELFINAR IMPUESTOS  28.0 -0.022\n",
      "Polyfit may be poorly conditioned\n"
     ]
    },
    {
     "name": "stderr",
     "output_type": "stream",
     "text": [
      "C:\\Users\\mario\\OneDrive\\Documentos\\ICS Anomalías\\Códigos_Análisis\\Datos\\Base_datos.py:15: UserWarning: pandas only supports SQLAlchemy connectable (engine/connection) or database string URI or sqlite3 DBAPI2 connection. Other DBAPI2 objects are not tested. Please consider using SQLAlchemy.\n",
      "  df = pd.read_sql_query('SELECT * FROM Output_BalanceFinal', conn )\n"
     ]
    },
    {
     "name": "stdout",
     "output_type": "stream",
     "text": [
      "2023-08-30\n"
     ]
    },
    {
     "name": "stderr",
     "output_type": "stream",
     "text": [
      "C:\\Users\\mario\\OneDrive\\Documentos\\ICS Anomalías\\Códigos_Análisis\\Datos\\Base_datos.py:15: UserWarning: pandas only supports SQLAlchemy connectable (engine/connection) or database string URI or sqlite3 DBAPI2 connection. Other DBAPI2 objects are not tested. Please consider using SQLAlchemy.\n",
      "  df = pd.read_sql_query('SELECT * FROM Output_BalanceFinal', conn )\n"
     ]
    },
    {
     "name": "stdout",
     "output_type": "stream",
     "text": [
      "2023-08-30\n",
      "100033\n",
      "    NroCC_Obra          NombreCC_Obra  mesi  MONTO\n",
      "709     100033  CC TELFINAR IMPUESTOS  26.0 -0.010\n",
      "710     100033  CC TELFINAR IMPUESTOS  28.0 -0.022\n",
      "Polyfit may be poorly conditioned\n"
     ]
    },
    {
     "name": "stderr",
     "output_type": "stream",
     "text": [
      "C:\\Users\\mario\\OneDrive\\Documentos\\ICS Anomalías\\Códigos_Análisis\\Datos\\Base_datos.py:15: UserWarning: pandas only supports SQLAlchemy connectable (engine/connection) or database string URI or sqlite3 DBAPI2 connection. Other DBAPI2 objects are not tested. Please consider using SQLAlchemy.\n",
      "  df = pd.read_sql_query('SELECT * FROM Output_BalanceFinal', conn )\n"
     ]
    },
    {
     "name": "stdout",
     "output_type": "stream",
     "text": [
      "2023-08-30\n"
     ]
    }
   ],
   "source": [
    "import os\n",
    "os.chdir(r'C:\\\\Users\\\\mario\\\\OneDrive\\Documentos\\\\AnomaliasICS\\\\Códigos_Análisis')\n",
    "ruta = 'C:/Users/mario/OneDrive/Documentos/AnomaliasICS/Códigos_Análisis/Modelos_Feather/'\n",
    "\n",
    "import pandas as pd\n",
    "import xlsxwriter\n",
    "# Crea tus DataFrames\n",
    "\n",
    "alarmas = pd.read_feather(ruta+'Modelo_NroCuenta_Mes.fth')\n",
    "nrocc = alarmas['IdProy'].unique().astype(int)\n",
    "writer = pd.ExcelWriter(ruta+'ModeloProyMesMB.xlsx', engine='xlsxwriter')\n",
    "for id in nrocc:\n",
    "    proy = alarmas[alarmas['IdProy']==id]\n",
    "    df = pd.DataFrame({'a':proy['a'],'b': proy['b'], 'c': proy['c'], 'desv': proy['desv']})\n",
    "    df.to_excel(writer, sheet_name='Proyecto_'+str(id), index=False)\n",
    "\n",
    "# Cierra el escritor de Excel\n",
    "writer.close()"
   ]
  },
  {
   "cell_type": "code",
   "execution_count": null,
   "metadata": {},
   "outputs": [],
   "source": []
  }
 ],
 "metadata": {
  "kernelspec": {
   "display_name": "Python 3",
   "language": "python",
   "name": "python3"
  },
  "language_info": {
   "codemirror_mode": {
    "name": "ipython",
    "version": 3
   },
   "file_extension": ".py",
   "mimetype": "text/x-python",
   "name": "python",
   "nbconvert_exporter": "python",
   "pygments_lexer": "ipython3",
   "version": "3.10.11"
  },
  "orig_nbformat": 4
 },
 "nbformat": 4,
 "nbformat_minor": 2
}
